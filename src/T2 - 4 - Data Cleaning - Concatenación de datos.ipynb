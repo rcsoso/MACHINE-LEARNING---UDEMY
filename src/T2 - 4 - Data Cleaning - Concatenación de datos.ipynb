{
 "metadata": {
  "language_info": {
   "codemirror_mode": {
    "name": "ipython",
    "version": 3
   },
   "file_extension": ".py",
   "mimetype": "text/x-python",
   "name": "python",
   "nbconvert_exporter": "python",
   "pygments_lexer": "ipython3",
   "version": "3.9.1"
  },
  "orig_nbformat": 2,
  "kernelspec": {
   "name": "python391jvsc74a57bd09e797c8960c8a983e950f06465ba4caaf9d96e0305498a705911d1d9a54b77da",
   "display_name": "Python 3.9.1 64-bit ('MACHINE_LEARNING_-_UDEMY-qK85mjxz': virtualenvwrapper)"
  }
 },
 "nbformat": 4,
 "nbformat_minor": 2,
 "cells": [
  {
   "source": [
    "# Concatenar y apendizar data sets"
   ],
   "cell_type": "markdown",
   "metadata": {}
  },
  {
   "cell_type": "code",
   "execution_count": 2,
   "metadata": {},
   "outputs": [],
   "source": [
    "import pandas as pd \n",
    "import os"
   ]
  },
  {
   "cell_type": "code",
   "execution_count": 5,
   "metadata": {},
   "outputs": [],
   "source": [
    "mainpath = \"/Users/Ricar/Documents/Proyectos/MACHINE LEARNING - UDEMY/Datasets\"\n",
    "filename_vr = \"wine/winequality-red.csv\"\n",
    "vino_rojo= os.path.join(mainpath,filename_vr)\n",
    "filename_vb = \"wine/winequality-white.csv\"\n",
    "vino_blanco = os.path.join(mainpath,filename_vb)"
   ]
  },
  {
   "cell_type": "code",
   "execution_count": 8,
   "metadata": {},
   "outputs": [
    {
     "output_type": "execute_result",
     "data": {
      "text/plain": [
       "   fixed acidity  volatile acidity  citric acid  residual sugar  chlorides  \\\n",
       "0            7.4              0.70         0.00             1.9      0.076   \n",
       "1            7.8              0.88         0.00             2.6      0.098   \n",
       "2            7.8              0.76         0.04             2.3      0.092   \n",
       "3           11.2              0.28         0.56             1.9      0.075   \n",
       "4            7.4              0.70         0.00             1.9      0.076   \n",
       "\n",
       "   free sulfur dioxide  total sulfur dioxide  density    pH  sulphates  \\\n",
       "0                 11.0                  34.0   0.9978  3.51       0.56   \n",
       "1                 25.0                  67.0   0.9968  3.20       0.68   \n",
       "2                 15.0                  54.0   0.9970  3.26       0.65   \n",
       "3                 17.0                  60.0   0.9980  3.16       0.58   \n",
       "4                 11.0                  34.0   0.9978  3.51       0.56   \n",
       "\n",
       "   alcohol  quality  \n",
       "0      9.4        5  \n",
       "1      9.8        5  \n",
       "2      9.8        5  \n",
       "3      9.8        6  \n",
       "4      9.4        5  "
      ],
      "text/html": "<div>\n<style scoped>\n    .dataframe tbody tr th:only-of-type {\n        vertical-align: middle;\n    }\n\n    .dataframe tbody tr th {\n        vertical-align: top;\n    }\n\n    .dataframe thead th {\n        text-align: right;\n    }\n</style>\n<table border=\"1\" class=\"dataframe\">\n  <thead>\n    <tr style=\"text-align: right;\">\n      <th></th>\n      <th>fixed acidity</th>\n      <th>volatile acidity</th>\n      <th>citric acid</th>\n      <th>residual sugar</th>\n      <th>chlorides</th>\n      <th>free sulfur dioxide</th>\n      <th>total sulfur dioxide</th>\n      <th>density</th>\n      <th>pH</th>\n      <th>sulphates</th>\n      <th>alcohol</th>\n      <th>quality</th>\n    </tr>\n  </thead>\n  <tbody>\n    <tr>\n      <th>0</th>\n      <td>7.4</td>\n      <td>0.70</td>\n      <td>0.00</td>\n      <td>1.9</td>\n      <td>0.076</td>\n      <td>11.0</td>\n      <td>34.0</td>\n      <td>0.9978</td>\n      <td>3.51</td>\n      <td>0.56</td>\n      <td>9.4</td>\n      <td>5</td>\n    </tr>\n    <tr>\n      <th>1</th>\n      <td>7.8</td>\n      <td>0.88</td>\n      <td>0.00</td>\n      <td>2.6</td>\n      <td>0.098</td>\n      <td>25.0</td>\n      <td>67.0</td>\n      <td>0.9968</td>\n      <td>3.20</td>\n      <td>0.68</td>\n      <td>9.8</td>\n      <td>5</td>\n    </tr>\n    <tr>\n      <th>2</th>\n      <td>7.8</td>\n      <td>0.76</td>\n      <td>0.04</td>\n      <td>2.3</td>\n      <td>0.092</td>\n      <td>15.0</td>\n      <td>54.0</td>\n      <td>0.9970</td>\n      <td>3.26</td>\n      <td>0.65</td>\n      <td>9.8</td>\n      <td>5</td>\n    </tr>\n    <tr>\n      <th>3</th>\n      <td>11.2</td>\n      <td>0.28</td>\n      <td>0.56</td>\n      <td>1.9</td>\n      <td>0.075</td>\n      <td>17.0</td>\n      <td>60.0</td>\n      <td>0.9980</td>\n      <td>3.16</td>\n      <td>0.58</td>\n      <td>9.8</td>\n      <td>6</td>\n    </tr>\n    <tr>\n      <th>4</th>\n      <td>7.4</td>\n      <td>0.70</td>\n      <td>0.00</td>\n      <td>1.9</td>\n      <td>0.076</td>\n      <td>11.0</td>\n      <td>34.0</td>\n      <td>0.9978</td>\n      <td>3.51</td>\n      <td>0.56</td>\n      <td>9.4</td>\n      <td>5</td>\n    </tr>\n  </tbody>\n</table>\n</div>"
     },
     "metadata": {},
     "execution_count": 8
    }
   ],
   "source": [
    "vr_data = pd.read_csv(vino_rojo, sep=\";\")\n",
    "vr_data.head()"
   ]
  },
  {
   "cell_type": "code",
   "execution_count": 11,
   "metadata": {},
   "outputs": [
    {
     "output_type": "execute_result",
     "data": {
      "text/plain": [
       "   fixed acidity  volatile acidity  citric acid  residual sugar  chlorides  \\\n",
       "0            7.0              0.27         0.36            20.7      0.045   \n",
       "1            6.3              0.30         0.34             1.6      0.049   \n",
       "2            8.1              0.28         0.40             6.9      0.050   \n",
       "3            7.2              0.23         0.32             8.5      0.058   \n",
       "4            7.2              0.23         0.32             8.5      0.058   \n",
       "\n",
       "   free sulfur dioxide  total sulfur dioxide  density    pH  sulphates  \\\n",
       "0                 45.0                 170.0   1.0010  3.00       0.45   \n",
       "1                 14.0                 132.0   0.9940  3.30       0.49   \n",
       "2                 30.0                  97.0   0.9951  3.26       0.44   \n",
       "3                 47.0                 186.0   0.9956  3.19       0.40   \n",
       "4                 47.0                 186.0   0.9956  3.19       0.40   \n",
       "\n",
       "   alcohol  quality  \n",
       "0      8.8        6  \n",
       "1      9.5        6  \n",
       "2     10.1        6  \n",
       "3      9.9        6  \n",
       "4      9.9        6  "
      ],
      "text/html": "<div>\n<style scoped>\n    .dataframe tbody tr th:only-of-type {\n        vertical-align: middle;\n    }\n\n    .dataframe tbody tr th {\n        vertical-align: top;\n    }\n\n    .dataframe thead th {\n        text-align: right;\n    }\n</style>\n<table border=\"1\" class=\"dataframe\">\n  <thead>\n    <tr style=\"text-align: right;\">\n      <th></th>\n      <th>fixed acidity</th>\n      <th>volatile acidity</th>\n      <th>citric acid</th>\n      <th>residual sugar</th>\n      <th>chlorides</th>\n      <th>free sulfur dioxide</th>\n      <th>total sulfur dioxide</th>\n      <th>density</th>\n      <th>pH</th>\n      <th>sulphates</th>\n      <th>alcohol</th>\n      <th>quality</th>\n    </tr>\n  </thead>\n  <tbody>\n    <tr>\n      <th>0</th>\n      <td>7.0</td>\n      <td>0.27</td>\n      <td>0.36</td>\n      <td>20.7</td>\n      <td>0.045</td>\n      <td>45.0</td>\n      <td>170.0</td>\n      <td>1.0010</td>\n      <td>3.00</td>\n      <td>0.45</td>\n      <td>8.8</td>\n      <td>6</td>\n    </tr>\n    <tr>\n      <th>1</th>\n      <td>6.3</td>\n      <td>0.30</td>\n      <td>0.34</td>\n      <td>1.6</td>\n      <td>0.049</td>\n      <td>14.0</td>\n      <td>132.0</td>\n      <td>0.9940</td>\n      <td>3.30</td>\n      <td>0.49</td>\n      <td>9.5</td>\n      <td>6</td>\n    </tr>\n    <tr>\n      <th>2</th>\n      <td>8.1</td>\n      <td>0.28</td>\n      <td>0.40</td>\n      <td>6.9</td>\n      <td>0.050</td>\n      <td>30.0</td>\n      <td>97.0</td>\n      <td>0.9951</td>\n      <td>3.26</td>\n      <td>0.44</td>\n      <td>10.1</td>\n      <td>6</td>\n    </tr>\n    <tr>\n      <th>3</th>\n      <td>7.2</td>\n      <td>0.23</td>\n      <td>0.32</td>\n      <td>8.5</td>\n      <td>0.058</td>\n      <td>47.0</td>\n      <td>186.0</td>\n      <td>0.9956</td>\n      <td>3.19</td>\n      <td>0.40</td>\n      <td>9.9</td>\n      <td>6</td>\n    </tr>\n    <tr>\n      <th>4</th>\n      <td>7.2</td>\n      <td>0.23</td>\n      <td>0.32</td>\n      <td>8.5</td>\n      <td>0.058</td>\n      <td>47.0</td>\n      <td>186.0</td>\n      <td>0.9956</td>\n      <td>3.19</td>\n      <td>0.40</td>\n      <td>9.9</td>\n      <td>6</td>\n    </tr>\n  </tbody>\n</table>\n</div>"
     },
     "metadata": {},
     "execution_count": 11
    }
   ],
   "source": [
    "vb_data = pd.read_csv(vino_blanco, sep=\";\")\n",
    "vb_data.head()"
   ]
  },
  {
   "cell_type": "code",
   "execution_count": 12,
   "metadata": {},
   "outputs": [
    {
     "output_type": "execute_result",
     "data": {
      "text/plain": [
       "array(['fixed acidity', 'volatile acidity', 'citric acid',\n",
       "       'residual sugar', 'chlorides', 'free sulfur dioxide',\n",
       "       'total sulfur dioxide', 'density', 'pH', 'sulphates', 'alcohol',\n",
       "       'quality'], dtype=object)"
      ]
     },
     "metadata": {},
     "execution_count": 12
    }
   ],
   "source": [
    "vr_data.columns.values"
   ]
  },
  {
   "cell_type": "code",
   "execution_count": 13,
   "metadata": {},
   "outputs": [
    {
     "output_type": "execute_result",
     "data": {
      "text/plain": [
       "array(['fixed acidity', 'volatile acidity', 'citric acid',\n",
       "       'residual sugar', 'chlorides', 'free sulfur dioxide',\n",
       "       'total sulfur dioxide', 'density', 'pH', 'sulphates', 'alcohol',\n",
       "       'quality'], dtype=object)"
      ]
     },
     "metadata": {},
     "execution_count": 13
    }
   ],
   "source": [
    "vb_data.columns.values"
   ]
  },
  {
   "cell_type": "code",
   "execution_count": 16,
   "metadata": {},
   "outputs": [
    {
     "output_type": "execute_result",
     "data": {
      "text/plain": [
       "(1599, 12)"
      ]
     },
     "metadata": {},
     "execution_count": 16
    }
   ],
   "source": [
    "vr_data.shape"
   ]
  },
  {
   "cell_type": "code",
   "execution_count": 17,
   "metadata": {},
   "outputs": [
    {
     "output_type": "execute_result",
     "data": {
      "text/plain": [
       "(4898, 12)"
      ]
     },
     "metadata": {},
     "execution_count": 17
    }
   ],
   "source": [
    "vb_data.shape"
   ]
  },
  {
   "source": [
    "En python, tenemos dos tipos de ejes\n",
    "* axis = 0, denota el eje horizontal\n",
    "* axis = 1, denota el eje vertical"
   ],
   "cell_type": "markdown",
   "metadata": {}
  },
  {
   "cell_type": "code",
   "execution_count": 20,
   "metadata": {},
   "outputs": [],
   "source": [
    "vino_data_full = pd.concat([vb_data,vr_data], axis=0)"
   ]
  },
  {
   "cell_type": "code",
   "execution_count": 21,
   "metadata": {},
   "outputs": [
    {
     "output_type": "execute_result",
     "data": {
      "text/plain": [
       "   fixed acidity  volatile acidity  citric acid  residual sugar  chlorides  \\\n",
       "0            7.0              0.27         0.36            20.7      0.045   \n",
       "1            6.3              0.30         0.34             1.6      0.049   \n",
       "2            8.1              0.28         0.40             6.9      0.050   \n",
       "3            7.2              0.23         0.32             8.5      0.058   \n",
       "4            7.2              0.23         0.32             8.5      0.058   \n",
       "\n",
       "   free sulfur dioxide  total sulfur dioxide  density    pH  sulphates  \\\n",
       "0                 45.0                 170.0   1.0010  3.00       0.45   \n",
       "1                 14.0                 132.0   0.9940  3.30       0.49   \n",
       "2                 30.0                  97.0   0.9951  3.26       0.44   \n",
       "3                 47.0                 186.0   0.9956  3.19       0.40   \n",
       "4                 47.0                 186.0   0.9956  3.19       0.40   \n",
       "\n",
       "   alcohol  quality  \n",
       "0      8.8        6  \n",
       "1      9.5        6  \n",
       "2     10.1        6  \n",
       "3      9.9        6  \n",
       "4      9.9        6  "
      ],
      "text/html": "<div>\n<style scoped>\n    .dataframe tbody tr th:only-of-type {\n        vertical-align: middle;\n    }\n\n    .dataframe tbody tr th {\n        vertical-align: top;\n    }\n\n    .dataframe thead th {\n        text-align: right;\n    }\n</style>\n<table border=\"1\" class=\"dataframe\">\n  <thead>\n    <tr style=\"text-align: right;\">\n      <th></th>\n      <th>fixed acidity</th>\n      <th>volatile acidity</th>\n      <th>citric acid</th>\n      <th>residual sugar</th>\n      <th>chlorides</th>\n      <th>free sulfur dioxide</th>\n      <th>total sulfur dioxide</th>\n      <th>density</th>\n      <th>pH</th>\n      <th>sulphates</th>\n      <th>alcohol</th>\n      <th>quality</th>\n    </tr>\n  </thead>\n  <tbody>\n    <tr>\n      <th>0</th>\n      <td>7.0</td>\n      <td>0.27</td>\n      <td>0.36</td>\n      <td>20.7</td>\n      <td>0.045</td>\n      <td>45.0</td>\n      <td>170.0</td>\n      <td>1.0010</td>\n      <td>3.00</td>\n      <td>0.45</td>\n      <td>8.8</td>\n      <td>6</td>\n    </tr>\n    <tr>\n      <th>1</th>\n      <td>6.3</td>\n      <td>0.30</td>\n      <td>0.34</td>\n      <td>1.6</td>\n      <td>0.049</td>\n      <td>14.0</td>\n      <td>132.0</td>\n      <td>0.9940</td>\n      <td>3.30</td>\n      <td>0.49</td>\n      <td>9.5</td>\n      <td>6</td>\n    </tr>\n    <tr>\n      <th>2</th>\n      <td>8.1</td>\n      <td>0.28</td>\n      <td>0.40</td>\n      <td>6.9</td>\n      <td>0.050</td>\n      <td>30.0</td>\n      <td>97.0</td>\n      <td>0.9951</td>\n      <td>3.26</td>\n      <td>0.44</td>\n      <td>10.1</td>\n      <td>6</td>\n    </tr>\n    <tr>\n      <th>3</th>\n      <td>7.2</td>\n      <td>0.23</td>\n      <td>0.32</td>\n      <td>8.5</td>\n      <td>0.058</td>\n      <td>47.0</td>\n      <td>186.0</td>\n      <td>0.9956</td>\n      <td>3.19</td>\n      <td>0.40</td>\n      <td>9.9</td>\n      <td>6</td>\n    </tr>\n    <tr>\n      <th>4</th>\n      <td>7.2</td>\n      <td>0.23</td>\n      <td>0.32</td>\n      <td>8.5</td>\n      <td>0.058</td>\n      <td>47.0</td>\n      <td>186.0</td>\n      <td>0.9956</td>\n      <td>3.19</td>\n      <td>0.40</td>\n      <td>9.9</td>\n      <td>6</td>\n    </tr>\n  </tbody>\n</table>\n</div>"
     },
     "metadata": {},
     "execution_count": 21
    }
   ],
   "source": [
    "vino_data_full.head()"
   ]
  },
  {
   "cell_type": "code",
   "execution_count": 22,
   "metadata": {},
   "outputs": [
    {
     "output_type": "execute_result",
     "data": {
      "text/plain": [
       "(6497, 12)"
      ]
     },
     "metadata": {},
     "execution_count": 22
    }
   ],
   "source": [
    "vino_data_full.shape"
   ]
  },
  {
   "cell_type": "code",
   "execution_count": 24,
   "metadata": {},
   "outputs": [],
   "source": [
    "data1 = vb_data.head(10)\n",
    "data2 = vb_data[300:310]\n",
    "data3 = vb_data.tail(10)"
   ]
  },
  {
   "cell_type": "code",
   "execution_count": 28,
   "metadata": {},
   "outputs": [
    {
     "output_type": "execute_result",
     "data": {
      "text/plain": [
       "      fixed acidity  volatile acidity  citric acid  residual sugar  chlorides  \\\n",
       "0               7.0             0.270         0.36           20.70      0.045   \n",
       "1               6.3             0.300         0.34            1.60      0.049   \n",
       "2               8.1             0.280         0.40            6.90      0.050   \n",
       "3               7.2             0.230         0.32            8.50      0.058   \n",
       "4               7.2             0.230         0.32            8.50      0.058   \n",
       "5               8.1             0.280         0.40            6.90      0.050   \n",
       "6               6.2             0.320         0.16            7.00      0.045   \n",
       "7               7.0             0.270         0.36           20.70      0.045   \n",
       "8               6.3             0.300         0.34            1.60      0.049   \n",
       "9               8.1             0.220         0.43            1.50      0.044   \n",
       "300             6.1             0.410         0.00            1.60      0.063   \n",
       "301             8.3             0.200         0.35            0.90      0.050   \n",
       "302             6.1             0.410         0.00            1.60      0.063   \n",
       "303             6.0             0.290         0.21            1.30      0.055   \n",
       "304             7.3             0.410         0.24            6.80      0.057   \n",
       "305             7.3             0.410         0.24            6.80      0.057   \n",
       "306             7.2             0.430         0.24            6.70      0.058   \n",
       "307             7.3             0.400         0.24            6.70      0.058   \n",
       "308             6.2             0.330         0.27            4.90      0.036   \n",
       "309             6.2             0.310         0.26            4.80      0.037   \n",
       "4888            6.8             0.220         0.36            1.20      0.052   \n",
       "4889            4.9             0.235         0.27           11.75      0.030   \n",
       "4890            6.1             0.340         0.29            2.20      0.036   \n",
       "4891            5.7             0.210         0.32            0.90      0.038   \n",
       "4892            6.5             0.230         0.38            1.30      0.032   \n",
       "4893            6.2             0.210         0.29            1.60      0.039   \n",
       "4894            6.6             0.320         0.36            8.00      0.047   \n",
       "4895            6.5             0.240         0.19            1.20      0.041   \n",
       "4896            5.5             0.290         0.30            1.10      0.022   \n",
       "4897            6.0             0.210         0.38            0.80      0.020   \n",
       "\n",
       "      free sulfur dioxide  total sulfur dioxide  density    pH  sulphates  \\\n",
       "0                    45.0                 170.0  1.00100  3.00       0.45   \n",
       "1                    14.0                 132.0  0.99400  3.30       0.49   \n",
       "2                    30.0                  97.0  0.99510  3.26       0.44   \n",
       "3                    47.0                 186.0  0.99560  3.19       0.40   \n",
       "4                    47.0                 186.0  0.99560  3.19       0.40   \n",
       "5                    30.0                  97.0  0.99510  3.26       0.44   \n",
       "6                    30.0                 136.0  0.99490  3.18       0.47   \n",
       "7                    45.0                 170.0  1.00100  3.00       0.45   \n",
       "8                    14.0                 132.0  0.99400  3.30       0.49   \n",
       "9                    28.0                 129.0  0.99380  3.22       0.45   \n",
       "300                  36.0                  87.0  0.99140  3.27       0.67   \n",
       "301                  12.0                  74.0  0.99200  3.13       0.38   \n",
       "302                  36.0                  87.0  0.99140  3.27       0.67   \n",
       "303                  42.0                 168.0  0.99140  3.32       0.43   \n",
       "304                  41.0                 163.0  0.99490  3.20       0.41   \n",
       "305                  41.0                 163.0  0.99490  3.20       0.41   \n",
       "306                  40.0                 163.0  0.99500  3.20       0.41   \n",
       "307                  41.0                 166.0  0.99500  3.20       0.41   \n",
       "308                  30.0                 134.0  0.99270  3.20       0.42   \n",
       "309                  36.0                 148.0  0.99280  3.21       0.41   \n",
       "4888                 38.0                 127.0  0.99330  3.04       0.54   \n",
       "4889                 34.0                 118.0  0.99540  3.07       0.50   \n",
       "4890                 25.0                 100.0  0.98938  3.06       0.44   \n",
       "4891                 38.0                 121.0  0.99074  3.24       0.46   \n",
       "4892                 29.0                 112.0  0.99298  3.29       0.54   \n",
       "4893                 24.0                  92.0  0.99114  3.27       0.50   \n",
       "4894                 57.0                 168.0  0.99490  3.15       0.46   \n",
       "4895                 30.0                 111.0  0.99254  2.99       0.46   \n",
       "4896                 20.0                 110.0  0.98869  3.34       0.38   \n",
       "4897                 22.0                  98.0  0.98941  3.26       0.32   \n",
       "\n",
       "      alcohol  quality  \n",
       "0         8.8        6  \n",
       "1         9.5        6  \n",
       "2        10.1        6  \n",
       "3         9.9        6  \n",
       "4         9.9        6  \n",
       "5        10.1        6  \n",
       "6         9.6        6  \n",
       "7         8.8        6  \n",
       "8         9.5        6  \n",
       "9        11.0        6  \n",
       "300      10.8        6  \n",
       "301      10.5        6  \n",
       "302      10.8        6  \n",
       "303      11.1        6  \n",
       "304       9.9        6  \n",
       "305       9.9        6  \n",
       "306       9.9        5  \n",
       "307       9.9        6  \n",
       "308      10.4        7  \n",
       "309      10.4        6  \n",
       "4888      9.2        5  \n",
       "4889      9.4        6  \n",
       "4890     11.8        6  \n",
       "4891     10.6        6  \n",
       "4892      9.7        5  \n",
       "4893     11.2        6  \n",
       "4894      9.6        5  \n",
       "4895      9.4        6  \n",
       "4896     12.8        7  \n",
       "4897     11.8        6  "
      ],
      "text/html": "<div>\n<style scoped>\n    .dataframe tbody tr th:only-of-type {\n        vertical-align: middle;\n    }\n\n    .dataframe tbody tr th {\n        vertical-align: top;\n    }\n\n    .dataframe thead th {\n        text-align: right;\n    }\n</style>\n<table border=\"1\" class=\"dataframe\">\n  <thead>\n    <tr style=\"text-align: right;\">\n      <th></th>\n      <th>fixed acidity</th>\n      <th>volatile acidity</th>\n      <th>citric acid</th>\n      <th>residual sugar</th>\n      <th>chlorides</th>\n      <th>free sulfur dioxide</th>\n      <th>total sulfur dioxide</th>\n      <th>density</th>\n      <th>pH</th>\n      <th>sulphates</th>\n      <th>alcohol</th>\n      <th>quality</th>\n    </tr>\n  </thead>\n  <tbody>\n    <tr>\n      <th>0</th>\n      <td>7.0</td>\n      <td>0.270</td>\n      <td>0.36</td>\n      <td>20.70</td>\n      <td>0.045</td>\n      <td>45.0</td>\n      <td>170.0</td>\n      <td>1.00100</td>\n      <td>3.00</td>\n      <td>0.45</td>\n      <td>8.8</td>\n      <td>6</td>\n    </tr>\n    <tr>\n      <th>1</th>\n      <td>6.3</td>\n      <td>0.300</td>\n      <td>0.34</td>\n      <td>1.60</td>\n      <td>0.049</td>\n      <td>14.0</td>\n      <td>132.0</td>\n      <td>0.99400</td>\n      <td>3.30</td>\n      <td>0.49</td>\n      <td>9.5</td>\n      <td>6</td>\n    </tr>\n    <tr>\n      <th>2</th>\n      <td>8.1</td>\n      <td>0.280</td>\n      <td>0.40</td>\n      <td>6.90</td>\n      <td>0.050</td>\n      <td>30.0</td>\n      <td>97.0</td>\n      <td>0.99510</td>\n      <td>3.26</td>\n      <td>0.44</td>\n      <td>10.1</td>\n      <td>6</td>\n    </tr>\n    <tr>\n      <th>3</th>\n      <td>7.2</td>\n      <td>0.230</td>\n      <td>0.32</td>\n      <td>8.50</td>\n      <td>0.058</td>\n      <td>47.0</td>\n      <td>186.0</td>\n      <td>0.99560</td>\n      <td>3.19</td>\n      <td>0.40</td>\n      <td>9.9</td>\n      <td>6</td>\n    </tr>\n    <tr>\n      <th>4</th>\n      <td>7.2</td>\n      <td>0.230</td>\n      <td>0.32</td>\n      <td>8.50</td>\n      <td>0.058</td>\n      <td>47.0</td>\n      <td>186.0</td>\n      <td>0.99560</td>\n      <td>3.19</td>\n      <td>0.40</td>\n      <td>9.9</td>\n      <td>6</td>\n    </tr>\n    <tr>\n      <th>5</th>\n      <td>8.1</td>\n      <td>0.280</td>\n      <td>0.40</td>\n      <td>6.90</td>\n      <td>0.050</td>\n      <td>30.0</td>\n      <td>97.0</td>\n      <td>0.99510</td>\n      <td>3.26</td>\n      <td>0.44</td>\n      <td>10.1</td>\n      <td>6</td>\n    </tr>\n    <tr>\n      <th>6</th>\n      <td>6.2</td>\n      <td>0.320</td>\n      <td>0.16</td>\n      <td>7.00</td>\n      <td>0.045</td>\n      <td>30.0</td>\n      <td>136.0</td>\n      <td>0.99490</td>\n      <td>3.18</td>\n      <td>0.47</td>\n      <td>9.6</td>\n      <td>6</td>\n    </tr>\n    <tr>\n      <th>7</th>\n      <td>7.0</td>\n      <td>0.270</td>\n      <td>0.36</td>\n      <td>20.70</td>\n      <td>0.045</td>\n      <td>45.0</td>\n      <td>170.0</td>\n      <td>1.00100</td>\n      <td>3.00</td>\n      <td>0.45</td>\n      <td>8.8</td>\n      <td>6</td>\n    </tr>\n    <tr>\n      <th>8</th>\n      <td>6.3</td>\n      <td>0.300</td>\n      <td>0.34</td>\n      <td>1.60</td>\n      <td>0.049</td>\n      <td>14.0</td>\n      <td>132.0</td>\n      <td>0.99400</td>\n      <td>3.30</td>\n      <td>0.49</td>\n      <td>9.5</td>\n      <td>6</td>\n    </tr>\n    <tr>\n      <th>9</th>\n      <td>8.1</td>\n      <td>0.220</td>\n      <td>0.43</td>\n      <td>1.50</td>\n      <td>0.044</td>\n      <td>28.0</td>\n      <td>129.0</td>\n      <td>0.99380</td>\n      <td>3.22</td>\n      <td>0.45</td>\n      <td>11.0</td>\n      <td>6</td>\n    </tr>\n    <tr>\n      <th>300</th>\n      <td>6.1</td>\n      <td>0.410</td>\n      <td>0.00</td>\n      <td>1.60</td>\n      <td>0.063</td>\n      <td>36.0</td>\n      <td>87.0</td>\n      <td>0.99140</td>\n      <td>3.27</td>\n      <td>0.67</td>\n      <td>10.8</td>\n      <td>6</td>\n    </tr>\n    <tr>\n      <th>301</th>\n      <td>8.3</td>\n      <td>0.200</td>\n      <td>0.35</td>\n      <td>0.90</td>\n      <td>0.050</td>\n      <td>12.0</td>\n      <td>74.0</td>\n      <td>0.99200</td>\n      <td>3.13</td>\n      <td>0.38</td>\n      <td>10.5</td>\n      <td>6</td>\n    </tr>\n    <tr>\n      <th>302</th>\n      <td>6.1</td>\n      <td>0.410</td>\n      <td>0.00</td>\n      <td>1.60</td>\n      <td>0.063</td>\n      <td>36.0</td>\n      <td>87.0</td>\n      <td>0.99140</td>\n      <td>3.27</td>\n      <td>0.67</td>\n      <td>10.8</td>\n      <td>6</td>\n    </tr>\n    <tr>\n      <th>303</th>\n      <td>6.0</td>\n      <td>0.290</td>\n      <td>0.21</td>\n      <td>1.30</td>\n      <td>0.055</td>\n      <td>42.0</td>\n      <td>168.0</td>\n      <td>0.99140</td>\n      <td>3.32</td>\n      <td>0.43</td>\n      <td>11.1</td>\n      <td>6</td>\n    </tr>\n    <tr>\n      <th>304</th>\n      <td>7.3</td>\n      <td>0.410</td>\n      <td>0.24</td>\n      <td>6.80</td>\n      <td>0.057</td>\n      <td>41.0</td>\n      <td>163.0</td>\n      <td>0.99490</td>\n      <td>3.20</td>\n      <td>0.41</td>\n      <td>9.9</td>\n      <td>6</td>\n    </tr>\n    <tr>\n      <th>305</th>\n      <td>7.3</td>\n      <td>0.410</td>\n      <td>0.24</td>\n      <td>6.80</td>\n      <td>0.057</td>\n      <td>41.0</td>\n      <td>163.0</td>\n      <td>0.99490</td>\n      <td>3.20</td>\n      <td>0.41</td>\n      <td>9.9</td>\n      <td>6</td>\n    </tr>\n    <tr>\n      <th>306</th>\n      <td>7.2</td>\n      <td>0.430</td>\n      <td>0.24</td>\n      <td>6.70</td>\n      <td>0.058</td>\n      <td>40.0</td>\n      <td>163.0</td>\n      <td>0.99500</td>\n      <td>3.20</td>\n      <td>0.41</td>\n      <td>9.9</td>\n      <td>5</td>\n    </tr>\n    <tr>\n      <th>307</th>\n      <td>7.3</td>\n      <td>0.400</td>\n      <td>0.24</td>\n      <td>6.70</td>\n      <td>0.058</td>\n      <td>41.0</td>\n      <td>166.0</td>\n      <td>0.99500</td>\n      <td>3.20</td>\n      <td>0.41</td>\n      <td>9.9</td>\n      <td>6</td>\n    </tr>\n    <tr>\n      <th>308</th>\n      <td>6.2</td>\n      <td>0.330</td>\n      <td>0.27</td>\n      <td>4.90</td>\n      <td>0.036</td>\n      <td>30.0</td>\n      <td>134.0</td>\n      <td>0.99270</td>\n      <td>3.20</td>\n      <td>0.42</td>\n      <td>10.4</td>\n      <td>7</td>\n    </tr>\n    <tr>\n      <th>309</th>\n      <td>6.2</td>\n      <td>0.310</td>\n      <td>0.26</td>\n      <td>4.80</td>\n      <td>0.037</td>\n      <td>36.0</td>\n      <td>148.0</td>\n      <td>0.99280</td>\n      <td>3.21</td>\n      <td>0.41</td>\n      <td>10.4</td>\n      <td>6</td>\n    </tr>\n    <tr>\n      <th>4888</th>\n      <td>6.8</td>\n      <td>0.220</td>\n      <td>0.36</td>\n      <td>1.20</td>\n      <td>0.052</td>\n      <td>38.0</td>\n      <td>127.0</td>\n      <td>0.99330</td>\n      <td>3.04</td>\n      <td>0.54</td>\n      <td>9.2</td>\n      <td>5</td>\n    </tr>\n    <tr>\n      <th>4889</th>\n      <td>4.9</td>\n      <td>0.235</td>\n      <td>0.27</td>\n      <td>11.75</td>\n      <td>0.030</td>\n      <td>34.0</td>\n      <td>118.0</td>\n      <td>0.99540</td>\n      <td>3.07</td>\n      <td>0.50</td>\n      <td>9.4</td>\n      <td>6</td>\n    </tr>\n    <tr>\n      <th>4890</th>\n      <td>6.1</td>\n      <td>0.340</td>\n      <td>0.29</td>\n      <td>2.20</td>\n      <td>0.036</td>\n      <td>25.0</td>\n      <td>100.0</td>\n      <td>0.98938</td>\n      <td>3.06</td>\n      <td>0.44</td>\n      <td>11.8</td>\n      <td>6</td>\n    </tr>\n    <tr>\n      <th>4891</th>\n      <td>5.7</td>\n      <td>0.210</td>\n      <td>0.32</td>\n      <td>0.90</td>\n      <td>0.038</td>\n      <td>38.0</td>\n      <td>121.0</td>\n      <td>0.99074</td>\n      <td>3.24</td>\n      <td>0.46</td>\n      <td>10.6</td>\n      <td>6</td>\n    </tr>\n    <tr>\n      <th>4892</th>\n      <td>6.5</td>\n      <td>0.230</td>\n      <td>0.38</td>\n      <td>1.30</td>\n      <td>0.032</td>\n      <td>29.0</td>\n      <td>112.0</td>\n      <td>0.99298</td>\n      <td>3.29</td>\n      <td>0.54</td>\n      <td>9.7</td>\n      <td>5</td>\n    </tr>\n    <tr>\n      <th>4893</th>\n      <td>6.2</td>\n      <td>0.210</td>\n      <td>0.29</td>\n      <td>1.60</td>\n      <td>0.039</td>\n      <td>24.0</td>\n      <td>92.0</td>\n      <td>0.99114</td>\n      <td>3.27</td>\n      <td>0.50</td>\n      <td>11.2</td>\n      <td>6</td>\n    </tr>\n    <tr>\n      <th>4894</th>\n      <td>6.6</td>\n      <td>0.320</td>\n      <td>0.36</td>\n      <td>8.00</td>\n      <td>0.047</td>\n      <td>57.0</td>\n      <td>168.0</td>\n      <td>0.99490</td>\n      <td>3.15</td>\n      <td>0.46</td>\n      <td>9.6</td>\n      <td>5</td>\n    </tr>\n    <tr>\n      <th>4895</th>\n      <td>6.5</td>\n      <td>0.240</td>\n      <td>0.19</td>\n      <td>1.20</td>\n      <td>0.041</td>\n      <td>30.0</td>\n      <td>111.0</td>\n      <td>0.99254</td>\n      <td>2.99</td>\n      <td>0.46</td>\n      <td>9.4</td>\n      <td>6</td>\n    </tr>\n    <tr>\n      <th>4896</th>\n      <td>5.5</td>\n      <td>0.290</td>\n      <td>0.30</td>\n      <td>1.10</td>\n      <td>0.022</td>\n      <td>20.0</td>\n      <td>110.0</td>\n      <td>0.98869</td>\n      <td>3.34</td>\n      <td>0.38</td>\n      <td>12.8</td>\n      <td>7</td>\n    </tr>\n    <tr>\n      <th>4897</th>\n      <td>6.0</td>\n      <td>0.210</td>\n      <td>0.38</td>\n      <td>0.80</td>\n      <td>0.020</td>\n      <td>22.0</td>\n      <td>98.0</td>\n      <td>0.98941</td>\n      <td>3.26</td>\n      <td>0.32</td>\n      <td>11.8</td>\n      <td>6</td>\n    </tr>\n  </tbody>\n</table>\n</div>"
     },
     "metadata": {},
     "execution_count": 28
    }
   ],
   "source": [
    "vb_scramble = pd.concat([data1, data2, data3], axis=0)\n",
    "vb_scramble"
   ]
  },
  {
   "cell_type": "code",
   "execution_count": 29,
   "metadata": {},
   "outputs": [
    {
     "output_type": "execute_result",
     "data": {
      "text/plain": [
       "      fixed acidity  volatile acidity  citric acid  residual sugar  chlorides  \\\n",
       "4888            6.8             0.220         0.36            1.20      0.052   \n",
       "4889            4.9             0.235         0.27           11.75      0.030   \n",
       "4890            6.1             0.340         0.29            2.20      0.036   \n",
       "4891            5.7             0.210         0.32            0.90      0.038   \n",
       "4892            6.5             0.230         0.38            1.30      0.032   \n",
       "4893            6.2             0.210         0.29            1.60      0.039   \n",
       "4894            6.6             0.320         0.36            8.00      0.047   \n",
       "4895            6.5             0.240         0.19            1.20      0.041   \n",
       "4896            5.5             0.290         0.30            1.10      0.022   \n",
       "4897            6.0             0.210         0.38            0.80      0.020   \n",
       "0               7.0             0.270         0.36           20.70      0.045   \n",
       "1               6.3             0.300         0.34            1.60      0.049   \n",
       "2               8.1             0.280         0.40            6.90      0.050   \n",
       "3               7.2             0.230         0.32            8.50      0.058   \n",
       "4               7.2             0.230         0.32            8.50      0.058   \n",
       "5               8.1             0.280         0.40            6.90      0.050   \n",
       "6               6.2             0.320         0.16            7.00      0.045   \n",
       "7               7.0             0.270         0.36           20.70      0.045   \n",
       "8               6.3             0.300         0.34            1.60      0.049   \n",
       "9               8.1             0.220         0.43            1.50      0.044   \n",
       "300             6.1             0.410         0.00            1.60      0.063   \n",
       "301             8.3             0.200         0.35            0.90      0.050   \n",
       "302             6.1             0.410         0.00            1.60      0.063   \n",
       "303             6.0             0.290         0.21            1.30      0.055   \n",
       "304             7.3             0.410         0.24            6.80      0.057   \n",
       "305             7.3             0.410         0.24            6.80      0.057   \n",
       "306             7.2             0.430         0.24            6.70      0.058   \n",
       "307             7.3             0.400         0.24            6.70      0.058   \n",
       "308             6.2             0.330         0.27            4.90      0.036   \n",
       "309             6.2             0.310         0.26            4.80      0.037   \n",
       "\n",
       "      free sulfur dioxide  total sulfur dioxide  density    pH  sulphates  \\\n",
       "4888                 38.0                 127.0  0.99330  3.04       0.54   \n",
       "4889                 34.0                 118.0  0.99540  3.07       0.50   \n",
       "4890                 25.0                 100.0  0.98938  3.06       0.44   \n",
       "4891                 38.0                 121.0  0.99074  3.24       0.46   \n",
       "4892                 29.0                 112.0  0.99298  3.29       0.54   \n",
       "4893                 24.0                  92.0  0.99114  3.27       0.50   \n",
       "4894                 57.0                 168.0  0.99490  3.15       0.46   \n",
       "4895                 30.0                 111.0  0.99254  2.99       0.46   \n",
       "4896                 20.0                 110.0  0.98869  3.34       0.38   \n",
       "4897                 22.0                  98.0  0.98941  3.26       0.32   \n",
       "0                    45.0                 170.0  1.00100  3.00       0.45   \n",
       "1                    14.0                 132.0  0.99400  3.30       0.49   \n",
       "2                    30.0                  97.0  0.99510  3.26       0.44   \n",
       "3                    47.0                 186.0  0.99560  3.19       0.40   \n",
       "4                    47.0                 186.0  0.99560  3.19       0.40   \n",
       "5                    30.0                  97.0  0.99510  3.26       0.44   \n",
       "6                    30.0                 136.0  0.99490  3.18       0.47   \n",
       "7                    45.0                 170.0  1.00100  3.00       0.45   \n",
       "8                    14.0                 132.0  0.99400  3.30       0.49   \n",
       "9                    28.0                 129.0  0.99380  3.22       0.45   \n",
       "300                  36.0                  87.0  0.99140  3.27       0.67   \n",
       "301                  12.0                  74.0  0.99200  3.13       0.38   \n",
       "302                  36.0                  87.0  0.99140  3.27       0.67   \n",
       "303                  42.0                 168.0  0.99140  3.32       0.43   \n",
       "304                  41.0                 163.0  0.99490  3.20       0.41   \n",
       "305                  41.0                 163.0  0.99490  3.20       0.41   \n",
       "306                  40.0                 163.0  0.99500  3.20       0.41   \n",
       "307                  41.0                 166.0  0.99500  3.20       0.41   \n",
       "308                  30.0                 134.0  0.99270  3.20       0.42   \n",
       "309                  36.0                 148.0  0.99280  3.21       0.41   \n",
       "\n",
       "      alcohol  quality  \n",
       "4888      9.2        5  \n",
       "4889      9.4        6  \n",
       "4890     11.8        6  \n",
       "4891     10.6        6  \n",
       "4892      9.7        5  \n",
       "4893     11.2        6  \n",
       "4894      9.6        5  \n",
       "4895      9.4        6  \n",
       "4896     12.8        7  \n",
       "4897     11.8        6  \n",
       "0         8.8        6  \n",
       "1         9.5        6  \n",
       "2        10.1        6  \n",
       "3         9.9        6  \n",
       "4         9.9        6  \n",
       "5        10.1        6  \n",
       "6         9.6        6  \n",
       "7         8.8        6  \n",
       "8         9.5        6  \n",
       "9        11.0        6  \n",
       "300      10.8        6  \n",
       "301      10.5        6  \n",
       "302      10.8        6  \n",
       "303      11.1        6  \n",
       "304       9.9        6  \n",
       "305       9.9        6  \n",
       "306       9.9        5  \n",
       "307       9.9        6  \n",
       "308      10.4        7  \n",
       "309      10.4        6  "
      ],
      "text/html": "<div>\n<style scoped>\n    .dataframe tbody tr th:only-of-type {\n        vertical-align: middle;\n    }\n\n    .dataframe tbody tr th {\n        vertical-align: top;\n    }\n\n    .dataframe thead th {\n        text-align: right;\n    }\n</style>\n<table border=\"1\" class=\"dataframe\">\n  <thead>\n    <tr style=\"text-align: right;\">\n      <th></th>\n      <th>fixed acidity</th>\n      <th>volatile acidity</th>\n      <th>citric acid</th>\n      <th>residual sugar</th>\n      <th>chlorides</th>\n      <th>free sulfur dioxide</th>\n      <th>total sulfur dioxide</th>\n      <th>density</th>\n      <th>pH</th>\n      <th>sulphates</th>\n      <th>alcohol</th>\n      <th>quality</th>\n    </tr>\n  </thead>\n  <tbody>\n    <tr>\n      <th>4888</th>\n      <td>6.8</td>\n      <td>0.220</td>\n      <td>0.36</td>\n      <td>1.20</td>\n      <td>0.052</td>\n      <td>38.0</td>\n      <td>127.0</td>\n      <td>0.99330</td>\n      <td>3.04</td>\n      <td>0.54</td>\n      <td>9.2</td>\n      <td>5</td>\n    </tr>\n    <tr>\n      <th>4889</th>\n      <td>4.9</td>\n      <td>0.235</td>\n      <td>0.27</td>\n      <td>11.75</td>\n      <td>0.030</td>\n      <td>34.0</td>\n      <td>118.0</td>\n      <td>0.99540</td>\n      <td>3.07</td>\n      <td>0.50</td>\n      <td>9.4</td>\n      <td>6</td>\n    </tr>\n    <tr>\n      <th>4890</th>\n      <td>6.1</td>\n      <td>0.340</td>\n      <td>0.29</td>\n      <td>2.20</td>\n      <td>0.036</td>\n      <td>25.0</td>\n      <td>100.0</td>\n      <td>0.98938</td>\n      <td>3.06</td>\n      <td>0.44</td>\n      <td>11.8</td>\n      <td>6</td>\n    </tr>\n    <tr>\n      <th>4891</th>\n      <td>5.7</td>\n      <td>0.210</td>\n      <td>0.32</td>\n      <td>0.90</td>\n      <td>0.038</td>\n      <td>38.0</td>\n      <td>121.0</td>\n      <td>0.99074</td>\n      <td>3.24</td>\n      <td>0.46</td>\n      <td>10.6</td>\n      <td>6</td>\n    </tr>\n    <tr>\n      <th>4892</th>\n      <td>6.5</td>\n      <td>0.230</td>\n      <td>0.38</td>\n      <td>1.30</td>\n      <td>0.032</td>\n      <td>29.0</td>\n      <td>112.0</td>\n      <td>0.99298</td>\n      <td>3.29</td>\n      <td>0.54</td>\n      <td>9.7</td>\n      <td>5</td>\n    </tr>\n    <tr>\n      <th>4893</th>\n      <td>6.2</td>\n      <td>0.210</td>\n      <td>0.29</td>\n      <td>1.60</td>\n      <td>0.039</td>\n      <td>24.0</td>\n      <td>92.0</td>\n      <td>0.99114</td>\n      <td>3.27</td>\n      <td>0.50</td>\n      <td>11.2</td>\n      <td>6</td>\n    </tr>\n    <tr>\n      <th>4894</th>\n      <td>6.6</td>\n      <td>0.320</td>\n      <td>0.36</td>\n      <td>8.00</td>\n      <td>0.047</td>\n      <td>57.0</td>\n      <td>168.0</td>\n      <td>0.99490</td>\n      <td>3.15</td>\n      <td>0.46</td>\n      <td>9.6</td>\n      <td>5</td>\n    </tr>\n    <tr>\n      <th>4895</th>\n      <td>6.5</td>\n      <td>0.240</td>\n      <td>0.19</td>\n      <td>1.20</td>\n      <td>0.041</td>\n      <td>30.0</td>\n      <td>111.0</td>\n      <td>0.99254</td>\n      <td>2.99</td>\n      <td>0.46</td>\n      <td>9.4</td>\n      <td>6</td>\n    </tr>\n    <tr>\n      <th>4896</th>\n      <td>5.5</td>\n      <td>0.290</td>\n      <td>0.30</td>\n      <td>1.10</td>\n      <td>0.022</td>\n      <td>20.0</td>\n      <td>110.0</td>\n      <td>0.98869</td>\n      <td>3.34</td>\n      <td>0.38</td>\n      <td>12.8</td>\n      <td>7</td>\n    </tr>\n    <tr>\n      <th>4897</th>\n      <td>6.0</td>\n      <td>0.210</td>\n      <td>0.38</td>\n      <td>0.80</td>\n      <td>0.020</td>\n      <td>22.0</td>\n      <td>98.0</td>\n      <td>0.98941</td>\n      <td>3.26</td>\n      <td>0.32</td>\n      <td>11.8</td>\n      <td>6</td>\n    </tr>\n    <tr>\n      <th>0</th>\n      <td>7.0</td>\n      <td>0.270</td>\n      <td>0.36</td>\n      <td>20.70</td>\n      <td>0.045</td>\n      <td>45.0</td>\n      <td>170.0</td>\n      <td>1.00100</td>\n      <td>3.00</td>\n      <td>0.45</td>\n      <td>8.8</td>\n      <td>6</td>\n    </tr>\n    <tr>\n      <th>1</th>\n      <td>6.3</td>\n      <td>0.300</td>\n      <td>0.34</td>\n      <td>1.60</td>\n      <td>0.049</td>\n      <td>14.0</td>\n      <td>132.0</td>\n      <td>0.99400</td>\n      <td>3.30</td>\n      <td>0.49</td>\n      <td>9.5</td>\n      <td>6</td>\n    </tr>\n    <tr>\n      <th>2</th>\n      <td>8.1</td>\n      <td>0.280</td>\n      <td>0.40</td>\n      <td>6.90</td>\n      <td>0.050</td>\n      <td>30.0</td>\n      <td>97.0</td>\n      <td>0.99510</td>\n      <td>3.26</td>\n      <td>0.44</td>\n      <td>10.1</td>\n      <td>6</td>\n    </tr>\n    <tr>\n      <th>3</th>\n      <td>7.2</td>\n      <td>0.230</td>\n      <td>0.32</td>\n      <td>8.50</td>\n      <td>0.058</td>\n      <td>47.0</td>\n      <td>186.0</td>\n      <td>0.99560</td>\n      <td>3.19</td>\n      <td>0.40</td>\n      <td>9.9</td>\n      <td>6</td>\n    </tr>\n    <tr>\n      <th>4</th>\n      <td>7.2</td>\n      <td>0.230</td>\n      <td>0.32</td>\n      <td>8.50</td>\n      <td>0.058</td>\n      <td>47.0</td>\n      <td>186.0</td>\n      <td>0.99560</td>\n      <td>3.19</td>\n      <td>0.40</td>\n      <td>9.9</td>\n      <td>6</td>\n    </tr>\n    <tr>\n      <th>5</th>\n      <td>8.1</td>\n      <td>0.280</td>\n      <td>0.40</td>\n      <td>6.90</td>\n      <td>0.050</td>\n      <td>30.0</td>\n      <td>97.0</td>\n      <td>0.99510</td>\n      <td>3.26</td>\n      <td>0.44</td>\n      <td>10.1</td>\n      <td>6</td>\n    </tr>\n    <tr>\n      <th>6</th>\n      <td>6.2</td>\n      <td>0.320</td>\n      <td>0.16</td>\n      <td>7.00</td>\n      <td>0.045</td>\n      <td>30.0</td>\n      <td>136.0</td>\n      <td>0.99490</td>\n      <td>3.18</td>\n      <td>0.47</td>\n      <td>9.6</td>\n      <td>6</td>\n    </tr>\n    <tr>\n      <th>7</th>\n      <td>7.0</td>\n      <td>0.270</td>\n      <td>0.36</td>\n      <td>20.70</td>\n      <td>0.045</td>\n      <td>45.0</td>\n      <td>170.0</td>\n      <td>1.00100</td>\n      <td>3.00</td>\n      <td>0.45</td>\n      <td>8.8</td>\n      <td>6</td>\n    </tr>\n    <tr>\n      <th>8</th>\n      <td>6.3</td>\n      <td>0.300</td>\n      <td>0.34</td>\n      <td>1.60</td>\n      <td>0.049</td>\n      <td>14.0</td>\n      <td>132.0</td>\n      <td>0.99400</td>\n      <td>3.30</td>\n      <td>0.49</td>\n      <td>9.5</td>\n      <td>6</td>\n    </tr>\n    <tr>\n      <th>9</th>\n      <td>8.1</td>\n      <td>0.220</td>\n      <td>0.43</td>\n      <td>1.50</td>\n      <td>0.044</td>\n      <td>28.0</td>\n      <td>129.0</td>\n      <td>0.99380</td>\n      <td>3.22</td>\n      <td>0.45</td>\n      <td>11.0</td>\n      <td>6</td>\n    </tr>\n    <tr>\n      <th>300</th>\n      <td>6.1</td>\n      <td>0.410</td>\n      <td>0.00</td>\n      <td>1.60</td>\n      <td>0.063</td>\n      <td>36.0</td>\n      <td>87.0</td>\n      <td>0.99140</td>\n      <td>3.27</td>\n      <td>0.67</td>\n      <td>10.8</td>\n      <td>6</td>\n    </tr>\n    <tr>\n      <th>301</th>\n      <td>8.3</td>\n      <td>0.200</td>\n      <td>0.35</td>\n      <td>0.90</td>\n      <td>0.050</td>\n      <td>12.0</td>\n      <td>74.0</td>\n      <td>0.99200</td>\n      <td>3.13</td>\n      <td>0.38</td>\n      <td>10.5</td>\n      <td>6</td>\n    </tr>\n    <tr>\n      <th>302</th>\n      <td>6.1</td>\n      <td>0.410</td>\n      <td>0.00</td>\n      <td>1.60</td>\n      <td>0.063</td>\n      <td>36.0</td>\n      <td>87.0</td>\n      <td>0.99140</td>\n      <td>3.27</td>\n      <td>0.67</td>\n      <td>10.8</td>\n      <td>6</td>\n    </tr>\n    <tr>\n      <th>303</th>\n      <td>6.0</td>\n      <td>0.290</td>\n      <td>0.21</td>\n      <td>1.30</td>\n      <td>0.055</td>\n      <td>42.0</td>\n      <td>168.0</td>\n      <td>0.99140</td>\n      <td>3.32</td>\n      <td>0.43</td>\n      <td>11.1</td>\n      <td>6</td>\n    </tr>\n    <tr>\n      <th>304</th>\n      <td>7.3</td>\n      <td>0.410</td>\n      <td>0.24</td>\n      <td>6.80</td>\n      <td>0.057</td>\n      <td>41.0</td>\n      <td>163.0</td>\n      <td>0.99490</td>\n      <td>3.20</td>\n      <td>0.41</td>\n      <td>9.9</td>\n      <td>6</td>\n    </tr>\n    <tr>\n      <th>305</th>\n      <td>7.3</td>\n      <td>0.410</td>\n      <td>0.24</td>\n      <td>6.80</td>\n      <td>0.057</td>\n      <td>41.0</td>\n      <td>163.0</td>\n      <td>0.99490</td>\n      <td>3.20</td>\n      <td>0.41</td>\n      <td>9.9</td>\n      <td>6</td>\n    </tr>\n    <tr>\n      <th>306</th>\n      <td>7.2</td>\n      <td>0.430</td>\n      <td>0.24</td>\n      <td>6.70</td>\n      <td>0.058</td>\n      <td>40.0</td>\n      <td>163.0</td>\n      <td>0.99500</td>\n      <td>3.20</td>\n      <td>0.41</td>\n      <td>9.9</td>\n      <td>5</td>\n    </tr>\n    <tr>\n      <th>307</th>\n      <td>7.3</td>\n      <td>0.400</td>\n      <td>0.24</td>\n      <td>6.70</td>\n      <td>0.058</td>\n      <td>41.0</td>\n      <td>166.0</td>\n      <td>0.99500</td>\n      <td>3.20</td>\n      <td>0.41</td>\n      <td>9.9</td>\n      <td>6</td>\n    </tr>\n    <tr>\n      <th>308</th>\n      <td>6.2</td>\n      <td>0.330</td>\n      <td>0.27</td>\n      <td>4.90</td>\n      <td>0.036</td>\n      <td>30.0</td>\n      <td>134.0</td>\n      <td>0.99270</td>\n      <td>3.20</td>\n      <td>0.42</td>\n      <td>10.4</td>\n      <td>7</td>\n    </tr>\n    <tr>\n      <th>309</th>\n      <td>6.2</td>\n      <td>0.310</td>\n      <td>0.26</td>\n      <td>4.80</td>\n      <td>0.037</td>\n      <td>36.0</td>\n      <td>148.0</td>\n      <td>0.99280</td>\n      <td>3.21</td>\n      <td>0.41</td>\n      <td>10.4</td>\n      <td>6</td>\n    </tr>\n  </tbody>\n</table>\n</div>"
     },
     "metadata": {},
     "execution_count": 29
    }
   ],
   "source": [
    "vb_scramble = pd.concat([data3, data1, data2], axis=0)\n",
    "vb_scramble"
   ]
  },
  {
   "cell_type": "code",
   "execution_count": null,
   "metadata": {},
   "outputs": [],
   "source": []
  }
 ]
}