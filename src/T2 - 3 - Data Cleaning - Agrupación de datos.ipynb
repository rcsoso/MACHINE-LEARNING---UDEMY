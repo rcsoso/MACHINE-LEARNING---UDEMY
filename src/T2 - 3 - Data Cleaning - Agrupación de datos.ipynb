{
 "metadata": {
  "language_info": {
   "codemirror_mode": {
    "name": "ipython",
    "version": 3
   },
   "file_extension": ".py",
   "mimetype": "text/x-python",
   "name": "python",
   "nbconvert_exporter": "python",
   "pygments_lexer": "ipython3",
   "version": "3.9.1"
  },
  "orig_nbformat": 2,
  "kernelspec": {
   "name": "python391jvsc74a57bd09e797c8960c8a983e950f06465ba4caaf9d96e0305498a705911d1d9a54b77da",
   "display_name": "Python 3.9.1 64-bit ('MACHINE_LEARNING_-_UDEMY-qK85mjxz': virtualenvwrapper)"
  }
 },
 "nbformat": 4,
 "nbformat_minor": 2,
 "cells": [
  {
   "source": [
    "# Agregación de datos por categoría"
   ],
   "cell_type": "markdown",
   "metadata": {}
  },
  {
   "cell_type": "code",
   "execution_count": 69,
   "metadata": {},
   "outputs": [],
   "source": [
    "import numpy as np\n",
    "import pandas as pd\n",
    "import matplotlib.pyplot as plt\n",
    "import sklearn"
   ]
  },
  {
   "cell_type": "code",
   "execution_count": 2,
   "metadata": {},
   "outputs": [],
   "source": [
    "genero = [\"Hombre\", \"Mujer\"]\n",
    "estatus = [\"Bajos\", \"Clase Media\", \"Rico\"]"
   ]
  },
  {
   "source": [
    "n = 500\n",
    "\n",
    "genero_data = []\n",
    "estatus_data = []\n",
    "\n",
    "for i in range(0,n): # Manera de crear un dummy data frame, escogiendo alguna opcíón al azar de alguna variable.\n",
    "    genero_data.append(np.random.choice(genero)) \n",
    "    estatus_data.append(np.random.choice(estatus))"
   ],
   "cell_type": "code",
   "metadata": {},
   "execution_count": 3,
   "outputs": []
  },
  {
   "cell_type": "code",
   "execution_count": 4,
   "metadata": {},
   "outputs": [
    {
     "output_type": "execute_result",
     "data": {
      "text/plain": [
       "['Hombre',\n",
       " 'Hombre',\n",
       " 'Mujer',\n",
       " 'Hombre',\n",
       " 'Hombre',\n",
       " 'Hombre',\n",
       " 'Hombre',\n",
       " 'Hombre',\n",
       " 'Hombre']"
      ]
     },
     "metadata": {},
     "execution_count": 4
    }
   ],
   "source": [
    "genero_data[1:10]"
   ]
  },
  {
   "cell_type": "code",
   "execution_count": 5,
   "metadata": {},
   "outputs": [
    {
     "output_type": "execute_result",
     "data": {
      "text/plain": [
       "['Clase Media',\n",
       " 'Rico',\n",
       " 'Rico',\n",
       " 'Clase Media',\n",
       " 'Clase Media',\n",
       " 'Rico',\n",
       " 'Bajos',\n",
       " 'Rico',\n",
       " 'Clase Media']"
      ]
     },
     "metadata": {},
     "execution_count": 5
    }
   ],
   "source": [
    "estatus_data[1:10]"
   ]
  },
  {
   "cell_type": "code",
   "execution_count": 6,
   "metadata": {},
   "outputs": [],
   "source": [
    "altura_data = 160 + 30*np.random.randn(n)\n",
    "altura_data = abs(altura_data.round(2))\n",
    "peso_data = 65 + 25*np.random.randn(n)\n",
    "peso_data = abs(peso_data.round(2))\n",
    "edad_data = 30 + 12*np.random.randn(n)\n",
    "edad_data = abs(edad_data.astype(int))\n",
    "ingresos_data = 18000 + 3500*np.random.randn(n)\n",
    "ingresos_data = abs(ingresos_data.astype(int))"
   ]
  },
  {
   "cell_type": "code",
   "execution_count": 7,
   "metadata": {},
   "outputs": [],
   "source": [
    "data = pd.DataFrame(\n",
    "    {\n",
    "        \"Genero\": genero_data,\n",
    "        \"Estatus\": estatus_data,\n",
    "        \"Altura\": altura_data,\n",
    "        \"Peso\": peso_data,\n",
    "        \"Edad\": edad_data,\n",
    "        \"Ingresos\" : ingresos_data \n",
    "    }\n",
    ")"
   ]
  },
  {
   "cell_type": "code",
   "execution_count": 8,
   "metadata": {},
   "outputs": [
    {
     "output_type": "execute_result",
     "data": {
      "text/plain": [
       "   Genero      Estatus  Altura   Peso  Edad  Ingresos\n",
       "0   Mujer        Bajos  161.19  32.82    15     13636\n",
       "1  Hombre  Clase Media  205.32  78.47    46     22567\n",
       "2  Hombre         Rico  132.39  51.09    26     11789\n",
       "3   Mujer         Rico  164.00   5.16     1     22239\n",
       "4  Hombre  Clase Media  194.25  81.76    36     20515"
      ],
      "text/html": "<div>\n<style scoped>\n    .dataframe tbody tr th:only-of-type {\n        vertical-align: middle;\n    }\n\n    .dataframe tbody tr th {\n        vertical-align: top;\n    }\n\n    .dataframe thead th {\n        text-align: right;\n    }\n</style>\n<table border=\"1\" class=\"dataframe\">\n  <thead>\n    <tr style=\"text-align: right;\">\n      <th></th>\n      <th>Genero</th>\n      <th>Estatus</th>\n      <th>Altura</th>\n      <th>Peso</th>\n      <th>Edad</th>\n      <th>Ingresos</th>\n    </tr>\n  </thead>\n  <tbody>\n    <tr>\n      <th>0</th>\n      <td>Mujer</td>\n      <td>Bajos</td>\n      <td>161.19</td>\n      <td>32.82</td>\n      <td>15</td>\n      <td>13636</td>\n    </tr>\n    <tr>\n      <th>1</th>\n      <td>Hombre</td>\n      <td>Clase Media</td>\n      <td>205.32</td>\n      <td>78.47</td>\n      <td>46</td>\n      <td>22567</td>\n    </tr>\n    <tr>\n      <th>2</th>\n      <td>Hombre</td>\n      <td>Rico</td>\n      <td>132.39</td>\n      <td>51.09</td>\n      <td>26</td>\n      <td>11789</td>\n    </tr>\n    <tr>\n      <th>3</th>\n      <td>Mujer</td>\n      <td>Rico</td>\n      <td>164.00</td>\n      <td>5.16</td>\n      <td>1</td>\n      <td>22239</td>\n    </tr>\n    <tr>\n      <th>4</th>\n      <td>Hombre</td>\n      <td>Clase Media</td>\n      <td>194.25</td>\n      <td>81.76</td>\n      <td>36</td>\n      <td>20515</td>\n    </tr>\n  </tbody>\n</table>\n</div>"
     },
     "metadata": {},
     "execution_count": 8
    }
   ],
   "source": [
    "data.head()"
   ]
  },
  {
   "cell_type": "code",
   "execution_count": 9,
   "metadata": {},
   "outputs": [
    {
     "output_type": "execute_result",
     "data": {
      "text/plain": [
       "           Altura        Peso        Edad      Ingresos\n",
       "count  500.000000  500.000000  500.000000    500.000000\n",
       "mean   161.981580   64.141000   29.120000  18184.932000\n",
       "std     29.276108   25.177645   11.983021   3671.815724\n",
       "min     78.090000    1.390000    1.000000   9349.000000\n",
       "25%    143.390000   48.165000   21.000000  15548.750000\n",
       "50%    162.845000   65.155000   29.000000  18154.500000\n",
       "75%    182.895000   81.190000   37.000000  20718.250000\n",
       "max    240.140000  140.350000   69.000000  28149.000000"
      ],
      "text/html": "<div>\n<style scoped>\n    .dataframe tbody tr th:only-of-type {\n        vertical-align: middle;\n    }\n\n    .dataframe tbody tr th {\n        vertical-align: top;\n    }\n\n    .dataframe thead th {\n        text-align: right;\n    }\n</style>\n<table border=\"1\" class=\"dataframe\">\n  <thead>\n    <tr style=\"text-align: right;\">\n      <th></th>\n      <th>Altura</th>\n      <th>Peso</th>\n      <th>Edad</th>\n      <th>Ingresos</th>\n    </tr>\n  </thead>\n  <tbody>\n    <tr>\n      <th>count</th>\n      <td>500.000000</td>\n      <td>500.000000</td>\n      <td>500.000000</td>\n      <td>500.000000</td>\n    </tr>\n    <tr>\n      <th>mean</th>\n      <td>161.981580</td>\n      <td>64.141000</td>\n      <td>29.120000</td>\n      <td>18184.932000</td>\n    </tr>\n    <tr>\n      <th>std</th>\n      <td>29.276108</td>\n      <td>25.177645</td>\n      <td>11.983021</td>\n      <td>3671.815724</td>\n    </tr>\n    <tr>\n      <th>min</th>\n      <td>78.090000</td>\n      <td>1.390000</td>\n      <td>1.000000</td>\n      <td>9349.000000</td>\n    </tr>\n    <tr>\n      <th>25%</th>\n      <td>143.390000</td>\n      <td>48.165000</td>\n      <td>21.000000</td>\n      <td>15548.750000</td>\n    </tr>\n    <tr>\n      <th>50%</th>\n      <td>162.845000</td>\n      <td>65.155000</td>\n      <td>29.000000</td>\n      <td>18154.500000</td>\n    </tr>\n    <tr>\n      <th>75%</th>\n      <td>182.895000</td>\n      <td>81.190000</td>\n      <td>37.000000</td>\n      <td>20718.250000</td>\n    </tr>\n    <tr>\n      <th>max</th>\n      <td>240.140000</td>\n      <td>140.350000</td>\n      <td>69.000000</td>\n      <td>28149.000000</td>\n    </tr>\n  </tbody>\n</table>\n</div>"
     },
     "metadata": {},
     "execution_count": 9
    }
   ],
   "source": [
    "data.describe()"
   ]
  },
  {
   "source": [
    "## Agrupación de datos"
   ],
   "cell_type": "markdown",
   "metadata": {}
  },
  {
   "cell_type": "code",
   "execution_count": 10,
   "metadata": {},
   "outputs": [
    {
     "output_type": "execute_result",
     "data": {
      "text/plain": [
       "{'Hombre': [1, 2, 4, 5, 6, 7, 8, 9, 11, 12, 13, 15, 16, 18, 21, 22, 23, 27, 29, 32, 33, 35, 36, 37, 39, 41, 42, 44, 45, 46, 47, 50, 51, 54, 55, 59, 63, 64, 67, 69, 75, 81, 82, 84, 86, 90, 92, 96, 97, 100, 105, 109, 110, 114, 116, 117, 118, 119, 120, 123, 126, 129, 131, 132, 135, 137, 138, 139, 142, 144, 145, 147, 148, 152, 157, 158, 162, 163, 164, 165, 166, 167, 168, 171, 172, 174, 175, 176, 177, 178, 182, 187, 188, 191, 192, 193, 194, 195, 200, 201, ...], 'Mujer': [0, 3, 10, 14, 17, 19, 20, 24, 25, 26, 28, 30, 31, 34, 38, 40, 43, 48, 49, 52, 53, 56, 57, 58, 60, 61, 62, 65, 66, 68, 70, 71, 72, 73, 74, 76, 77, 78, 79, 80, 83, 85, 87, 88, 89, 91, 93, 94, 95, 98, 99, 101, 102, 103, 104, 106, 107, 108, 111, 112, 113, 115, 121, 122, 124, 125, 127, 128, 130, 133, 134, 136, 140, 141, 143, 146, 149, 150, 151, 153, 154, 155, 156, 159, 160, 161, 169, 170, 173, 179, 180, 181, 183, 184, 185, 186, 189, 190, 196, 197, ...]}"
      ]
     },
     "metadata": {},
     "execution_count": 10
    }
   ],
   "source": [
    "genero_agrupado = data.groupby(\"Genero\") # Manera de agrupar datos.\n",
    "genero_agrupado.groups"
   ]
  },
  {
   "cell_type": "code",
   "execution_count": 11,
   "metadata": {},
   "outputs": [
    {
     "output_type": "stream",
     "name": "stdout",
     "text": [
      "Hombre\n     Genero      Estatus  Altura   Peso  Edad  Ingresos\n1    Hombre  Clase Media  205.32  78.47    46     22567\n2    Hombre         Rico  132.39  51.09    26     11789\n4    Hombre  Clase Media  194.25  81.76    36     20515\n5    Hombre  Clase Media  189.75  40.98    29     12299\n6    Hombre         Rico  165.15  77.72    34     24285\n..      ...          ...     ...    ...   ...       ...\n483  Hombre  Clase Media  211.41  79.45    32     20214\n486  Hombre        Bajos  219.82  65.48    39     25796\n489  Hombre  Clase Media  219.63  72.17    59     18765\n492  Hombre  Clase Media  142.47  47.04    40     18349\n495  Hombre  Clase Media  151.67  32.07    30     16868\n\n[264 rows x 6 columns]\nMujer\n    Genero      Estatus  Altura    Peso  Edad  Ingresos\n0    Mujer        Bajos  161.19   32.82    15     13636\n3    Mujer         Rico  164.00    5.16     1     22239\n10   Mujer         Rico  188.33   52.93    35     21259\n14   Mujer  Clase Media  167.10   57.14    16     17805\n17   Mujer        Bajos  212.76   28.86    17     12465\n..     ...          ...     ...     ...   ...       ...\n494  Mujer         Rico  146.75   71.21    49     22299\n496  Mujer         Rico  174.05   68.40    44     14396\n497  Mujer        Bajos  201.25   55.57    40     21546\n498  Mujer        Bajos  129.18   94.22    19     17919\n499  Mujer         Rico  181.68  115.74     6     12392\n\n[236 rows x 6 columns]\n"
     ]
    }
   ],
   "source": [
    "for nombres,grupos in genero_agrupado:\n",
    "    print(nombres)\n",
    "    print(grupos)"
   ]
  },
  {
   "cell_type": "code",
   "execution_count": 12,
   "metadata": {},
   "outputs": [
    {
     "output_type": "execute_result",
     "data": {
      "text/plain": [
       "    Genero      Estatus  Altura    Peso  Edad  Ingresos\n",
       "0    Mujer        Bajos  161.19   32.82    15     13636\n",
       "3    Mujer         Rico  164.00    5.16     1     22239\n",
       "10   Mujer         Rico  188.33   52.93    35     21259\n",
       "14   Mujer  Clase Media  167.10   57.14    16     17805\n",
       "17   Mujer        Bajos  212.76   28.86    17     12465\n",
       "..     ...          ...     ...     ...   ...       ...\n",
       "494  Mujer         Rico  146.75   71.21    49     22299\n",
       "496  Mujer         Rico  174.05   68.40    44     14396\n",
       "497  Mujer        Bajos  201.25   55.57    40     21546\n",
       "498  Mujer        Bajos  129.18   94.22    19     17919\n",
       "499  Mujer         Rico  181.68  115.74     6     12392\n",
       "\n",
       "[236 rows x 6 columns]"
      ],
      "text/html": "<div>\n<style scoped>\n    .dataframe tbody tr th:only-of-type {\n        vertical-align: middle;\n    }\n\n    .dataframe tbody tr th {\n        vertical-align: top;\n    }\n\n    .dataframe thead th {\n        text-align: right;\n    }\n</style>\n<table border=\"1\" class=\"dataframe\">\n  <thead>\n    <tr style=\"text-align: right;\">\n      <th></th>\n      <th>Genero</th>\n      <th>Estatus</th>\n      <th>Altura</th>\n      <th>Peso</th>\n      <th>Edad</th>\n      <th>Ingresos</th>\n    </tr>\n  </thead>\n  <tbody>\n    <tr>\n      <th>0</th>\n      <td>Mujer</td>\n      <td>Bajos</td>\n      <td>161.19</td>\n      <td>32.82</td>\n      <td>15</td>\n      <td>13636</td>\n    </tr>\n    <tr>\n      <th>3</th>\n      <td>Mujer</td>\n      <td>Rico</td>\n      <td>164.00</td>\n      <td>5.16</td>\n      <td>1</td>\n      <td>22239</td>\n    </tr>\n    <tr>\n      <th>10</th>\n      <td>Mujer</td>\n      <td>Rico</td>\n      <td>188.33</td>\n      <td>52.93</td>\n      <td>35</td>\n      <td>21259</td>\n    </tr>\n    <tr>\n      <th>14</th>\n      <td>Mujer</td>\n      <td>Clase Media</td>\n      <td>167.10</td>\n      <td>57.14</td>\n      <td>16</td>\n      <td>17805</td>\n    </tr>\n    <tr>\n      <th>17</th>\n      <td>Mujer</td>\n      <td>Bajos</td>\n      <td>212.76</td>\n      <td>28.86</td>\n      <td>17</td>\n      <td>12465</td>\n    </tr>\n    <tr>\n      <th>...</th>\n      <td>...</td>\n      <td>...</td>\n      <td>...</td>\n      <td>...</td>\n      <td>...</td>\n      <td>...</td>\n    </tr>\n    <tr>\n      <th>494</th>\n      <td>Mujer</td>\n      <td>Rico</td>\n      <td>146.75</td>\n      <td>71.21</td>\n      <td>49</td>\n      <td>22299</td>\n    </tr>\n    <tr>\n      <th>496</th>\n      <td>Mujer</td>\n      <td>Rico</td>\n      <td>174.05</td>\n      <td>68.40</td>\n      <td>44</td>\n      <td>14396</td>\n    </tr>\n    <tr>\n      <th>497</th>\n      <td>Mujer</td>\n      <td>Bajos</td>\n      <td>201.25</td>\n      <td>55.57</td>\n      <td>40</td>\n      <td>21546</td>\n    </tr>\n    <tr>\n      <th>498</th>\n      <td>Mujer</td>\n      <td>Bajos</td>\n      <td>129.18</td>\n      <td>94.22</td>\n      <td>19</td>\n      <td>17919</td>\n    </tr>\n    <tr>\n      <th>499</th>\n      <td>Mujer</td>\n      <td>Rico</td>\n      <td>181.68</td>\n      <td>115.74</td>\n      <td>6</td>\n      <td>12392</td>\n    </tr>\n  </tbody>\n</table>\n<p>236 rows × 6 columns</p>\n</div>"
     },
     "metadata": {},
     "execution_count": 12
    }
   ],
   "source": [
    "genero_agrupado.get_group(\"Mujer\")"
   ]
  },
  {
   "cell_type": "code",
   "execution_count": 13,
   "metadata": {},
   "outputs": [],
   "source": [
    "doble_agrupacion = data.groupby([\"Genero\", \"Estatus\"]) # Manera de agrupar datos, por dos parámetros"
   ]
  },
  {
   "cell_type": "code",
   "execution_count": 14,
   "metadata": {},
   "outputs": [
    {
     "output_type": "stream",
     "name": "stdout",
     "text": [
      "('Hombre', 'Bajos')\n     Genero Estatus  Altura   Peso  Edad  Ingresos\n7    Hombre   Bajos  166.00  91.65    37     19989\n13   Hombre   Bajos  136.05  90.61    25     22437\n15   Hombre   Bajos  138.12  24.49    24     19905\n22   Hombre   Bajos  207.47  90.05    42     14525\n32   Hombre   Bajos  167.00   1.39    33     15425\n..      ...     ...     ...    ...   ...       ...\n455  Hombre   Bajos  155.34  52.14    12     15260\n456  Hombre   Bajos  117.42  73.15    34     19834\n461  Hombre   Bajos  194.35  78.90    36     17554\n480  Hombre   Bajos  202.60  65.38    27     19309\n486  Hombre   Bajos  219.82  65.48    39     25796\n\n[90 rows x 6 columns]\n('Hombre', 'Clase Media')\n     Genero      Estatus  Altura    Peso  Edad  Ingresos\n1    Hombre  Clase Media  205.32   78.47    46     22567\n4    Hombre  Clase Media  194.25   81.76    36     20515\n5    Hombre  Clase Media  189.75   40.98    29     12299\n9    Hombre  Clase Media  146.86   48.66     3     21376\n11   Hombre  Clase Media  125.13   76.47    23     24191\n..      ...          ...     ...     ...   ...       ...\n482  Hombre  Clase Media  217.72  132.33    33     22834\n483  Hombre  Clase Media  211.41   79.45    32     20214\n489  Hombre  Clase Media  219.63   72.17    59     18765\n492  Hombre  Clase Media  142.47   47.04    40     18349\n495  Hombre  Clase Media  151.67   32.07    30     16868\n\n[97 rows x 6 columns]\n('Hombre', 'Rico')\n     Genero Estatus  Altura    Peso  Edad  Ingresos\n2    Hombre    Rico  132.39   51.09    26     11789\n6    Hombre    Rico  165.15   77.72    34     24285\n8    Hombre    Rico  149.93   56.14    29     20507\n12   Hombre    Rico  143.27  104.51    34     20302\n21   Hombre    Rico  194.25   62.25    16     10998\n..      ...     ...     ...     ...   ...       ...\n459  Hombre    Rico  115.65   46.93    16     20505\n466  Hombre    Rico  142.25   93.36    29     13275\n467  Hombre    Rico  144.57   57.00    18     16757\n475  Hombre    Rico   84.92   28.12    30     20622\n481  Hombre    Rico  171.89   65.21    17     15399\n\n[77 rows x 6 columns]\n('Mujer', 'Bajos')\n    Genero Estatus  Altura    Peso  Edad  Ingresos\n0    Mujer   Bajos  161.19   32.82    15     13636\n17   Mujer   Bajos  212.76   28.86    17     12465\n24   Mujer   Bajos  135.05   91.75    29     21500\n26   Mujer   Bajos  187.81   71.51    42     20429\n40   Mujer   Bajos  152.68   85.10     8     24345\n..     ...     ...     ...     ...   ...       ...\n476  Mujer   Bajos  154.96   76.34    41     18793\n477  Mujer   Bajos  150.26   54.33    25     13910\n488  Mujer   Bajos  164.62  134.40    58     17393\n497  Mujer   Bajos  201.25   55.57    40     21546\n498  Mujer   Bajos  129.18   94.22    19     17919\n\n[78 rows x 6 columns]\n('Mujer', 'Clase Media')\n    Genero      Estatus  Altura   Peso  Edad  Ingresos\n14   Mujer  Clase Media  167.10  57.14    16     17805\n19   Mujer  Clase Media  131.98  23.71    17     21875\n20   Mujer  Clase Media  118.03  76.58    15     14780\n25   Mujer  Clase Media  192.14  47.39    49     24209\n30   Mujer  Clase Media  191.95  85.15    35     18139\n..     ...          ...     ...    ...   ...       ...\n484  Mujer  Clase Media  191.44  40.17    21     20588\n485  Mujer  Clase Media  136.23  37.50    44     18963\n487  Mujer  Clase Media  158.71  66.32    47     16048\n490  Mujer  Clase Media  158.73  70.82    14     11231\n491  Mujer  Clase Media  143.43  44.22    17     21692\n\n[83 rows x 6 columns]\n('Mujer', 'Rico')\n    Genero Estatus  Altura    Peso  Edad  Ingresos\n3    Mujer    Rico  164.00    5.16     1     22239\n10   Mujer    Rico  188.33   52.93    35     21259\n28   Mujer    Rico  207.03   49.59    32     22599\n38   Mujer    Rico  107.24   72.82    27     16087\n48   Mujer    Rico  179.98   79.47    34     19328\n..     ...     ...     ...     ...   ...       ...\n472  Mujer    Rico  149.48   87.49    31     13773\n493  Mujer    Rico  148.62   85.97    25     18731\n494  Mujer    Rico  146.75   71.21    49     22299\n496  Mujer    Rico  174.05   68.40    44     14396\n499  Mujer    Rico  181.68  115.74     6     12392\n\n[75 rows x 6 columns]\n"
     ]
    }
   ],
   "source": [
    "for nombres,grupos in doble_agrupacion:\n",
    "    print(nombres)\n",
    "    print(grupos)"
   ]
  },
  {
   "cell_type": "code",
   "execution_count": 15,
   "metadata": {},
   "outputs": [
    {
     "output_type": "execute_result",
     "data": {
      "text/plain": [
       "     Genero Estatus  Altura   Peso  Edad  Ingresos\n",
       "7    Hombre   Bajos  166.00  91.65    37     19989\n",
       "13   Hombre   Bajos  136.05  90.61    25     22437\n",
       "15   Hombre   Bajos  138.12  24.49    24     19905\n",
       "22   Hombre   Bajos  207.47  90.05    42     14525\n",
       "32   Hombre   Bajos  167.00   1.39    33     15425\n",
       "..      ...     ...     ...    ...   ...       ...\n",
       "455  Hombre   Bajos  155.34  52.14    12     15260\n",
       "456  Hombre   Bajos  117.42  73.15    34     19834\n",
       "461  Hombre   Bajos  194.35  78.90    36     17554\n",
       "480  Hombre   Bajos  202.60  65.38    27     19309\n",
       "486  Hombre   Bajos  219.82  65.48    39     25796\n",
       "\n",
       "[90 rows x 6 columns]"
      ],
      "text/html": "<div>\n<style scoped>\n    .dataframe tbody tr th:only-of-type {\n        vertical-align: middle;\n    }\n\n    .dataframe tbody tr th {\n        vertical-align: top;\n    }\n\n    .dataframe thead th {\n        text-align: right;\n    }\n</style>\n<table border=\"1\" class=\"dataframe\">\n  <thead>\n    <tr style=\"text-align: right;\">\n      <th></th>\n      <th>Genero</th>\n      <th>Estatus</th>\n      <th>Altura</th>\n      <th>Peso</th>\n      <th>Edad</th>\n      <th>Ingresos</th>\n    </tr>\n  </thead>\n  <tbody>\n    <tr>\n      <th>7</th>\n      <td>Hombre</td>\n      <td>Bajos</td>\n      <td>166.00</td>\n      <td>91.65</td>\n      <td>37</td>\n      <td>19989</td>\n    </tr>\n    <tr>\n      <th>13</th>\n      <td>Hombre</td>\n      <td>Bajos</td>\n      <td>136.05</td>\n      <td>90.61</td>\n      <td>25</td>\n      <td>22437</td>\n    </tr>\n    <tr>\n      <th>15</th>\n      <td>Hombre</td>\n      <td>Bajos</td>\n      <td>138.12</td>\n      <td>24.49</td>\n      <td>24</td>\n      <td>19905</td>\n    </tr>\n    <tr>\n      <th>22</th>\n      <td>Hombre</td>\n      <td>Bajos</td>\n      <td>207.47</td>\n      <td>90.05</td>\n      <td>42</td>\n      <td>14525</td>\n    </tr>\n    <tr>\n      <th>32</th>\n      <td>Hombre</td>\n      <td>Bajos</td>\n      <td>167.00</td>\n      <td>1.39</td>\n      <td>33</td>\n      <td>15425</td>\n    </tr>\n    <tr>\n      <th>...</th>\n      <td>...</td>\n      <td>...</td>\n      <td>...</td>\n      <td>...</td>\n      <td>...</td>\n      <td>...</td>\n    </tr>\n    <tr>\n      <th>455</th>\n      <td>Hombre</td>\n      <td>Bajos</td>\n      <td>155.34</td>\n      <td>52.14</td>\n      <td>12</td>\n      <td>15260</td>\n    </tr>\n    <tr>\n      <th>456</th>\n      <td>Hombre</td>\n      <td>Bajos</td>\n      <td>117.42</td>\n      <td>73.15</td>\n      <td>34</td>\n      <td>19834</td>\n    </tr>\n    <tr>\n      <th>461</th>\n      <td>Hombre</td>\n      <td>Bajos</td>\n      <td>194.35</td>\n      <td>78.90</td>\n      <td>36</td>\n      <td>17554</td>\n    </tr>\n    <tr>\n      <th>480</th>\n      <td>Hombre</td>\n      <td>Bajos</td>\n      <td>202.60</td>\n      <td>65.38</td>\n      <td>27</td>\n      <td>19309</td>\n    </tr>\n    <tr>\n      <th>486</th>\n      <td>Hombre</td>\n      <td>Bajos</td>\n      <td>219.82</td>\n      <td>65.48</td>\n      <td>39</td>\n      <td>25796</td>\n    </tr>\n  </tbody>\n</table>\n<p>90 rows × 6 columns</p>\n</div>"
     },
     "metadata": {},
     "execution_count": 15
    }
   ],
   "source": [
    "doble_agrupacion.get_group(('Hombre', 'Bajos')) # Manera de obtener alguna agrupación"
   ]
  },
  {
   "source": [
    "## Operaciones sobre datos agrupados"
   ],
   "cell_type": "markdown",
   "metadata": {}
  },
  {
   "cell_type": "code",
   "execution_count": 16,
   "metadata": {},
   "outputs": [
    {
     "output_type": "execute_result",
     "data": {
      "text/plain": [
       "                      Altura     Peso  Edad  Ingresos\n",
       "Genero Estatus                                       \n",
       "Hombre Bajos        15140.10  5516.45  2628   1661770\n",
       "       Clase Media  16114.00  5831.71  2882   1786140\n",
       "       Rico         12476.44  5239.85  2227   1400163\n",
       "Mujer  Bajos        12378.38  5029.41  2342   1385240\n",
       "       Clase Media  13128.88  5412.35  2259   1510911\n",
       "       Rico         11752.99  5040.73  2222   1348242"
      ],
      "text/html": "<div>\n<style scoped>\n    .dataframe tbody tr th:only-of-type {\n        vertical-align: middle;\n    }\n\n    .dataframe tbody tr th {\n        vertical-align: top;\n    }\n\n    .dataframe thead th {\n        text-align: right;\n    }\n</style>\n<table border=\"1\" class=\"dataframe\">\n  <thead>\n    <tr style=\"text-align: right;\">\n      <th></th>\n      <th></th>\n      <th>Altura</th>\n      <th>Peso</th>\n      <th>Edad</th>\n      <th>Ingresos</th>\n    </tr>\n    <tr>\n      <th>Genero</th>\n      <th>Estatus</th>\n      <th></th>\n      <th></th>\n      <th></th>\n      <th></th>\n    </tr>\n  </thead>\n  <tbody>\n    <tr>\n      <th rowspan=\"3\" valign=\"top\">Hombre</th>\n      <th>Bajos</th>\n      <td>15140.10</td>\n      <td>5516.45</td>\n      <td>2628</td>\n      <td>1661770</td>\n    </tr>\n    <tr>\n      <th>Clase Media</th>\n      <td>16114.00</td>\n      <td>5831.71</td>\n      <td>2882</td>\n      <td>1786140</td>\n    </tr>\n    <tr>\n      <th>Rico</th>\n      <td>12476.44</td>\n      <td>5239.85</td>\n      <td>2227</td>\n      <td>1400163</td>\n    </tr>\n    <tr>\n      <th rowspan=\"3\" valign=\"top\">Mujer</th>\n      <th>Bajos</th>\n      <td>12378.38</td>\n      <td>5029.41</td>\n      <td>2342</td>\n      <td>1385240</td>\n    </tr>\n    <tr>\n      <th>Clase Media</th>\n      <td>13128.88</td>\n      <td>5412.35</td>\n      <td>2259</td>\n      <td>1510911</td>\n    </tr>\n    <tr>\n      <th>Rico</th>\n      <td>11752.99</td>\n      <td>5040.73</td>\n      <td>2222</td>\n      <td>1348242</td>\n    </tr>\n  </tbody>\n</table>\n</div>"
     },
     "metadata": {},
     "execution_count": 16
    }
   ],
   "source": [
    "doble_agrupacion.sum()"
   ]
  },
  {
   "cell_type": "code",
   "execution_count": 17,
   "metadata": {},
   "outputs": [
    {
     "output_type": "execute_result",
     "data": {
      "text/plain": [
       "                        Altura       Peso       Edad      Ingresos\n",
       "Genero Estatus                                                    \n",
       "Hombre Bajos        168.223333  61.293889  29.200000  18464.111111\n",
       "       Clase Media  166.123711  60.120722  29.711340  18413.814433\n",
       "       Rico         162.031688  68.050000  28.922078  18183.935065\n",
       "Mujer  Bajos        158.697179  64.479615  30.025641  17759.487179\n",
       "       Clase Media  158.179277  65.209036  27.216867  18203.746988\n",
       "       Rico         156.706533  67.209733  29.626667  17976.560000"
      ],
      "text/html": "<div>\n<style scoped>\n    .dataframe tbody tr th:only-of-type {\n        vertical-align: middle;\n    }\n\n    .dataframe tbody tr th {\n        vertical-align: top;\n    }\n\n    .dataframe thead th {\n        text-align: right;\n    }\n</style>\n<table border=\"1\" class=\"dataframe\">\n  <thead>\n    <tr style=\"text-align: right;\">\n      <th></th>\n      <th></th>\n      <th>Altura</th>\n      <th>Peso</th>\n      <th>Edad</th>\n      <th>Ingresos</th>\n    </tr>\n    <tr>\n      <th>Genero</th>\n      <th>Estatus</th>\n      <th></th>\n      <th></th>\n      <th></th>\n      <th></th>\n    </tr>\n  </thead>\n  <tbody>\n    <tr>\n      <th rowspan=\"3\" valign=\"top\">Hombre</th>\n      <th>Bajos</th>\n      <td>168.223333</td>\n      <td>61.293889</td>\n      <td>29.200000</td>\n      <td>18464.111111</td>\n    </tr>\n    <tr>\n      <th>Clase Media</th>\n      <td>166.123711</td>\n      <td>60.120722</td>\n      <td>29.711340</td>\n      <td>18413.814433</td>\n    </tr>\n    <tr>\n      <th>Rico</th>\n      <td>162.031688</td>\n      <td>68.050000</td>\n      <td>28.922078</td>\n      <td>18183.935065</td>\n    </tr>\n    <tr>\n      <th rowspan=\"3\" valign=\"top\">Mujer</th>\n      <th>Bajos</th>\n      <td>158.697179</td>\n      <td>64.479615</td>\n      <td>30.025641</td>\n      <td>17759.487179</td>\n    </tr>\n    <tr>\n      <th>Clase Media</th>\n      <td>158.179277</td>\n      <td>65.209036</td>\n      <td>27.216867</td>\n      <td>18203.746988</td>\n    </tr>\n    <tr>\n      <th>Rico</th>\n      <td>156.706533</td>\n      <td>67.209733</td>\n      <td>29.626667</td>\n      <td>17976.560000</td>\n    </tr>\n  </tbody>\n</table>\n</div>"
     },
     "metadata": {},
     "execution_count": 17
    }
   ],
   "source": [
    "doble_agrupacion.mean()"
   ]
  },
  {
   "cell_type": "code",
   "execution_count": 18,
   "metadata": {},
   "outputs": [
    {
     "output_type": "execute_result",
     "data": {
      "text/plain": [
       "Genero  Estatus    \n",
       "Hombre  Bajos          90\n",
       "        Clase Media    97\n",
       "        Rico           77\n",
       "Mujer   Bajos          78\n",
       "        Clase Media    83\n",
       "        Rico           75\n",
       "dtype: int64"
      ]
     },
     "metadata": {},
     "execution_count": 18
    }
   ],
   "source": [
    "doble_agrupacion.size()"
   ]
  },
  {
   "cell_type": "code",
   "execution_count": 19,
   "metadata": {},
   "outputs": [
    {
     "output_type": "execute_result",
     "data": {
      "text/plain": [
       "                   Altura                                                  \\\n",
       "                    count        mean        std    min       25%     50%   \n",
       "Genero Estatus                                                              \n",
       "Hombre Bajos         90.0  168.223333  29.454908  95.20  146.3400  166.38   \n",
       "       Clase Media   97.0  166.123711  31.091581  78.09  145.3900  169.77   \n",
       "       Rico          77.0  162.031688  28.505813  84.92  146.3600  161.40   \n",
       "Mujer  Bajos         78.0  158.697179  27.487008  95.06  134.6675  157.02   \n",
       "       Clase Media   83.0  158.179277  28.326900  86.48  138.0650  160.13   \n",
       "       Rico          75.0  156.706533  29.094711  87.98  140.3600  157.92   \n",
       "\n",
       "                                     Peso             ...  Edad        \\\n",
       "                        75%     max count       mean  ...   75%   max   \n",
       "Genero Estatus                                        ...               \n",
       "Hombre Bajos        189.595  237.20  90.0  61.293889  ...  38.0  69.0   \n",
       "       Clase Media  189.640  235.06  97.0  60.120722  ...  36.0  66.0   \n",
       "       Rico         179.000  230.87  77.0  68.050000  ...  34.0  59.0   \n",
       "Mujer  Bajos        182.735  212.76  78.0  64.479615  ...  39.0  59.0   \n",
       "       Clase Media  176.775  213.59  83.0  65.209036  ...  36.5  55.0   \n",
       "       Rico         176.800  240.14  75.0  67.209733  ...  37.5  53.0   \n",
       "\n",
       "                   Ingresos                                                \\\n",
       "                      count          mean          std      min       25%   \n",
       "Genero Estatus                                                              \n",
       "Hombre Bajos           90.0  18464.111111  3194.210868  10603.0  16307.00   \n",
       "       Clase Media     97.0  18413.814433  3648.913141   9483.0  16168.00   \n",
       "       Rico            77.0  18183.935065  4036.352279   9349.0  14803.00   \n",
       "Mujer  Bajos           78.0  17759.487179  3688.038953  10368.0  15151.75   \n",
       "       Clase Media     83.0  18203.746988  3998.663054   9570.0  15573.00   \n",
       "       Rico            75.0  17976.560000  3516.788835  10212.0  15940.00   \n",
       "\n",
       "                                                \n",
       "                        50%       75%      max  \n",
       "Genero Estatus                                  \n",
       "Hombre Bajos        18578.5  20414.25  27177.0  \n",
       "       Clase Media  18114.0  21043.00  26465.0  \n",
       "       Rico         18627.0  20782.00  28149.0  \n",
       "Mujer  Bajos        17615.0  20587.25  27002.0  \n",
       "       Clase Media  18139.0  21231.50  27888.0  \n",
       "       Rico         17638.0  20441.50  26865.0  \n",
       "\n",
       "[6 rows x 32 columns]"
      ],
      "text/html": "<div>\n<style scoped>\n    .dataframe tbody tr th:only-of-type {\n        vertical-align: middle;\n    }\n\n    .dataframe tbody tr th {\n        vertical-align: top;\n    }\n\n    .dataframe thead tr th {\n        text-align: left;\n    }\n\n    .dataframe thead tr:last-of-type th {\n        text-align: right;\n    }\n</style>\n<table border=\"1\" class=\"dataframe\">\n  <thead>\n    <tr>\n      <th></th>\n      <th></th>\n      <th colspan=\"8\" halign=\"left\">Altura</th>\n      <th colspan=\"2\" halign=\"left\">Peso</th>\n      <th>...</th>\n      <th colspan=\"2\" halign=\"left\">Edad</th>\n      <th colspan=\"8\" halign=\"left\">Ingresos</th>\n    </tr>\n    <tr>\n      <th></th>\n      <th></th>\n      <th>count</th>\n      <th>mean</th>\n      <th>std</th>\n      <th>min</th>\n      <th>25%</th>\n      <th>50%</th>\n      <th>75%</th>\n      <th>max</th>\n      <th>count</th>\n      <th>mean</th>\n      <th>...</th>\n      <th>75%</th>\n      <th>max</th>\n      <th>count</th>\n      <th>mean</th>\n      <th>std</th>\n      <th>min</th>\n      <th>25%</th>\n      <th>50%</th>\n      <th>75%</th>\n      <th>max</th>\n    </tr>\n    <tr>\n      <th>Genero</th>\n      <th>Estatus</th>\n      <th></th>\n      <th></th>\n      <th></th>\n      <th></th>\n      <th></th>\n      <th></th>\n      <th></th>\n      <th></th>\n      <th></th>\n      <th></th>\n      <th></th>\n      <th></th>\n      <th></th>\n      <th></th>\n      <th></th>\n      <th></th>\n      <th></th>\n      <th></th>\n      <th></th>\n      <th></th>\n      <th></th>\n    </tr>\n  </thead>\n  <tbody>\n    <tr>\n      <th rowspan=\"3\" valign=\"top\">Hombre</th>\n      <th>Bajos</th>\n      <td>90.0</td>\n      <td>168.223333</td>\n      <td>29.454908</td>\n      <td>95.20</td>\n      <td>146.3400</td>\n      <td>166.38</td>\n      <td>189.595</td>\n      <td>237.20</td>\n      <td>90.0</td>\n      <td>61.293889</td>\n      <td>...</td>\n      <td>38.0</td>\n      <td>69.0</td>\n      <td>90.0</td>\n      <td>18464.111111</td>\n      <td>3194.210868</td>\n      <td>10603.0</td>\n      <td>16307.00</td>\n      <td>18578.5</td>\n      <td>20414.25</td>\n      <td>27177.0</td>\n    </tr>\n    <tr>\n      <th>Clase Media</th>\n      <td>97.0</td>\n      <td>166.123711</td>\n      <td>31.091581</td>\n      <td>78.09</td>\n      <td>145.3900</td>\n      <td>169.77</td>\n      <td>189.640</td>\n      <td>235.06</td>\n      <td>97.0</td>\n      <td>60.120722</td>\n      <td>...</td>\n      <td>36.0</td>\n      <td>66.0</td>\n      <td>97.0</td>\n      <td>18413.814433</td>\n      <td>3648.913141</td>\n      <td>9483.0</td>\n      <td>16168.00</td>\n      <td>18114.0</td>\n      <td>21043.00</td>\n      <td>26465.0</td>\n    </tr>\n    <tr>\n      <th>Rico</th>\n      <td>77.0</td>\n      <td>162.031688</td>\n      <td>28.505813</td>\n      <td>84.92</td>\n      <td>146.3600</td>\n      <td>161.40</td>\n      <td>179.000</td>\n      <td>230.87</td>\n      <td>77.0</td>\n      <td>68.050000</td>\n      <td>...</td>\n      <td>34.0</td>\n      <td>59.0</td>\n      <td>77.0</td>\n      <td>18183.935065</td>\n      <td>4036.352279</td>\n      <td>9349.0</td>\n      <td>14803.00</td>\n      <td>18627.0</td>\n      <td>20782.00</td>\n      <td>28149.0</td>\n    </tr>\n    <tr>\n      <th rowspan=\"3\" valign=\"top\">Mujer</th>\n      <th>Bajos</th>\n      <td>78.0</td>\n      <td>158.697179</td>\n      <td>27.487008</td>\n      <td>95.06</td>\n      <td>134.6675</td>\n      <td>157.02</td>\n      <td>182.735</td>\n      <td>212.76</td>\n      <td>78.0</td>\n      <td>64.479615</td>\n      <td>...</td>\n      <td>39.0</td>\n      <td>59.0</td>\n      <td>78.0</td>\n      <td>17759.487179</td>\n      <td>3688.038953</td>\n      <td>10368.0</td>\n      <td>15151.75</td>\n      <td>17615.0</td>\n      <td>20587.25</td>\n      <td>27002.0</td>\n    </tr>\n    <tr>\n      <th>Clase Media</th>\n      <td>83.0</td>\n      <td>158.179277</td>\n      <td>28.326900</td>\n      <td>86.48</td>\n      <td>138.0650</td>\n      <td>160.13</td>\n      <td>176.775</td>\n      <td>213.59</td>\n      <td>83.0</td>\n      <td>65.209036</td>\n      <td>...</td>\n      <td>36.5</td>\n      <td>55.0</td>\n      <td>83.0</td>\n      <td>18203.746988</td>\n      <td>3998.663054</td>\n      <td>9570.0</td>\n      <td>15573.00</td>\n      <td>18139.0</td>\n      <td>21231.50</td>\n      <td>27888.0</td>\n    </tr>\n    <tr>\n      <th>Rico</th>\n      <td>75.0</td>\n      <td>156.706533</td>\n      <td>29.094711</td>\n      <td>87.98</td>\n      <td>140.3600</td>\n      <td>157.92</td>\n      <td>176.800</td>\n      <td>240.14</td>\n      <td>75.0</td>\n      <td>67.209733</td>\n      <td>...</td>\n      <td>37.5</td>\n      <td>53.0</td>\n      <td>75.0</td>\n      <td>17976.560000</td>\n      <td>3516.788835</td>\n      <td>10212.0</td>\n      <td>15940.00</td>\n      <td>17638.0</td>\n      <td>20441.50</td>\n      <td>26865.0</td>\n    </tr>\n  </tbody>\n</table>\n<p>6 rows × 32 columns</p>\n</div>"
     },
     "metadata": {},
     "execution_count": 19
    }
   ],
   "source": [
    "doble_agrupacion.describe()"
   ]
  },
  {
   "cell_type": "code",
   "execution_count": 20,
   "metadata": {},
   "outputs": [],
   "source": [
    "doble_agrupacion_ingresos = doble_agrupacion[\"Ingresos\"]"
   ]
  },
  {
   "cell_type": "code",
   "execution_count": 21,
   "metadata": {},
   "outputs": [
    {
     "output_type": "execute_result",
     "data": {
      "text/plain": [
       "                    count          mean          std      min       25%  \\\n",
       "Genero Estatus                                                            \n",
       "Hombre Bajos         90.0  18464.111111  3194.210868  10603.0  16307.00   \n",
       "       Clase Media   97.0  18413.814433  3648.913141   9483.0  16168.00   \n",
       "       Rico          77.0  18183.935065  4036.352279   9349.0  14803.00   \n",
       "Mujer  Bajos         78.0  17759.487179  3688.038953  10368.0  15151.75   \n",
       "       Clase Media   83.0  18203.746988  3998.663054   9570.0  15573.00   \n",
       "       Rico          75.0  17976.560000  3516.788835  10212.0  15940.00   \n",
       "\n",
       "                        50%       75%      max  \n",
       "Genero Estatus                                  \n",
       "Hombre Bajos        18578.5  20414.25  27177.0  \n",
       "       Clase Media  18114.0  21043.00  26465.0  \n",
       "       Rico         18627.0  20782.00  28149.0  \n",
       "Mujer  Bajos        17615.0  20587.25  27002.0  \n",
       "       Clase Media  18139.0  21231.50  27888.0  \n",
       "       Rico         17638.0  20441.50  26865.0  "
      ],
      "text/html": "<div>\n<style scoped>\n    .dataframe tbody tr th:only-of-type {\n        vertical-align: middle;\n    }\n\n    .dataframe tbody tr th {\n        vertical-align: top;\n    }\n\n    .dataframe thead th {\n        text-align: right;\n    }\n</style>\n<table border=\"1\" class=\"dataframe\">\n  <thead>\n    <tr style=\"text-align: right;\">\n      <th></th>\n      <th></th>\n      <th>count</th>\n      <th>mean</th>\n      <th>std</th>\n      <th>min</th>\n      <th>25%</th>\n      <th>50%</th>\n      <th>75%</th>\n      <th>max</th>\n    </tr>\n    <tr>\n      <th>Genero</th>\n      <th>Estatus</th>\n      <th></th>\n      <th></th>\n      <th></th>\n      <th></th>\n      <th></th>\n      <th></th>\n      <th></th>\n      <th></th>\n    </tr>\n  </thead>\n  <tbody>\n    <tr>\n      <th rowspan=\"3\" valign=\"top\">Hombre</th>\n      <th>Bajos</th>\n      <td>90.0</td>\n      <td>18464.111111</td>\n      <td>3194.210868</td>\n      <td>10603.0</td>\n      <td>16307.00</td>\n      <td>18578.5</td>\n      <td>20414.25</td>\n      <td>27177.0</td>\n    </tr>\n    <tr>\n      <th>Clase Media</th>\n      <td>97.0</td>\n      <td>18413.814433</td>\n      <td>3648.913141</td>\n      <td>9483.0</td>\n      <td>16168.00</td>\n      <td>18114.0</td>\n      <td>21043.00</td>\n      <td>26465.0</td>\n    </tr>\n    <tr>\n      <th>Rico</th>\n      <td>77.0</td>\n      <td>18183.935065</td>\n      <td>4036.352279</td>\n      <td>9349.0</td>\n      <td>14803.00</td>\n      <td>18627.0</td>\n      <td>20782.00</td>\n      <td>28149.0</td>\n    </tr>\n    <tr>\n      <th rowspan=\"3\" valign=\"top\">Mujer</th>\n      <th>Bajos</th>\n      <td>78.0</td>\n      <td>17759.487179</td>\n      <td>3688.038953</td>\n      <td>10368.0</td>\n      <td>15151.75</td>\n      <td>17615.0</td>\n      <td>20587.25</td>\n      <td>27002.0</td>\n    </tr>\n    <tr>\n      <th>Clase Media</th>\n      <td>83.0</td>\n      <td>18203.746988</td>\n      <td>3998.663054</td>\n      <td>9570.0</td>\n      <td>15573.00</td>\n      <td>18139.0</td>\n      <td>21231.50</td>\n      <td>27888.0</td>\n    </tr>\n    <tr>\n      <th>Rico</th>\n      <td>75.0</td>\n      <td>17976.560000</td>\n      <td>3516.788835</td>\n      <td>10212.0</td>\n      <td>15940.00</td>\n      <td>17638.0</td>\n      <td>20441.50</td>\n      <td>26865.0</td>\n    </tr>\n  </tbody>\n</table>\n</div>"
     },
     "metadata": {},
     "execution_count": 21
    }
   ],
   "source": [
    "doble_agrupacion_ingresos.describe()"
   ]
  },
  {
   "cell_type": "code",
   "execution_count": 22,
   "metadata": {},
   "outputs": [
    {
     "output_type": "execute_result",
     "data": {
      "text/plain": [
       "                    Ingresos       Edad     Altura\n",
       "Genero Estatus                                    \n",
       "Hombre Bajos         1661770  29.200000  29.454908\n",
       "       Clase Media   1786140  29.711340  31.091581\n",
       "       Rico          1400163  28.922078  28.505813\n",
       "Mujer  Bajos         1385240  30.025641  27.487008\n",
       "       Clase Media   1510911  27.216867  28.326900\n",
       "       Rico          1348242  29.626667  29.094711"
      ],
      "text/html": "<div>\n<style scoped>\n    .dataframe tbody tr th:only-of-type {\n        vertical-align: middle;\n    }\n\n    .dataframe tbody tr th {\n        vertical-align: top;\n    }\n\n    .dataframe thead th {\n        text-align: right;\n    }\n</style>\n<table border=\"1\" class=\"dataframe\">\n  <thead>\n    <tr style=\"text-align: right;\">\n      <th></th>\n      <th></th>\n      <th>Ingresos</th>\n      <th>Edad</th>\n      <th>Altura</th>\n    </tr>\n    <tr>\n      <th>Genero</th>\n      <th>Estatus</th>\n      <th></th>\n      <th></th>\n      <th></th>\n    </tr>\n  </thead>\n  <tbody>\n    <tr>\n      <th rowspan=\"3\" valign=\"top\">Hombre</th>\n      <th>Bajos</th>\n      <td>1661770</td>\n      <td>29.200000</td>\n      <td>29.454908</td>\n    </tr>\n    <tr>\n      <th>Clase Media</th>\n      <td>1786140</td>\n      <td>29.711340</td>\n      <td>31.091581</td>\n    </tr>\n    <tr>\n      <th>Rico</th>\n      <td>1400163</td>\n      <td>28.922078</td>\n      <td>28.505813</td>\n    </tr>\n    <tr>\n      <th rowspan=\"3\" valign=\"top\">Mujer</th>\n      <th>Bajos</th>\n      <td>1385240</td>\n      <td>30.025641</td>\n      <td>27.487008</td>\n    </tr>\n    <tr>\n      <th>Clase Media</th>\n      <td>1510911</td>\n      <td>27.216867</td>\n      <td>28.326900</td>\n    </tr>\n    <tr>\n      <th>Rico</th>\n      <td>1348242</td>\n      <td>29.626667</td>\n      <td>29.094711</td>\n    </tr>\n  </tbody>\n</table>\n</div>"
     },
     "metadata": {},
     "execution_count": 22
    }
   ],
   "source": [
    "doble_agrupacion.aggregate(\n",
    "    {\n",
    "        \"Ingresos\": np.sum,\n",
    "        \"Edad\": np.mean,\n",
    "        \"Altura\": np.std\n",
    "    }\n",
    ")"
   ]
  },
  {
   "cell_type": "code",
   "execution_count": 23,
   "metadata": {},
   "outputs": [
    {
     "output_type": "execute_result",
     "data": {
      "text/plain": [
       "                         Edad    Altura\n",
       "Genero Estatus                         \n",
       "Hombre Bajos        29.200000  5.743212\n",
       "       Clase Media  29.711340  5.370801\n",
       "       Rico         28.922078  5.721437\n",
       "Mujer  Bajos        30.025641  5.810904\n",
       "       Clase Media  27.216867  5.618012\n",
       "       Rico         29.626667  5.422354"
      ],
      "text/html": "<div>\n<style scoped>\n    .dataframe tbody tr th:only-of-type {\n        vertical-align: middle;\n    }\n\n    .dataframe tbody tr th {\n        vertical-align: top;\n    }\n\n    .dataframe thead th {\n        text-align: right;\n    }\n</style>\n<table border=\"1\" class=\"dataframe\">\n  <thead>\n    <tr style=\"text-align: right;\">\n      <th></th>\n      <th></th>\n      <th>Edad</th>\n      <th>Altura</th>\n    </tr>\n    <tr>\n      <th>Genero</th>\n      <th>Estatus</th>\n      <th></th>\n      <th></th>\n    </tr>\n  </thead>\n  <tbody>\n    <tr>\n      <th rowspan=\"3\" valign=\"top\">Hombre</th>\n      <th>Bajos</th>\n      <td>29.200000</td>\n      <td>5.743212</td>\n    </tr>\n    <tr>\n      <th>Clase Media</th>\n      <td>29.711340</td>\n      <td>5.370801</td>\n    </tr>\n    <tr>\n      <th>Rico</th>\n      <td>28.922078</td>\n      <td>5.721437</td>\n    </tr>\n    <tr>\n      <th rowspan=\"3\" valign=\"top\">Mujer</th>\n      <th>Bajos</th>\n      <td>30.025641</td>\n      <td>5.810904</td>\n    </tr>\n    <tr>\n      <th>Clase Media</th>\n      <td>27.216867</td>\n      <td>5.618012</td>\n    </tr>\n    <tr>\n      <th>Rico</th>\n      <td>29.626667</td>\n      <td>5.422354</td>\n    </tr>\n  </tbody>\n</table>\n</div>"
     },
     "metadata": {},
     "execution_count": 23
    }
   ],
   "source": [
    "doble_agrupacion.aggregate(\n",
    "    {\n",
    "        \"Edad\": np.mean,\n",
    "        \"Altura\": lambda a: np.mean(a)/np.std(a)\n",
    "    }\n",
    ")"
   ]
  },
  {
   "cell_type": "code",
   "execution_count": 24,
   "metadata": {},
   "outputs": [
    {
     "output_type": "execute_result",
     "data": {
      "text/plain": [
       "                      Altura                            Peso             \\\n",
       "                         sum        mean        std      sum       mean   \n",
       "Genero Estatus                                                            \n",
       "Hombre Bajos        15140.10  168.223333  29.454908  5516.45  61.293889   \n",
       "       Clase Media  16114.00  166.123711  31.091581  5831.71  60.120722   \n",
       "       Rico         12476.44  162.031688  28.505813  5239.85  68.050000   \n",
       "Mujer  Bajos        12378.38  158.697179  27.487008  5029.41  64.479615   \n",
       "       Clase Media  13128.88  158.179277  28.326900  5412.35  65.209036   \n",
       "       Rico         11752.99  156.706533  29.094711  5040.73  67.209733   \n",
       "\n",
       "                               Edad                       Ingresos  \\\n",
       "                          std   sum       mean        std      sum   \n",
       "Genero Estatus                                                       \n",
       "Hombre Bajos        26.592485  2628  29.200000  12.963388  1661770   \n",
       "       Clase Media  24.440663  2882  29.711340  12.419708  1786140   \n",
       "       Rico         23.764253  2227  28.922078  11.111595  1400163   \n",
       "Mujer  Bajos        26.345130  2342  30.025641  11.825544  1385240   \n",
       "       Clase Media  24.115761  2259  27.216867  12.291230  1510911   \n",
       "       Rico         25.390114  2222  29.626667  10.983739  1348242   \n",
       "\n",
       "                                               \n",
       "                            mean          std  \n",
       "Genero Estatus                                 \n",
       "Hombre Bajos        18464.111111  3194.210868  \n",
       "       Clase Media  18413.814433  3648.913141  \n",
       "       Rico         18183.935065  4036.352279  \n",
       "Mujer  Bajos        17759.487179  3688.038953  \n",
       "       Clase Media  18203.746988  3998.663054  \n",
       "       Rico         17976.560000  3516.788835  "
      ],
      "text/html": "<div>\n<style scoped>\n    .dataframe tbody tr th:only-of-type {\n        vertical-align: middle;\n    }\n\n    .dataframe tbody tr th {\n        vertical-align: top;\n    }\n\n    .dataframe thead tr th {\n        text-align: left;\n    }\n\n    .dataframe thead tr:last-of-type th {\n        text-align: right;\n    }\n</style>\n<table border=\"1\" class=\"dataframe\">\n  <thead>\n    <tr>\n      <th></th>\n      <th></th>\n      <th colspan=\"3\" halign=\"left\">Altura</th>\n      <th colspan=\"3\" halign=\"left\">Peso</th>\n      <th colspan=\"3\" halign=\"left\">Edad</th>\n      <th colspan=\"3\" halign=\"left\">Ingresos</th>\n    </tr>\n    <tr>\n      <th></th>\n      <th></th>\n      <th>sum</th>\n      <th>mean</th>\n      <th>std</th>\n      <th>sum</th>\n      <th>mean</th>\n      <th>std</th>\n      <th>sum</th>\n      <th>mean</th>\n      <th>std</th>\n      <th>sum</th>\n      <th>mean</th>\n      <th>std</th>\n    </tr>\n    <tr>\n      <th>Genero</th>\n      <th>Estatus</th>\n      <th></th>\n      <th></th>\n      <th></th>\n      <th></th>\n      <th></th>\n      <th></th>\n      <th></th>\n      <th></th>\n      <th></th>\n      <th></th>\n      <th></th>\n      <th></th>\n    </tr>\n  </thead>\n  <tbody>\n    <tr>\n      <th rowspan=\"3\" valign=\"top\">Hombre</th>\n      <th>Bajos</th>\n      <td>15140.10</td>\n      <td>168.223333</td>\n      <td>29.454908</td>\n      <td>5516.45</td>\n      <td>61.293889</td>\n      <td>26.592485</td>\n      <td>2628</td>\n      <td>29.200000</td>\n      <td>12.963388</td>\n      <td>1661770</td>\n      <td>18464.111111</td>\n      <td>3194.210868</td>\n    </tr>\n    <tr>\n      <th>Clase Media</th>\n      <td>16114.00</td>\n      <td>166.123711</td>\n      <td>31.091581</td>\n      <td>5831.71</td>\n      <td>60.120722</td>\n      <td>24.440663</td>\n      <td>2882</td>\n      <td>29.711340</td>\n      <td>12.419708</td>\n      <td>1786140</td>\n      <td>18413.814433</td>\n      <td>3648.913141</td>\n    </tr>\n    <tr>\n      <th>Rico</th>\n      <td>12476.44</td>\n      <td>162.031688</td>\n      <td>28.505813</td>\n      <td>5239.85</td>\n      <td>68.050000</td>\n      <td>23.764253</td>\n      <td>2227</td>\n      <td>28.922078</td>\n      <td>11.111595</td>\n      <td>1400163</td>\n      <td>18183.935065</td>\n      <td>4036.352279</td>\n    </tr>\n    <tr>\n      <th rowspan=\"3\" valign=\"top\">Mujer</th>\n      <th>Bajos</th>\n      <td>12378.38</td>\n      <td>158.697179</td>\n      <td>27.487008</td>\n      <td>5029.41</td>\n      <td>64.479615</td>\n      <td>26.345130</td>\n      <td>2342</td>\n      <td>30.025641</td>\n      <td>11.825544</td>\n      <td>1385240</td>\n      <td>17759.487179</td>\n      <td>3688.038953</td>\n    </tr>\n    <tr>\n      <th>Clase Media</th>\n      <td>13128.88</td>\n      <td>158.179277</td>\n      <td>28.326900</td>\n      <td>5412.35</td>\n      <td>65.209036</td>\n      <td>24.115761</td>\n      <td>2259</td>\n      <td>27.216867</td>\n      <td>12.291230</td>\n      <td>1510911</td>\n      <td>18203.746988</td>\n      <td>3998.663054</td>\n    </tr>\n    <tr>\n      <th>Rico</th>\n      <td>11752.99</td>\n      <td>156.706533</td>\n      <td>29.094711</td>\n      <td>5040.73</td>\n      <td>67.209733</td>\n      <td>25.390114</td>\n      <td>2222</td>\n      <td>29.626667</td>\n      <td>10.983739</td>\n      <td>1348242</td>\n      <td>17976.560000</td>\n      <td>3516.788835</td>\n    </tr>\n  </tbody>\n</table>\n</div>"
     },
     "metadata": {},
     "execution_count": 24
    }
   ],
   "source": [
    "doble_agrupacion.aggregate([np.sum,np.mean,np.std])"
   ]
  },
  {
   "cell_type": "code",
   "execution_count": 25,
   "metadata": {},
   "outputs": [
    {
     "output_type": "execute_result",
     "data": {
      "text/plain": [
       "                      Altura      Peso      Edad  Ingresos\n",
       "                    <lambda>  <lambda>  <lambda>  <lambda>\n",
       "Genero Estatus                                            \n",
       "Hombre Bajos        5.743212  2.317846  2.265117  5.812876\n",
       "       Clase Media  5.370801  2.472643  2.404701  5.072598\n",
       "       Rico         5.721437  2.882322  2.619942  4.534583\n",
       "Mujer  Bajos        5.810904  2.463338  2.555484  4.846596\n",
       "       Clase Media  5.618012  2.720439  2.227793  4.580133\n",
       "       Rico         5.422354  2.664908  2.715485  5.146063"
      ],
      "text/html": "<div>\n<style scoped>\n    .dataframe tbody tr th:only-of-type {\n        vertical-align: middle;\n    }\n\n    .dataframe tbody tr th {\n        vertical-align: top;\n    }\n\n    .dataframe thead tr th {\n        text-align: left;\n    }\n\n    .dataframe thead tr:last-of-type th {\n        text-align: right;\n    }\n</style>\n<table border=\"1\" class=\"dataframe\">\n  <thead>\n    <tr>\n      <th></th>\n      <th></th>\n      <th>Altura</th>\n      <th>Peso</th>\n      <th>Edad</th>\n      <th>Ingresos</th>\n    </tr>\n    <tr>\n      <th></th>\n      <th></th>\n      <th>&lt;lambda&gt;</th>\n      <th>&lt;lambda&gt;</th>\n      <th>&lt;lambda&gt;</th>\n      <th>&lt;lambda&gt;</th>\n    </tr>\n    <tr>\n      <th>Genero</th>\n      <th>Estatus</th>\n      <th></th>\n      <th></th>\n      <th></th>\n      <th></th>\n    </tr>\n  </thead>\n  <tbody>\n    <tr>\n      <th rowspan=\"3\" valign=\"top\">Hombre</th>\n      <th>Bajos</th>\n      <td>5.743212</td>\n      <td>2.317846</td>\n      <td>2.265117</td>\n      <td>5.812876</td>\n    </tr>\n    <tr>\n      <th>Clase Media</th>\n      <td>5.370801</td>\n      <td>2.472643</td>\n      <td>2.404701</td>\n      <td>5.072598</td>\n    </tr>\n    <tr>\n      <th>Rico</th>\n      <td>5.721437</td>\n      <td>2.882322</td>\n      <td>2.619942</td>\n      <td>4.534583</td>\n    </tr>\n    <tr>\n      <th rowspan=\"3\" valign=\"top\">Mujer</th>\n      <th>Bajos</th>\n      <td>5.810904</td>\n      <td>2.463338</td>\n      <td>2.555484</td>\n      <td>4.846596</td>\n    </tr>\n    <tr>\n      <th>Clase Media</th>\n      <td>5.618012</td>\n      <td>2.720439</td>\n      <td>2.227793</td>\n      <td>4.580133</td>\n    </tr>\n    <tr>\n      <th>Rico</th>\n      <td>5.422354</td>\n      <td>2.664908</td>\n      <td>2.715485</td>\n      <td>5.146063</td>\n    </tr>\n  </tbody>\n</table>\n</div>"
     },
     "metadata": {},
     "execution_count": 25
    }
   ],
   "source": [
    "doble_agrupacion.aggregate([lambda x: np.mean(x)/np.std(x)])"
   ]
  },
  {
   "source": [
    "## Filtrado de datos"
   ],
   "cell_type": "markdown",
   "metadata": {}
  },
  {
   "cell_type": "code",
   "execution_count": 26,
   "metadata": {},
   "outputs": [
    {
     "output_type": "execute_result",
     "data": {
      "text/plain": [
       "                      Altura     Peso  Edad  Ingresos\n",
       "Genero Estatus                                       \n",
       "Hombre Bajos        15140.10  5516.45  2628   1661770\n",
       "       Clase Media  16114.00  5831.71  2882   1786140\n",
       "       Rico         12476.44  5239.85  2227   1400163\n",
       "Mujer  Bajos        12378.38  5029.41  2342   1385240\n",
       "       Clase Media  13128.88  5412.35  2259   1510911\n",
       "       Rico         11752.99  5040.73  2222   1348242"
      ],
      "text/html": "<div>\n<style scoped>\n    .dataframe tbody tr th:only-of-type {\n        vertical-align: middle;\n    }\n\n    .dataframe tbody tr th {\n        vertical-align: top;\n    }\n\n    .dataframe thead th {\n        text-align: right;\n    }\n</style>\n<table border=\"1\" class=\"dataframe\">\n  <thead>\n    <tr style=\"text-align: right;\">\n      <th></th>\n      <th></th>\n      <th>Altura</th>\n      <th>Peso</th>\n      <th>Edad</th>\n      <th>Ingresos</th>\n    </tr>\n    <tr>\n      <th>Genero</th>\n      <th>Estatus</th>\n      <th></th>\n      <th></th>\n      <th></th>\n      <th></th>\n    </tr>\n  </thead>\n  <tbody>\n    <tr>\n      <th rowspan=\"3\" valign=\"top\">Hombre</th>\n      <th>Bajos</th>\n      <td>15140.10</td>\n      <td>5516.45</td>\n      <td>2628</td>\n      <td>1661770</td>\n    </tr>\n    <tr>\n      <th>Clase Media</th>\n      <td>16114.00</td>\n      <td>5831.71</td>\n      <td>2882</td>\n      <td>1786140</td>\n    </tr>\n    <tr>\n      <th>Rico</th>\n      <td>12476.44</td>\n      <td>5239.85</td>\n      <td>2227</td>\n      <td>1400163</td>\n    </tr>\n    <tr>\n      <th rowspan=\"3\" valign=\"top\">Mujer</th>\n      <th>Bajos</th>\n      <td>12378.38</td>\n      <td>5029.41</td>\n      <td>2342</td>\n      <td>1385240</td>\n    </tr>\n    <tr>\n      <th>Clase Media</th>\n      <td>13128.88</td>\n      <td>5412.35</td>\n      <td>2259</td>\n      <td>1510911</td>\n    </tr>\n    <tr>\n      <th>Rico</th>\n      <td>11752.99</td>\n      <td>5040.73</td>\n      <td>2222</td>\n      <td>1348242</td>\n    </tr>\n  </tbody>\n</table>\n</div>"
     },
     "metadata": {},
     "execution_count": 26
    }
   ],
   "source": [
    "doble_agrupacion.sum()"
   ]
  },
  {
   "cell_type": "code",
   "execution_count": 27,
   "metadata": {},
   "outputs": [
    {
     "output_type": "execute_result",
     "data": {
      "text/plain": [
       "1      46\n",
       "4      36\n",
       "5      29\n",
       "7      37\n",
       "9       3\n",
       "       ..\n",
       "483    32\n",
       "486    39\n",
       "489    59\n",
       "492    40\n",
       "495    30\n",
       "Name: Edad, Length: 187, dtype: int32"
      ]
     },
     "metadata": {},
     "execution_count": 27
    }
   ],
   "source": [
    "    doble_agrupacion[\"Edad\"].filter(lambda x: x.sum() > 2400)"
   ]
  },
  {
   "source": [
    "## Transformación de variables"
   ],
   "cell_type": "markdown",
   "metadata": {}
  },
  {
   "cell_type": "code",
   "execution_count": 28,
   "metadata": {},
   "outputs": [],
   "source": [
    "zscore = lambda x: (x - x.mean()) / x.std() # Una puntuación z mide exactamente cuántas desviaciones estándar por encima o por debajo de la media está un punto de datos.\n"
   ]
  },
  {
   "cell_type": "code",
   "execution_count": 29,
   "metadata": {},
   "outputs": [],
   "source": [
    "z_group = doble_agrupacion.transform(zscore) # Manera de transformar los datos mediante la funciín zscore, la cual es la puntuación z."
   ]
  },
  {
   "cell_type": "code",
   "execution_count": 30,
   "metadata": {},
   "outputs": [
    {
     "output_type": "execute_result",
     "data": {
      "text/plain": [
       "(array([  9.,  18.,  75.,  81., 130.,  83.,  64.,  24.,  10.,   6.]),\n",
       " array([-2.60627703, -2.03863083, -1.47098463, -0.90333843, -0.33569223,\n",
       "         0.23195396,  0.79960016,  1.36724636,  1.93489256,  2.50253876,\n",
       "         3.07018496]),\n",
       " <BarContainer object of 10 artists>)"
      ]
     },
     "metadata": {},
     "execution_count": 30
    },
    {
     "output_type": "display_data",
     "data": {
      "text/plain": "<Figure size 432x288 with 1 Axes>",
      "image/svg+xml": "<?xml version=\"1.0\" encoding=\"utf-8\" standalone=\"no\"?>\r\n<!DOCTYPE svg PUBLIC \"-//W3C//DTD SVG 1.1//EN\"\r\n  \"http://www.w3.org/Graphics/SVG/1.1/DTD/svg11.dtd\">\r\n<svg height=\"248.518125pt\" version=\"1.1\" viewBox=\"0 0 375.2875 248.518125\" width=\"375.2875pt\" xmlns=\"http://www.w3.org/2000/svg\" xmlns:xlink=\"http://www.w3.org/1999/xlink\">\r\n <metadata>\r\n  <rdf:RDF xmlns:cc=\"http://creativecommons.org/ns#\" xmlns:dc=\"http://purl.org/dc/elements/1.1/\" xmlns:rdf=\"http://www.w3.org/1999/02/22-rdf-syntax-ns#\">\r\n   <cc:Work>\r\n    <dc:type rdf:resource=\"http://purl.org/dc/dcmitype/StillImage\"/>\r\n    <dc:date>2021-05-18T14:29:50.894822</dc:date>\r\n    <dc:format>image/svg+xml</dc:format>\r\n    <dc:creator>\r\n     <cc:Agent>\r\n      <dc:title>Matplotlib v3.4.1, https://matplotlib.org/</dc:title>\r\n     </cc:Agent>\r\n    </dc:creator>\r\n   </cc:Work>\r\n  </rdf:RDF>\r\n </metadata>\r\n <defs>\r\n  <style type=\"text/css\">*{stroke-linecap:butt;stroke-linejoin:round;}</style>\r\n </defs>\r\n <g id=\"figure_1\">\r\n  <g id=\"patch_1\">\r\n   <path d=\"M 0 248.518125 \r\nL 375.2875 248.518125 \r\nL 375.2875 0 \r\nL 0 0 \r\nz\r\n\" style=\"fill:none;\"/>\r\n  </g>\r\n  <g id=\"axes_1\">\r\n   <g id=\"patch_2\">\r\n    <path d=\"M 33.2875 224.64 \r\nL 368.0875 224.64 \r\nL 368.0875 7.2 \r\nL 33.2875 7.2 \r\nz\r\n\" style=\"fill:#ffffff;\"/>\r\n   </g>\r\n   <g id=\"patch_3\">\r\n    <path clip-path=\"url(#pf3fbdbe95b)\" d=\"M 48.505682 224.64 \r\nL 78.942045 224.64 \r\nL 78.942045 210.303297 \r\nL 48.505682 210.303297 \r\nz\r\n\" style=\"fill:#1f77b4;\"/>\r\n   </g>\r\n   <g id=\"patch_4\">\r\n    <path clip-path=\"url(#pf3fbdbe95b)\" d=\"M 78.942045 224.64 \r\nL 109.378409 224.64 \r\nL 109.378409 195.966593 \r\nL 78.942045 195.966593 \r\nz\r\n\" style=\"fill:#1f77b4;\"/>\r\n   </g>\r\n   <g id=\"patch_5\">\r\n    <path clip-path=\"url(#pf3fbdbe95b)\" d=\"M 109.378409 224.64 \r\nL 139.814773 224.64 \r\nL 139.814773 105.167473 \r\nL 109.378409 105.167473 \r\nz\r\n\" style=\"fill:#1f77b4;\"/>\r\n   </g>\r\n   <g id=\"patch_6\">\r\n    <path clip-path=\"url(#pf3fbdbe95b)\" d=\"M 139.814773 224.64 \r\nL 170.251136 224.64 \r\nL 170.251136 95.60967 \r\nL 139.814773 95.60967 \r\nz\r\n\" style=\"fill:#1f77b4;\"/>\r\n   </g>\r\n   <g id=\"patch_7\">\r\n    <path clip-path=\"url(#pf3fbdbe95b)\" d=\"M 170.251136 224.64 \r\nL 200.6875 224.64 \r\nL 200.6875 17.554286 \r\nL 170.251136 17.554286 \r\nz\r\n\" style=\"fill:#1f77b4;\"/>\r\n   </g>\r\n   <g id=\"patch_8\">\r\n    <path clip-path=\"url(#pf3fbdbe95b)\" d=\"M 200.6875 224.64 \r\nL 231.123864 224.64 \r\nL 231.123864 92.423736 \r\nL 200.6875 92.423736 \r\nz\r\n\" style=\"fill:#1f77b4;\"/>\r\n   </g>\r\n   <g id=\"patch_9\">\r\n    <path clip-path=\"url(#pf3fbdbe95b)\" d=\"M 231.123864 224.64 \r\nL 261.560227 224.64 \r\nL 261.560227 122.69011 \r\nL 231.123864 122.69011 \r\nz\r\n\" style=\"fill:#1f77b4;\"/>\r\n   </g>\r\n   <g id=\"patch_10\">\r\n    <path clip-path=\"url(#pf3fbdbe95b)\" d=\"M 261.560227 224.64 \r\nL 291.996591 224.64 \r\nL 291.996591 186.408791 \r\nL 261.560227 186.408791 \r\nz\r\n\" style=\"fill:#1f77b4;\"/>\r\n   </g>\r\n   <g id=\"patch_11\">\r\n    <path clip-path=\"url(#pf3fbdbe95b)\" d=\"M 291.996591 224.64 \r\nL 322.432955 224.64 \r\nL 322.432955 208.71033 \r\nL 291.996591 208.71033 \r\nz\r\n\" style=\"fill:#1f77b4;\"/>\r\n   </g>\r\n   <g id=\"patch_12\">\r\n    <path clip-path=\"url(#pf3fbdbe95b)\" d=\"M 322.432955 224.64 \r\nL 352.869318 224.64 \r\nL 352.869318 215.082198 \r\nL 322.432955 215.082198 \r\nz\r\n\" style=\"fill:#1f77b4;\"/>\r\n   </g>\r\n   <g id=\"matplotlib.axis_1\">\r\n    <g id=\"xtick_1\">\r\n     <g id=\"line2d_1\">\r\n      <defs>\r\n       <path d=\"M 0 0 \r\nL 0 3.5 \r\n\" id=\"meefd25af91\" style=\"stroke:#000000;stroke-width:0.8;\"/>\r\n      </defs>\r\n      <g>\r\n       <use style=\"stroke:#000000;stroke-width:0.8;\" x=\"81.013374\" xlink:href=\"#meefd25af91\" y=\"224.64\"/>\r\n      </g>\r\n     </g>\r\n     <g id=\"text_1\">\r\n      <!-- −2 -->\r\n      <g transform=\"translate(73.642281 239.238437)scale(0.1 -0.1)\">\r\n       <defs>\r\n        <path d=\"M 678 2272 \r\nL 4684 2272 \r\nL 4684 1741 \r\nL 678 1741 \r\nL 678 2272 \r\nz\r\n\" id=\"DejaVuSans-2212\" transform=\"scale(0.015625)\"/>\r\n        <path d=\"M 1228 531 \r\nL 3431 531 \r\nL 3431 0 \r\nL 469 0 \r\nL 469 531 \r\nQ 828 903 1448 1529 \r\nQ 2069 2156 2228 2338 \r\nQ 2531 2678 2651 2914 \r\nQ 2772 3150 2772 3378 \r\nQ 2772 3750 2511 3984 \r\nQ 2250 4219 1831 4219 \r\nQ 1534 4219 1204 4116 \r\nQ 875 4013 500 3803 \r\nL 500 4441 \r\nQ 881 4594 1212 4672 \r\nQ 1544 4750 1819 4750 \r\nQ 2544 4750 2975 4387 \r\nQ 3406 4025 3406 3419 \r\nQ 3406 3131 3298 2873 \r\nQ 3191 2616 2906 2266 \r\nQ 2828 2175 2409 1742 \r\nQ 1991 1309 1228 531 \r\nz\r\n\" id=\"DejaVuSans-32\" transform=\"scale(0.015625)\"/>\r\n       </defs>\r\n       <use xlink:href=\"#DejaVuSans-2212\"/>\r\n       <use x=\"83.789062\" xlink:href=\"#DejaVuSans-32\"/>\r\n      </g>\r\n     </g>\r\n    </g>\r\n    <g id=\"xtick_2\">\r\n     <g id=\"line2d_2\">\r\n      <g>\r\n       <use style=\"stroke:#000000;stroke-width:0.8;\" x=\"134.63192\" xlink:href=\"#meefd25af91\" y=\"224.64\"/>\r\n      </g>\r\n     </g>\r\n     <g id=\"text_2\">\r\n      <!-- −1 -->\r\n      <g transform=\"translate(127.260826 239.238437)scale(0.1 -0.1)\">\r\n       <defs>\r\n        <path d=\"M 794 531 \r\nL 1825 531 \r\nL 1825 4091 \r\nL 703 3866 \r\nL 703 4441 \r\nL 1819 4666 \r\nL 2450 4666 \r\nL 2450 531 \r\nL 3481 531 \r\nL 3481 0 \r\nL 794 0 \r\nL 794 531 \r\nz\r\n\" id=\"DejaVuSans-31\" transform=\"scale(0.015625)\"/>\r\n       </defs>\r\n       <use xlink:href=\"#DejaVuSans-2212\"/>\r\n       <use x=\"83.789062\" xlink:href=\"#DejaVuSans-31\"/>\r\n      </g>\r\n     </g>\r\n    </g>\r\n    <g id=\"xtick_3\">\r\n     <g id=\"line2d_3\">\r\n      <g>\r\n       <use style=\"stroke:#000000;stroke-width:0.8;\" x=\"188.250466\" xlink:href=\"#meefd25af91\" y=\"224.64\"/>\r\n      </g>\r\n     </g>\r\n     <g id=\"text_3\">\r\n      <!-- 0 -->\r\n      <g transform=\"translate(185.069216 239.238437)scale(0.1 -0.1)\">\r\n       <defs>\r\n        <path d=\"M 2034 4250 \r\nQ 1547 4250 1301 3770 \r\nQ 1056 3291 1056 2328 \r\nQ 1056 1369 1301 889 \r\nQ 1547 409 2034 409 \r\nQ 2525 409 2770 889 \r\nQ 3016 1369 3016 2328 \r\nQ 3016 3291 2770 3770 \r\nQ 2525 4250 2034 4250 \r\nz\r\nM 2034 4750 \r\nQ 2819 4750 3233 4129 \r\nQ 3647 3509 3647 2328 \r\nQ 3647 1150 3233 529 \r\nQ 2819 -91 2034 -91 \r\nQ 1250 -91 836 529 \r\nQ 422 1150 422 2328 \r\nQ 422 3509 836 4129 \r\nQ 1250 4750 2034 4750 \r\nz\r\n\" id=\"DejaVuSans-30\" transform=\"scale(0.015625)\"/>\r\n       </defs>\r\n       <use xlink:href=\"#DejaVuSans-30\"/>\r\n      </g>\r\n     </g>\r\n    </g>\r\n    <g id=\"xtick_4\">\r\n     <g id=\"line2d_4\">\r\n      <g>\r\n       <use style=\"stroke:#000000;stroke-width:0.8;\" x=\"241.869011\" xlink:href=\"#meefd25af91\" y=\"224.64\"/>\r\n      </g>\r\n     </g>\r\n     <g id=\"text_4\">\r\n      <!-- 1 -->\r\n      <g transform=\"translate(238.687761 239.238437)scale(0.1 -0.1)\">\r\n       <use xlink:href=\"#DejaVuSans-31\"/>\r\n      </g>\r\n     </g>\r\n    </g>\r\n    <g id=\"xtick_5\">\r\n     <g id=\"line2d_5\">\r\n      <g>\r\n       <use style=\"stroke:#000000;stroke-width:0.8;\" x=\"295.487557\" xlink:href=\"#meefd25af91\" y=\"224.64\"/>\r\n      </g>\r\n     </g>\r\n     <g id=\"text_5\">\r\n      <!-- 2 -->\r\n      <g transform=\"translate(292.306307 239.238437)scale(0.1 -0.1)\">\r\n       <use xlink:href=\"#DejaVuSans-32\"/>\r\n      </g>\r\n     </g>\r\n    </g>\r\n    <g id=\"xtick_6\">\r\n     <g id=\"line2d_6\">\r\n      <g>\r\n       <use style=\"stroke:#000000;stroke-width:0.8;\" x=\"349.106103\" xlink:href=\"#meefd25af91\" y=\"224.64\"/>\r\n      </g>\r\n     </g>\r\n     <g id=\"text_6\">\r\n      <!-- 3 -->\r\n      <g transform=\"translate(345.924853 239.238437)scale(0.1 -0.1)\">\r\n       <defs>\r\n        <path d=\"M 2597 2516 \r\nQ 3050 2419 3304 2112 \r\nQ 3559 1806 3559 1356 \r\nQ 3559 666 3084 287 \r\nQ 2609 -91 1734 -91 \r\nQ 1441 -91 1130 -33 \r\nQ 819 25 488 141 \r\nL 488 750 \r\nQ 750 597 1062 519 \r\nQ 1375 441 1716 441 \r\nQ 2309 441 2620 675 \r\nQ 2931 909 2931 1356 \r\nQ 2931 1769 2642 2001 \r\nQ 2353 2234 1838 2234 \r\nL 1294 2234 \r\nL 1294 2753 \r\nL 1863 2753 \r\nQ 2328 2753 2575 2939 \r\nQ 2822 3125 2822 3475 \r\nQ 2822 3834 2567 4026 \r\nQ 2313 4219 1838 4219 \r\nQ 1578 4219 1281 4162 \r\nQ 984 4106 628 3988 \r\nL 628 4550 \r\nQ 988 4650 1302 4700 \r\nQ 1616 4750 1894 4750 \r\nQ 2613 4750 3031 4423 \r\nQ 3450 4097 3450 3541 \r\nQ 3450 3153 3228 2886 \r\nQ 3006 2619 2597 2516 \r\nz\r\n\" id=\"DejaVuSans-33\" transform=\"scale(0.015625)\"/>\r\n       </defs>\r\n       <use xlink:href=\"#DejaVuSans-33\"/>\r\n      </g>\r\n     </g>\r\n    </g>\r\n   </g>\r\n   <g id=\"matplotlib.axis_2\">\r\n    <g id=\"ytick_1\">\r\n     <g id=\"line2d_7\">\r\n      <defs>\r\n       <path d=\"M 0 0 \r\nL -3.5 0 \r\n\" id=\"ma1bf9683bb\" style=\"stroke:#000000;stroke-width:0.8;\"/>\r\n      </defs>\r\n      <g>\r\n       <use style=\"stroke:#000000;stroke-width:0.8;\" x=\"33.2875\" xlink:href=\"#ma1bf9683bb\" y=\"224.64\"/>\r\n      </g>\r\n     </g>\r\n     <g id=\"text_7\">\r\n      <!-- 0 -->\r\n      <g transform=\"translate(19.925 228.439219)scale(0.1 -0.1)\">\r\n       <use xlink:href=\"#DejaVuSans-30\"/>\r\n      </g>\r\n     </g>\r\n    </g>\r\n    <g id=\"ytick_2\">\r\n     <g id=\"line2d_8\">\r\n      <g>\r\n       <use style=\"stroke:#000000;stroke-width:0.8;\" x=\"33.2875\" xlink:href=\"#ma1bf9683bb\" y=\"192.780659\"/>\r\n      </g>\r\n     </g>\r\n     <g id=\"text_8\">\r\n      <!-- 20 -->\r\n      <g transform=\"translate(13.5625 196.579878)scale(0.1 -0.1)\">\r\n       <use xlink:href=\"#DejaVuSans-32\"/>\r\n       <use x=\"63.623047\" xlink:href=\"#DejaVuSans-30\"/>\r\n      </g>\r\n     </g>\r\n    </g>\r\n    <g id=\"ytick_3\">\r\n     <g id=\"line2d_9\">\r\n      <g>\r\n       <use style=\"stroke:#000000;stroke-width:0.8;\" x=\"33.2875\" xlink:href=\"#ma1bf9683bb\" y=\"160.921319\"/>\r\n      </g>\r\n     </g>\r\n     <g id=\"text_9\">\r\n      <!-- 40 -->\r\n      <g transform=\"translate(13.5625 164.720537)scale(0.1 -0.1)\">\r\n       <defs>\r\n        <path d=\"M 2419 4116 \r\nL 825 1625 \r\nL 2419 1625 \r\nL 2419 4116 \r\nz\r\nM 2253 4666 \r\nL 3047 4666 \r\nL 3047 1625 \r\nL 3713 1625 \r\nL 3713 1100 \r\nL 3047 1100 \r\nL 3047 0 \r\nL 2419 0 \r\nL 2419 1100 \r\nL 313 1100 \r\nL 313 1709 \r\nL 2253 4666 \r\nz\r\n\" id=\"DejaVuSans-34\" transform=\"scale(0.015625)\"/>\r\n       </defs>\r\n       <use xlink:href=\"#DejaVuSans-34\"/>\r\n       <use x=\"63.623047\" xlink:href=\"#DejaVuSans-30\"/>\r\n      </g>\r\n     </g>\r\n    </g>\r\n    <g id=\"ytick_4\">\r\n     <g id=\"line2d_10\">\r\n      <g>\r\n       <use style=\"stroke:#000000;stroke-width:0.8;\" x=\"33.2875\" xlink:href=\"#ma1bf9683bb\" y=\"129.061978\"/>\r\n      </g>\r\n     </g>\r\n     <g id=\"text_10\">\r\n      <!-- 60 -->\r\n      <g transform=\"translate(13.5625 132.861197)scale(0.1 -0.1)\">\r\n       <defs>\r\n        <path d=\"M 2113 2584 \r\nQ 1688 2584 1439 2293 \r\nQ 1191 2003 1191 1497 \r\nQ 1191 994 1439 701 \r\nQ 1688 409 2113 409 \r\nQ 2538 409 2786 701 \r\nQ 3034 994 3034 1497 \r\nQ 3034 2003 2786 2293 \r\nQ 2538 2584 2113 2584 \r\nz\r\nM 3366 4563 \r\nL 3366 3988 \r\nQ 3128 4100 2886 4159 \r\nQ 2644 4219 2406 4219 \r\nQ 1781 4219 1451 3797 \r\nQ 1122 3375 1075 2522 \r\nQ 1259 2794 1537 2939 \r\nQ 1816 3084 2150 3084 \r\nQ 2853 3084 3261 2657 \r\nQ 3669 2231 3669 1497 \r\nQ 3669 778 3244 343 \r\nQ 2819 -91 2113 -91 \r\nQ 1303 -91 875 529 \r\nQ 447 1150 447 2328 \r\nQ 447 3434 972 4092 \r\nQ 1497 4750 2381 4750 \r\nQ 2619 4750 2861 4703 \r\nQ 3103 4656 3366 4563 \r\nz\r\n\" id=\"DejaVuSans-36\" transform=\"scale(0.015625)\"/>\r\n       </defs>\r\n       <use xlink:href=\"#DejaVuSans-36\"/>\r\n       <use x=\"63.623047\" xlink:href=\"#DejaVuSans-30\"/>\r\n      </g>\r\n     </g>\r\n    </g>\r\n    <g id=\"ytick_5\">\r\n     <g id=\"line2d_11\">\r\n      <g>\r\n       <use style=\"stroke:#000000;stroke-width:0.8;\" x=\"33.2875\" xlink:href=\"#ma1bf9683bb\" y=\"97.202637\"/>\r\n      </g>\r\n     </g>\r\n     <g id=\"text_11\">\r\n      <!-- 80 -->\r\n      <g transform=\"translate(13.5625 101.001856)scale(0.1 -0.1)\">\r\n       <defs>\r\n        <path d=\"M 2034 2216 \r\nQ 1584 2216 1326 1975 \r\nQ 1069 1734 1069 1313 \r\nQ 1069 891 1326 650 \r\nQ 1584 409 2034 409 \r\nQ 2484 409 2743 651 \r\nQ 3003 894 3003 1313 \r\nQ 3003 1734 2745 1975 \r\nQ 2488 2216 2034 2216 \r\nz\r\nM 1403 2484 \r\nQ 997 2584 770 2862 \r\nQ 544 3141 544 3541 \r\nQ 544 4100 942 4425 \r\nQ 1341 4750 2034 4750 \r\nQ 2731 4750 3128 4425 \r\nQ 3525 4100 3525 3541 \r\nQ 3525 3141 3298 2862 \r\nQ 3072 2584 2669 2484 \r\nQ 3125 2378 3379 2068 \r\nQ 3634 1759 3634 1313 \r\nQ 3634 634 3220 271 \r\nQ 2806 -91 2034 -91 \r\nQ 1263 -91 848 271 \r\nQ 434 634 434 1313 \r\nQ 434 1759 690 2068 \r\nQ 947 2378 1403 2484 \r\nz\r\nM 1172 3481 \r\nQ 1172 3119 1398 2916 \r\nQ 1625 2713 2034 2713 \r\nQ 2441 2713 2670 2916 \r\nQ 2900 3119 2900 3481 \r\nQ 2900 3844 2670 4047 \r\nQ 2441 4250 2034 4250 \r\nQ 1625 4250 1398 4047 \r\nQ 1172 3844 1172 3481 \r\nz\r\n\" id=\"DejaVuSans-38\" transform=\"scale(0.015625)\"/>\r\n       </defs>\r\n       <use xlink:href=\"#DejaVuSans-38\"/>\r\n       <use x=\"63.623047\" xlink:href=\"#DejaVuSans-30\"/>\r\n      </g>\r\n     </g>\r\n    </g>\r\n    <g id=\"ytick_6\">\r\n     <g id=\"line2d_12\">\r\n      <g>\r\n       <use style=\"stroke:#000000;stroke-width:0.8;\" x=\"33.2875\" xlink:href=\"#ma1bf9683bb\" y=\"65.343297\"/>\r\n      </g>\r\n     </g>\r\n     <g id=\"text_12\">\r\n      <!-- 100 -->\r\n      <g transform=\"translate(7.2 69.142515)scale(0.1 -0.1)\">\r\n       <use xlink:href=\"#DejaVuSans-31\"/>\r\n       <use x=\"63.623047\" xlink:href=\"#DejaVuSans-30\"/>\r\n       <use x=\"127.246094\" xlink:href=\"#DejaVuSans-30\"/>\r\n      </g>\r\n     </g>\r\n    </g>\r\n    <g id=\"ytick_7\">\r\n     <g id=\"line2d_13\">\r\n      <g>\r\n       <use style=\"stroke:#000000;stroke-width:0.8;\" x=\"33.2875\" xlink:href=\"#ma1bf9683bb\" y=\"33.483956\"/>\r\n      </g>\r\n     </g>\r\n     <g id=\"text_13\">\r\n      <!-- 120 -->\r\n      <g transform=\"translate(7.2 37.283175)scale(0.1 -0.1)\">\r\n       <use xlink:href=\"#DejaVuSans-31\"/>\r\n       <use x=\"63.623047\" xlink:href=\"#DejaVuSans-32\"/>\r\n       <use x=\"127.246094\" xlink:href=\"#DejaVuSans-30\"/>\r\n      </g>\r\n     </g>\r\n    </g>\r\n   </g>\r\n   <g id=\"patch_13\">\r\n    <path d=\"M 33.2875 224.64 \r\nL 33.2875 7.2 \r\n\" style=\"fill:none;stroke:#000000;stroke-linecap:square;stroke-linejoin:miter;stroke-width:0.8;\"/>\r\n   </g>\r\n   <g id=\"patch_14\">\r\n    <path d=\"M 368.0875 224.64 \r\nL 368.0875 7.2 \r\n\" style=\"fill:none;stroke:#000000;stroke-linecap:square;stroke-linejoin:miter;stroke-width:0.8;\"/>\r\n   </g>\r\n   <g id=\"patch_15\">\r\n    <path d=\"M 33.2875 224.64 \r\nL 368.0875 224.64 \r\n\" style=\"fill:none;stroke:#000000;stroke-linecap:square;stroke-linejoin:miter;stroke-width:0.8;\"/>\r\n   </g>\r\n   <g id=\"patch_16\">\r\n    <path d=\"M 33.2875 7.2 \r\nL 368.0875 7.2 \r\n\" style=\"fill:none;stroke:#000000;stroke-linecap:square;stroke-linejoin:miter;stroke-width:0.8;\"/>\r\n   </g>\r\n  </g>\r\n </g>\r\n <defs>\r\n  <clipPath id=\"pf3fbdbe95b\">\r\n   <rect height=\"217.44\" width=\"334.8\" x=\"33.2875\" y=\"7.2\"/>\r\n  </clipPath>\r\n </defs>\r\n</svg>\r\n",
      "image/png": "[encoded data removed]"
     },
     "metadata": {
      "needs_background": "light"
     }
    }
   ],
   "source": [
    "plt.hist(z_group[\"Edad\"])"
   ]
  },
  {
   "cell_type": "code",
   "execution_count": 31,
   "metadata": {},
   "outputs": [],
   "source": [
    "fill_na_mean = lambda x : x.fillna(x.mean())"
   ]
  },
  {
   "cell_type": "code",
   "execution_count": 32,
   "metadata": {},
   "outputs": [
    {
     "output_type": "execute_result",
     "data": {
      "text/plain": [
       "     Altura    Peso  Edad  Ingresos\n",
       "0    161.19   32.82    15     13636\n",
       "1    205.32   78.47    46     22567\n",
       "2    132.39   51.09    26     11789\n",
       "3    164.00    5.16     1     22239\n",
       "4    194.25   81.76    36     20515\n",
       "..      ...     ...   ...       ...\n",
       "495  151.67   32.07    30     16868\n",
       "496  174.05   68.40    44     14396\n",
       "497  201.25   55.57    40     21546\n",
       "498  129.18   94.22    19     17919\n",
       "499  181.68  115.74     6     12392\n",
       "\n",
       "[500 rows x 4 columns]"
      ],
      "text/html": "<div>\n<style scoped>\n    .dataframe tbody tr th:only-of-type {\n        vertical-align: middle;\n    }\n\n    .dataframe tbody tr th {\n        vertical-align: top;\n    }\n\n    .dataframe thead th {\n        text-align: right;\n    }\n</style>\n<table border=\"1\" class=\"dataframe\">\n  <thead>\n    <tr style=\"text-align: right;\">\n      <th></th>\n      <th>Altura</th>\n      <th>Peso</th>\n      <th>Edad</th>\n      <th>Ingresos</th>\n    </tr>\n  </thead>\n  <tbody>\n    <tr>\n      <th>0</th>\n      <td>161.19</td>\n      <td>32.82</td>\n      <td>15</td>\n      <td>13636</td>\n    </tr>\n    <tr>\n      <th>1</th>\n      <td>205.32</td>\n      <td>78.47</td>\n      <td>46</td>\n      <td>22567</td>\n    </tr>\n    <tr>\n      <th>2</th>\n      <td>132.39</td>\n      <td>51.09</td>\n      <td>26</td>\n      <td>11789</td>\n    </tr>\n    <tr>\n      <th>3</th>\n      <td>164.00</td>\n      <td>5.16</td>\n      <td>1</td>\n      <td>22239</td>\n    </tr>\n    <tr>\n      <th>4</th>\n      <td>194.25</td>\n      <td>81.76</td>\n      <td>36</td>\n      <td>20515</td>\n    </tr>\n    <tr>\n      <th>...</th>\n      <td>...</td>\n      <td>...</td>\n      <td>...</td>\n      <td>...</td>\n    </tr>\n    <tr>\n      <th>495</th>\n      <td>151.67</td>\n      <td>32.07</td>\n      <td>30</td>\n      <td>16868</td>\n    </tr>\n    <tr>\n      <th>496</th>\n      <td>174.05</td>\n      <td>68.40</td>\n      <td>44</td>\n      <td>14396</td>\n    </tr>\n    <tr>\n      <th>497</th>\n      <td>201.25</td>\n      <td>55.57</td>\n      <td>40</td>\n      <td>21546</td>\n    </tr>\n    <tr>\n      <th>498</th>\n      <td>129.18</td>\n      <td>94.22</td>\n      <td>19</td>\n      <td>17919</td>\n    </tr>\n    <tr>\n      <th>499</th>\n      <td>181.68</td>\n      <td>115.74</td>\n      <td>6</td>\n      <td>12392</td>\n    </tr>\n  </tbody>\n</table>\n<p>500 rows × 4 columns</p>\n</div>"
     },
     "metadata": {},
     "execution_count": 32
    }
   ],
   "source": [
    "doble_agrupacion.transform(fill_na_mean) # Manera de transfomar los valores mediante la función fill_na_mean"
   ]
  },
  {
   "source": [
    "## Operaciones diversas muy útiles"
   ],
   "cell_type": "markdown",
   "metadata": {}
  },
  {
   "cell_type": "code",
   "execution_count": 33,
   "metadata": {},
   "outputs": [
    {
     "output_type": "execute_result",
     "data": {
      "text/plain": [
       "    Genero      Estatus  Altura   Peso  Edad  Ingresos\n",
       "0    Mujer        Bajos  161.19  32.82    15     13636\n",
       "1   Hombre  Clase Media  205.32  78.47    46     22567\n",
       "2   Hombre         Rico  132.39  51.09    26     11789\n",
       "3    Mujer         Rico  164.00   5.16     1     22239\n",
       "7   Hombre        Bajos  166.00  91.65    37     19989\n",
       "14   Mujer  Clase Media  167.10  57.14    16     17805"
      ],
      "text/html": "<div>\n<style scoped>\n    .dataframe tbody tr th:only-of-type {\n        vertical-align: middle;\n    }\n\n    .dataframe tbody tr th {\n        vertical-align: top;\n    }\n\n    .dataframe thead th {\n        text-align: right;\n    }\n</style>\n<table border=\"1\" class=\"dataframe\">\n  <thead>\n    <tr style=\"text-align: right;\">\n      <th></th>\n      <th>Genero</th>\n      <th>Estatus</th>\n      <th>Altura</th>\n      <th>Peso</th>\n      <th>Edad</th>\n      <th>Ingresos</th>\n    </tr>\n  </thead>\n  <tbody>\n    <tr>\n      <th>0</th>\n      <td>Mujer</td>\n      <td>Bajos</td>\n      <td>161.19</td>\n      <td>32.82</td>\n      <td>15</td>\n      <td>13636</td>\n    </tr>\n    <tr>\n      <th>1</th>\n      <td>Hombre</td>\n      <td>Clase Media</td>\n      <td>205.32</td>\n      <td>78.47</td>\n      <td>46</td>\n      <td>22567</td>\n    </tr>\n    <tr>\n      <th>2</th>\n      <td>Hombre</td>\n      <td>Rico</td>\n      <td>132.39</td>\n      <td>51.09</td>\n      <td>26</td>\n      <td>11789</td>\n    </tr>\n    <tr>\n      <th>3</th>\n      <td>Mujer</td>\n      <td>Rico</td>\n      <td>164.00</td>\n      <td>5.16</td>\n      <td>1</td>\n      <td>22239</td>\n    </tr>\n    <tr>\n      <th>7</th>\n      <td>Hombre</td>\n      <td>Bajos</td>\n      <td>166.00</td>\n      <td>91.65</td>\n      <td>37</td>\n      <td>19989</td>\n    </tr>\n    <tr>\n      <th>14</th>\n      <td>Mujer</td>\n      <td>Clase Media</td>\n      <td>167.10</td>\n      <td>57.14</td>\n      <td>16</td>\n      <td>17805</td>\n    </tr>\n  </tbody>\n</table>\n</div>"
     },
     "metadata": {},
     "execution_count": 33
    }
   ],
   "source": [
    "doble_agrupacion.head(1) # Manera de pedir el primer dato de cada agrupación"
   ]
  },
  {
   "cell_type": "code",
   "execution_count": 34,
   "metadata": {},
   "outputs": [
    {
     "output_type": "execute_result",
     "data": {
      "text/plain": [
       "     Genero      Estatus  Altura    Peso  Edad  Ingresos\n",
       "481  Hombre         Rico  171.89   65.21    17     15399\n",
       "486  Hombre        Bajos  219.82   65.48    39     25796\n",
       "491   Mujer  Clase Media  143.43   44.22    17     21692\n",
       "495  Hombre  Clase Media  151.67   32.07    30     16868\n",
       "498   Mujer        Bajos  129.18   94.22    19     17919\n",
       "499   Mujer         Rico  181.68  115.74     6     12392"
      ],
      "text/html": "<div>\n<style scoped>\n    .dataframe tbody tr th:only-of-type {\n        vertical-align: middle;\n    }\n\n    .dataframe tbody tr th {\n        vertical-align: top;\n    }\n\n    .dataframe thead th {\n        text-align: right;\n    }\n</style>\n<table border=\"1\" class=\"dataframe\">\n  <thead>\n    <tr style=\"text-align: right;\">\n      <th></th>\n      <th>Genero</th>\n      <th>Estatus</th>\n      <th>Altura</th>\n      <th>Peso</th>\n      <th>Edad</th>\n      <th>Ingresos</th>\n    </tr>\n  </thead>\n  <tbody>\n    <tr>\n      <th>481</th>\n      <td>Hombre</td>\n      <td>Rico</td>\n      <td>171.89</td>\n      <td>65.21</td>\n      <td>17</td>\n      <td>15399</td>\n    </tr>\n    <tr>\n      <th>486</th>\n      <td>Hombre</td>\n      <td>Bajos</td>\n      <td>219.82</td>\n      <td>65.48</td>\n      <td>39</td>\n      <td>25796</td>\n    </tr>\n    <tr>\n      <th>491</th>\n      <td>Mujer</td>\n      <td>Clase Media</td>\n      <td>143.43</td>\n      <td>44.22</td>\n      <td>17</td>\n      <td>21692</td>\n    </tr>\n    <tr>\n      <th>495</th>\n      <td>Hombre</td>\n      <td>Clase Media</td>\n      <td>151.67</td>\n      <td>32.07</td>\n      <td>30</td>\n      <td>16868</td>\n    </tr>\n    <tr>\n      <th>498</th>\n      <td>Mujer</td>\n      <td>Bajos</td>\n      <td>129.18</td>\n      <td>94.22</td>\n      <td>19</td>\n      <td>17919</td>\n    </tr>\n    <tr>\n      <th>499</th>\n      <td>Mujer</td>\n      <td>Rico</td>\n      <td>181.68</td>\n      <td>115.74</td>\n      <td>6</td>\n      <td>12392</td>\n    </tr>\n  </tbody>\n</table>\n</div>"
     },
     "metadata": {},
     "execution_count": 34
    }
   ],
   "source": [
    "doble_agrupacion.tail(1) # Manera de pedir el último dato de cada agrupación"
   ]
  },
  {
   "cell_type": "code",
   "execution_count": 35,
   "metadata": {},
   "outputs": [
    {
     "output_type": "execute_result",
     "data": {
      "text/plain": [
       "                    Altura    Peso  Edad  Ingresos\n",
       "Genero Estatus                                    \n",
       "Hombre Bajos        197.99   73.36    45     19736\n",
       "       Clase Media  175.94   67.95    17     20823\n",
       "       Rico          87.22   63.05    24     15427\n",
       "Mujer  Bajos        154.90  132.22    14     17115\n",
       "       Clase Media  148.49   58.37    16     15443\n",
       "       Rico         145.21   71.05    21     20083"
      ],
      "text/html": "<div>\n<style scoped>\n    .dataframe tbody tr th:only-of-type {\n        vertical-align: middle;\n    }\n\n    .dataframe tbody tr th {\n        vertical-align: top;\n    }\n\n    .dataframe thead th {\n        text-align: right;\n    }\n</style>\n<table border=\"1\" class=\"dataframe\">\n  <thead>\n    <tr style=\"text-align: right;\">\n      <th></th>\n      <th></th>\n      <th>Altura</th>\n      <th>Peso</th>\n      <th>Edad</th>\n      <th>Ingresos</th>\n    </tr>\n    <tr>\n      <th>Genero</th>\n      <th>Estatus</th>\n      <th></th>\n      <th></th>\n      <th></th>\n      <th></th>\n    </tr>\n  </thead>\n  <tbody>\n    <tr>\n      <th rowspan=\"3\" valign=\"top\">Hombre</th>\n      <th>Bajos</th>\n      <td>197.99</td>\n      <td>73.36</td>\n      <td>45</td>\n      <td>19736</td>\n    </tr>\n    <tr>\n      <th>Clase Media</th>\n      <td>175.94</td>\n      <td>67.95</td>\n      <td>17</td>\n      <td>20823</td>\n    </tr>\n    <tr>\n      <th>Rico</th>\n      <td>87.22</td>\n      <td>63.05</td>\n      <td>24</td>\n      <td>15427</td>\n    </tr>\n    <tr>\n      <th rowspan=\"3\" valign=\"top\">Mujer</th>\n      <th>Bajos</th>\n      <td>154.90</td>\n      <td>132.22</td>\n      <td>14</td>\n      <td>17115</td>\n    </tr>\n    <tr>\n      <th>Clase Media</th>\n      <td>148.49</td>\n      <td>58.37</td>\n      <td>16</td>\n      <td>15443</td>\n    </tr>\n    <tr>\n      <th>Rico</th>\n      <td>145.21</td>\n      <td>71.05</td>\n      <td>21</td>\n      <td>20083</td>\n    </tr>\n  </tbody>\n</table>\n</div>"
     },
     "metadata": {},
     "execution_count": 35
    }
   ],
   "source": [
    "doble_agrupacion.nth(32) # Manera de pedir el dato n-ésimo de cada agrupación"
   ]
  },
  {
   "cell_type": "code",
   "execution_count": 36,
   "metadata": {},
   "outputs": [
    {
     "output_type": "execute_result",
     "data": {
      "text/plain": [
       "                    Altura   Peso  Edad  Ingresos\n",
       "Genero Estatus                                   \n",
       "Hombre Bajos        169.02  28.61    43     16871\n",
       "       Clase Media  184.06  36.12    17     16168\n",
       "Mujer  Clase Media  143.43  44.22    17     21692"
      ],
      "text/html": "<div>\n<style scoped>\n    .dataframe tbody tr th:only-of-type {\n        vertical-align: middle;\n    }\n\n    .dataframe tbody tr th {\n        vertical-align: top;\n    }\n\n    .dataframe thead th {\n        text-align: right;\n    }\n</style>\n<table border=\"1\" class=\"dataframe\">\n  <thead>\n    <tr style=\"text-align: right;\">\n      <th></th>\n      <th></th>\n      <th>Altura</th>\n      <th>Peso</th>\n      <th>Edad</th>\n      <th>Ingresos</th>\n    </tr>\n    <tr>\n      <th>Genero</th>\n      <th>Estatus</th>\n      <th></th>\n      <th></th>\n      <th></th>\n      <th></th>\n    </tr>\n  </thead>\n  <tbody>\n    <tr>\n      <th rowspan=\"2\" valign=\"top\">Hombre</th>\n      <th>Bajos</th>\n      <td>169.02</td>\n      <td>28.61</td>\n      <td>43</td>\n      <td>16871</td>\n    </tr>\n    <tr>\n      <th>Clase Media</th>\n      <td>184.06</td>\n      <td>36.12</td>\n      <td>17</td>\n      <td>16168</td>\n    </tr>\n    <tr>\n      <th>Mujer</th>\n      <th>Clase Media</th>\n      <td>143.43</td>\n      <td>44.22</td>\n      <td>17</td>\n      <td>21692</td>\n    </tr>\n  </tbody>\n</table>\n</div>"
     },
     "metadata": {},
     "execution_count": 36
    }
   ],
   "source": [
    "doble_agrupacion.nth(82)"
   ]
  },
  {
   "cell_type": "code",
   "execution_count": 37,
   "metadata": {},
   "outputs": [],
   "source": [
    "data_sorted = data.sort_values([\"Edad\", \"Ingresos\"])"
   ]
  },
  {
   "cell_type": "code",
   "execution_count": 38,
   "metadata": {},
   "outputs": [
    {
     "output_type": "execute_result",
     "data": {
      "text/plain": [
       "     Genero      Estatus  Altura    Peso  Edad  Ingresos\n",
       "50   Hombre        Bajos  193.19   41.10     1     18996\n",
       "237  Hombre        Bajos  145.49   28.94     1     20565\n",
       "3     Mujer         Rico  164.00    5.16     1     22239\n",
       "177  Hombre         Rico  183.13  103.72     2     14383\n",
       "452  Hombre         Rico  178.39   69.25     2     16583\n",
       "163  Hombre  Clase Media  165.42  108.87     2     17560\n",
       "9    Hombre  Clase Media  146.86   48.66     3     21376\n",
       "468   Mujer  Clase Media  132.83   37.82     5     15212\n",
       "118  Hombre        Bajos  165.54   55.59     5     18740\n",
       "242   Mujer        Bajos  173.48   21.96     5     20264"
      ],
      "text/html": "<div>\n<style scoped>\n    .dataframe tbody tr th:only-of-type {\n        vertical-align: middle;\n    }\n\n    .dataframe tbody tr th {\n        vertical-align: top;\n    }\n\n    .dataframe thead th {\n        text-align: right;\n    }\n</style>\n<table border=\"1\" class=\"dataframe\">\n  <thead>\n    <tr style=\"text-align: right;\">\n      <th></th>\n      <th>Genero</th>\n      <th>Estatus</th>\n      <th>Altura</th>\n      <th>Peso</th>\n      <th>Edad</th>\n      <th>Ingresos</th>\n    </tr>\n  </thead>\n  <tbody>\n    <tr>\n      <th>50</th>\n      <td>Hombre</td>\n      <td>Bajos</td>\n      <td>193.19</td>\n      <td>41.10</td>\n      <td>1</td>\n      <td>18996</td>\n    </tr>\n    <tr>\n      <th>237</th>\n      <td>Hombre</td>\n      <td>Bajos</td>\n      <td>145.49</td>\n      <td>28.94</td>\n      <td>1</td>\n      <td>20565</td>\n    </tr>\n    <tr>\n      <th>3</th>\n      <td>Mujer</td>\n      <td>Rico</td>\n      <td>164.00</td>\n      <td>5.16</td>\n      <td>1</td>\n      <td>22239</td>\n    </tr>\n    <tr>\n      <th>177</th>\n      <td>Hombre</td>\n      <td>Rico</td>\n      <td>183.13</td>\n      <td>103.72</td>\n      <td>2</td>\n      <td>14383</td>\n    </tr>\n    <tr>\n      <th>452</th>\n      <td>Hombre</td>\n      <td>Rico</td>\n      <td>178.39</td>\n      <td>69.25</td>\n      <td>2</td>\n      <td>16583</td>\n    </tr>\n    <tr>\n      <th>163</th>\n      <td>Hombre</td>\n      <td>Clase Media</td>\n      <td>165.42</td>\n      <td>108.87</td>\n      <td>2</td>\n      <td>17560</td>\n    </tr>\n    <tr>\n      <th>9</th>\n      <td>Hombre</td>\n      <td>Clase Media</td>\n      <td>146.86</td>\n      <td>48.66</td>\n      <td>3</td>\n      <td>21376</td>\n    </tr>\n    <tr>\n      <th>468</th>\n      <td>Mujer</td>\n      <td>Clase Media</td>\n      <td>132.83</td>\n      <td>37.82</td>\n      <td>5</td>\n      <td>15212</td>\n    </tr>\n    <tr>\n      <th>118</th>\n      <td>Hombre</td>\n      <td>Bajos</td>\n      <td>165.54</td>\n      <td>55.59</td>\n      <td>5</td>\n      <td>18740</td>\n    </tr>\n    <tr>\n      <th>242</th>\n      <td>Mujer</td>\n      <td>Bajos</td>\n      <td>173.48</td>\n      <td>21.96</td>\n      <td>5</td>\n      <td>20264</td>\n    </tr>\n  </tbody>\n</table>\n</div>"
     },
     "metadata": {},
     "execution_count": 38
    }
   ],
   "source": [
    "data_sorted.head(10)"
   ]
  },
  {
   "cell_type": "code",
   "execution_count": 39,
   "metadata": {},
   "outputs": [],
   "source": [
    "edad_grupo = data_sorted.groupby(\"Genero\")"
   ]
  },
  {
   "cell_type": "code",
   "execution_count": 40,
   "metadata": {},
   "outputs": [
    {
     "output_type": "execute_result",
     "data": {
      "text/plain": [
       "    Genero Estatus  Altura   Peso  Edad  Ingresos\n",
       "50  Hombre   Bajos  193.19  41.10     1     18996\n",
       "3    Mujer    Rico  164.00   5.16     1     22239"
      ],
      "text/html": "<div>\n<style scoped>\n    .dataframe tbody tr th:only-of-type {\n        vertical-align: middle;\n    }\n\n    .dataframe tbody tr th {\n        vertical-align: top;\n    }\n\n    .dataframe thead th {\n        text-align: right;\n    }\n</style>\n<table border=\"1\" class=\"dataframe\">\n  <thead>\n    <tr style=\"text-align: right;\">\n      <th></th>\n      <th>Genero</th>\n      <th>Estatus</th>\n      <th>Altura</th>\n      <th>Peso</th>\n      <th>Edad</th>\n      <th>Ingresos</th>\n    </tr>\n  </thead>\n  <tbody>\n    <tr>\n      <th>50</th>\n      <td>Hombre</td>\n      <td>Bajos</td>\n      <td>193.19</td>\n      <td>41.10</td>\n      <td>1</td>\n      <td>18996</td>\n    </tr>\n    <tr>\n      <th>3</th>\n      <td>Mujer</td>\n      <td>Rico</td>\n      <td>164.00</td>\n      <td>5.16</td>\n      <td>1</td>\n      <td>22239</td>\n    </tr>\n  </tbody>\n</table>\n</div>"
     },
     "metadata": {},
     "execution_count": 40
    }
   ],
   "source": [
    "edad_grupo.head(1)"
   ]
  },
  {
   "cell_type": "code",
   "execution_count": 41,
   "metadata": {},
   "outputs": [
    {
     "output_type": "execute_result",
     "data": {
      "text/plain": [
       "     Genero Estatus  Altura   Peso  Edad  Ingresos\n",
       "463   Mujer   Bajos  103.52  44.51    59     21966\n",
       "142  Hombre   Bajos  133.99  89.74    69     20256"
      ],
      "text/html": "<div>\n<style scoped>\n    .dataframe tbody tr th:only-of-type {\n        vertical-align: middle;\n    }\n\n    .dataframe tbody tr th {\n        vertical-align: top;\n    }\n\n    .dataframe thead th {\n        text-align: right;\n    }\n</style>\n<table border=\"1\" class=\"dataframe\">\n  <thead>\n    <tr style=\"text-align: right;\">\n      <th></th>\n      <th>Genero</th>\n      <th>Estatus</th>\n      <th>Altura</th>\n      <th>Peso</th>\n      <th>Edad</th>\n      <th>Ingresos</th>\n    </tr>\n  </thead>\n  <tbody>\n    <tr>\n      <th>463</th>\n      <td>Mujer</td>\n      <td>Bajos</td>\n      <td>103.52</td>\n      <td>44.51</td>\n      <td>59</td>\n      <td>21966</td>\n    </tr>\n    <tr>\n      <th>142</th>\n      <td>Hombre</td>\n      <td>Bajos</td>\n      <td>133.99</td>\n      <td>89.74</td>\n      <td>69</td>\n      <td>20256</td>\n    </tr>\n  </tbody>\n</table>\n</div>"
     },
     "metadata": {},
     "execution_count": 41
    }
   ],
   "source": [
    "edad_grupo.tail(1)"
   ]
  },
  {
   "source": [
    "## Conjunto de entrenamiento y conjunto de testing"
   ],
   "cell_type": "markdown",
   "metadata": {}
  },
  {
   "cell_type": "code",
   "execution_count": 42,
   "metadata": {},
   "outputs": [],
   "source": [
    "mainpath = mainpath = \"/Users/Ricar/Documents/Proyectos/MACHINE LEARNING - UDEMY/Datasets\"\n",
    "filename = \"customer-churn-model/Customer Churn Model.txt\"\n",
    "fullpath = os.path.join(mainpath,filename)"
   ]
  },
  {
   "cell_type": "code",
   "execution_count": 43,
   "metadata": {},
   "outputs": [],
   "source": [
    "data = pd.read_csv(fullpath)"
   ]
  },
  {
   "cell_type": "code",
   "execution_count": 44,
   "metadata": {},
   "outputs": [
    {
     "output_type": "execute_result",
     "data": {
      "text/plain": [
       "  State  Account Length  Area Code     Phone Int'l Plan VMail Plan  \\\n",
       "0    KS             128        415  382-4657         no        yes   \n",
       "1    OH             107        415  371-7191         no        yes   \n",
       "2    NJ             137        415  358-1921         no         no   \n",
       "3    OH              84        408  375-9999        yes         no   \n",
       "4    OK              75        415  330-6626        yes         no   \n",
       "\n",
       "   VMail Message  Day Mins  Day Calls  Day Charge  ...  Eve Calls  Eve Charge  \\\n",
       "0             25     265.1        110       45.07  ...         99       16.78   \n",
       "1             26     161.6        123       27.47  ...        103       16.62   \n",
       "2              0     243.4        114       41.38  ...        110       10.30   \n",
       "3              0     299.4         71       50.90  ...         88        5.26   \n",
       "4              0     166.7        113       28.34  ...        122       12.61   \n",
       "\n",
       "   Night Mins  Night Calls  Night Charge  Intl Mins  Intl Calls  Intl Charge  \\\n",
       "0       244.7           91         11.01       10.0           3         2.70   \n",
       "1       254.4          103         11.45       13.7           3         3.70   \n",
       "2       162.6          104          7.32       12.2           5         3.29   \n",
       "3       196.9           89          8.86        6.6           7         1.78   \n",
       "4       186.9          121          8.41       10.1           3         2.73   \n",
       "\n",
       "   CustServ Calls  Churn?  \n",
       "0               1  False.  \n",
       "1               1  False.  \n",
       "2               0  False.  \n",
       "3               2  False.  \n",
       "4               3  False.  \n",
       "\n",
       "[5 rows x 21 columns]"
      ],
      "text/html": "<div>\n<style scoped>\n    .dataframe tbody tr th:only-of-type {\n        vertical-align: middle;\n    }\n\n    .dataframe tbody tr th {\n        vertical-align: top;\n    }\n\n    .dataframe thead th {\n        text-align: right;\n    }\n</style>\n<table border=\"1\" class=\"dataframe\">\n  <thead>\n    <tr style=\"text-align: right;\">\n      <th></th>\n      <th>State</th>\n      <th>Account Length</th>\n      <th>Area Code</th>\n      <th>Phone</th>\n      <th>Int'l Plan</th>\n      <th>VMail Plan</th>\n      <th>VMail Message</th>\n      <th>Day Mins</th>\n      <th>Day Calls</th>\n      <th>Day Charge</th>\n      <th>...</th>\n      <th>Eve Calls</th>\n      <th>Eve Charge</th>\n      <th>Night Mins</th>\n      <th>Night Calls</th>\n      <th>Night Charge</th>\n      <th>Intl Mins</th>\n      <th>Intl Calls</th>\n      <th>Intl Charge</th>\n      <th>CustServ Calls</th>\n      <th>Churn?</th>\n    </tr>\n  </thead>\n  <tbody>\n    <tr>\n      <th>0</th>\n      <td>KS</td>\n      <td>128</td>\n      <td>415</td>\n      <td>382-4657</td>\n      <td>no</td>\n      <td>yes</td>\n      <td>25</td>\n      <td>265.1</td>\n      <td>110</td>\n      <td>45.07</td>\n      <td>...</td>\n      <td>99</td>\n      <td>16.78</td>\n      <td>244.7</td>\n      <td>91</td>\n      <td>11.01</td>\n      <td>10.0</td>\n      <td>3</td>\n      <td>2.70</td>\n      <td>1</td>\n      <td>False.</td>\n    </tr>\n    <tr>\n      <th>1</th>\n      <td>OH</td>\n      <td>107</td>\n      <td>415</td>\n      <td>371-7191</td>\n      <td>no</td>\n      <td>yes</td>\n      <td>26</td>\n      <td>161.6</td>\n      <td>123</td>\n      <td>27.47</td>\n      <td>...</td>\n      <td>103</td>\n      <td>16.62</td>\n      <td>254.4</td>\n      <td>103</td>\n      <td>11.45</td>\n      <td>13.7</td>\n      <td>3</td>\n      <td>3.70</td>\n      <td>1</td>\n      <td>False.</td>\n    </tr>\n    <tr>\n      <th>2</th>\n      <td>NJ</td>\n      <td>137</td>\n      <td>415</td>\n      <td>358-1921</td>\n      <td>no</td>\n      <td>no</td>\n      <td>0</td>\n      <td>243.4</td>\n      <td>114</td>\n      <td>41.38</td>\n      <td>...</td>\n      <td>110</td>\n      <td>10.30</td>\n      <td>162.6</td>\n      <td>104</td>\n      <td>7.32</td>\n      <td>12.2</td>\n      <td>5</td>\n      <td>3.29</td>\n      <td>0</td>\n      <td>False.</td>\n    </tr>\n    <tr>\n      <th>3</th>\n      <td>OH</td>\n      <td>84</td>\n      <td>408</td>\n      <td>375-9999</td>\n      <td>yes</td>\n      <td>no</td>\n      <td>0</td>\n      <td>299.4</td>\n      <td>71</td>\n      <td>50.90</td>\n      <td>...</td>\n      <td>88</td>\n      <td>5.26</td>\n      <td>196.9</td>\n      <td>89</td>\n      <td>8.86</td>\n      <td>6.6</td>\n      <td>7</td>\n      <td>1.78</td>\n      <td>2</td>\n      <td>False.</td>\n    </tr>\n    <tr>\n      <th>4</th>\n      <td>OK</td>\n      <td>75</td>\n      <td>415</td>\n      <td>330-6626</td>\n      <td>yes</td>\n      <td>no</td>\n      <td>0</td>\n      <td>166.7</td>\n      <td>113</td>\n      <td>28.34</td>\n      <td>...</td>\n      <td>122</td>\n      <td>12.61</td>\n      <td>186.9</td>\n      <td>121</td>\n      <td>8.41</td>\n      <td>10.1</td>\n      <td>3</td>\n      <td>2.73</td>\n      <td>3</td>\n      <td>False.</td>\n    </tr>\n  </tbody>\n</table>\n<p>5 rows × 21 columns</p>\n</div>"
     },
     "metadata": {},
     "execution_count": 44
    }
   ],
   "source": [
    "data.head()"
   ]
  },
  {
   "cell_type": "code",
   "execution_count": 45,
   "metadata": {},
   "outputs": [
    {
     "output_type": "execute_result",
     "data": {
      "text/plain": [
       "(3333, 21)"
      ]
     },
     "metadata": {},
     "execution_count": 45
    }
   ],
   "source": [
    "data.shape"
   ]
  },
  {
   "source": [
    "### Dividir utilizando la distribución normal"
   ],
   "cell_type": "markdown",
   "metadata": {}
  },
  {
   "cell_type": "code",
   "execution_count": 46,
   "metadata": {},
   "outputs": [],
   "source": [
    "a  = np.random.randn(len(data))"
   ]
  },
  {
   "cell_type": "code",
   "execution_count": 47,
   "metadata": {},
   "outputs": [
    {
     "output_type": "execute_result",
     "data": {
      "text/plain": [
       "(array([ 23., 112., 275., 659., 822., 744., 439., 184.,  58.,  17.]),\n",
       " array([-3.00860805, -2.38066951, -1.75273097, -1.12479242, -0.49685388,\n",
       "         0.13108467,  0.75902321,  1.38696176,  2.0149003 ,  2.64283885,\n",
       "         3.27077739]),\n",
       " <BarContainer object of 10 artists>)"
      ]
     },
     "metadata": {},
     "execution_count": 47
    },
    {
     "output_type": "display_data",
     "data": {
      "text/plain": "<Figure size 432x288 with 1 Axes>",
      "image/svg+xml": "<?xml version=\"1.0\" encoding=\"utf-8\" standalone=\"no\"?>\r\n<!DOCTYPE svg PUBLIC \"-//W3C//DTD SVG 1.1//EN\"\r\n  \"http://www.w3.org/Graphics/SVG/1.1/DTD/svg11.dtd\">\r\n<svg height=\"248.518125pt\" version=\"1.1\" viewBox=\"0 0 375.2875 248.518125\" width=\"375.2875pt\" xmlns=\"http://www.w3.org/2000/svg\" xmlns:xlink=\"http://www.w3.org/1999/xlink\">\r\n <metadata>\r\n  <rdf:RDF xmlns:cc=\"http://creativecommons.org/ns#\" xmlns:dc=\"http://purl.org/dc/elements/1.1/\" xmlns:rdf=\"http://www.w3.org/1999/02/22-rdf-syntax-ns#\">\r\n   <cc:Work>\r\n    <dc:type rdf:resource=\"http://purl.org/dc/dcmitype/StillImage\"/>\r\n    <dc:date>2021-05-18T14:32:42.158220</dc:date>\r\n    <dc:format>image/svg+xml</dc:format>\r\n    <dc:creator>\r\n     <cc:Agent>\r\n      <dc:title>Matplotlib v3.4.1, https://matplotlib.org/</dc:title>\r\n     </cc:Agent>\r\n    </dc:creator>\r\n   </cc:Work>\r\n  </rdf:RDF>\r\n </metadata>\r\n <defs>\r\n  <style type=\"text/css\">*{stroke-linecap:butt;stroke-linejoin:round;}</style>\r\n </defs>\r\n <g id=\"figure_1\">\r\n  <g id=\"patch_1\">\r\n   <path d=\"M 0 248.518125 \r\nL 375.2875 248.518125 \r\nL 375.2875 0 \r\nL 0 0 \r\nz\r\n\" style=\"fill:none;\"/>\r\n  </g>\r\n  <g id=\"axes_1\">\r\n   <g id=\"patch_2\">\r\n    <path d=\"M 33.2875 224.64 \r\nL 368.0875 224.64 \r\nL 368.0875 7.2 \r\nL 33.2875 7.2 \r\nz\r\n\" style=\"fill:#ffffff;\"/>\r\n   </g>\r\n   <g id=\"patch_3\">\r\n    <path clip-path=\"url(#p3ae3f82b00)\" d=\"M 48.505682 224.64 \r\nL 78.942045 224.64 \r\nL 78.942045 218.845631 \r\nL 48.505682 218.845631 \r\nz\r\n\" style=\"fill:#1f77b4;\"/>\r\n   </g>\r\n   <g id=\"patch_4\">\r\n    <path clip-path=\"url(#p3ae3f82b00)\" d=\"M 78.942045 224.64 \r\nL 109.378409 224.64 \r\nL 109.378409 196.423942 \r\nL 78.942045 196.423942 \r\nz\r\n\" style=\"fill:#1f77b4;\"/>\r\n   </g>\r\n   <g id=\"patch_5\">\r\n    <path clip-path=\"url(#p3ae3f82b00)\" d=\"M 109.378409 224.64 \r\nL 139.814773 224.64 \r\nL 139.814773 155.359499 \r\nL 109.378409 155.359499 \r\nz\r\n\" style=\"fill:#1f77b4;\"/>\r\n   </g>\r\n   <g id=\"patch_6\">\r\n    <path clip-path=\"url(#p3ae3f82b00)\" d=\"M 139.814773 224.64 \r\nL 170.251136 224.64 \r\nL 170.251136 58.618728 \r\nL 139.814773 58.618728 \r\nz\r\n\" style=\"fill:#1f77b4;\"/>\r\n   </g>\r\n   <g id=\"patch_7\">\r\n    <path clip-path=\"url(#p3ae3f82b00)\" d=\"M 170.251136 224.64 \r\nL 200.6875 224.64 \r\nL 200.6875 17.554286 \r\nL 170.251136 17.554286 \r\nz\r\n\" style=\"fill:#1f77b4;\"/>\r\n   </g>\r\n   <g id=\"patch_8\">\r\n    <path clip-path=\"url(#p3ae3f82b00)\" d=\"M 200.6875 224.64 \r\nL 231.123864 224.64 \r\nL 231.123864 37.204755 \r\nL 200.6875 37.204755 \r\nz\r\n\" style=\"fill:#1f77b4;\"/>\r\n   </g>\r\n   <g id=\"patch_9\">\r\n    <path clip-path=\"url(#p3ae3f82b00)\" d=\"M 231.123864 224.64 \r\nL 261.560227 224.64 \r\nL 261.560227 114.043128 \r\nL 231.123864 114.043128 \r\nz\r\n\" style=\"fill:#1f77b4;\"/>\r\n   </g>\r\n   <g id=\"patch_10\">\r\n    <path clip-path=\"url(#p3ae3f82b00)\" d=\"M 261.560227 224.64 \r\nL 291.996591 224.64 \r\nL 291.996591 178.285047 \r\nL 261.560227 178.285047 \r\nz\r\n\" style=\"fill:#1f77b4;\"/>\r\n   </g>\r\n   <g id=\"patch_11\">\r\n    <path clip-path=\"url(#p3ae3f82b00)\" d=\"M 291.996591 224.64 \r\nL 322.432955 224.64 \r\nL 322.432955 210.028113 \r\nL 291.996591 210.028113 \r\nz\r\n\" style=\"fill:#1f77b4;\"/>\r\n   </g>\r\n   <g id=\"patch_12\">\r\n    <path clip-path=\"url(#p3ae3f82b00)\" d=\"M 322.432955 224.64 \r\nL 352.869318 224.64 \r\nL 352.869318 220.357205 \r\nL 322.432955 220.357205 \r\nz\r\n\" style=\"fill:#1f77b4;\"/>\r\n   </g>\r\n   <g id=\"matplotlib.axis_1\">\r\n    <g id=\"xtick_1\">\r\n     <g id=\"line2d_1\">\r\n      <defs>\r\n       <path d=\"M 0 0 \r\nL 0 3.5 \r\n\" id=\"ma6ffe7782c\" style=\"stroke:#000000;stroke-width:0.8;\"/>\r\n      </defs>\r\n      <g>\r\n       <use style=\"stroke:#000000;stroke-width:0.8;\" x=\"48.922917\" xlink:href=\"#ma6ffe7782c\" y=\"224.64\"/>\r\n      </g>\r\n     </g>\r\n     <g id=\"text_1\">\r\n      <!-- −3 -->\r\n      <g transform=\"translate(41.551823 239.238437)scale(0.1 -0.1)\">\r\n       <defs>\r\n        <path d=\"M 678 2272 \r\nL 4684 2272 \r\nL 4684 1741 \r\nL 678 1741 \r\nL 678 2272 \r\nz\r\n\" id=\"DejaVuSans-2212\" transform=\"scale(0.015625)\"/>\r\n        <path d=\"M 2597 2516 \r\nQ 3050 2419 3304 2112 \r\nQ 3559 1806 3559 1356 \r\nQ 3559 666 3084 287 \r\nQ 2609 -91 1734 -91 \r\nQ 1441 -91 1130 -33 \r\nQ 819 25 488 141 \r\nL 488 750 \r\nQ 750 597 1062 519 \r\nQ 1375 441 1716 441 \r\nQ 2309 441 2620 675 \r\nQ 2931 909 2931 1356 \r\nQ 2931 1769 2642 2001 \r\nQ 2353 2234 1838 2234 \r\nL 1294 2234 \r\nL 1294 2753 \r\nL 1863 2753 \r\nQ 2328 2753 2575 2939 \r\nQ 2822 3125 2822 3475 \r\nQ 2822 3834 2567 4026 \r\nQ 2313 4219 1838 4219 \r\nQ 1578 4219 1281 4162 \r\nQ 984 4106 628 3988 \r\nL 628 4550 \r\nQ 988 4650 1302 4700 \r\nQ 1616 4750 1894 4750 \r\nQ 2613 4750 3031 4423 \r\nQ 3450 4097 3450 3541 \r\nQ 3450 3153 3228 2886 \r\nQ 3006 2619 2597 2516 \r\nz\r\n\" id=\"DejaVuSans-33\" transform=\"scale(0.015625)\"/>\r\n       </defs>\r\n       <use xlink:href=\"#DejaVuSans-2212\"/>\r\n       <use x=\"83.789062\" xlink:href=\"#DejaVuSans-33\"/>\r\n      </g>\r\n     </g>\r\n    </g>\r\n    <g id=\"xtick_2\">\r\n     <g id=\"line2d_2\">\r\n      <g>\r\n       <use style=\"stroke:#000000;stroke-width:0.8;\" x=\"97.393207\" xlink:href=\"#ma6ffe7782c\" y=\"224.64\"/>\r\n      </g>\r\n     </g>\r\n     <g id=\"text_2\">\r\n      <!-- −2 -->\r\n      <g transform=\"translate(90.022113 239.238437)scale(0.1 -0.1)\">\r\n       <defs>\r\n        <path d=\"M 1228 531 \r\nL 3431 531 \r\nL 3431 0 \r\nL 469 0 \r\nL 469 531 \r\nQ 828 903 1448 1529 \r\nQ 2069 2156 2228 2338 \r\nQ 2531 2678 2651 2914 \r\nQ 2772 3150 2772 3378 \r\nQ 2772 3750 2511 3984 \r\nQ 2250 4219 1831 4219 \r\nQ 1534 4219 1204 4116 \r\nQ 875 4013 500 3803 \r\nL 500 4441 \r\nQ 881 4594 1212 4672 \r\nQ 1544 4750 1819 4750 \r\nQ 2544 4750 2975 4387 \r\nQ 3406 4025 3406 3419 \r\nQ 3406 3131 3298 2873 \r\nQ 3191 2616 2906 2266 \r\nQ 2828 2175 2409 1742 \r\nQ 1991 1309 1228 531 \r\nz\r\n\" id=\"DejaVuSans-32\" transform=\"scale(0.015625)\"/>\r\n       </defs>\r\n       <use xlink:href=\"#DejaVuSans-2212\"/>\r\n       <use x=\"83.789062\" xlink:href=\"#DejaVuSans-32\"/>\r\n      </g>\r\n     </g>\r\n    </g>\r\n    <g id=\"xtick_3\">\r\n     <g id=\"line2d_3\">\r\n      <g>\r\n       <use style=\"stroke:#000000;stroke-width:0.8;\" x=\"145.863498\" xlink:href=\"#ma6ffe7782c\" y=\"224.64\"/>\r\n      </g>\r\n     </g>\r\n     <g id=\"text_3\">\r\n      <!-- −1 -->\r\n      <g transform=\"translate(138.492404 239.238437)scale(0.1 -0.1)\">\r\n       <defs>\r\n        <path d=\"M 794 531 \r\nL 1825 531 \r\nL 1825 4091 \r\nL 703 3866 \r\nL 703 4441 \r\nL 1819 4666 \r\nL 2450 4666 \r\nL 2450 531 \r\nL 3481 531 \r\nL 3481 0 \r\nL 794 0 \r\nL 794 531 \r\nz\r\n\" id=\"DejaVuSans-31\" transform=\"scale(0.015625)\"/>\r\n       </defs>\r\n       <use xlink:href=\"#DejaVuSans-2212\"/>\r\n       <use x=\"83.789062\" xlink:href=\"#DejaVuSans-31\"/>\r\n      </g>\r\n     </g>\r\n    </g>\r\n    <g id=\"xtick_4\">\r\n     <g id=\"line2d_4\">\r\n      <g>\r\n       <use style=\"stroke:#000000;stroke-width:0.8;\" x=\"194.333788\" xlink:href=\"#ma6ffe7782c\" y=\"224.64\"/>\r\n      </g>\r\n     </g>\r\n     <g id=\"text_4\">\r\n      <!-- 0 -->\r\n      <g transform=\"translate(191.152538 239.238437)scale(0.1 -0.1)\">\r\n       <defs>\r\n        <path d=\"M 2034 4250 \r\nQ 1547 4250 1301 3770 \r\nQ 1056 3291 1056 2328 \r\nQ 1056 1369 1301 889 \r\nQ 1547 409 2034 409 \r\nQ 2525 409 2770 889 \r\nQ 3016 1369 3016 2328 \r\nQ 3016 3291 2770 3770 \r\nQ 2525 4250 2034 4250 \r\nz\r\nM 2034 4750 \r\nQ 2819 4750 3233 4129 \r\nQ 3647 3509 3647 2328 \r\nQ 3647 1150 3233 529 \r\nQ 2819 -91 2034 -91 \r\nQ 1250 -91 836 529 \r\nQ 422 1150 422 2328 \r\nQ 422 3509 836 4129 \r\nQ 1250 4750 2034 4750 \r\nz\r\n\" id=\"DejaVuSans-30\" transform=\"scale(0.015625)\"/>\r\n       </defs>\r\n       <use xlink:href=\"#DejaVuSans-30\"/>\r\n      </g>\r\n     </g>\r\n    </g>\r\n    <g id=\"xtick_5\">\r\n     <g id=\"line2d_5\">\r\n      <g>\r\n       <use style=\"stroke:#000000;stroke-width:0.8;\" x=\"242.804078\" xlink:href=\"#ma6ffe7782c\" y=\"224.64\"/>\r\n      </g>\r\n     </g>\r\n     <g id=\"text_5\">\r\n      <!-- 1 -->\r\n      <g transform=\"translate(239.622828 239.238437)scale(0.1 -0.1)\">\r\n       <use xlink:href=\"#DejaVuSans-31\"/>\r\n      </g>\r\n     </g>\r\n    </g>\r\n    <g id=\"xtick_6\">\r\n     <g id=\"line2d_6\">\r\n      <g>\r\n       <use style=\"stroke:#000000;stroke-width:0.8;\" x=\"291.274369\" xlink:href=\"#ma6ffe7782c\" y=\"224.64\"/>\r\n      </g>\r\n     </g>\r\n     <g id=\"text_6\">\r\n      <!-- 2 -->\r\n      <g transform=\"translate(288.093119 239.238437)scale(0.1 -0.1)\">\r\n       <use xlink:href=\"#DejaVuSans-32\"/>\r\n      </g>\r\n     </g>\r\n    </g>\r\n    <g id=\"xtick_7\">\r\n     <g id=\"line2d_7\">\r\n      <g>\r\n       <use style=\"stroke:#000000;stroke-width:0.8;\" x=\"339.744659\" xlink:href=\"#ma6ffe7782c\" y=\"224.64\"/>\r\n      </g>\r\n     </g>\r\n     <g id=\"text_7\">\r\n      <!-- 3 -->\r\n      <g transform=\"translate(336.563409 239.238437)scale(0.1 -0.1)\">\r\n       <use xlink:href=\"#DejaVuSans-33\"/>\r\n      </g>\r\n     </g>\r\n    </g>\r\n   </g>\r\n   <g id=\"matplotlib.axis_2\">\r\n    <g id=\"ytick_1\">\r\n     <g id=\"line2d_8\">\r\n      <defs>\r\n       <path d=\"M 0 0 \r\nL -3.5 0 \r\n\" id=\"m471d5f2627\" style=\"stroke:#000000;stroke-width:0.8;\"/>\r\n      </defs>\r\n      <g>\r\n       <use style=\"stroke:#000000;stroke-width:0.8;\" x=\"33.2875\" xlink:href=\"#m471d5f2627\" y=\"224.64\"/>\r\n      </g>\r\n     </g>\r\n     <g id=\"text_8\">\r\n      <!-- 0 -->\r\n      <g transform=\"translate(19.925 228.439219)scale(0.1 -0.1)\">\r\n       <use xlink:href=\"#DejaVuSans-30\"/>\r\n      </g>\r\n     </g>\r\n    </g>\r\n    <g id=\"ytick_2\">\r\n     <g id=\"line2d_9\">\r\n      <g>\r\n       <use style=\"stroke:#000000;stroke-width:0.8;\" x=\"33.2875\" xlink:href=\"#m471d5f2627\" y=\"199.447091\"/>\r\n      </g>\r\n     </g>\r\n     <g id=\"text_9\">\r\n      <!-- 100 -->\r\n      <g transform=\"translate(7.2 203.246309)scale(0.1 -0.1)\">\r\n       <use xlink:href=\"#DejaVuSans-31\"/>\r\n       <use x=\"63.623047\" xlink:href=\"#DejaVuSans-30\"/>\r\n       <use x=\"127.246094\" xlink:href=\"#DejaVuSans-30\"/>\r\n      </g>\r\n     </g>\r\n    </g>\r\n    <g id=\"ytick_3\">\r\n     <g id=\"line2d_10\">\r\n      <g>\r\n       <use style=\"stroke:#000000;stroke-width:0.8;\" x=\"33.2875\" xlink:href=\"#m471d5f2627\" y=\"174.254181\"/>\r\n      </g>\r\n     </g>\r\n     <g id=\"text_10\">\r\n      <!-- 200 -->\r\n      <g transform=\"translate(7.2 178.0534)scale(0.1 -0.1)\">\r\n       <use xlink:href=\"#DejaVuSans-32\"/>\r\n       <use x=\"63.623047\" xlink:href=\"#DejaVuSans-30\"/>\r\n       <use x=\"127.246094\" xlink:href=\"#DejaVuSans-30\"/>\r\n      </g>\r\n     </g>\r\n    </g>\r\n    <g id=\"ytick_4\">\r\n     <g id=\"line2d_11\">\r\n      <g>\r\n       <use style=\"stroke:#000000;stroke-width:0.8;\" x=\"33.2875\" xlink:href=\"#m471d5f2627\" y=\"149.061272\"/>\r\n      </g>\r\n     </g>\r\n     <g id=\"text_11\">\r\n      <!-- 300 -->\r\n      <g transform=\"translate(7.2 152.860491)scale(0.1 -0.1)\">\r\n       <use xlink:href=\"#DejaVuSans-33\"/>\r\n       <use x=\"63.623047\" xlink:href=\"#DejaVuSans-30\"/>\r\n       <use x=\"127.246094\" xlink:href=\"#DejaVuSans-30\"/>\r\n      </g>\r\n     </g>\r\n    </g>\r\n    <g id=\"ytick_5\">\r\n     <g id=\"line2d_12\">\r\n      <g>\r\n       <use style=\"stroke:#000000;stroke-width:0.8;\" x=\"33.2875\" xlink:href=\"#m471d5f2627\" y=\"123.868363\"/>\r\n      </g>\r\n     </g>\r\n     <g id=\"text_12\">\r\n      <!-- 400 -->\r\n      <g transform=\"translate(7.2 127.667582)scale(0.1 -0.1)\">\r\n       <defs>\r\n        <path d=\"M 2419 4116 \r\nL 825 1625 \r\nL 2419 1625 \r\nL 2419 4116 \r\nz\r\nM 2253 4666 \r\nL 3047 4666 \r\nL 3047 1625 \r\nL 3713 1625 \r\nL 3713 1100 \r\nL 3047 1100 \r\nL 3047 0 \r\nL 2419 0 \r\nL 2419 1100 \r\nL 313 1100 \r\nL 313 1709 \r\nL 2253 4666 \r\nz\r\n\" id=\"DejaVuSans-34\" transform=\"scale(0.015625)\"/>\r\n       </defs>\r\n       <use xlink:href=\"#DejaVuSans-34\"/>\r\n       <use x=\"63.623047\" xlink:href=\"#DejaVuSans-30\"/>\r\n       <use x=\"127.246094\" xlink:href=\"#DejaVuSans-30\"/>\r\n      </g>\r\n     </g>\r\n    </g>\r\n    <g id=\"ytick_6\">\r\n     <g id=\"line2d_13\">\r\n      <g>\r\n       <use style=\"stroke:#000000;stroke-width:0.8;\" x=\"33.2875\" xlink:href=\"#m471d5f2627\" y=\"98.675454\"/>\r\n      </g>\r\n     </g>\r\n     <g id=\"text_13\">\r\n      <!-- 500 -->\r\n      <g transform=\"translate(7.2 102.474672)scale(0.1 -0.1)\">\r\n       <defs>\r\n        <path d=\"M 691 4666 \r\nL 3169 4666 \r\nL 3169 4134 \r\nL 1269 4134 \r\nL 1269 2991 \r\nQ 1406 3038 1543 3061 \r\nQ 1681 3084 1819 3084 \r\nQ 2600 3084 3056 2656 \r\nQ 3513 2228 3513 1497 \r\nQ 3513 744 3044 326 \r\nQ 2575 -91 1722 -91 \r\nQ 1428 -91 1123 -41 \r\nQ 819 9 494 109 \r\nL 494 744 \r\nQ 775 591 1075 516 \r\nQ 1375 441 1709 441 \r\nQ 2250 441 2565 725 \r\nQ 2881 1009 2881 1497 \r\nQ 2881 1984 2565 2268 \r\nQ 2250 2553 1709 2553 \r\nQ 1456 2553 1204 2497 \r\nQ 953 2441 691 2322 \r\nL 691 4666 \r\nz\r\n\" id=\"DejaVuSans-35\" transform=\"scale(0.015625)\"/>\r\n       </defs>\r\n       <use xlink:href=\"#DejaVuSans-35\"/>\r\n       <use x=\"63.623047\" xlink:href=\"#DejaVuSans-30\"/>\r\n       <use x=\"127.246094\" xlink:href=\"#DejaVuSans-30\"/>\r\n      </g>\r\n     </g>\r\n    </g>\r\n    <g id=\"ytick_7\">\r\n     <g id=\"line2d_14\">\r\n      <g>\r\n       <use style=\"stroke:#000000;stroke-width:0.8;\" x=\"33.2875\" xlink:href=\"#m471d5f2627\" y=\"73.482544\"/>\r\n      </g>\r\n     </g>\r\n     <g id=\"text_14\">\r\n      <!-- 600 -->\r\n      <g transform=\"translate(7.2 77.281763)scale(0.1 -0.1)\">\r\n       <defs>\r\n        <path d=\"M 2113 2584 \r\nQ 1688 2584 1439 2293 \r\nQ 1191 2003 1191 1497 \r\nQ 1191 994 1439 701 \r\nQ 1688 409 2113 409 \r\nQ 2538 409 2786 701 \r\nQ 3034 994 3034 1497 \r\nQ 3034 2003 2786 2293 \r\nQ 2538 2584 2113 2584 \r\nz\r\nM 3366 4563 \r\nL 3366 3988 \r\nQ 3128 4100 2886 4159 \r\nQ 2644 4219 2406 4219 \r\nQ 1781 4219 1451 3797 \r\nQ 1122 3375 1075 2522 \r\nQ 1259 2794 1537 2939 \r\nQ 1816 3084 2150 3084 \r\nQ 2853 3084 3261 2657 \r\nQ 3669 2231 3669 1497 \r\nQ 3669 778 3244 343 \r\nQ 2819 -91 2113 -91 \r\nQ 1303 -91 875 529 \r\nQ 447 1150 447 2328 \r\nQ 447 3434 972 4092 \r\nQ 1497 4750 2381 4750 \r\nQ 2619 4750 2861 4703 \r\nQ 3103 4656 3366 4563 \r\nz\r\n\" id=\"DejaVuSans-36\" transform=\"scale(0.015625)\"/>\r\n       </defs>\r\n       <use xlink:href=\"#DejaVuSans-36\"/>\r\n       <use x=\"63.623047\" xlink:href=\"#DejaVuSans-30\"/>\r\n       <use x=\"127.246094\" xlink:href=\"#DejaVuSans-30\"/>\r\n      </g>\r\n     </g>\r\n    </g>\r\n    <g id=\"ytick_8\">\r\n     <g id=\"line2d_15\">\r\n      <g>\r\n       <use style=\"stroke:#000000;stroke-width:0.8;\" x=\"33.2875\" xlink:href=\"#m471d5f2627\" y=\"48.289635\"/>\r\n      </g>\r\n     </g>\r\n     <g id=\"text_15\">\r\n      <!-- 700 -->\r\n      <g transform=\"translate(7.2 52.088854)scale(0.1 -0.1)\">\r\n       <defs>\r\n        <path d=\"M 525 4666 \r\nL 3525 4666 \r\nL 3525 4397 \r\nL 1831 0 \r\nL 1172 0 \r\nL 2766 4134 \r\nL 525 4134 \r\nL 525 4666 \r\nz\r\n\" id=\"DejaVuSans-37\" transform=\"scale(0.015625)\"/>\r\n       </defs>\r\n       <use xlink:href=\"#DejaVuSans-37\"/>\r\n       <use x=\"63.623047\" xlink:href=\"#DejaVuSans-30\"/>\r\n       <use x=\"127.246094\" xlink:href=\"#DejaVuSans-30\"/>\r\n      </g>\r\n     </g>\r\n    </g>\r\n    <g id=\"ytick_9\">\r\n     <g id=\"line2d_16\">\r\n      <g>\r\n       <use style=\"stroke:#000000;stroke-width:0.8;\" x=\"33.2875\" xlink:href=\"#m471d5f2627\" y=\"23.096726\"/>\r\n      </g>\r\n     </g>\r\n     <g id=\"text_16\">\r\n      <!-- 800 -->\r\n      <g transform=\"translate(7.2 26.895945)scale(0.1 -0.1)\">\r\n       <defs>\r\n        <path d=\"M 2034 2216 \r\nQ 1584 2216 1326 1975 \r\nQ 1069 1734 1069 1313 \r\nQ 1069 891 1326 650 \r\nQ 1584 409 2034 409 \r\nQ 2484 409 2743 651 \r\nQ 3003 894 3003 1313 \r\nQ 3003 1734 2745 1975 \r\nQ 2488 2216 2034 2216 \r\nz\r\nM 1403 2484 \r\nQ 997 2584 770 2862 \r\nQ 544 3141 544 3541 \r\nQ 544 4100 942 4425 \r\nQ 1341 4750 2034 4750 \r\nQ 2731 4750 3128 4425 \r\nQ 3525 4100 3525 3541 \r\nQ 3525 3141 3298 2862 \r\nQ 3072 2584 2669 2484 \r\nQ 3125 2378 3379 2068 \r\nQ 3634 1759 3634 1313 \r\nQ 3634 634 3220 271 \r\nQ 2806 -91 2034 -91 \r\nQ 1263 -91 848 271 \r\nQ 434 634 434 1313 \r\nQ 434 1759 690 2068 \r\nQ 947 2378 1403 2484 \r\nz\r\nM 1172 3481 \r\nQ 1172 3119 1398 2916 \r\nQ 1625 2713 2034 2713 \r\nQ 2441 2713 2670 2916 \r\nQ 2900 3119 2900 3481 \r\nQ 2900 3844 2670 4047 \r\nQ 2441 4250 2034 4250 \r\nQ 1625 4250 1398 4047 \r\nQ 1172 3844 1172 3481 \r\nz\r\n\" id=\"DejaVuSans-38\" transform=\"scale(0.015625)\"/>\r\n       </defs>\r\n       <use xlink:href=\"#DejaVuSans-38\"/>\r\n       <use x=\"63.623047\" xlink:href=\"#DejaVuSans-30\"/>\r\n       <use x=\"127.246094\" xlink:href=\"#DejaVuSans-30\"/>\r\n      </g>\r\n     </g>\r\n    </g>\r\n   </g>\r\n   <g id=\"patch_13\">\r\n    <path d=\"M 33.2875 224.64 \r\nL 33.2875 7.2 \r\n\" style=\"fill:none;stroke:#000000;stroke-linecap:square;stroke-linejoin:miter;stroke-width:0.8;\"/>\r\n   </g>\r\n   <g id=\"patch_14\">\r\n    <path d=\"M 368.0875 224.64 \r\nL 368.0875 7.2 \r\n\" style=\"fill:none;stroke:#000000;stroke-linecap:square;stroke-linejoin:miter;stroke-width:0.8;\"/>\r\n   </g>\r\n   <g id=\"patch_15\">\r\n    <path d=\"M 33.2875 224.64 \r\nL 368.0875 224.64 \r\n\" style=\"fill:none;stroke:#000000;stroke-linecap:square;stroke-linejoin:miter;stroke-width:0.8;\"/>\r\n   </g>\r\n   <g id=\"patch_16\">\r\n    <path d=\"M 33.2875 7.2 \r\nL 368.0875 7.2 \r\n\" style=\"fill:none;stroke:#000000;stroke-linecap:square;stroke-linejoin:miter;stroke-width:0.8;\"/>\r\n   </g>\r\n  </g>\r\n </g>\r\n <defs>\r\n  <clipPath id=\"p3ae3f82b00\">\r\n   <rect height=\"217.44\" width=\"334.8\" x=\"33.2875\" y=\"7.2\"/>\r\n  </clipPath>\r\n </defs>\r\n</svg>\r\n",
      "image/png": "[encoded data removed]"
     },
     "metadata": {
      "needs_background": "light"
     }
    }
   ],
   "source": [
    "plt.hist(a)"
   ]
  },
  {
   "cell_type": "code",
   "execution_count": 60,
   "metadata": {},
   "outputs": [],
   "source": [
    "check = (a < 0.75)"
   ]
  },
  {
   "cell_type": "code",
   "execution_count": 61,
   "metadata": {},
   "outputs": [
    {
     "output_type": "execute_result",
     "data": {
      "text/plain": [
       "(array([ 705.,    0.,    0.,    0.,    0.,    0.,    0.,    0.,    0.,\n",
       "        2628.]),\n",
       " array([0. , 0.1, 0.2, 0.3, 0.4, 0.5, 0.6, 0.7, 0.8, 0.9, 1. ]),\n",
       " <BarContainer object of 10 artists>)"
      ]
     },
     "metadata": {},
     "execution_count": 61
    },
    {
     "output_type": "display_data",
     "data": {
      "text/plain": "<Figure size 432x288 with 1 Axes>",
      "image/svg+xml": "<?xml version=\"1.0\" encoding=\"utf-8\" standalone=\"no\"?>\r\n<!DOCTYPE svg PUBLIC \"-//W3C//DTD SVG 1.1//EN\"\r\n  \"http://www.w3.org/Graphics/SVG/1.1/DTD/svg11.dtd\">\r\n<svg height=\"248.518125pt\" version=\"1.1\" viewBox=\"0 0 381.65 248.518125\" width=\"381.65pt\" xmlns=\"http://www.w3.org/2000/svg\" xmlns:xlink=\"http://www.w3.org/1999/xlink\">\r\n <metadata>\r\n  <rdf:RDF xmlns:cc=\"http://creativecommons.org/ns#\" xmlns:dc=\"http://purl.org/dc/elements/1.1/\" xmlns:rdf=\"http://www.w3.org/1999/02/22-rdf-syntax-ns#\">\r\n   <cc:Work>\r\n    <dc:type rdf:resource=\"http://purl.org/dc/dcmitype/StillImage\"/>\r\n    <dc:date>2021-05-18T14:39:49.059621</dc:date>\r\n    <dc:format>image/svg+xml</dc:format>\r\n    <dc:creator>\r\n     <cc:Agent>\r\n      <dc:title>Matplotlib v3.4.1, https://matplotlib.org/</dc:title>\r\n     </cc:Agent>\r\n    </dc:creator>\r\n   </cc:Work>\r\n  </rdf:RDF>\r\n </metadata>\r\n <defs>\r\n  <style type=\"text/css\">*{stroke-linecap:butt;stroke-linejoin:round;}</style>\r\n </defs>\r\n <g id=\"figure_1\">\r\n  <g id=\"patch_1\">\r\n   <path d=\"M -0 248.518125 \r\nL 381.65 248.518125 \r\nL 381.65 0 \r\nL -0 0 \r\nz\r\n\" style=\"fill:none;\"/>\r\n  </g>\r\n  <g id=\"axes_1\">\r\n   <g id=\"patch_2\">\r\n    <path d=\"M 39.65 224.64 \r\nL 374.45 224.64 \r\nL 374.45 7.2 \r\nL 39.65 7.2 \r\nz\r\n\" style=\"fill:#ffffff;\"/>\r\n   </g>\r\n   <g id=\"patch_3\">\r\n    <path clip-path=\"url(#p7ae92de93e)\" d=\"M 54.868182 224.64 \r\nL 85.304545 224.64 \r\nL 85.304545 169.086184 \r\nL 54.868182 169.086184 \r\nz\r\n\" style=\"fill:#1f77b4;\"/>\r\n   </g>\r\n   <g id=\"patch_4\">\r\n    <path clip-path=\"url(#p7ae92de93e)\" d=\"M 85.304545 224.64 \r\nL 115.740909 224.64 \r\nL 115.740909 224.64 \r\nL 85.304545 224.64 \r\nz\r\n\" style=\"fill:#1f77b4;\"/>\r\n   </g>\r\n   <g id=\"patch_5\">\r\n    <path clip-path=\"url(#p7ae92de93e)\" d=\"M 115.740909 224.64 \r\nL 146.177273 224.64 \r\nL 146.177273 224.64 \r\nL 115.740909 224.64 \r\nz\r\n\" style=\"fill:#1f77b4;\"/>\r\n   </g>\r\n   <g id=\"patch_6\">\r\n    <path clip-path=\"url(#p7ae92de93e)\" d=\"M 146.177273 224.64 \r\nL 176.613636 224.64 \r\nL 176.613636 224.64 \r\nL 146.177273 224.64 \r\nz\r\n\" style=\"fill:#1f77b4;\"/>\r\n   </g>\r\n   <g id=\"patch_7\">\r\n    <path clip-path=\"url(#p7ae92de93e)\" d=\"M 176.613636 224.64 \r\nL 207.05 224.64 \r\nL 207.05 224.64 \r\nL 176.613636 224.64 \r\nz\r\n\" style=\"fill:#1f77b4;\"/>\r\n   </g>\r\n   <g id=\"patch_8\">\r\n    <path clip-path=\"url(#p7ae92de93e)\" d=\"M 207.05 224.64 \r\nL 237.486364 224.64 \r\nL 237.486364 224.64 \r\nL 207.05 224.64 \r\nz\r\n\" style=\"fill:#1f77b4;\"/>\r\n   </g>\r\n   <g id=\"patch_9\">\r\n    <path clip-path=\"url(#p7ae92de93e)\" d=\"M 237.486364 224.64 \r\nL 267.922727 224.64 \r\nL 267.922727 224.64 \r\nL 237.486364 224.64 \r\nz\r\n\" style=\"fill:#1f77b4;\"/>\r\n   </g>\r\n   <g id=\"patch_10\">\r\n    <path clip-path=\"url(#p7ae92de93e)\" d=\"M 267.922727 224.64 \r\nL 298.359091 224.64 \r\nL 298.359091 224.64 \r\nL 267.922727 224.64 \r\nz\r\n\" style=\"fill:#1f77b4;\"/>\r\n   </g>\r\n   <g id=\"patch_11\">\r\n    <path clip-path=\"url(#p7ae92de93e)\" d=\"M 298.359091 224.64 \r\nL 328.795455 224.64 \r\nL 328.795455 224.64 \r\nL 298.359091 224.64 \r\nz\r\n\" style=\"fill:#1f77b4;\"/>\r\n   </g>\r\n   <g id=\"patch_12\">\r\n    <path clip-path=\"url(#p7ae92de93e)\" d=\"M 328.795455 224.64 \r\nL 359.231818 224.64 \r\nL 359.231818 17.554286 \r\nL 328.795455 17.554286 \r\nz\r\n\" style=\"fill:#1f77b4;\"/>\r\n   </g>\r\n   <g id=\"matplotlib.axis_1\">\r\n    <g id=\"xtick_1\">\r\n     <g id=\"line2d_1\">\r\n      <defs>\r\n       <path d=\"M 0 0 \r\nL 0 3.5 \r\n\" id=\"m0c11fcec2b\" style=\"stroke:#000000;stroke-width:0.8;\"/>\r\n      </defs>\r\n      <g>\r\n       <use style=\"stroke:#000000;stroke-width:0.8;\" x=\"54.868182\" xlink:href=\"#m0c11fcec2b\" y=\"224.64\"/>\r\n      </g>\r\n     </g>\r\n     <g id=\"text_1\">\r\n      <!-- 0.0 -->\r\n      <g transform=\"translate(46.916619 239.238437)scale(0.1 -0.1)\">\r\n       <defs>\r\n        <path d=\"M 2034 4250 \r\nQ 1547 4250 1301 3770 \r\nQ 1056 3291 1056 2328 \r\nQ 1056 1369 1301 889 \r\nQ 1547 409 2034 409 \r\nQ 2525 409 2770 889 \r\nQ 3016 1369 3016 2328 \r\nQ 3016 3291 2770 3770 \r\nQ 2525 4250 2034 4250 \r\nz\r\nM 2034 4750 \r\nQ 2819 4750 3233 4129 \r\nQ 3647 3509 3647 2328 \r\nQ 3647 1150 3233 529 \r\nQ 2819 -91 2034 -91 \r\nQ 1250 -91 836 529 \r\nQ 422 1150 422 2328 \r\nQ 422 3509 836 4129 \r\nQ 1250 4750 2034 4750 \r\nz\r\n\" id=\"DejaVuSans-30\" transform=\"scale(0.015625)\"/>\r\n        <path d=\"M 684 794 \r\nL 1344 794 \r\nL 1344 0 \r\nL 684 0 \r\nL 684 794 \r\nz\r\n\" id=\"DejaVuSans-2e\" transform=\"scale(0.015625)\"/>\r\n       </defs>\r\n       <use xlink:href=\"#DejaVuSans-30\"/>\r\n       <use x=\"63.623047\" xlink:href=\"#DejaVuSans-2e\"/>\r\n       <use x=\"95.410156\" xlink:href=\"#DejaVuSans-30\"/>\r\n      </g>\r\n     </g>\r\n    </g>\r\n    <g id=\"xtick_2\">\r\n     <g id=\"line2d_2\">\r\n      <g>\r\n       <use style=\"stroke:#000000;stroke-width:0.8;\" x=\"115.740909\" xlink:href=\"#m0c11fcec2b\" y=\"224.64\"/>\r\n      </g>\r\n     </g>\r\n     <g id=\"text_2\">\r\n      <!-- 0.2 -->\r\n      <g transform=\"translate(107.789347 239.238437)scale(0.1 -0.1)\">\r\n       <defs>\r\n        <path d=\"M 1228 531 \r\nL 3431 531 \r\nL 3431 0 \r\nL 469 0 \r\nL 469 531 \r\nQ 828 903 1448 1529 \r\nQ 2069 2156 2228 2338 \r\nQ 2531 2678 2651 2914 \r\nQ 2772 3150 2772 3378 \r\nQ 2772 3750 2511 3984 \r\nQ 2250 4219 1831 4219 \r\nQ 1534 4219 1204 4116 \r\nQ 875 4013 500 3803 \r\nL 500 4441 \r\nQ 881 4594 1212 4672 \r\nQ 1544 4750 1819 4750 \r\nQ 2544 4750 2975 4387 \r\nQ 3406 4025 3406 3419 \r\nQ 3406 3131 3298 2873 \r\nQ 3191 2616 2906 2266 \r\nQ 2828 2175 2409 1742 \r\nQ 1991 1309 1228 531 \r\nz\r\n\" id=\"DejaVuSans-32\" transform=\"scale(0.015625)\"/>\r\n       </defs>\r\n       <use xlink:href=\"#DejaVuSans-30\"/>\r\n       <use x=\"63.623047\" xlink:href=\"#DejaVuSans-2e\"/>\r\n       <use x=\"95.410156\" xlink:href=\"#DejaVuSans-32\"/>\r\n      </g>\r\n     </g>\r\n    </g>\r\n    <g id=\"xtick_3\">\r\n     <g id=\"line2d_3\">\r\n      <g>\r\n       <use style=\"stroke:#000000;stroke-width:0.8;\" x=\"176.613636\" xlink:href=\"#m0c11fcec2b\" y=\"224.64\"/>\r\n      </g>\r\n     </g>\r\n     <g id=\"text_3\">\r\n      <!-- 0.4 -->\r\n      <g transform=\"translate(168.662074 239.238437)scale(0.1 -0.1)\">\r\n       <defs>\r\n        <path d=\"M 2419 4116 \r\nL 825 1625 \r\nL 2419 1625 \r\nL 2419 4116 \r\nz\r\nM 2253 4666 \r\nL 3047 4666 \r\nL 3047 1625 \r\nL 3713 1625 \r\nL 3713 1100 \r\nL 3047 1100 \r\nL 3047 0 \r\nL 2419 0 \r\nL 2419 1100 \r\nL 313 1100 \r\nL 313 1709 \r\nL 2253 4666 \r\nz\r\n\" id=\"DejaVuSans-34\" transform=\"scale(0.015625)\"/>\r\n       </defs>\r\n       <use xlink:href=\"#DejaVuSans-30\"/>\r\n       <use x=\"63.623047\" xlink:href=\"#DejaVuSans-2e\"/>\r\n       <use x=\"95.410156\" xlink:href=\"#DejaVuSans-34\"/>\r\n      </g>\r\n     </g>\r\n    </g>\r\n    <g id=\"xtick_4\">\r\n     <g id=\"line2d_4\">\r\n      <g>\r\n       <use style=\"stroke:#000000;stroke-width:0.8;\" x=\"237.486364\" xlink:href=\"#m0c11fcec2b\" y=\"224.64\"/>\r\n      </g>\r\n     </g>\r\n     <g id=\"text_4\">\r\n      <!-- 0.6 -->\r\n      <g transform=\"translate(229.534801 239.238437)scale(0.1 -0.1)\">\r\n       <defs>\r\n        <path d=\"M 2113 2584 \r\nQ 1688 2584 1439 2293 \r\nQ 1191 2003 1191 1497 \r\nQ 1191 994 1439 701 \r\nQ 1688 409 2113 409 \r\nQ 2538 409 2786 701 \r\nQ 3034 994 3034 1497 \r\nQ 3034 2003 2786 2293 \r\nQ 2538 2584 2113 2584 \r\nz\r\nM 3366 4563 \r\nL 3366 3988 \r\nQ 3128 4100 2886 4159 \r\nQ 2644 4219 2406 4219 \r\nQ 1781 4219 1451 3797 \r\nQ 1122 3375 1075 2522 \r\nQ 1259 2794 1537 2939 \r\nQ 1816 3084 2150 3084 \r\nQ 2853 3084 3261 2657 \r\nQ 3669 2231 3669 1497 \r\nQ 3669 778 3244 343 \r\nQ 2819 -91 2113 -91 \r\nQ 1303 -91 875 529 \r\nQ 447 1150 447 2328 \r\nQ 447 3434 972 4092 \r\nQ 1497 4750 2381 4750 \r\nQ 2619 4750 2861 4703 \r\nQ 3103 4656 3366 4563 \r\nz\r\n\" id=\"DejaVuSans-36\" transform=\"scale(0.015625)\"/>\r\n       </defs>\r\n       <use xlink:href=\"#DejaVuSans-30\"/>\r\n       <use x=\"63.623047\" xlink:href=\"#DejaVuSans-2e\"/>\r\n       <use x=\"95.410156\" xlink:href=\"#DejaVuSans-36\"/>\r\n      </g>\r\n     </g>\r\n    </g>\r\n    <g id=\"xtick_5\">\r\n     <g id=\"line2d_5\">\r\n      <g>\r\n       <use style=\"stroke:#000000;stroke-width:0.8;\" x=\"298.359091\" xlink:href=\"#m0c11fcec2b\" y=\"224.64\"/>\r\n      </g>\r\n     </g>\r\n     <g id=\"text_5\">\r\n      <!-- 0.8 -->\r\n      <g transform=\"translate(290.407528 239.238437)scale(0.1 -0.1)\">\r\n       <defs>\r\n        <path d=\"M 2034 2216 \r\nQ 1584 2216 1326 1975 \r\nQ 1069 1734 1069 1313 \r\nQ 1069 891 1326 650 \r\nQ 1584 409 2034 409 \r\nQ 2484 409 2743 651 \r\nQ 3003 894 3003 1313 \r\nQ 3003 1734 2745 1975 \r\nQ 2488 2216 2034 2216 \r\nz\r\nM 1403 2484 \r\nQ 997 2584 770 2862 \r\nQ 544 3141 544 3541 \r\nQ 544 4100 942 4425 \r\nQ 1341 4750 2034 4750 \r\nQ 2731 4750 3128 4425 \r\nQ 3525 4100 3525 3541 \r\nQ 3525 3141 3298 2862 \r\nQ 3072 2584 2669 2484 \r\nQ 3125 2378 3379 2068 \r\nQ 3634 1759 3634 1313 \r\nQ 3634 634 3220 271 \r\nQ 2806 -91 2034 -91 \r\nQ 1263 -91 848 271 \r\nQ 434 634 434 1313 \r\nQ 434 1759 690 2068 \r\nQ 947 2378 1403 2484 \r\nz\r\nM 1172 3481 \r\nQ 1172 3119 1398 2916 \r\nQ 1625 2713 2034 2713 \r\nQ 2441 2713 2670 2916 \r\nQ 2900 3119 2900 3481 \r\nQ 2900 3844 2670 4047 \r\nQ 2441 4250 2034 4250 \r\nQ 1625 4250 1398 4047 \r\nQ 1172 3844 1172 3481 \r\nz\r\n\" id=\"DejaVuSans-38\" transform=\"scale(0.015625)\"/>\r\n       </defs>\r\n       <use xlink:href=\"#DejaVuSans-30\"/>\r\n       <use x=\"63.623047\" xlink:href=\"#DejaVuSans-2e\"/>\r\n       <use x=\"95.410156\" xlink:href=\"#DejaVuSans-38\"/>\r\n      </g>\r\n     </g>\r\n    </g>\r\n    <g id=\"xtick_6\">\r\n     <g id=\"line2d_6\">\r\n      <g>\r\n       <use style=\"stroke:#000000;stroke-width:0.8;\" x=\"359.231818\" xlink:href=\"#m0c11fcec2b\" y=\"224.64\"/>\r\n      </g>\r\n     </g>\r\n     <g id=\"text_6\">\r\n      <!-- 1.0 -->\r\n      <g transform=\"translate(351.280256 239.238437)scale(0.1 -0.1)\">\r\n       <defs>\r\n        <path d=\"M 794 531 \r\nL 1825 531 \r\nL 1825 4091 \r\nL 703 3866 \r\nL 703 4441 \r\nL 1819 4666 \r\nL 2450 4666 \r\nL 2450 531 \r\nL 3481 531 \r\nL 3481 0 \r\nL 794 0 \r\nL 794 531 \r\nz\r\n\" id=\"DejaVuSans-31\" transform=\"scale(0.015625)\"/>\r\n       </defs>\r\n       <use xlink:href=\"#DejaVuSans-31\"/>\r\n       <use x=\"63.623047\" xlink:href=\"#DejaVuSans-2e\"/>\r\n       <use x=\"95.410156\" xlink:href=\"#DejaVuSans-30\"/>\r\n      </g>\r\n     </g>\r\n    </g>\r\n   </g>\r\n   <g id=\"matplotlib.axis_2\">\r\n    <g id=\"ytick_1\">\r\n     <g id=\"line2d_7\">\r\n      <defs>\r\n       <path d=\"M 0 0 \r\nL -3.5 0 \r\n\" id=\"meedae871e0\" style=\"stroke:#000000;stroke-width:0.8;\"/>\r\n      </defs>\r\n      <g>\r\n       <use style=\"stroke:#000000;stroke-width:0.8;\" x=\"39.65\" xlink:href=\"#meedae871e0\" y=\"224.64\"/>\r\n      </g>\r\n     </g>\r\n     <g id=\"text_7\">\r\n      <!-- 0 -->\r\n      <g transform=\"translate(26.2875 228.439219)scale(0.1 -0.1)\">\r\n       <use xlink:href=\"#DejaVuSans-30\"/>\r\n      </g>\r\n     </g>\r\n    </g>\r\n    <g id=\"ytick_2\">\r\n     <g id=\"line2d_8\">\r\n      <g>\r\n       <use style=\"stroke:#000000;stroke-width:0.8;\" x=\"39.65\" xlink:href=\"#meedae871e0\" y=\"185.24013\"/>\r\n      </g>\r\n     </g>\r\n     <g id=\"text_8\">\r\n      <!-- 500 -->\r\n      <g transform=\"translate(13.5625 189.039349)scale(0.1 -0.1)\">\r\n       <defs>\r\n        <path d=\"M 691 4666 \r\nL 3169 4666 \r\nL 3169 4134 \r\nL 1269 4134 \r\nL 1269 2991 \r\nQ 1406 3038 1543 3061 \r\nQ 1681 3084 1819 3084 \r\nQ 2600 3084 3056 2656 \r\nQ 3513 2228 3513 1497 \r\nQ 3513 744 3044 326 \r\nQ 2575 -91 1722 -91 \r\nQ 1428 -91 1123 -41 \r\nQ 819 9 494 109 \r\nL 494 744 \r\nQ 775 591 1075 516 \r\nQ 1375 441 1709 441 \r\nQ 2250 441 2565 725 \r\nQ 2881 1009 2881 1497 \r\nQ 2881 1984 2565 2268 \r\nQ 2250 2553 1709 2553 \r\nQ 1456 2553 1204 2497 \r\nQ 953 2441 691 2322 \r\nL 691 4666 \r\nz\r\n\" id=\"DejaVuSans-35\" transform=\"scale(0.015625)\"/>\r\n       </defs>\r\n       <use xlink:href=\"#DejaVuSans-35\"/>\r\n       <use x=\"63.623047\" xlink:href=\"#DejaVuSans-30\"/>\r\n       <use x=\"127.246094\" xlink:href=\"#DejaVuSans-30\"/>\r\n      </g>\r\n     </g>\r\n    </g>\r\n    <g id=\"ytick_3\">\r\n     <g id=\"line2d_9\">\r\n      <g>\r\n       <use style=\"stroke:#000000;stroke-width:0.8;\" x=\"39.65\" xlink:href=\"#meedae871e0\" y=\"145.840261\"/>\r\n      </g>\r\n     </g>\r\n     <g id=\"text_9\">\r\n      <!-- 1000 -->\r\n      <g transform=\"translate(7.2 149.63948)scale(0.1 -0.1)\">\r\n       <use xlink:href=\"#DejaVuSans-31\"/>\r\n       <use x=\"63.623047\" xlink:href=\"#DejaVuSans-30\"/>\r\n       <use x=\"127.246094\" xlink:href=\"#DejaVuSans-30\"/>\r\n       <use x=\"190.869141\" xlink:href=\"#DejaVuSans-30\"/>\r\n      </g>\r\n     </g>\r\n    </g>\r\n    <g id=\"ytick_4\">\r\n     <g id=\"line2d_10\">\r\n      <g>\r\n       <use style=\"stroke:#000000;stroke-width:0.8;\" x=\"39.65\" xlink:href=\"#meedae871e0\" y=\"106.440391\"/>\r\n      </g>\r\n     </g>\r\n     <g id=\"text_10\">\r\n      <!-- 1500 -->\r\n      <g transform=\"translate(7.2 110.23961)scale(0.1 -0.1)\">\r\n       <use xlink:href=\"#DejaVuSans-31\"/>\r\n       <use x=\"63.623047\" xlink:href=\"#DejaVuSans-35\"/>\r\n       <use x=\"127.246094\" xlink:href=\"#DejaVuSans-30\"/>\r\n       <use x=\"190.869141\" xlink:href=\"#DejaVuSans-30\"/>\r\n      </g>\r\n     </g>\r\n    </g>\r\n    <g id=\"ytick_5\">\r\n     <g id=\"line2d_11\">\r\n      <g>\r\n       <use style=\"stroke:#000000;stroke-width:0.8;\" x=\"39.65\" xlink:href=\"#meedae871e0\" y=\"67.040522\"/>\r\n      </g>\r\n     </g>\r\n     <g id=\"text_11\">\r\n      <!-- 2000 -->\r\n      <g transform=\"translate(7.2 70.839741)scale(0.1 -0.1)\">\r\n       <use xlink:href=\"#DejaVuSans-32\"/>\r\n       <use x=\"63.623047\" xlink:href=\"#DejaVuSans-30\"/>\r\n       <use x=\"127.246094\" xlink:href=\"#DejaVuSans-30\"/>\r\n       <use x=\"190.869141\" xlink:href=\"#DejaVuSans-30\"/>\r\n      </g>\r\n     </g>\r\n    </g>\r\n    <g id=\"ytick_6\">\r\n     <g id=\"line2d_12\">\r\n      <g>\r\n       <use style=\"stroke:#000000;stroke-width:0.8;\" x=\"39.65\" xlink:href=\"#meedae871e0\" y=\"27.640652\"/>\r\n      </g>\r\n     </g>\r\n     <g id=\"text_12\">\r\n      <!-- 2500 -->\r\n      <g transform=\"translate(7.2 31.439871)scale(0.1 -0.1)\">\r\n       <use xlink:href=\"#DejaVuSans-32\"/>\r\n       <use x=\"63.623047\" xlink:href=\"#DejaVuSans-35\"/>\r\n       <use x=\"127.246094\" xlink:href=\"#DejaVuSans-30\"/>\r\n       <use x=\"190.869141\" xlink:href=\"#DejaVuSans-30\"/>\r\n      </g>\r\n     </g>\r\n    </g>\r\n   </g>\r\n   <g id=\"patch_13\">\r\n    <path d=\"M 39.65 224.64 \r\nL 39.65 7.2 \r\n\" style=\"fill:none;stroke:#000000;stroke-linecap:square;stroke-linejoin:miter;stroke-width:0.8;\"/>\r\n   </g>\r\n   <g id=\"patch_14\">\r\n    <path d=\"M 374.45 224.64 \r\nL 374.45 7.2 \r\n\" style=\"fill:none;stroke:#000000;stroke-linecap:square;stroke-linejoin:miter;stroke-width:0.8;\"/>\r\n   </g>\r\n   <g id=\"patch_15\">\r\n    <path d=\"M 39.65 224.64 \r\nL 374.45 224.64 \r\n\" style=\"fill:none;stroke:#000000;stroke-linecap:square;stroke-linejoin:miter;stroke-width:0.8;\"/>\r\n   </g>\r\n   <g id=\"patch_16\">\r\n    <path d=\"M 39.65 7.2 \r\nL 374.45 7.2 \r\n\" style=\"fill:none;stroke:#000000;stroke-linecap:square;stroke-linejoin:miter;stroke-width:0.8;\"/>\r\n   </g>\r\n  </g>\r\n </g>\r\n <defs>\r\n  <clipPath id=\"p7ae92de93e\">\r\n   <rect height=\"217.44\" width=\"334.8\" x=\"39.65\" y=\"7.2\"/>\r\n  </clipPath>\r\n </defs>\r\n</svg>\r\n",
      "image/png": "[encoded data removed]"
     },
     "metadata": {
      "needs_background": "light"
     }
    }
   ],
   "source": [
    "plt.hist(check.astype(int))"
   ]
  },
  {
   "cell_type": "code",
   "execution_count": 62,
   "metadata": {},
   "outputs": [],
   "source": [
    "training = data[check]\n",
    "testing = data[~check]\n"
   ]
  },
  {
   "cell_type": "code",
   "execution_count": 63,
   "metadata": {},
   "outputs": [
    {
     "output_type": "execute_result",
     "data": {
      "text/plain": [
       "2628"
      ]
     },
     "metadata": {},
     "execution_count": 63
    }
   ],
   "source": [
    "len(training)\n"
   ]
  },
  {
   "cell_type": "code",
   "execution_count": 64,
   "metadata": {},
   "outputs": [
    {
     "output_type": "execute_result",
     "data": {
      "text/plain": [
       "705"
      ]
     },
     "metadata": {},
     "execution_count": 64
    }
   ],
   "source": [
    "len(testing)"
   ]
  },
  {
   "source": [
    "### Con la libreria sklearn"
   ],
   "cell_type": "markdown",
   "metadata": {}
  },
  {
   "cell_type": "code",
   "execution_count": 70,
   "metadata": {},
   "outputs": [],
   "source": [
    "train, test = train_test_split(data,test_size=0.2)"
   ]
  },
  {
   "cell_type": "code",
   "execution_count": 71,
   "metadata": {},
   "outputs": [
    {
     "output_type": "execute_result",
     "data": {
      "text/plain": [
       "2666"
      ]
     },
     "metadata": {},
     "execution_count": 71
    }
   ],
   "source": [
    "len(train)"
   ]
  },
  {
   "cell_type": "code",
   "execution_count": 72,
   "metadata": {},
   "outputs": [
    {
     "output_type": "execute_result",
     "data": {
      "text/plain": [
       "667"
      ]
     },
     "metadata": {},
     "execution_count": 72
    }
   ],
   "source": [
    "len(test)"
   ]
  },
  {
   "source": [
    "### Usando una función de shuffle"
   ],
   "cell_type": "markdown",
   "metadata": {}
  },
  {
   "cell_type": "code",
   "execution_count": 74,
   "metadata": {},
   "outputs": [
    {
     "output_type": "execute_result",
     "data": {
      "text/plain": [
       "  State  Account Length  Area Code     Phone Int'l Plan VMail Plan  \\\n",
       "0    KS             128        415  382-4657         no        yes   \n",
       "1    OH             107        415  371-7191         no        yes   \n",
       "2    NJ             137        415  358-1921         no         no   \n",
       "3    OH              84        408  375-9999        yes         no   \n",
       "4    OK              75        415  330-6626        yes         no   \n",
       "\n",
       "   VMail Message  Day Mins  Day Calls  Day Charge  ...  Eve Calls  Eve Charge  \\\n",
       "0             25     265.1        110       45.07  ...         99       16.78   \n",
       "1             26     161.6        123       27.47  ...        103       16.62   \n",
       "2              0     243.4        114       41.38  ...        110       10.30   \n",
       "3              0     299.4         71       50.90  ...         88        5.26   \n",
       "4              0     166.7        113       28.34  ...        122       12.61   \n",
       "\n",
       "   Night Mins  Night Calls  Night Charge  Intl Mins  Intl Calls  Intl Charge  \\\n",
       "0       244.7           91         11.01       10.0           3         2.70   \n",
       "1       254.4          103         11.45       13.7           3         3.70   \n",
       "2       162.6          104          7.32       12.2           5         3.29   \n",
       "3       196.9           89          8.86        6.6           7         1.78   \n",
       "4       186.9          121          8.41       10.1           3         2.73   \n",
       "\n",
       "   CustServ Calls  Churn?  \n",
       "0               1  False.  \n",
       "1               1  False.  \n",
       "2               0  False.  \n",
       "3               2  False.  \n",
       "4               3  False.  \n",
       "\n",
       "[5 rows x 21 columns]"
      ],
      "text/html": "<div>\n<style scoped>\n    .dataframe tbody tr th:only-of-type {\n        vertical-align: middle;\n    }\n\n    .dataframe tbody tr th {\n        vertical-align: top;\n    }\n\n    .dataframe thead th {\n        text-align: right;\n    }\n</style>\n<table border=\"1\" class=\"dataframe\">\n  <thead>\n    <tr style=\"text-align: right;\">\n      <th></th>\n      <th>State</th>\n      <th>Account Length</th>\n      <th>Area Code</th>\n      <th>Phone</th>\n      <th>Int'l Plan</th>\n      <th>VMail Plan</th>\n      <th>VMail Message</th>\n      <th>Day Mins</th>\n      <th>Day Calls</th>\n      <th>Day Charge</th>\n      <th>...</th>\n      <th>Eve Calls</th>\n      <th>Eve Charge</th>\n      <th>Night Mins</th>\n      <th>Night Calls</th>\n      <th>Night Charge</th>\n      <th>Intl Mins</th>\n      <th>Intl Calls</th>\n      <th>Intl Charge</th>\n      <th>CustServ Calls</th>\n      <th>Churn?</th>\n    </tr>\n  </thead>\n  <tbody>\n    <tr>\n      <th>0</th>\n      <td>KS</td>\n      <td>128</td>\n      <td>415</td>\n      <td>382-4657</td>\n      <td>no</td>\n      <td>yes</td>\n      <td>25</td>\n      <td>265.1</td>\n      <td>110</td>\n      <td>45.07</td>\n      <td>...</td>\n      <td>99</td>\n      <td>16.78</td>\n      <td>244.7</td>\n      <td>91</td>\n      <td>11.01</td>\n      <td>10.0</td>\n      <td>3</td>\n      <td>2.70</td>\n      <td>1</td>\n      <td>False.</td>\n    </tr>\n    <tr>\n      <th>1</th>\n      <td>OH</td>\n      <td>107</td>\n      <td>415</td>\n      <td>371-7191</td>\n      <td>no</td>\n      <td>yes</td>\n      <td>26</td>\n      <td>161.6</td>\n      <td>123</td>\n      <td>27.47</td>\n      <td>...</td>\n      <td>103</td>\n      <td>16.62</td>\n      <td>254.4</td>\n      <td>103</td>\n      <td>11.45</td>\n      <td>13.7</td>\n      <td>3</td>\n      <td>3.70</td>\n      <td>1</td>\n      <td>False.</td>\n    </tr>\n    <tr>\n      <th>2</th>\n      <td>NJ</td>\n      <td>137</td>\n      <td>415</td>\n      <td>358-1921</td>\n      <td>no</td>\n      <td>no</td>\n      <td>0</td>\n      <td>243.4</td>\n      <td>114</td>\n      <td>41.38</td>\n      <td>...</td>\n      <td>110</td>\n      <td>10.30</td>\n      <td>162.6</td>\n      <td>104</td>\n      <td>7.32</td>\n      <td>12.2</td>\n      <td>5</td>\n      <td>3.29</td>\n      <td>0</td>\n      <td>False.</td>\n    </tr>\n    <tr>\n      <th>3</th>\n      <td>OH</td>\n      <td>84</td>\n      <td>408</td>\n      <td>375-9999</td>\n      <td>yes</td>\n      <td>no</td>\n      <td>0</td>\n      <td>299.4</td>\n      <td>71</td>\n      <td>50.90</td>\n      <td>...</td>\n      <td>88</td>\n      <td>5.26</td>\n      <td>196.9</td>\n      <td>89</td>\n      <td>8.86</td>\n      <td>6.6</td>\n      <td>7</td>\n      <td>1.78</td>\n      <td>2</td>\n      <td>False.</td>\n    </tr>\n    <tr>\n      <th>4</th>\n      <td>OK</td>\n      <td>75</td>\n      <td>415</td>\n      <td>330-6626</td>\n      <td>yes</td>\n      <td>no</td>\n      <td>0</td>\n      <td>166.7</td>\n      <td>113</td>\n      <td>28.34</td>\n      <td>...</td>\n      <td>122</td>\n      <td>12.61</td>\n      <td>186.9</td>\n      <td>121</td>\n      <td>8.41</td>\n      <td>10.1</td>\n      <td>3</td>\n      <td>2.73</td>\n      <td>3</td>\n      <td>False.</td>\n    </tr>\n  </tbody>\n</table>\n<p>5 rows × 21 columns</p>\n</div>"
     },
     "metadata": {},
     "execution_count": 74
    }
   ],
   "source": [
    "data.head()"
   ]
  },
  {
   "cell_type": "code",
   "execution_count": 75,
   "metadata": {},
   "outputs": [],
   "source": [
    "data = sklearn.utils.shuffle(data)"
   ]
  },
  {
   "cell_type": "code",
   "execution_count": 76,
   "metadata": {},
   "outputs": [
    {
     "output_type": "execute_result",
     "data": {
      "text/plain": [
       "     State  Account Length  Area Code     Phone Int'l Plan VMail Plan  \\\n",
       "1747    KS             120        510  392-5605         no         no   \n",
       "2001    TX              73        408  340-8323         no         no   \n",
       "393     PA             112        510  352-9017         no         no   \n",
       "1074    ME             177        415  406-8809         no         no   \n",
       "1045    TX             217        408  385-7082         no         no   \n",
       "\n",
       "      VMail Message  Day Mins  Day Calls  Day Charge  ...  Eve Calls  \\\n",
       "1747              0     158.0        110       26.86  ...        103   \n",
       "2001              0     286.4        109       48.69  ...         67   \n",
       "393               0     217.1         76       36.91  ...        100   \n",
       "1074              0     232.8        106       39.58  ...         97   \n",
       "1045              0     176.4        115       29.99  ...        128   \n",
       "\n",
       "      Eve Charge  Night Mins  Night Calls  Night Charge  Intl Mins  \\\n",
       "1747       16.75       154.9          132          6.97       10.0   \n",
       "2001       15.15       214.2          152          9.64       10.7   \n",
       "393        17.44       185.7           91          8.36        9.4   \n",
       "1074       14.89       212.2           77          9.55       12.5   \n",
       "1045       13.50       306.6          107         13.80        9.3   \n",
       "\n",
       "      Intl Calls  Intl Charge  CustServ Calls  Churn?  \n",
       "1747           5         2.70               1  False.  \n",
       "2001          14         2.89               1   True.  \n",
       "393            3         2.54               2  False.  \n",
       "1074           7         3.38               2  False.  \n",
       "1045           3         2.51               4  False.  \n",
       "\n",
       "[5 rows x 21 columns]"
      ],
      "text/html": "<div>\n<style scoped>\n    .dataframe tbody tr th:only-of-type {\n        vertical-align: middle;\n    }\n\n    .dataframe tbody tr th {\n        vertical-align: top;\n    }\n\n    .dataframe thead th {\n        text-align: right;\n    }\n</style>\n<table border=\"1\" class=\"dataframe\">\n  <thead>\n    <tr style=\"text-align: right;\">\n      <th></th>\n      <th>State</th>\n      <th>Account Length</th>\n      <th>Area Code</th>\n      <th>Phone</th>\n      <th>Int'l Plan</th>\n      <th>VMail Plan</th>\n      <th>VMail Message</th>\n      <th>Day Mins</th>\n      <th>Day Calls</th>\n      <th>Day Charge</th>\n      <th>...</th>\n      <th>Eve Calls</th>\n      <th>Eve Charge</th>\n      <th>Night Mins</th>\n      <th>Night Calls</th>\n      <th>Night Charge</th>\n      <th>Intl Mins</th>\n      <th>Intl Calls</th>\n      <th>Intl Charge</th>\n      <th>CustServ Calls</th>\n      <th>Churn?</th>\n    </tr>\n  </thead>\n  <tbody>\n    <tr>\n      <th>1747</th>\n      <td>KS</td>\n      <td>120</td>\n      <td>510</td>\n      <td>392-5605</td>\n      <td>no</td>\n      <td>no</td>\n      <td>0</td>\n      <td>158.0</td>\n      <td>110</td>\n      <td>26.86</td>\n      <td>...</td>\n      <td>103</td>\n      <td>16.75</td>\n      <td>154.9</td>\n      <td>132</td>\n      <td>6.97</td>\n      <td>10.0</td>\n      <td>5</td>\n      <td>2.70</td>\n      <td>1</td>\n      <td>False.</td>\n    </tr>\n    <tr>\n      <th>2001</th>\n      <td>TX</td>\n      <td>73</td>\n      <td>408</td>\n      <td>340-8323</td>\n      <td>no</td>\n      <td>no</td>\n      <td>0</td>\n      <td>286.4</td>\n      <td>109</td>\n      <td>48.69</td>\n      <td>...</td>\n      <td>67</td>\n      <td>15.15</td>\n      <td>214.2</td>\n      <td>152</td>\n      <td>9.64</td>\n      <td>10.7</td>\n      <td>14</td>\n      <td>2.89</td>\n      <td>1</td>\n      <td>True.</td>\n    </tr>\n    <tr>\n      <th>393</th>\n      <td>PA</td>\n      <td>112</td>\n      <td>510</td>\n      <td>352-9017</td>\n      <td>no</td>\n      <td>no</td>\n      <td>0</td>\n      <td>217.1</td>\n      <td>76</td>\n      <td>36.91</td>\n      <td>...</td>\n      <td>100</td>\n      <td>17.44</td>\n      <td>185.7</td>\n      <td>91</td>\n      <td>8.36</td>\n      <td>9.4</td>\n      <td>3</td>\n      <td>2.54</td>\n      <td>2</td>\n      <td>False.</td>\n    </tr>\n    <tr>\n      <th>1074</th>\n      <td>ME</td>\n      <td>177</td>\n      <td>415</td>\n      <td>406-8809</td>\n      <td>no</td>\n      <td>no</td>\n      <td>0</td>\n      <td>232.8</td>\n      <td>106</td>\n      <td>39.58</td>\n      <td>...</td>\n      <td>97</td>\n      <td>14.89</td>\n      <td>212.2</td>\n      <td>77</td>\n      <td>9.55</td>\n      <td>12.5</td>\n      <td>7</td>\n      <td>3.38</td>\n      <td>2</td>\n      <td>False.</td>\n    </tr>\n    <tr>\n      <th>1045</th>\n      <td>TX</td>\n      <td>217</td>\n      <td>408</td>\n      <td>385-7082</td>\n      <td>no</td>\n      <td>no</td>\n      <td>0</td>\n      <td>176.4</td>\n      <td>115</td>\n      <td>29.99</td>\n      <td>...</td>\n      <td>128</td>\n      <td>13.50</td>\n      <td>306.6</td>\n      <td>107</td>\n      <td>13.80</td>\n      <td>9.3</td>\n      <td>3</td>\n      <td>2.51</td>\n      <td>4</td>\n      <td>False.</td>\n    </tr>\n  </tbody>\n</table>\n<p>5 rows × 21 columns</p>\n</div>"
     },
     "metadata": {},
     "execution_count": 76
    }
   ],
   "source": [
    "data.head()"
   ]
  },
  {
   "cell_type": "code",
   "execution_count": 79,
   "metadata": {},
   "outputs": [],
   "source": [
    "id_corte = int(0.75*len(data))\n",
    "train_data = data[:id_corte]\n",
    "test_data = data[id_corte+1:]"
   ]
  },
  {
   "cell_type": "code",
   "execution_count": 80,
   "metadata": {},
   "outputs": [
    {
     "output_type": "execute_result",
     "data": {
      "text/plain": [
       "2499"
      ]
     },
     "metadata": {},
     "execution_count": 80
    }
   ],
   "source": [
    "len(train_data)\n"
   ]
  },
  {
   "cell_type": "code",
   "execution_count": 81,
   "metadata": {},
   "outputs": [
    {
     "output_type": "execute_result",
     "data": {
      "text/plain": [
       "833"
      ]
     },
     "metadata": {},
     "execution_count": 81
    }
   ],
   "source": [
    "len(test_data)"
   ]
  }
 ]
}