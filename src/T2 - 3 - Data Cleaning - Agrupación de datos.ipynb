{
 "metadata": {
  "language_info": {
   "codemirror_mode": {
    "name": "ipython",
    "version": 3
   },
   "file_extension": ".py",
   "mimetype": "text/x-python",
   "name": "python",
   "nbconvert_exporter": "python",
   "pygments_lexer": "ipython3",
   "version": "3.9.1"
  },
  "orig_nbformat": 2,
  "kernelspec": {
   "name": "python391jvsc74a57bd09e797c8960c8a983e950f06465ba4caaf9d96e0305498a705911d1d9a54b77da",
   "display_name": "Python 3.9.1 64-bit ('MACHINE_LEARNING_-_UDEMY-qK85mjxz': virtualenvwrapper)"
  }
 },
 "nbformat": 4,
 "nbformat_minor": 2,
 "cells": [
  {
   "source": [
    "# Agregación de datos por categoría"
   ],
   "cell_type": "markdown",
   "metadata": {}
  },
  {
   "cell_type": "code",
   "execution_count": 48,
   "metadata": {},
   "outputs": [],
   "source": [
    "import numpy as np\n",
    "import pandas as pd"
   ]
  },
  {
   "cell_type": "code",
   "execution_count": 49,
   "metadata": {},
   "outputs": [],
   "source": [
    "genero = [\"Hombre\", \"Mujer\"]\n",
    "estatus = [\"Bajos\", \"Clase Media\", \"Rico\"]"
   ]
  },
  {
   "source": [
    "n = 500\n",
    "\n",
    "genero_data = []\n",
    "estatus_data = []\n",
    "\n",
    "for i in range(0,n):\n",
    "    genero_data.append(np.random.choice(genero))\n",
    "    estatus_data.append(np.random.choice(estatus))"
   ],
   "cell_type": "code",
   "metadata": {},
   "execution_count": 50,
   "outputs": []
  },
  {
   "cell_type": "code",
   "execution_count": 51,
   "metadata": {},
   "outputs": [
    {
     "output_type": "execute_result",
     "data": {
      "text/plain": [
       "['Hombre',\n",
       " 'Hombre',\n",
       " 'Mujer',\n",
       " 'Mujer',\n",
       " 'Hombre',\n",
       " 'Hombre',\n",
       " 'Mujer',\n",
       " 'Mujer',\n",
       " 'Hombre']"
      ]
     },
     "metadata": {},
     "execution_count": 51
    }
   ],
   "source": [
    "genero_data[1:10]"
   ]
  },
  {
   "cell_type": "code",
   "execution_count": 52,
   "metadata": {},
   "outputs": [
    {
     "output_type": "execute_result",
     "data": {
      "text/plain": [
       "['Clase Media',\n",
       " 'Rico',\n",
       " 'Rico',\n",
       " 'Rico',\n",
       " 'Clase Media',\n",
       " 'Clase Media',\n",
       " 'Clase Media',\n",
       " 'Bajos',\n",
       " 'Bajos']"
      ]
     },
     "metadata": {},
     "execution_count": 52
    }
   ],
   "source": [
    "estatus_data[1:10]"
   ]
  },
  {
   "cell_type": "code",
   "execution_count": 61,
   "metadata": {},
   "outputs": [],
   "source": [
    "altura_data = 160 + 30*np.random.randn(n)\n",
    "altura_data = abs(altura_data.round(2))\n",
    "peso_data = 65 + 25*np.random.randn(n)\n",
    "peso_data = abs(peso_data.round(2))\n",
    "edad_data = 30 + 12*np.random.randn(n)\n",
    "edad_data = abs(edad_data.astype(int))\n",
    "ingresos_data = 18000 + 3500*np.random.randn(n)\n",
    "ingresos_data = abs(ingresos_data.astype(int))"
   ]
  },
  {
   "cell_type": "code",
   "execution_count": 62,
   "metadata": {},
   "outputs": [],
   "source": [
    "data = pd.DataFrame(\n",
    "    {\n",
    "        \"Genero\": genero_data,\n",
    "        \"Estatus\": estatus_data,\n",
    "        \"Altura\": altura_data,\n",
    "        \"Peso\": peso_data,\n",
    "        \"Edad\": edad_data,\n",
    "        \"Ingresos\" : ingresos_data \n",
    "    }\n",
    ")"
   ]
  },
  {
   "cell_type": "code",
   "execution_count": 65,
   "metadata": {},
   "outputs": [
    {
     "output_type": "execute_result",
     "data": {
      "text/plain": [
       "   Genero      Estatus  Altura    Peso  Edad  Ingresos\n",
       "0  Hombre        Bajos  160.65   77.31    19     20110\n",
       "1  Hombre  Clase Media  125.39  102.32    26     20933\n",
       "2  Hombre         Rico  107.52   45.24    56     18446\n",
       "3   Mujer         Rico   88.84   58.95    31     14821\n",
       "4   Mujer         Rico  127.74   86.75    22     19025"
      ],
      "text/html": "<div>\n<style scoped>\n    .dataframe tbody tr th:only-of-type {\n        vertical-align: middle;\n    }\n\n    .dataframe tbody tr th {\n        vertical-align: top;\n    }\n\n    .dataframe thead th {\n        text-align: right;\n    }\n</style>\n<table border=\"1\" class=\"dataframe\">\n  <thead>\n    <tr style=\"text-align: right;\">\n      <th></th>\n      <th>Genero</th>\n      <th>Estatus</th>\n      <th>Altura</th>\n      <th>Peso</th>\n      <th>Edad</th>\n      <th>Ingresos</th>\n    </tr>\n  </thead>\n  <tbody>\n    <tr>\n      <th>0</th>\n      <td>Hombre</td>\n      <td>Bajos</td>\n      <td>160.65</td>\n      <td>77.31</td>\n      <td>19</td>\n      <td>20110</td>\n    </tr>\n    <tr>\n      <th>1</th>\n      <td>Hombre</td>\n      <td>Clase Media</td>\n      <td>125.39</td>\n      <td>102.32</td>\n      <td>26</td>\n      <td>20933</td>\n    </tr>\n    <tr>\n      <th>2</th>\n      <td>Hombre</td>\n      <td>Rico</td>\n      <td>107.52</td>\n      <td>45.24</td>\n      <td>56</td>\n      <td>18446</td>\n    </tr>\n    <tr>\n      <th>3</th>\n      <td>Mujer</td>\n      <td>Rico</td>\n      <td>88.84</td>\n      <td>58.95</td>\n      <td>31</td>\n      <td>14821</td>\n    </tr>\n    <tr>\n      <th>4</th>\n      <td>Mujer</td>\n      <td>Rico</td>\n      <td>127.74</td>\n      <td>86.75</td>\n      <td>22</td>\n      <td>19025</td>\n    </tr>\n  </tbody>\n</table>\n</div>"
     },
     "metadata": {},
     "execution_count": 65
    }
   ],
   "source": [
    "data.head()"
   ]
  },
  {
   "cell_type": "code",
   "execution_count": 66,
   "metadata": {},
   "outputs": [
    {
     "output_type": "execute_result",
     "data": {
      "text/plain": [
       "           Altura        Peso        Edad      Ingresos\n",
       "count  500.000000  500.000000  500.000000    500.000000\n",
       "mean   160.107860   66.736820   28.930000  17791.186000\n",
       "std     30.409798   25.751003   11.695069   3381.065559\n",
       "min     62.280000    1.090000    1.000000   7988.000000\n",
       "25%    140.095000   48.597500   21.000000  15399.500000\n",
       "50%    160.510000   67.525000   29.000000  17895.500000\n",
       "75%    179.805000   83.537500   36.000000  20321.250000\n",
       "max    262.640000  165.070000   65.000000  26533.000000"
      ],
      "text/html": "<div>\n<style scoped>\n    .dataframe tbody tr th:only-of-type {\n        vertical-align: middle;\n    }\n\n    .dataframe tbody tr th {\n        vertical-align: top;\n    }\n\n    .dataframe thead th {\n        text-align: right;\n    }\n</style>\n<table border=\"1\" class=\"dataframe\">\n  <thead>\n    <tr style=\"text-align: right;\">\n      <th></th>\n      <th>Altura</th>\n      <th>Peso</th>\n      <th>Edad</th>\n      <th>Ingresos</th>\n    </tr>\n  </thead>\n  <tbody>\n    <tr>\n      <th>count</th>\n      <td>500.000000</td>\n      <td>500.000000</td>\n      <td>500.000000</td>\n      <td>500.000000</td>\n    </tr>\n    <tr>\n      <th>mean</th>\n      <td>160.107860</td>\n      <td>66.736820</td>\n      <td>28.930000</td>\n      <td>17791.186000</td>\n    </tr>\n    <tr>\n      <th>std</th>\n      <td>30.409798</td>\n      <td>25.751003</td>\n      <td>11.695069</td>\n      <td>3381.065559</td>\n    </tr>\n    <tr>\n      <th>min</th>\n      <td>62.280000</td>\n      <td>1.090000</td>\n      <td>1.000000</td>\n      <td>7988.000000</td>\n    </tr>\n    <tr>\n      <th>25%</th>\n      <td>140.095000</td>\n      <td>48.597500</td>\n      <td>21.000000</td>\n      <td>15399.500000</td>\n    </tr>\n    <tr>\n      <th>50%</th>\n      <td>160.510000</td>\n      <td>67.525000</td>\n      <td>29.000000</td>\n      <td>17895.500000</td>\n    </tr>\n    <tr>\n      <th>75%</th>\n      <td>179.805000</td>\n      <td>83.537500</td>\n      <td>36.000000</td>\n      <td>20321.250000</td>\n    </tr>\n    <tr>\n      <th>max</th>\n      <td>262.640000</td>\n      <td>165.070000</td>\n      <td>65.000000</td>\n      <td>26533.000000</td>\n    </tr>\n  </tbody>\n</table>\n</div>"
     },
     "metadata": {},
     "execution_count": 66
    }
   ],
   "source": [
    "data.describe()"
   ]
  },
  {
   "source": [
    "## Agrupación de datos"
   ],
   "cell_type": "markdown",
   "metadata": {}
  },
  {
   "cell_type": "code",
   "execution_count": 68,
   "metadata": {},
   "outputs": [
    {
     "output_type": "execute_result",
     "data": {
      "text/plain": [
       "{'Hombre': [0, 1, 2, 5, 6, 9, 17, 18, 19, 20, 21, 22, 24, 28, 29, 31, 32, 33, 35, 36, 38, 40, 42, 44, 45, 46, 50, 51, 52, 53, 57, 58, 59, 60, 61, 63, 64, 66, 69, 70, 71, 78, 79, 80, 81, 86, 88, 90, 92, 93, 94, 95, 96, 102, 103, 104, 105, 108, 110, 111, 112, 116, 117, 118, 119, 123, 124, 126, 128, 129, 130, 131, 133, 135, 136, 142, 147, 150, 152, 153, 155, 157, 160, 162, 163, 164, 165, 167, 169, 170, 171, 172, 173, 174, 179, 180, 186, 187, 189, 191, ...], 'Mujer': [3, 4, 7, 8, 10, 11, 12, 13, 14, 15, 16, 23, 25, 26, 27, 30, 34, 37, 39, 41, 43, 47, 48, 49, 54, 55, 56, 62, 65, 67, 68, 72, 73, 74, 75, 76, 77, 82, 83, 84, 85, 87, 89, 91, 97, 98, 99, 100, 101, 106, 107, 109, 113, 114, 115, 120, 121, 122, 125, 127, 132, 134, 137, 138, 139, 140, 141, 143, 144, 145, 146, 148, 149, 151, 154, 156, 158, 159, 161, 166, 168, 175, 176, 177, 178, 181, 182, 183, 184, 185, 188, 190, 194, 197, 200, 203, 208, 210, 212, 213, ...]}"
      ]
     },
     "metadata": {},
     "execution_count": 68
    }
   ],
   "source": [
    "genero_agrupado = data.groupby(\"Genero\")\n",
    "genero_agrupado.groups"
   ]
  },
  {
   "cell_type": "code",
   "execution_count": 72,
   "metadata": {},
   "outputs": [
    {
     "output_type": "stream",
     "name": "stdout",
     "text": [
      "Hombre\n     Genero      Estatus  Altura    Peso  Edad  Ingresos\n0    Hombre        Bajos  160.65   77.31    19     20110\n1    Hombre  Clase Media  125.39  102.32    26     20933\n2    Hombre         Rico  107.52   45.24    56     18446\n5    Hombre  Clase Media  148.87   72.32    25     20823\n6    Hombre  Clase Media  138.29   19.61    42     16807\n..      ...          ...     ...     ...   ...       ...\n487  Hombre        Bajos  167.39   99.22    19     15379\n490  Hombre  Clase Media  158.47   63.53    33     19812\n492  Hombre  Clase Media  168.25   88.94    30     15360\n493  Hombre        Bajos  202.73   47.45    18     15666\n498  Hombre         Rico  177.79   63.11    35     22149\n\n[255 rows x 6 columns]\nMujer\n    Genero      Estatus  Altura    Peso  Edad  Ingresos\n3    Mujer         Rico   88.84   58.95    31     14821\n4    Mujer         Rico  127.74   86.75    22     19025\n7    Mujer  Clase Media  147.52   36.09    42     20811\n8    Mujer        Bajos  205.85   67.95    24     19489\n10   Mujer        Bajos  203.78  119.39    18     18528\n..     ...          ...     ...     ...   ...       ...\n494  Mujer         Rico  178.06   72.37    19     13169\n495  Mujer         Rico  170.70   73.11    42     15912\n496  Mujer  Clase Media  131.34  119.32    30     14053\n497  Mujer  Clase Media  152.44   46.22    16     21405\n499  Mujer        Bajos  174.55   65.95    20     19628\n\n[245 rows x 6 columns]\n"
     ]
    }
   ],
   "source": [
    "for nombres,grupos in genero_agrupado:\n",
    "    print(nombres)\n",
    "    print(grupos)"
   ]
  },
  {
   "cell_type": "code",
   "execution_count": 74,
   "metadata": {},
   "outputs": [
    {
     "output_type": "execute_result",
     "data": {
      "text/plain": [
       "    Genero      Estatus  Altura    Peso  Edad  Ingresos\n",
       "3    Mujer         Rico   88.84   58.95    31     14821\n",
       "4    Mujer         Rico  127.74   86.75    22     19025\n",
       "7    Mujer  Clase Media  147.52   36.09    42     20811\n",
       "8    Mujer        Bajos  205.85   67.95    24     19489\n",
       "10   Mujer        Bajos  203.78  119.39    18     18528\n",
       "..     ...          ...     ...     ...   ...       ...\n",
       "494  Mujer         Rico  178.06   72.37    19     13169\n",
       "495  Mujer         Rico  170.70   73.11    42     15912\n",
       "496  Mujer  Clase Media  131.34  119.32    30     14053\n",
       "497  Mujer  Clase Media  152.44   46.22    16     21405\n",
       "499  Mujer        Bajos  174.55   65.95    20     19628\n",
       "\n",
       "[245 rows x 6 columns]"
      ],
      "text/html": "<div>\n<style scoped>\n    .dataframe tbody tr th:only-of-type {\n        vertical-align: middle;\n    }\n\n    .dataframe tbody tr th {\n        vertical-align: top;\n    }\n\n    .dataframe thead th {\n        text-align: right;\n    }\n</style>\n<table border=\"1\" class=\"dataframe\">\n  <thead>\n    <tr style=\"text-align: right;\">\n      <th></th>\n      <th>Genero</th>\n      <th>Estatus</th>\n      <th>Altura</th>\n      <th>Peso</th>\n      <th>Edad</th>\n      <th>Ingresos</th>\n    </tr>\n  </thead>\n  <tbody>\n    <tr>\n      <th>3</th>\n      <td>Mujer</td>\n      <td>Rico</td>\n      <td>88.84</td>\n      <td>58.95</td>\n      <td>31</td>\n      <td>14821</td>\n    </tr>\n    <tr>\n      <th>4</th>\n      <td>Mujer</td>\n      <td>Rico</td>\n      <td>127.74</td>\n      <td>86.75</td>\n      <td>22</td>\n      <td>19025</td>\n    </tr>\n    <tr>\n      <th>7</th>\n      <td>Mujer</td>\n      <td>Clase Media</td>\n      <td>147.52</td>\n      <td>36.09</td>\n      <td>42</td>\n      <td>20811</td>\n    </tr>\n    <tr>\n      <th>8</th>\n      <td>Mujer</td>\n      <td>Bajos</td>\n      <td>205.85</td>\n      <td>67.95</td>\n      <td>24</td>\n      <td>19489</td>\n    </tr>\n    <tr>\n      <th>10</th>\n      <td>Mujer</td>\n      <td>Bajos</td>\n      <td>203.78</td>\n      <td>119.39</td>\n      <td>18</td>\n      <td>18528</td>\n    </tr>\n    <tr>\n      <th>...</th>\n      <td>...</td>\n      <td>...</td>\n      <td>...</td>\n      <td>...</td>\n      <td>...</td>\n      <td>...</td>\n    </tr>\n    <tr>\n      <th>494</th>\n      <td>Mujer</td>\n      <td>Rico</td>\n      <td>178.06</td>\n      <td>72.37</td>\n      <td>19</td>\n      <td>13169</td>\n    </tr>\n    <tr>\n      <th>495</th>\n      <td>Mujer</td>\n      <td>Rico</td>\n      <td>170.70</td>\n      <td>73.11</td>\n      <td>42</td>\n      <td>15912</td>\n    </tr>\n    <tr>\n      <th>496</th>\n      <td>Mujer</td>\n      <td>Clase Media</td>\n      <td>131.34</td>\n      <td>119.32</td>\n      <td>30</td>\n      <td>14053</td>\n    </tr>\n    <tr>\n      <th>497</th>\n      <td>Mujer</td>\n      <td>Clase Media</td>\n      <td>152.44</td>\n      <td>46.22</td>\n      <td>16</td>\n      <td>21405</td>\n    </tr>\n    <tr>\n      <th>499</th>\n      <td>Mujer</td>\n      <td>Bajos</td>\n      <td>174.55</td>\n      <td>65.95</td>\n      <td>20</td>\n      <td>19628</td>\n    </tr>\n  </tbody>\n</table>\n<p>245 rows × 6 columns</p>\n</div>"
     },
     "metadata": {},
     "execution_count": 74
    }
   ],
   "source": [
    "genero_agrupado.get_group(\"Mujer\")"
   ]
  },
  {
   "cell_type": "code",
   "execution_count": 76,
   "metadata": {},
   "outputs": [],
   "source": [
    "doble_agrupacion = data.groupby([\"Genero\", \"Estatus\"])"
   ]
  },
  {
   "cell_type": "code",
   "execution_count": 78,
   "metadata": {},
   "outputs": [
    {
     "output_type": "stream",
     "name": "stdout",
     "text": [
      "('Hombre', 'Bajos')\n     Genero Estatus  Altura   Peso  Edad  Ingresos\n0    Hombre   Bajos  160.65  77.31    19     20110\n9    Hombre   Bajos  177.95  94.07    34     15441\n18   Hombre   Bajos  153.39  74.27    26     21257\n20   Hombre   Bajos  170.28  67.41    30     16366\n21   Hombre   Bajos  178.06  72.13    21     11168\n..      ...     ...     ...    ...   ...       ...\n476  Hombre   Bajos  127.99  77.51    50     18431\n479  Hombre   Bajos  144.66  93.13    41     19205\n486  Hombre   Bajos  169.68  72.84    22     16127\n487  Hombre   Bajos  167.39  99.22    19     15379\n493  Hombre   Bajos  202.73  47.45    18     15666\n\n[86 rows x 6 columns]\n('Hombre', 'Clase Media')\n     Genero      Estatus  Altura    Peso  Edad  Ingresos\n1    Hombre  Clase Media  125.39  102.32    26     20933\n5    Hombre  Clase Media  148.87   72.32    25     20823\n6    Hombre  Clase Media  138.29   19.61    42     16807\n17   Hombre  Clase Media  122.62   64.20    14     15358\n28   Hombre  Clase Media  174.42   75.72    25     13044\n..      ...          ...     ...     ...   ...       ...\n460  Hombre  Clase Media  107.28   75.66    53     23952\n474  Hombre  Clase Media  144.20  105.83    19     17646\n484  Hombre  Clase Media  206.92   49.38    36     20290\n490  Hombre  Clase Media  158.47   63.53    33     19812\n492  Hombre  Clase Media  168.25   88.94    30     15360\n\n[77 rows x 6 columns]\n('Hombre', 'Rico')\n     Genero Estatus  Altura   Peso  Edad  Ingresos\n2    Hombre    Rico  107.52  45.24    56     18446\n19   Hombre    Rico  164.75  41.16    19     18390\n24   Hombre    Rico  111.04  72.60    30     22330\n33   Hombre    Rico  170.40  80.66    18     20325\n51   Hombre    Rico  190.06  71.65    13     17444\n..      ...     ...     ...    ...   ...       ...\n472  Hombre    Rico  126.42  54.15    21     16050\n473  Hombre    Rico  146.73  93.87     6     16226\n477  Hombre    Rico  142.05  83.01    27     14522\n480  Hombre    Rico  138.86  33.36    20     18313\n498  Hombre    Rico  177.79  63.11    35     22149\n\n[92 rows x 6 columns]\n('Mujer', 'Bajos')\n    Genero Estatus  Altura    Peso  Edad  Ingresos\n8    Mujer   Bajos  205.85   67.95    24     19489\n10   Mujer   Bajos  203.78  119.39    18     18528\n13   Mujer   Bajos  166.77   69.99    26     23717\n25   Mujer   Bajos  157.69   98.13    23     13130\n26   Mujer   Bajos  180.09   71.64    42     14043\n..     ...     ...     ...     ...   ...       ...\n470  Mujer   Bajos  180.02   64.72    38     13432\n475  Mujer   Bajos  183.14  104.49    45     19985\n488  Mujer   Bajos  258.43   75.60    28     20570\n491  Mujer   Bajos  191.83   16.35    19     14591\n499  Mujer   Bajos  174.55   65.95    20     19628\n\n[67 rows x 6 columns]\n('Mujer', 'Clase Media')\n    Genero      Estatus  Altura    Peso  Edad  Ingresos\n7    Mujer  Clase Media  147.52   36.09    42     20811\n11   Mujer  Clase Media  168.54   73.67    16     18858\n12   Mujer  Clase Media  112.59   51.33    31     19340\n14   Mujer  Clase Media  178.93   56.54    22     20281\n23   Mujer  Clase Media  120.13   30.99    26     21318\n..     ...          ...     ...     ...   ...       ...\n466  Mujer  Clase Media  262.64  110.38    22     16299\n478  Mujer  Clase Media  185.04   51.04    18     18860\n482  Mujer  Clase Media  188.52   54.38    20     21771\n496  Mujer  Clase Media  131.34  119.32    30     14053\n497  Mujer  Clase Media  152.44   46.22    16     21405\n\n[88 rows x 6 columns]\n('Mujer', 'Rico')\n    Genero Estatus  Altura   Peso  Edad  Ingresos\n3    Mujer    Rico   88.84  58.95    31     14821\n4    Mujer    Rico  127.74  86.75    22     19025\n15   Mujer    Rico  142.46  61.15    19     23405\n16   Mujer    Rico  166.70  12.22    41     18161\n39   Mujer    Rico  173.90  86.66    30     21659\n..     ...     ...     ...    ...   ...       ...\n483  Mujer    Rico  177.92  57.27    52     19899\n485  Mujer    Rico  140.74  14.36    43     21164\n489  Mujer    Rico  175.18  82.06    31     16119\n494  Mujer    Rico  178.06  72.37    19     13169\n495  Mujer    Rico  170.70  73.11    42     15912\n\n[90 rows x 6 columns]\n"
     ]
    }
   ],
   "source": [
    "for nombres,grupos in doble_agrupacion:\n",
    "    print(nombres)\n",
    "    print(grupos)"
   ]
  },
  {
   "cell_type": "code",
   "execution_count": 81,
   "metadata": {},
   "outputs": [
    {
     "output_type": "execute_result",
     "data": {
      "text/plain": [
       "     Genero Estatus  Altura   Peso  Edad  Ingresos\n",
       "0    Hombre   Bajos  160.65  77.31    19     20110\n",
       "9    Hombre   Bajos  177.95  94.07    34     15441\n",
       "18   Hombre   Bajos  153.39  74.27    26     21257\n",
       "20   Hombre   Bajos  170.28  67.41    30     16366\n",
       "21   Hombre   Bajos  178.06  72.13    21     11168\n",
       "..      ...     ...     ...    ...   ...       ...\n",
       "476  Hombre   Bajos  127.99  77.51    50     18431\n",
       "479  Hombre   Bajos  144.66  93.13    41     19205\n",
       "486  Hombre   Bajos  169.68  72.84    22     16127\n",
       "487  Hombre   Bajos  167.39  99.22    19     15379\n",
       "493  Hombre   Bajos  202.73  47.45    18     15666\n",
       "\n",
       "[86 rows x 6 columns]"
      ],
      "text/html": "<div>\n<style scoped>\n    .dataframe tbody tr th:only-of-type {\n        vertical-align: middle;\n    }\n\n    .dataframe tbody tr th {\n        vertical-align: top;\n    }\n\n    .dataframe thead th {\n        text-align: right;\n    }\n</style>\n<table border=\"1\" class=\"dataframe\">\n  <thead>\n    <tr style=\"text-align: right;\">\n      <th></th>\n      <th>Genero</th>\n      <th>Estatus</th>\n      <th>Altura</th>\n      <th>Peso</th>\n      <th>Edad</th>\n      <th>Ingresos</th>\n    </tr>\n  </thead>\n  <tbody>\n    <tr>\n      <th>0</th>\n      <td>Hombre</td>\n      <td>Bajos</td>\n      <td>160.65</td>\n      <td>77.31</td>\n      <td>19</td>\n      <td>20110</td>\n    </tr>\n    <tr>\n      <th>9</th>\n      <td>Hombre</td>\n      <td>Bajos</td>\n      <td>177.95</td>\n      <td>94.07</td>\n      <td>34</td>\n      <td>15441</td>\n    </tr>\n    <tr>\n      <th>18</th>\n      <td>Hombre</td>\n      <td>Bajos</td>\n      <td>153.39</td>\n      <td>74.27</td>\n      <td>26</td>\n      <td>21257</td>\n    </tr>\n    <tr>\n      <th>20</th>\n      <td>Hombre</td>\n      <td>Bajos</td>\n      <td>170.28</td>\n      <td>67.41</td>\n      <td>30</td>\n      <td>16366</td>\n    </tr>\n    <tr>\n      <th>21</th>\n      <td>Hombre</td>\n      <td>Bajos</td>\n      <td>178.06</td>\n      <td>72.13</td>\n      <td>21</td>\n      <td>11168</td>\n    </tr>\n    <tr>\n      <th>...</th>\n      <td>...</td>\n      <td>...</td>\n      <td>...</td>\n      <td>...</td>\n      <td>...</td>\n      <td>...</td>\n    </tr>\n    <tr>\n      <th>476</th>\n      <td>Hombre</td>\n      <td>Bajos</td>\n      <td>127.99</td>\n      <td>77.51</td>\n      <td>50</td>\n      <td>18431</td>\n    </tr>\n    <tr>\n      <th>479</th>\n      <td>Hombre</td>\n      <td>Bajos</td>\n      <td>144.66</td>\n      <td>93.13</td>\n      <td>41</td>\n      <td>19205</td>\n    </tr>\n    <tr>\n      <th>486</th>\n      <td>Hombre</td>\n      <td>Bajos</td>\n      <td>169.68</td>\n      <td>72.84</td>\n      <td>22</td>\n      <td>16127</td>\n    </tr>\n    <tr>\n      <th>487</th>\n      <td>Hombre</td>\n      <td>Bajos</td>\n      <td>167.39</td>\n      <td>99.22</td>\n      <td>19</td>\n      <td>15379</td>\n    </tr>\n    <tr>\n      <th>493</th>\n      <td>Hombre</td>\n      <td>Bajos</td>\n      <td>202.73</td>\n      <td>47.45</td>\n      <td>18</td>\n      <td>15666</td>\n    </tr>\n  </tbody>\n</table>\n<p>86 rows × 6 columns</p>\n</div>"
     },
     "metadata": {},
     "execution_count": 81
    }
   ],
   "source": [
    "doble_agrupacion.get_group(('Hombre', 'Bajos'))"
   ]
  },
  {
   "source": [
    "## Operaciones sobre datos agrupados"
   ],
   "cell_type": "markdown",
   "metadata": {}
  },
  {
   "cell_type": "code",
   "execution_count": 82,
   "metadata": {},
   "outputs": [
    {
     "output_type": "execute_result",
     "data": {
      "text/plain": [
       "                      Altura     Peso  Edad  Ingresos\n",
       "Genero Estatus                                       \n",
       "Hombre Bajos        13884.18  5870.76  2609   1537468\n",
       "       Clase Media  12206.55  4948.99  2275   1324039\n",
       "       Rico         14540.55  5994.61  2593   1589606\n",
       "Mujer  Bajos        11027.76  4721.52  1870   1216921\n",
       "       Clase Media  14423.40  5876.15  2506   1615816\n",
       "       Rico         13971.49  5956.38  2612   1611743"
      ],
      "text/html": "<div>\n<style scoped>\n    .dataframe tbody tr th:only-of-type {\n        vertical-align: middle;\n    }\n\n    .dataframe tbody tr th {\n        vertical-align: top;\n    }\n\n    .dataframe thead th {\n        text-align: right;\n    }\n</style>\n<table border=\"1\" class=\"dataframe\">\n  <thead>\n    <tr style=\"text-align: right;\">\n      <th></th>\n      <th></th>\n      <th>Altura</th>\n      <th>Peso</th>\n      <th>Edad</th>\n      <th>Ingresos</th>\n    </tr>\n    <tr>\n      <th>Genero</th>\n      <th>Estatus</th>\n      <th></th>\n      <th></th>\n      <th></th>\n      <th></th>\n    </tr>\n  </thead>\n  <tbody>\n    <tr>\n      <th rowspan=\"3\" valign=\"top\">Hombre</th>\n      <th>Bajos</th>\n      <td>13884.18</td>\n      <td>5870.76</td>\n      <td>2609</td>\n      <td>1537468</td>\n    </tr>\n    <tr>\n      <th>Clase Media</th>\n      <td>12206.55</td>\n      <td>4948.99</td>\n      <td>2275</td>\n      <td>1324039</td>\n    </tr>\n    <tr>\n      <th>Rico</th>\n      <td>14540.55</td>\n      <td>5994.61</td>\n      <td>2593</td>\n      <td>1589606</td>\n    </tr>\n    <tr>\n      <th rowspan=\"3\" valign=\"top\">Mujer</th>\n      <th>Bajos</th>\n      <td>11027.76</td>\n      <td>4721.52</td>\n      <td>1870</td>\n      <td>1216921</td>\n    </tr>\n    <tr>\n      <th>Clase Media</th>\n      <td>14423.40</td>\n      <td>5876.15</td>\n      <td>2506</td>\n      <td>1615816</td>\n    </tr>\n    <tr>\n      <th>Rico</th>\n      <td>13971.49</td>\n      <td>5956.38</td>\n      <td>2612</td>\n      <td>1611743</td>\n    </tr>\n  </tbody>\n</table>\n</div>"
     },
     "metadata": {},
     "execution_count": 82
    }
   ],
   "source": [
    "doble_agrupacion.sum()"
   ]
  },
  {
   "cell_type": "code",
   "execution_count": 83,
   "metadata": {},
   "outputs": [
    {
     "output_type": "execute_result",
     "data": {
      "text/plain": [
       "                        Altura       Peso       Edad      Ingresos\n",
       "Genero Estatus                                                    \n",
       "Hombre Bajos        161.443953  68.264651  30.337209  17877.534884\n",
       "       Clase Media  158.526623  64.272597  29.545455  17195.311688\n",
       "       Rico         158.049457  65.158804  28.184783  17278.326087\n",
       "Mujer  Bajos        164.593433  70.470448  27.910448  18163.000000\n",
       "       Clase Media  163.902273  66.774432  28.477273  18361.545455\n",
       "       Rico         155.238778  66.182000  29.022222  17908.255556"
      ],
      "text/html": "<div>\n<style scoped>\n    .dataframe tbody tr th:only-of-type {\n        vertical-align: middle;\n    }\n\n    .dataframe tbody tr th {\n        vertical-align: top;\n    }\n\n    .dataframe thead th {\n        text-align: right;\n    }\n</style>\n<table border=\"1\" class=\"dataframe\">\n  <thead>\n    <tr style=\"text-align: right;\">\n      <th></th>\n      <th></th>\n      <th>Altura</th>\n      <th>Peso</th>\n      <th>Edad</th>\n      <th>Ingresos</th>\n    </tr>\n    <tr>\n      <th>Genero</th>\n      <th>Estatus</th>\n      <th></th>\n      <th></th>\n      <th></th>\n      <th></th>\n    </tr>\n  </thead>\n  <tbody>\n    <tr>\n      <th rowspan=\"3\" valign=\"top\">Hombre</th>\n      <th>Bajos</th>\n      <td>161.443953</td>\n      <td>68.264651</td>\n      <td>30.337209</td>\n      <td>17877.534884</td>\n    </tr>\n    <tr>\n      <th>Clase Media</th>\n      <td>158.526623</td>\n      <td>64.272597</td>\n      <td>29.545455</td>\n      <td>17195.311688</td>\n    </tr>\n    <tr>\n      <th>Rico</th>\n      <td>158.049457</td>\n      <td>65.158804</td>\n      <td>28.184783</td>\n      <td>17278.326087</td>\n    </tr>\n    <tr>\n      <th rowspan=\"3\" valign=\"top\">Mujer</th>\n      <th>Bajos</th>\n      <td>164.593433</td>\n      <td>70.470448</td>\n      <td>27.910448</td>\n      <td>18163.000000</td>\n    </tr>\n    <tr>\n      <th>Clase Media</th>\n      <td>163.902273</td>\n      <td>66.774432</td>\n      <td>28.477273</td>\n      <td>18361.545455</td>\n    </tr>\n    <tr>\n      <th>Rico</th>\n      <td>155.238778</td>\n      <td>66.182000</td>\n      <td>29.022222</td>\n      <td>17908.255556</td>\n    </tr>\n  </tbody>\n</table>\n</div>"
     },
     "metadata": {},
     "execution_count": 83
    }
   ],
   "source": [
    "doble_agrupacion.mean()"
   ]
  },
  {
   "cell_type": "code",
   "execution_count": 84,
   "metadata": {},
   "outputs": [
    {
     "output_type": "execute_result",
     "data": {
      "text/plain": [
       "Genero  Estatus    \n",
       "Hombre  Bajos          86\n",
       "        Clase Media    77\n",
       "        Rico           92\n",
       "Mujer   Bajos          67\n",
       "        Clase Media    88\n",
       "        Rico           90\n",
       "dtype: int64"
      ]
     },
     "metadata": {},
     "execution_count": 84
    }
   ],
   "source": [
    "doble_agrupacion.size()"
   ]
  },
  {
   "cell_type": "code",
   "execution_count": 85,
   "metadata": {},
   "outputs": [
    {
     "output_type": "execute_result",
     "data": {
      "text/plain": [
       "                   Altura                                                    \\\n",
       "                    count        mean        std     min       25%      50%   \n",
       "Genero Estatus                                                                \n",
       "Hombre Bajos         86.0  161.443953  26.203045   89.85  145.0125  161.985   \n",
       "       Clase Media   77.0  158.526623  32.742470   86.18  135.4000  159.230   \n",
       "       Rico          92.0  158.049457  31.702573   75.34  136.9150  159.515   \n",
       "Mujer  Bajos         67.0  164.593433  32.186213   62.28  146.1050  166.770   \n",
       "       Clase Media   88.0  163.902273  30.939950  108.86  142.1200  155.700   \n",
       "       Rico          90.0  155.238778  28.642350   88.84  135.3725  157.795   \n",
       "\n",
       "                                      Peso             ...   Edad        \\\n",
       "                         75%     max count       mean  ...    75%   max   \n",
       "Genero Estatus                                         ...                \n",
       "Hombre Bajos        179.7450  211.69  86.0  68.264651  ...  39.75  65.0   \n",
       "       Clase Media  178.1700  246.59  77.0  64.272597  ...  36.00  55.0   \n",
       "       Rico         179.6575  226.29  92.0  65.158804  ...  35.00  60.0   \n",
       "Mujer  Bajos        183.5900  258.43  67.0  70.470448  ...  36.00  51.0   \n",
       "       Clase Media  186.5475  262.64  88.0  66.774432  ...  36.00  56.0   \n",
       "       Rico         174.8225  222.33  90.0  66.182000  ...  37.00  54.0   \n",
       "\n",
       "                   Ingresos                                                \\\n",
       "                      count          mean          std      min       25%   \n",
       "Genero Estatus                                                              \n",
       "Hombre Bajos           86.0  17877.534884  3656.094785  10901.0  15414.00   \n",
       "       Clase Media     77.0  17195.311688  3265.332760  10167.0  15158.00   \n",
       "       Rico            92.0  17278.326087  3158.492150   8543.0  15090.50   \n",
       "Mujer  Bajos           67.0  18163.000000  3249.594567  11721.0  15506.00   \n",
       "       Clase Media     88.0  18361.545455  3203.325527  12325.0  16226.25   \n",
       "       Rico            90.0  17908.255556  3624.234390   7988.0  15165.25   \n",
       "\n",
       "                                                \n",
       "                        50%       75%      max  \n",
       "Genero Estatus                                  \n",
       "Hombre Bajos        17850.0  20481.25  26154.0  \n",
       "       Clase Media  17392.0  19356.00  26533.0  \n",
       "       Rico         17384.0  19919.75  22965.0  \n",
       "Mujer  Bajos        18331.0  20430.00  24492.0  \n",
       "       Clase Media  18067.0  20816.75  26368.0  \n",
       "       Rico         18076.5  20583.75  25970.0  \n",
       "\n",
       "[6 rows x 32 columns]"
      ],
      "text/html": "<div>\n<style scoped>\n    .dataframe tbody tr th:only-of-type {\n        vertical-align: middle;\n    }\n\n    .dataframe tbody tr th {\n        vertical-align: top;\n    }\n\n    .dataframe thead tr th {\n        text-align: left;\n    }\n\n    .dataframe thead tr:last-of-type th {\n        text-align: right;\n    }\n</style>\n<table border=\"1\" class=\"dataframe\">\n  <thead>\n    <tr>\n      <th></th>\n      <th></th>\n      <th colspan=\"8\" halign=\"left\">Altura</th>\n      <th colspan=\"2\" halign=\"left\">Peso</th>\n      <th>...</th>\n      <th colspan=\"2\" halign=\"left\">Edad</th>\n      <th colspan=\"8\" halign=\"left\">Ingresos</th>\n    </tr>\n    <tr>\n      <th></th>\n      <th></th>\n      <th>count</th>\n      <th>mean</th>\n      <th>std</th>\n      <th>min</th>\n      <th>25%</th>\n      <th>50%</th>\n      <th>75%</th>\n      <th>max</th>\n      <th>count</th>\n      <th>mean</th>\n      <th>...</th>\n      <th>75%</th>\n      <th>max</th>\n      <th>count</th>\n      <th>mean</th>\n      <th>std</th>\n      <th>min</th>\n      <th>25%</th>\n      <th>50%</th>\n      <th>75%</th>\n      <th>max</th>\n    </tr>\n    <tr>\n      <th>Genero</th>\n      <th>Estatus</th>\n      <th></th>\n      <th></th>\n      <th></th>\n      <th></th>\n      <th></th>\n      <th></th>\n      <th></th>\n      <th></th>\n      <th></th>\n      <th></th>\n      <th></th>\n      <th></th>\n      <th></th>\n      <th></th>\n      <th></th>\n      <th></th>\n      <th></th>\n      <th></th>\n      <th></th>\n      <th></th>\n      <th></th>\n    </tr>\n  </thead>\n  <tbody>\n    <tr>\n      <th rowspan=\"3\" valign=\"top\">Hombre</th>\n      <th>Bajos</th>\n      <td>86.0</td>\n      <td>161.443953</td>\n      <td>26.203045</td>\n      <td>89.85</td>\n      <td>145.0125</td>\n      <td>161.985</td>\n      <td>179.7450</td>\n      <td>211.69</td>\n      <td>86.0</td>\n      <td>68.264651</td>\n      <td>...</td>\n      <td>39.75</td>\n      <td>65.0</td>\n      <td>86.0</td>\n      <td>17877.534884</td>\n      <td>3656.094785</td>\n      <td>10901.0</td>\n      <td>15414.00</td>\n      <td>17850.0</td>\n      <td>20481.25</td>\n      <td>26154.0</td>\n    </tr>\n    <tr>\n      <th>Clase Media</th>\n      <td>77.0</td>\n      <td>158.526623</td>\n      <td>32.742470</td>\n      <td>86.18</td>\n      <td>135.4000</td>\n      <td>159.230</td>\n      <td>178.1700</td>\n      <td>246.59</td>\n      <td>77.0</td>\n      <td>64.272597</td>\n      <td>...</td>\n      <td>36.00</td>\n      <td>55.0</td>\n      <td>77.0</td>\n      <td>17195.311688</td>\n      <td>3265.332760</td>\n      <td>10167.0</td>\n      <td>15158.00</td>\n      <td>17392.0</td>\n      <td>19356.00</td>\n      <td>26533.0</td>\n    </tr>\n    <tr>\n      <th>Rico</th>\n      <td>92.0</td>\n      <td>158.049457</td>\n      <td>31.702573</td>\n      <td>75.34</td>\n      <td>136.9150</td>\n      <td>159.515</td>\n      <td>179.6575</td>\n      <td>226.29</td>\n      <td>92.0</td>\n      <td>65.158804</td>\n      <td>...</td>\n      <td>35.00</td>\n      <td>60.0</td>\n      <td>92.0</td>\n      <td>17278.326087</td>\n      <td>3158.492150</td>\n      <td>8543.0</td>\n      <td>15090.50</td>\n      <td>17384.0</td>\n      <td>19919.75</td>\n      <td>22965.0</td>\n    </tr>\n    <tr>\n      <th rowspan=\"3\" valign=\"top\">Mujer</th>\n      <th>Bajos</th>\n      <td>67.0</td>\n      <td>164.593433</td>\n      <td>32.186213</td>\n      <td>62.28</td>\n      <td>146.1050</td>\n      <td>166.770</td>\n      <td>183.5900</td>\n      <td>258.43</td>\n      <td>67.0</td>\n      <td>70.470448</td>\n      <td>...</td>\n      <td>36.00</td>\n      <td>51.0</td>\n      <td>67.0</td>\n      <td>18163.000000</td>\n      <td>3249.594567</td>\n      <td>11721.0</td>\n      <td>15506.00</td>\n      <td>18331.0</td>\n      <td>20430.00</td>\n      <td>24492.0</td>\n    </tr>\n    <tr>\n      <th>Clase Media</th>\n      <td>88.0</td>\n      <td>163.902273</td>\n      <td>30.939950</td>\n      <td>108.86</td>\n      <td>142.1200</td>\n      <td>155.700</td>\n      <td>186.5475</td>\n      <td>262.64</td>\n      <td>88.0</td>\n      <td>66.774432</td>\n      <td>...</td>\n      <td>36.00</td>\n      <td>56.0</td>\n      <td>88.0</td>\n      <td>18361.545455</td>\n      <td>3203.325527</td>\n      <td>12325.0</td>\n      <td>16226.25</td>\n      <td>18067.0</td>\n      <td>20816.75</td>\n      <td>26368.0</td>\n    </tr>\n    <tr>\n      <th>Rico</th>\n      <td>90.0</td>\n      <td>155.238778</td>\n      <td>28.642350</td>\n      <td>88.84</td>\n      <td>135.3725</td>\n      <td>157.795</td>\n      <td>174.8225</td>\n      <td>222.33</td>\n      <td>90.0</td>\n      <td>66.182000</td>\n      <td>...</td>\n      <td>37.00</td>\n      <td>54.0</td>\n      <td>90.0</td>\n      <td>17908.255556</td>\n      <td>3624.234390</td>\n      <td>7988.0</td>\n      <td>15165.25</td>\n      <td>18076.5</td>\n      <td>20583.75</td>\n      <td>25970.0</td>\n    </tr>\n  </tbody>\n</table>\n<p>6 rows × 32 columns</p>\n</div>"
     },
     "metadata": {},
     "execution_count": 85
    }
   ],
   "source": [
    "doble_agrupacion.describe()"
   ]
  },
  {
   "cell_type": "code",
   "execution_count": 86,
   "metadata": {},
   "outputs": [],
   "source": [
    "doble_agrupacion_ingresos = doble_agrupacion[\"Ingresos\"]"
   ]
  },
  {
   "cell_type": "code",
   "execution_count": 87,
   "metadata": {},
   "outputs": [
    {
     "output_type": "execute_result",
     "data": {
      "text/plain": [
       "                    count          mean          std      min       25%  \\\n",
       "Genero Estatus                                                            \n",
       "Hombre Bajos         86.0  17877.534884  3656.094785  10901.0  15414.00   \n",
       "       Clase Media   77.0  17195.311688  3265.332760  10167.0  15158.00   \n",
       "       Rico          92.0  17278.326087  3158.492150   8543.0  15090.50   \n",
       "Mujer  Bajos         67.0  18163.000000  3249.594567  11721.0  15506.00   \n",
       "       Clase Media   88.0  18361.545455  3203.325527  12325.0  16226.25   \n",
       "       Rico          90.0  17908.255556  3624.234390   7988.0  15165.25   \n",
       "\n",
       "                        50%       75%      max  \n",
       "Genero Estatus                                  \n",
       "Hombre Bajos        17850.0  20481.25  26154.0  \n",
       "       Clase Media  17392.0  19356.00  26533.0  \n",
       "       Rico         17384.0  19919.75  22965.0  \n",
       "Mujer  Bajos        18331.0  20430.00  24492.0  \n",
       "       Clase Media  18067.0  20816.75  26368.0  \n",
       "       Rico         18076.5  20583.75  25970.0  "
      ],
      "text/html": "<div>\n<style scoped>\n    .dataframe tbody tr th:only-of-type {\n        vertical-align: middle;\n    }\n\n    .dataframe tbody tr th {\n        vertical-align: top;\n    }\n\n    .dataframe thead th {\n        text-align: right;\n    }\n</style>\n<table border=\"1\" class=\"dataframe\">\n  <thead>\n    <tr style=\"text-align: right;\">\n      <th></th>\n      <th></th>\n      <th>count</th>\n      <th>mean</th>\n      <th>std</th>\n      <th>min</th>\n      <th>25%</th>\n      <th>50%</th>\n      <th>75%</th>\n      <th>max</th>\n    </tr>\n    <tr>\n      <th>Genero</th>\n      <th>Estatus</th>\n      <th></th>\n      <th></th>\n      <th></th>\n      <th></th>\n      <th></th>\n      <th></th>\n      <th></th>\n      <th></th>\n    </tr>\n  </thead>\n  <tbody>\n    <tr>\n      <th rowspan=\"3\" valign=\"top\">Hombre</th>\n      <th>Bajos</th>\n      <td>86.0</td>\n      <td>17877.534884</td>\n      <td>3656.094785</td>\n      <td>10901.0</td>\n      <td>15414.00</td>\n      <td>17850.0</td>\n      <td>20481.25</td>\n      <td>26154.0</td>\n    </tr>\n    <tr>\n      <th>Clase Media</th>\n      <td>77.0</td>\n      <td>17195.311688</td>\n      <td>3265.332760</td>\n      <td>10167.0</td>\n      <td>15158.00</td>\n      <td>17392.0</td>\n      <td>19356.00</td>\n      <td>26533.0</td>\n    </tr>\n    <tr>\n      <th>Rico</th>\n      <td>92.0</td>\n      <td>17278.326087</td>\n      <td>3158.492150</td>\n      <td>8543.0</td>\n      <td>15090.50</td>\n      <td>17384.0</td>\n      <td>19919.75</td>\n      <td>22965.0</td>\n    </tr>\n    <tr>\n      <th rowspan=\"3\" valign=\"top\">Mujer</th>\n      <th>Bajos</th>\n      <td>67.0</td>\n      <td>18163.000000</td>\n      <td>3249.594567</td>\n      <td>11721.0</td>\n      <td>15506.00</td>\n      <td>18331.0</td>\n      <td>20430.00</td>\n      <td>24492.0</td>\n    </tr>\n    <tr>\n      <th>Clase Media</th>\n      <td>88.0</td>\n      <td>18361.545455</td>\n      <td>3203.325527</td>\n      <td>12325.0</td>\n      <td>16226.25</td>\n      <td>18067.0</td>\n      <td>20816.75</td>\n      <td>26368.0</td>\n    </tr>\n    <tr>\n      <th>Rico</th>\n      <td>90.0</td>\n      <td>17908.255556</td>\n      <td>3624.234390</td>\n      <td>7988.0</td>\n      <td>15165.25</td>\n      <td>18076.5</td>\n      <td>20583.75</td>\n      <td>25970.0</td>\n    </tr>\n  </tbody>\n</table>\n</div>"
     },
     "metadata": {},
     "execution_count": 87
    }
   ],
   "source": [
    "doble_agrupacion_ingresos.describe()"
   ]
  },
  {
   "cell_type": "code",
   "execution_count": 89,
   "metadata": {},
   "outputs": [
    {
     "output_type": "execute_result",
     "data": {
      "text/plain": [
       "                    Ingresos       Edad     Altura\n",
       "Genero Estatus                                    \n",
       "Hombre Bajos         1537468  30.337209  26.203045\n",
       "       Clase Media   1324039  29.545455  32.742470\n",
       "       Rico          1589606  28.184783  31.702573\n",
       "Mujer  Bajos         1216921  27.910448  32.186213\n",
       "       Clase Media   1615816  28.477273  30.939950\n",
       "       Rico          1611743  29.022222  28.642350"
      ],
      "text/html": "<div>\n<style scoped>\n    .dataframe tbody tr th:only-of-type {\n        vertical-align: middle;\n    }\n\n    .dataframe tbody tr th {\n        vertical-align: top;\n    }\n\n    .dataframe thead th {\n        text-align: right;\n    }\n</style>\n<table border=\"1\" class=\"dataframe\">\n  <thead>\n    <tr style=\"text-align: right;\">\n      <th></th>\n      <th></th>\n      <th>Ingresos</th>\n      <th>Edad</th>\n      <th>Altura</th>\n    </tr>\n    <tr>\n      <th>Genero</th>\n      <th>Estatus</th>\n      <th></th>\n      <th></th>\n      <th></th>\n    </tr>\n  </thead>\n  <tbody>\n    <tr>\n      <th rowspan=\"3\" valign=\"top\">Hombre</th>\n      <th>Bajos</th>\n      <td>1537468</td>\n      <td>30.337209</td>\n      <td>26.203045</td>\n    </tr>\n    <tr>\n      <th>Clase Media</th>\n      <td>1324039</td>\n      <td>29.545455</td>\n      <td>32.742470</td>\n    </tr>\n    <tr>\n      <th>Rico</th>\n      <td>1589606</td>\n      <td>28.184783</td>\n      <td>31.702573</td>\n    </tr>\n    <tr>\n      <th rowspan=\"3\" valign=\"top\">Mujer</th>\n      <th>Bajos</th>\n      <td>1216921</td>\n      <td>27.910448</td>\n      <td>32.186213</td>\n    </tr>\n    <tr>\n      <th>Clase Media</th>\n      <td>1615816</td>\n      <td>28.477273</td>\n      <td>30.939950</td>\n    </tr>\n    <tr>\n      <th>Rico</th>\n      <td>1611743</td>\n      <td>29.022222</td>\n      <td>28.642350</td>\n    </tr>\n  </tbody>\n</table>\n</div>"
     },
     "metadata": {},
     "execution_count": 89
    }
   ],
   "source": [
    "doble_agrupacion.aggregate(\n",
    "    {\n",
    "        \"Ingresos\": np.sum,\n",
    "        \"Edad\": np.mean,\n",
    "        \"Altura\": np.std\n",
    "    }\n",
    ")"
   ]
  },
  {
   "cell_type": "code",
   "execution_count": 93,
   "metadata": {},
   "outputs": [
    {
     "output_type": "execute_result",
     "data": {
      "text/plain": [
       "                         Edad    Altura\n",
       "Genero Estatus                         \n",
       "Hombre Bajos        30.337209  6.197404\n",
       "       Clase Media  29.545455  4.873369\n",
       "       Rico         28.184783  5.012700\n",
       "Mujer  Bajos        27.910448  5.152382\n",
       "       Clase Media  28.477273  5.327790\n",
       "       Rico         29.022222  5.450268"
      ],
      "text/html": "<div>\n<style scoped>\n    .dataframe tbody tr th:only-of-type {\n        vertical-align: middle;\n    }\n\n    .dataframe tbody tr th {\n        vertical-align: top;\n    }\n\n    .dataframe thead th {\n        text-align: right;\n    }\n</style>\n<table border=\"1\" class=\"dataframe\">\n  <thead>\n    <tr style=\"text-align: right;\">\n      <th></th>\n      <th></th>\n      <th>Edad</th>\n      <th>Altura</th>\n    </tr>\n    <tr>\n      <th>Genero</th>\n      <th>Estatus</th>\n      <th></th>\n      <th></th>\n    </tr>\n  </thead>\n  <tbody>\n    <tr>\n      <th rowspan=\"3\" valign=\"top\">Hombre</th>\n      <th>Bajos</th>\n      <td>30.337209</td>\n      <td>6.197404</td>\n    </tr>\n    <tr>\n      <th>Clase Media</th>\n      <td>29.545455</td>\n      <td>4.873369</td>\n    </tr>\n    <tr>\n      <th>Rico</th>\n      <td>28.184783</td>\n      <td>5.012700</td>\n    </tr>\n    <tr>\n      <th rowspan=\"3\" valign=\"top\">Mujer</th>\n      <th>Bajos</th>\n      <td>27.910448</td>\n      <td>5.152382</td>\n    </tr>\n    <tr>\n      <th>Clase Media</th>\n      <td>28.477273</td>\n      <td>5.327790</td>\n    </tr>\n    <tr>\n      <th>Rico</th>\n      <td>29.022222</td>\n      <td>5.450268</td>\n    </tr>\n  </tbody>\n</table>\n</div>"
     },
     "metadata": {},
     "execution_count": 93
    }
   ],
   "source": [
    "doble_agrupacion.aggregate(\n",
    "    {\n",
    "        \"Edad\": np.mean,\n",
    "        \"Altura\": lambda a: np.mean(a)/np.std(a)\n",
    "    }\n",
    ")"
   ]
  },
  {
   "cell_type": "code",
   "execution_count": 94,
   "metadata": {},
   "outputs": [
    {
     "output_type": "execute_result",
     "data": {
      "text/plain": [
       "                      Altura                            Peso             \\\n",
       "                         sum        mean        std      sum       mean   \n",
       "Genero Estatus                                                            \n",
       "Hombre Bajos        13884.18  161.443953  26.203045  5870.76  68.264651   \n",
       "       Clase Media  12206.55  158.526623  32.742470  4948.99  64.272597   \n",
       "       Rico         14540.55  158.049457  31.702573  5994.61  65.158804   \n",
       "Mujer  Bajos        11027.76  164.593433  32.186213  4721.52  70.470448   \n",
       "       Clase Media  14423.40  163.902273  30.939950  5876.15  66.774432   \n",
       "       Rico         13971.49  155.238778  28.642350  5956.38  66.182000   \n",
       "\n",
       "                               Edad                       Ingresos  \\\n",
       "                          std   sum       mean        std      sum   \n",
       "Genero Estatus                                                       \n",
       "Hombre Bajos        26.465467  2609  30.337209  12.982894  1537468   \n",
       "       Clase Media  24.126868  2275  29.545455  10.592382  1324039   \n",
       "       Rico         26.376028  2593  28.184783  11.748209  1589606   \n",
       "Mujer  Bajos        24.489134  1870  27.910448  12.029927  1216921   \n",
       "       Clase Media  25.307533  2506  28.477273  11.197267  1615816   \n",
       "       Rico         27.365264  2612  29.022222  11.630044  1611743   \n",
       "\n",
       "                                               \n",
       "                            mean          std  \n",
       "Genero Estatus                                 \n",
       "Hombre Bajos        17877.534884  3656.094785  \n",
       "       Clase Media  17195.311688  3265.332760  \n",
       "       Rico         17278.326087  3158.492150  \n",
       "Mujer  Bajos        18163.000000  3249.594567  \n",
       "       Clase Media  18361.545455  3203.325527  \n",
       "       Rico         17908.255556  3624.234390  "
      ],
      "text/html": "<div>\n<style scoped>\n    .dataframe tbody tr th:only-of-type {\n        vertical-align: middle;\n    }\n\n    .dataframe tbody tr th {\n        vertical-align: top;\n    }\n\n    .dataframe thead tr th {\n        text-align: left;\n    }\n\n    .dataframe thead tr:last-of-type th {\n        text-align: right;\n    }\n</style>\n<table border=\"1\" class=\"dataframe\">\n  <thead>\n    <tr>\n      <th></th>\n      <th></th>\n      <th colspan=\"3\" halign=\"left\">Altura</th>\n      <th colspan=\"3\" halign=\"left\">Peso</th>\n      <th colspan=\"3\" halign=\"left\">Edad</th>\n      <th colspan=\"3\" halign=\"left\">Ingresos</th>\n    </tr>\n    <tr>\n      <th></th>\n      <th></th>\n      <th>sum</th>\n      <th>mean</th>\n      <th>std</th>\n      <th>sum</th>\n      <th>mean</th>\n      <th>std</th>\n      <th>sum</th>\n      <th>mean</th>\n      <th>std</th>\n      <th>sum</th>\n      <th>mean</th>\n      <th>std</th>\n    </tr>\n    <tr>\n      <th>Genero</th>\n      <th>Estatus</th>\n      <th></th>\n      <th></th>\n      <th></th>\n      <th></th>\n      <th></th>\n      <th></th>\n      <th></th>\n      <th></th>\n      <th></th>\n      <th></th>\n      <th></th>\n      <th></th>\n    </tr>\n  </thead>\n  <tbody>\n    <tr>\n      <th rowspan=\"3\" valign=\"top\">Hombre</th>\n      <th>Bajos</th>\n      <td>13884.18</td>\n      <td>161.443953</td>\n      <td>26.203045</td>\n      <td>5870.76</td>\n      <td>68.264651</td>\n      <td>26.465467</td>\n      <td>2609</td>\n      <td>30.337209</td>\n      <td>12.982894</td>\n      <td>1537468</td>\n      <td>17877.534884</td>\n      <td>3656.094785</td>\n    </tr>\n    <tr>\n      <th>Clase Media</th>\n      <td>12206.55</td>\n      <td>158.526623</td>\n      <td>32.742470</td>\n      <td>4948.99</td>\n      <td>64.272597</td>\n      <td>24.126868</td>\n      <td>2275</td>\n      <td>29.545455</td>\n      <td>10.592382</td>\n      <td>1324039</td>\n      <td>17195.311688</td>\n      <td>3265.332760</td>\n    </tr>\n    <tr>\n      <th>Rico</th>\n      <td>14540.55</td>\n      <td>158.049457</td>\n      <td>31.702573</td>\n      <td>5994.61</td>\n      <td>65.158804</td>\n      <td>26.376028</td>\n      <td>2593</td>\n      <td>28.184783</td>\n      <td>11.748209</td>\n      <td>1589606</td>\n      <td>17278.326087</td>\n      <td>3158.492150</td>\n    </tr>\n    <tr>\n      <th rowspan=\"3\" valign=\"top\">Mujer</th>\n      <th>Bajos</th>\n      <td>11027.76</td>\n      <td>164.593433</td>\n      <td>32.186213</td>\n      <td>4721.52</td>\n      <td>70.470448</td>\n      <td>24.489134</td>\n      <td>1870</td>\n      <td>27.910448</td>\n      <td>12.029927</td>\n      <td>1216921</td>\n      <td>18163.000000</td>\n      <td>3249.594567</td>\n    </tr>\n    <tr>\n      <th>Clase Media</th>\n      <td>14423.40</td>\n      <td>163.902273</td>\n      <td>30.939950</td>\n      <td>5876.15</td>\n      <td>66.774432</td>\n      <td>25.307533</td>\n      <td>2506</td>\n      <td>28.477273</td>\n      <td>11.197267</td>\n      <td>1615816</td>\n      <td>18361.545455</td>\n      <td>3203.325527</td>\n    </tr>\n    <tr>\n      <th>Rico</th>\n      <td>13971.49</td>\n      <td>155.238778</td>\n      <td>28.642350</td>\n      <td>5956.38</td>\n      <td>66.182000</td>\n      <td>27.365264</td>\n      <td>2612</td>\n      <td>29.022222</td>\n      <td>11.630044</td>\n      <td>1611743</td>\n      <td>17908.255556</td>\n      <td>3624.234390</td>\n    </tr>\n  </tbody>\n</table>\n</div>"
     },
     "metadata": {},
     "execution_count": 94
    }
   ],
   "source": [
    "doble_agrupacion.aggregate([np.sum,np.mean,np.std])"
   ]
  },
  {
   "cell_type": "code",
   "execution_count": 96,
   "metadata": {},
   "outputs": [
    {
     "output_type": "execute_result",
     "data": {
      "text/plain": [
       "                      Altura      Peso      Edad  Ingresos\n",
       "                    <lambda>  <lambda>  <lambda>  <lambda>\n",
       "Genero Estatus                                            \n",
       "Hombre Bajos        6.197404  2.594514  2.350411  4.918469\n",
       "       Clase Media  4.873369  2.681412  2.807602  5.300553\n",
       "       Rico         5.012700  2.483916  2.412216  5.500410\n",
       "Mujer  Bajos        5.152382  2.899339  2.337595  5.631497\n",
       "       Clase Media  5.327790  2.653641  2.557809  5.764875\n",
       "       Rico         5.450268  2.432016  2.509433  4.968934"
      ],
      "text/html": "<div>\n<style scoped>\n    .dataframe tbody tr th:only-of-type {\n        vertical-align: middle;\n    }\n\n    .dataframe tbody tr th {\n        vertical-align: top;\n    }\n\n    .dataframe thead tr th {\n        text-align: left;\n    }\n\n    .dataframe thead tr:last-of-type th {\n        text-align: right;\n    }\n</style>\n<table border=\"1\" class=\"dataframe\">\n  <thead>\n    <tr>\n      <th></th>\n      <th></th>\n      <th>Altura</th>\n      <th>Peso</th>\n      <th>Edad</th>\n      <th>Ingresos</th>\n    </tr>\n    <tr>\n      <th></th>\n      <th></th>\n      <th>&lt;lambda&gt;</th>\n      <th>&lt;lambda&gt;</th>\n      <th>&lt;lambda&gt;</th>\n      <th>&lt;lambda&gt;</th>\n    </tr>\n    <tr>\n      <th>Genero</th>\n      <th>Estatus</th>\n      <th></th>\n      <th></th>\n      <th></th>\n      <th></th>\n    </tr>\n  </thead>\n  <tbody>\n    <tr>\n      <th rowspan=\"3\" valign=\"top\">Hombre</th>\n      <th>Bajos</th>\n      <td>6.197404</td>\n      <td>2.594514</td>\n      <td>2.350411</td>\n      <td>4.918469</td>\n    </tr>\n    <tr>\n      <th>Clase Media</th>\n      <td>4.873369</td>\n      <td>2.681412</td>\n      <td>2.807602</td>\n      <td>5.300553</td>\n    </tr>\n    <tr>\n      <th>Rico</th>\n      <td>5.012700</td>\n      <td>2.483916</td>\n      <td>2.412216</td>\n      <td>5.500410</td>\n    </tr>\n    <tr>\n      <th rowspan=\"3\" valign=\"top\">Mujer</th>\n      <th>Bajos</th>\n      <td>5.152382</td>\n      <td>2.899339</td>\n      <td>2.337595</td>\n      <td>5.631497</td>\n    </tr>\n    <tr>\n      <th>Clase Media</th>\n      <td>5.327790</td>\n      <td>2.653641</td>\n      <td>2.557809</td>\n      <td>5.764875</td>\n    </tr>\n    <tr>\n      <th>Rico</th>\n      <td>5.450268</td>\n      <td>2.432016</td>\n      <td>2.509433</td>\n      <td>4.968934</td>\n    </tr>\n  </tbody>\n</table>\n</div>"
     },
     "metadata": {},
     "execution_count": 96
    }
   ],
   "source": [
    "doble_agrupacion.aggregate([lambda x: np.mean(x)/np.std(x)])"
   ]
  },
  {
   "cell_type": "code",
   "execution_count": null,
   "metadata": {},
   "outputs": [],
   "source": []
  }
 ]
}