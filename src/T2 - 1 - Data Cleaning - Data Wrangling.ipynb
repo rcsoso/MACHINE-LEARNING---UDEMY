{
 "metadata": {
  "language_info": {
   "codemirror_mode": {
    "name": "ipython",
    "version": 3
   },
   "file_extension": ".py",
   "mimetype": "text/x-python",
   "name": "python",
   "nbconvert_exporter": "python",
   "pygments_lexer": "ipython3",
   "version": "3.9.1"
  },
  "orig_nbformat": 2,
  "kernelspec": {
   "name": "python391jvsc74a57bd09e797c8960c8a983e950f06465ba4caaf9d96e0305498a705911d1d9a54b77da",
   "display_name": "Python 3.9.1 64-bit ('MACHINE_LEARNING_-_UDEMY-qK85mjxz': virtualenvwrapper)"
  }
 },
 "nbformat": 4,
 "nbformat_minor": 2,
 "cells": [
  {
   "source": [
    "# Data Wrangling - la cirugía de datos"
   ],
   "cell_type": "markdown",
   "metadata": {}
  },
  {
   "source": [
    "Es el proceso de transformar y mapear los datos de lo que llamamos un data row es decir datos en crudo tal cual se han sacado de una base de datos o tal cual se ha hecho de un CSV en otro formato con la intención de hacerlo más apropiado, más valioso y obtener la forma exacta para luego poder utilizar todo un conjunto de recetas de cocina posteriores. Todo un conjunto de técnicas de análisis de datos propiamente dicho.  \n",
    "Un data Ranger es así pues la persona que se encarga de hacer este tipo de transformaciones, es el cirujano por así decir entre otras cosas, pueden incluir técnicas de marketing, de visualización de datos, de agregación, de hacer un subconjunto, de entrenar un modelo estadístico."
   ],
   "cell_type": "markdown",
   "metadata": {}
  },
  {
   "cell_type": "code",
   "execution_count": 113,
   "metadata": {},
   "outputs": [],
   "source": [
    "import pandas as pd\n",
    "import numpy as np\n",
    "import random as rm"
   ]
  },
  {
   "cell_type": "code",
   "execution_count": 43,
   "metadata": {},
   "outputs": [],
   "source": [
    "mainpath = \"/Users/Ricar/Documents/Proyectos/MACHINE LEARNING - UDEMY/Datasets\"\n",
    "filename = \"customer-churn-model/Customer Churn Model.txt\"\n",
    "fullpath = os.path.join(mainpath,filename)"
   ]
  },
  {
   "cell_type": "code",
   "execution_count": 44,
   "metadata": {},
   "outputs": [
    {
     "output_type": "execute_result",
     "data": {
      "text/plain": [
       "  State  Account Length  Area Code     Phone Int'l Plan VMail Plan  \\\n",
       "0    KS             128        415  382-4657         no        yes   \n",
       "1    OH             107        415  371-7191         no        yes   \n",
       "2    NJ             137        415  358-1921         no         no   \n",
       "3    OH              84        408  375-9999        yes         no   \n",
       "4    OK              75        415  330-6626        yes         no   \n",
       "\n",
       "   VMail Message  Day Mins  Day Calls  Day Charge  ...  Eve Calls  Eve Charge  \\\n",
       "0             25     265.1        110       45.07  ...         99       16.78   \n",
       "1             26     161.6        123       27.47  ...        103       16.62   \n",
       "2              0     243.4        114       41.38  ...        110       10.30   \n",
       "3              0     299.4         71       50.90  ...         88        5.26   \n",
       "4              0     166.7        113       28.34  ...        122       12.61   \n",
       "\n",
       "   Night Mins  Night Calls  Night Charge  Intl Mins  Intl Calls  Intl Charge  \\\n",
       "0       244.7           91         11.01       10.0           3         2.70   \n",
       "1       254.4          103         11.45       13.7           3         3.70   \n",
       "2       162.6          104          7.32       12.2           5         3.29   \n",
       "3       196.9           89          8.86        6.6           7         1.78   \n",
       "4       186.9          121          8.41       10.1           3         2.73   \n",
       "\n",
       "   CustServ Calls  Churn?  \n",
       "0               1  False.  \n",
       "1               1  False.  \n",
       "2               0  False.  \n",
       "3               2  False.  \n",
       "4               3  False.  \n",
       "\n",
       "[5 rows x 21 columns]"
      ],
      "text/html": "<div>\n<style scoped>\n    .dataframe tbody tr th:only-of-type {\n        vertical-align: middle;\n    }\n\n    .dataframe tbody tr th {\n        vertical-align: top;\n    }\n\n    .dataframe thead th {\n        text-align: right;\n    }\n</style>\n<table border=\"1\" class=\"dataframe\">\n  <thead>\n    <tr style=\"text-align: right;\">\n      <th></th>\n      <th>State</th>\n      <th>Account Length</th>\n      <th>Area Code</th>\n      <th>Phone</th>\n      <th>Int'l Plan</th>\n      <th>VMail Plan</th>\n      <th>VMail Message</th>\n      <th>Day Mins</th>\n      <th>Day Calls</th>\n      <th>Day Charge</th>\n      <th>...</th>\n      <th>Eve Calls</th>\n      <th>Eve Charge</th>\n      <th>Night Mins</th>\n      <th>Night Calls</th>\n      <th>Night Charge</th>\n      <th>Intl Mins</th>\n      <th>Intl Calls</th>\n      <th>Intl Charge</th>\n      <th>CustServ Calls</th>\n      <th>Churn?</th>\n    </tr>\n  </thead>\n  <tbody>\n    <tr>\n      <th>0</th>\n      <td>KS</td>\n      <td>128</td>\n      <td>415</td>\n      <td>382-4657</td>\n      <td>no</td>\n      <td>yes</td>\n      <td>25</td>\n      <td>265.1</td>\n      <td>110</td>\n      <td>45.07</td>\n      <td>...</td>\n      <td>99</td>\n      <td>16.78</td>\n      <td>244.7</td>\n      <td>91</td>\n      <td>11.01</td>\n      <td>10.0</td>\n      <td>3</td>\n      <td>2.70</td>\n      <td>1</td>\n      <td>False.</td>\n    </tr>\n    <tr>\n      <th>1</th>\n      <td>OH</td>\n      <td>107</td>\n      <td>415</td>\n      <td>371-7191</td>\n      <td>no</td>\n      <td>yes</td>\n      <td>26</td>\n      <td>161.6</td>\n      <td>123</td>\n      <td>27.47</td>\n      <td>...</td>\n      <td>103</td>\n      <td>16.62</td>\n      <td>254.4</td>\n      <td>103</td>\n      <td>11.45</td>\n      <td>13.7</td>\n      <td>3</td>\n      <td>3.70</td>\n      <td>1</td>\n      <td>False.</td>\n    </tr>\n    <tr>\n      <th>2</th>\n      <td>NJ</td>\n      <td>137</td>\n      <td>415</td>\n      <td>358-1921</td>\n      <td>no</td>\n      <td>no</td>\n      <td>0</td>\n      <td>243.4</td>\n      <td>114</td>\n      <td>41.38</td>\n      <td>...</td>\n      <td>110</td>\n      <td>10.30</td>\n      <td>162.6</td>\n      <td>104</td>\n      <td>7.32</td>\n      <td>12.2</td>\n      <td>5</td>\n      <td>3.29</td>\n      <td>0</td>\n      <td>False.</td>\n    </tr>\n    <tr>\n      <th>3</th>\n      <td>OH</td>\n      <td>84</td>\n      <td>408</td>\n      <td>375-9999</td>\n      <td>yes</td>\n      <td>no</td>\n      <td>0</td>\n      <td>299.4</td>\n      <td>71</td>\n      <td>50.90</td>\n      <td>...</td>\n      <td>88</td>\n      <td>5.26</td>\n      <td>196.9</td>\n      <td>89</td>\n      <td>8.86</td>\n      <td>6.6</td>\n      <td>7</td>\n      <td>1.78</td>\n      <td>2</td>\n      <td>False.</td>\n    </tr>\n    <tr>\n      <th>4</th>\n      <td>OK</td>\n      <td>75</td>\n      <td>415</td>\n      <td>330-6626</td>\n      <td>yes</td>\n      <td>no</td>\n      <td>0</td>\n      <td>166.7</td>\n      <td>113</td>\n      <td>28.34</td>\n      <td>...</td>\n      <td>122</td>\n      <td>12.61</td>\n      <td>186.9</td>\n      <td>121</td>\n      <td>8.41</td>\n      <td>10.1</td>\n      <td>3</td>\n      <td>2.73</td>\n      <td>3</td>\n      <td>False.</td>\n    </tr>\n  </tbody>\n</table>\n<p>5 rows × 21 columns</p>\n</div>"
     },
     "metadata": {},
     "execution_count": 44
    }
   ],
   "source": [
    "data = pd.read_csv(fullpath)\n",
    "data.head()"
   ]
  },
  {
   "source": [
    "## Crear un subconjunto de datos"
   ],
   "cell_type": "markdown",
   "metadata": {}
  },
  {
   "cell_type": "code",
   "execution_count": 45,
   "metadata": {},
   "outputs": [
    {
     "output_type": "execute_result",
     "data": {
      "text/plain": [
       "array(['State', 'Account Length', 'Area Code', 'Phone', \"Int'l Plan\",\n",
       "       'VMail Plan', 'VMail Message', 'Day Mins', 'Day Calls',\n",
       "       'Day Charge', 'Eve Mins', 'Eve Calls', 'Eve Charge', 'Night Mins',\n",
       "       'Night Calls', 'Night Charge', 'Intl Mins', 'Intl Calls',\n",
       "       'Intl Charge', 'CustServ Calls', 'Churn?'], dtype=object)"
      ]
     },
     "metadata": {},
     "execution_count": 45
    }
   ],
   "source": [
    "data.columns.values"
   ]
  },
  {
   "cell_type": "code",
   "execution_count": 46,
   "metadata": {},
   "outputs": [
    {
     "output_type": "execute_result",
     "data": {
      "text/plain": [
       "0    128\n",
       "1    107\n",
       "2    137\n",
       "3     84\n",
       "4     75\n",
       "Name: Account Length, dtype: int64"
      ]
     },
     "metadata": {},
     "execution_count": 46
    }
   ],
   "source": [
    "account_length = data['Account Length'] # Manera de extraer los datos de una columna por su nombre\n",
    "account_length.head()\n"
   ]
  },
  {
   "cell_type": "code",
   "execution_count": 47,
   "metadata": {},
   "outputs": [
    {
     "output_type": "execute_result",
     "data": {
      "text/plain": [
       "pandas.core.series.Series"
      ]
     },
     "metadata": {},
     "execution_count": 47
    }
   ],
   "source": [
    "type(account_length) "
   ]
  },
  {
   "cell_type": "code",
   "execution_count": 48,
   "metadata": {},
   "outputs": [],
   "source": [
    "subset_data = data[['Account Length', 'Phone', 'Eve Charge', 'Day Calls']] # Manera de extraer los datos de varias columnas por su nombre"
   ]
  },
  {
   "cell_type": "code",
   "execution_count": 49,
   "metadata": {},
   "outputs": [
    {
     "output_type": "execute_result",
     "data": {
      "text/plain": [
       "   Account Length     Phone  Eve Charge  Day Calls\n",
       "0             128  382-4657       16.78        110\n",
       "1             107  371-7191       16.62        123\n",
       "2             137  358-1921       10.30        114\n",
       "3              84  375-9999        5.26         71\n",
       "4              75  330-6626       12.61        113"
      ],
      "text/html": "<div>\n<style scoped>\n    .dataframe tbody tr th:only-of-type {\n        vertical-align: middle;\n    }\n\n    .dataframe tbody tr th {\n        vertical-align: top;\n    }\n\n    .dataframe thead th {\n        text-align: right;\n    }\n</style>\n<table border=\"1\" class=\"dataframe\">\n  <thead>\n    <tr style=\"text-align: right;\">\n      <th></th>\n      <th>Account Length</th>\n      <th>Phone</th>\n      <th>Eve Charge</th>\n      <th>Day Calls</th>\n    </tr>\n  </thead>\n  <tbody>\n    <tr>\n      <th>0</th>\n      <td>128</td>\n      <td>382-4657</td>\n      <td>16.78</td>\n      <td>110</td>\n    </tr>\n    <tr>\n      <th>1</th>\n      <td>107</td>\n      <td>371-7191</td>\n      <td>16.62</td>\n      <td>123</td>\n    </tr>\n    <tr>\n      <th>2</th>\n      <td>137</td>\n      <td>358-1921</td>\n      <td>10.30</td>\n      <td>114</td>\n    </tr>\n    <tr>\n      <th>3</th>\n      <td>84</td>\n      <td>375-9999</td>\n      <td>5.26</td>\n      <td>71</td>\n    </tr>\n    <tr>\n      <th>4</th>\n      <td>75</td>\n      <td>330-6626</td>\n      <td>12.61</td>\n      <td>113</td>\n    </tr>\n  </tbody>\n</table>\n</div>"
     },
     "metadata": {},
     "execution_count": 49
    }
   ],
   "source": [
    "subset_data.head()"
   ]
  },
  {
   "cell_type": "code",
   "execution_count": 50,
   "metadata": {},
   "outputs": [
    {
     "output_type": "execute_result",
     "data": {
      "text/plain": [
       "pandas.core.frame.DataFrame"
      ]
     },
     "metadata": {},
     "execution_count": 50
    }
   ],
   "source": [
    "type(subset_data)"
   ]
  },
  {
   "cell_type": "code",
   "execution_count": 51,
   "metadata": {},
   "outputs": [
    {
     "output_type": "execute_result",
     "data": {
      "text/plain": [
       "   Account Length     Phone  Eve Charge  Night Calls\n",
       "0             128  382-4657       16.78           91\n",
       "1             107  371-7191       16.62          103\n",
       "2             137  358-1921       10.30          104\n",
       "3              84  375-9999        5.26           89\n",
       "4              75  330-6626       12.61          121"
      ],
      "text/html": "<div>\n<style scoped>\n    .dataframe tbody tr th:only-of-type {\n        vertical-align: middle;\n    }\n\n    .dataframe tbody tr th {\n        vertical-align: top;\n    }\n\n    .dataframe thead th {\n        text-align: right;\n    }\n</style>\n<table border=\"1\" class=\"dataframe\">\n  <thead>\n    <tr style=\"text-align: right;\">\n      <th></th>\n      <th>Account Length</th>\n      <th>Phone</th>\n      <th>Eve Charge</th>\n      <th>Night Calls</th>\n    </tr>\n  </thead>\n  <tbody>\n    <tr>\n      <th>0</th>\n      <td>128</td>\n      <td>382-4657</td>\n      <td>16.78</td>\n      <td>91</td>\n    </tr>\n    <tr>\n      <th>1</th>\n      <td>107</td>\n      <td>371-7191</td>\n      <td>16.62</td>\n      <td>103</td>\n    </tr>\n    <tr>\n      <th>2</th>\n      <td>137</td>\n      <td>358-1921</td>\n      <td>10.30</td>\n      <td>104</td>\n    </tr>\n    <tr>\n      <th>3</th>\n      <td>84</td>\n      <td>375-9999</td>\n      <td>5.26</td>\n      <td>89</td>\n    </tr>\n    <tr>\n      <th>4</th>\n      <td>75</td>\n      <td>330-6626</td>\n      <td>12.61</td>\n      <td>121</td>\n    </tr>\n  </tbody>\n</table>\n</div>"
     },
     "metadata": {},
     "execution_count": 51
    }
   ],
   "source": [
    "desired_columns = ['Account Length', 'Phone', 'Eve Charge', 'Night Calls']\n",
    "subset = data[desired_columns]\n",
    "subset.head()"
   ]
  },
  {
   "cell_type": "code",
   "execution_count": 52,
   "metadata": {},
   "outputs": [
    {
     "output_type": "execute_result",
     "data": {
      "text/plain": [
       "['Account Length', 'VMail Message', 'Day Calls']"
      ]
     },
     "metadata": {},
     "execution_count": 52
    }
   ],
   "source": [
    "undesired_columns = ['Account Length', 'VMail Message', 'Day Calls']\n",
    "undesired_columns"
   ]
  },
  {
   "cell_type": "code",
   "execution_count": 53,
   "metadata": {},
   "outputs": [
    {
     "output_type": "execute_result",
     "data": {
      "text/plain": [
       "array(['State', 'Account Length', 'Area Code', 'Phone', \"Int'l Plan\",\n",
       "       'VMail Plan', 'VMail Message', 'Day Mins', 'Day Calls',\n",
       "       'Day Charge', 'Eve Mins', 'Eve Calls', 'Eve Charge', 'Night Mins',\n",
       "       'Night Calls', 'Night Charge', 'Intl Mins', 'Intl Calls',\n",
       "       'Intl Charge', 'CustServ Calls', 'Churn?'], dtype=object)"
      ]
     },
     "metadata": {},
     "execution_count": 53
    }
   ],
   "source": [
    "all_columns_list = data.columns.values\n",
    "all_columns_list"
   ]
  },
  {
   "cell_type": "code",
   "execution_count": 54,
   "metadata": {},
   "outputs": [
    {
     "output_type": "execute_result",
     "data": {
      "text/plain": [
       "['State',\n",
       " 'Area Code',\n",
       " 'Phone',\n",
       " \"Int'l Plan\",\n",
       " 'VMail Plan',\n",
       " 'Day Mins',\n",
       " 'Day Charge',\n",
       " 'Eve Mins',\n",
       " 'Eve Calls',\n",
       " 'Eve Charge',\n",
       " 'Night Mins',\n",
       " 'Night Calls',\n",
       " 'Night Charge',\n",
       " 'Intl Mins',\n",
       " 'Intl Calls',\n",
       " 'Intl Charge',\n",
       " 'CustServ Calls',\n",
       " 'Churn?']"
      ]
     },
     "metadata": {},
     "execution_count": 54
    }
   ],
   "source": [
    "sublist = [x for x in all_columns_list if x not in undesired_columns] # Manera de extraer las columnas que se requieren a partir de una restrección de las que no se requieren \n",
    "sublist"
   ]
  },
  {
   "cell_type": "code",
   "execution_count": 55,
   "metadata": {},
   "outputs": [
    {
     "output_type": "execute_result",
     "data": {
      "text/plain": [
       "  State  Area Code     Phone Int'l Plan VMail Plan  Day Mins  Day Charge  \\\n",
       "0    KS        415  382-4657         no        yes     265.1       45.07   \n",
       "1    OH        415  371-7191         no        yes     161.6       27.47   \n",
       "2    NJ        415  358-1921         no         no     243.4       41.38   \n",
       "3    OH        408  375-9999        yes         no     299.4       50.90   \n",
       "4    OK        415  330-6626        yes         no     166.7       28.34   \n",
       "\n",
       "   Eve Mins  Eve Calls  Eve Charge  Night Mins  Night Calls  Night Charge  \\\n",
       "0     197.4         99       16.78       244.7           91         11.01   \n",
       "1     195.5        103       16.62       254.4          103         11.45   \n",
       "2     121.2        110       10.30       162.6          104          7.32   \n",
       "3      61.9         88        5.26       196.9           89          8.86   \n",
       "4     148.3        122       12.61       186.9          121          8.41   \n",
       "\n",
       "   Intl Mins  Intl Calls  Intl Charge  CustServ Calls  Churn?  \n",
       "0       10.0           3         2.70               1  False.  \n",
       "1       13.7           3         3.70               1  False.  \n",
       "2       12.2           5         3.29               0  False.  \n",
       "3        6.6           7         1.78               2  False.  \n",
       "4       10.1           3         2.73               3  False.  "
      ],
      "text/html": "<div>\n<style scoped>\n    .dataframe tbody tr th:only-of-type {\n        vertical-align: middle;\n    }\n\n    .dataframe tbody tr th {\n        vertical-align: top;\n    }\n\n    .dataframe thead th {\n        text-align: right;\n    }\n</style>\n<table border=\"1\" class=\"dataframe\">\n  <thead>\n    <tr style=\"text-align: right;\">\n      <th></th>\n      <th>State</th>\n      <th>Area Code</th>\n      <th>Phone</th>\n      <th>Int'l Plan</th>\n      <th>VMail Plan</th>\n      <th>Day Mins</th>\n      <th>Day Charge</th>\n      <th>Eve Mins</th>\n      <th>Eve Calls</th>\n      <th>Eve Charge</th>\n      <th>Night Mins</th>\n      <th>Night Calls</th>\n      <th>Night Charge</th>\n      <th>Intl Mins</th>\n      <th>Intl Calls</th>\n      <th>Intl Charge</th>\n      <th>CustServ Calls</th>\n      <th>Churn?</th>\n    </tr>\n  </thead>\n  <tbody>\n    <tr>\n      <th>0</th>\n      <td>KS</td>\n      <td>415</td>\n      <td>382-4657</td>\n      <td>no</td>\n      <td>yes</td>\n      <td>265.1</td>\n      <td>45.07</td>\n      <td>197.4</td>\n      <td>99</td>\n      <td>16.78</td>\n      <td>244.7</td>\n      <td>91</td>\n      <td>11.01</td>\n      <td>10.0</td>\n      <td>3</td>\n      <td>2.70</td>\n      <td>1</td>\n      <td>False.</td>\n    </tr>\n    <tr>\n      <th>1</th>\n      <td>OH</td>\n      <td>415</td>\n      <td>371-7191</td>\n      <td>no</td>\n      <td>yes</td>\n      <td>161.6</td>\n      <td>27.47</td>\n      <td>195.5</td>\n      <td>103</td>\n      <td>16.62</td>\n      <td>254.4</td>\n      <td>103</td>\n      <td>11.45</td>\n      <td>13.7</td>\n      <td>3</td>\n      <td>3.70</td>\n      <td>1</td>\n      <td>False.</td>\n    </tr>\n    <tr>\n      <th>2</th>\n      <td>NJ</td>\n      <td>415</td>\n      <td>358-1921</td>\n      <td>no</td>\n      <td>no</td>\n      <td>243.4</td>\n      <td>41.38</td>\n      <td>121.2</td>\n      <td>110</td>\n      <td>10.30</td>\n      <td>162.6</td>\n      <td>104</td>\n      <td>7.32</td>\n      <td>12.2</td>\n      <td>5</td>\n      <td>3.29</td>\n      <td>0</td>\n      <td>False.</td>\n    </tr>\n    <tr>\n      <th>3</th>\n      <td>OH</td>\n      <td>408</td>\n      <td>375-9999</td>\n      <td>yes</td>\n      <td>no</td>\n      <td>299.4</td>\n      <td>50.90</td>\n      <td>61.9</td>\n      <td>88</td>\n      <td>5.26</td>\n      <td>196.9</td>\n      <td>89</td>\n      <td>8.86</td>\n      <td>6.6</td>\n      <td>7</td>\n      <td>1.78</td>\n      <td>2</td>\n      <td>False.</td>\n    </tr>\n    <tr>\n      <th>4</th>\n      <td>OK</td>\n      <td>415</td>\n      <td>330-6626</td>\n      <td>yes</td>\n      <td>no</td>\n      <td>166.7</td>\n      <td>28.34</td>\n      <td>148.3</td>\n      <td>122</td>\n      <td>12.61</td>\n      <td>186.9</td>\n      <td>121</td>\n      <td>8.41</td>\n      <td>10.1</td>\n      <td>3</td>\n      <td>2.73</td>\n      <td>3</td>\n      <td>False.</td>\n    </tr>\n  </tbody>\n</table>\n</div>"
     },
     "metadata": {},
     "execution_count": 55
    }
   ],
   "source": [
    "subset = data[sublist]\n",
    "subset.head()"
   ]
  },
  {
   "cell_type": "code",
   "execution_count": 56,
   "metadata": {},
   "outputs": [
    {
     "output_type": "execute_result",
     "data": {
      "text/plain": [
       "   CustServ Calls  Intl Charge VMail Plan Int'l Plan     Phone  Churn?  \\\n",
       "0               1         2.70        yes         no  382-4657  False.   \n",
       "1               1         3.70        yes         no  371-7191  False.   \n",
       "2               0         3.29         no         no  358-1921  False.   \n",
       "3               2         1.78         no        yes  375-9999  False.   \n",
       "4               3         2.73         no        yes  330-6626  False.   \n",
       "\n",
       "   Intl Mins  Intl Calls  Eve Calls  Night Charge State  Day Mins  Eve Mins  \\\n",
       "0       10.0           3         99         11.01    KS     265.1     197.4   \n",
       "1       13.7           3        103         11.45    OH     161.6     195.5   \n",
       "2       12.2           5        110          7.32    NJ     243.4     121.2   \n",
       "3        6.6           7         88          8.86    OH     299.4      61.9   \n",
       "4       10.1           3        122          8.41    OK     166.7     148.3   \n",
       "\n",
       "   Area Code  Eve Charge  Night Calls  Day Charge  Night Mins  \n",
       "0        415       16.78           91       45.07       244.7  \n",
       "1        415       16.62          103       27.47       254.4  \n",
       "2        415       10.30          104       41.38       162.6  \n",
       "3        408        5.26           89       50.90       196.9  \n",
       "4        415       12.61          121       28.34       186.9  "
      ],
      "text/html": "<div>\n<style scoped>\n    .dataframe tbody tr th:only-of-type {\n        vertical-align: middle;\n    }\n\n    .dataframe tbody tr th {\n        vertical-align: top;\n    }\n\n    .dataframe thead th {\n        text-align: right;\n    }\n</style>\n<table border=\"1\" class=\"dataframe\">\n  <thead>\n    <tr style=\"text-align: right;\">\n      <th></th>\n      <th>CustServ Calls</th>\n      <th>Intl Charge</th>\n      <th>VMail Plan</th>\n      <th>Int'l Plan</th>\n      <th>Phone</th>\n      <th>Churn?</th>\n      <th>Intl Mins</th>\n      <th>Intl Calls</th>\n      <th>Eve Calls</th>\n      <th>Night Charge</th>\n      <th>State</th>\n      <th>Day Mins</th>\n      <th>Eve Mins</th>\n      <th>Area Code</th>\n      <th>Eve Charge</th>\n      <th>Night Calls</th>\n      <th>Day Charge</th>\n      <th>Night Mins</th>\n    </tr>\n  </thead>\n  <tbody>\n    <tr>\n      <th>0</th>\n      <td>1</td>\n      <td>2.70</td>\n      <td>yes</td>\n      <td>no</td>\n      <td>382-4657</td>\n      <td>False.</td>\n      <td>10.0</td>\n      <td>3</td>\n      <td>99</td>\n      <td>11.01</td>\n      <td>KS</td>\n      <td>265.1</td>\n      <td>197.4</td>\n      <td>415</td>\n      <td>16.78</td>\n      <td>91</td>\n      <td>45.07</td>\n      <td>244.7</td>\n    </tr>\n    <tr>\n      <th>1</th>\n      <td>1</td>\n      <td>3.70</td>\n      <td>yes</td>\n      <td>no</td>\n      <td>371-7191</td>\n      <td>False.</td>\n      <td>13.7</td>\n      <td>3</td>\n      <td>103</td>\n      <td>11.45</td>\n      <td>OH</td>\n      <td>161.6</td>\n      <td>195.5</td>\n      <td>415</td>\n      <td>16.62</td>\n      <td>103</td>\n      <td>27.47</td>\n      <td>254.4</td>\n    </tr>\n    <tr>\n      <th>2</th>\n      <td>0</td>\n      <td>3.29</td>\n      <td>no</td>\n      <td>no</td>\n      <td>358-1921</td>\n      <td>False.</td>\n      <td>12.2</td>\n      <td>5</td>\n      <td>110</td>\n      <td>7.32</td>\n      <td>NJ</td>\n      <td>243.4</td>\n      <td>121.2</td>\n      <td>415</td>\n      <td>10.30</td>\n      <td>104</td>\n      <td>41.38</td>\n      <td>162.6</td>\n    </tr>\n    <tr>\n      <th>3</th>\n      <td>2</td>\n      <td>1.78</td>\n      <td>no</td>\n      <td>yes</td>\n      <td>375-9999</td>\n      <td>False.</td>\n      <td>6.6</td>\n      <td>7</td>\n      <td>88</td>\n      <td>8.86</td>\n      <td>OH</td>\n      <td>299.4</td>\n      <td>61.9</td>\n      <td>408</td>\n      <td>5.26</td>\n      <td>89</td>\n      <td>50.90</td>\n      <td>196.9</td>\n    </tr>\n    <tr>\n      <th>4</th>\n      <td>3</td>\n      <td>2.73</td>\n      <td>no</td>\n      <td>yes</td>\n      <td>330-6626</td>\n      <td>False.</td>\n      <td>10.1</td>\n      <td>3</td>\n      <td>122</td>\n      <td>8.41</td>\n      <td>OK</td>\n      <td>166.7</td>\n      <td>148.3</td>\n      <td>415</td>\n      <td>12.61</td>\n      <td>121</td>\n      <td>28.34</td>\n      <td>186.9</td>\n    </tr>\n  </tbody>\n</table>\n</div>"
     },
     "metadata": {},
     "execution_count": 56
    }
   ],
   "source": [
    "# Manera de extraer las columnas que se requieren a partir de una restrección de las que no se requieren \n",
    "a = set(undesired_columns)\n",
    "b = set(all_columns_list)\n",
    "sublist = b-a\n",
    "sublist = list(sublist)\n",
    "subset = data[sublist]\n",
    "subset.head()"
   ]
  },
  {
   "cell_type": "code",
   "execution_count": 57,
   "metadata": {},
   "outputs": [
    {
     "output_type": "execute_result",
     "data": {
      "text/plain": [
       "  State  Account Length  Area Code     Phone Int'l Plan VMail Plan  \\\n",
       "0    KS             128        415  382-4657         no        yes   \n",
       "1    OH             107        415  371-7191         no        yes   \n",
       "2    NJ             137        415  358-1921         no         no   \n",
       "3    OH              84        408  375-9999        yes         no   \n",
       "4    OK              75        415  330-6626        yes         no   \n",
       "5    AL             118        510  391-8027        yes         no   \n",
       "6    MA             121        510  355-9993         no        yes   \n",
       "7    MO             147        415  329-9001        yes         no   \n",
       "\n",
       "   VMail Message  Day Mins  Day Calls  Day Charge  ...  Eve Calls  Eve Charge  \\\n",
       "0             25     265.1        110       45.07  ...         99       16.78   \n",
       "1             26     161.6        123       27.47  ...        103       16.62   \n",
       "2              0     243.4        114       41.38  ...        110       10.30   \n",
       "3              0     299.4         71       50.90  ...         88        5.26   \n",
       "4              0     166.7        113       28.34  ...        122       12.61   \n",
       "5              0     223.4         98       37.98  ...        101       18.75   \n",
       "6             24     218.2         88       37.09  ...        108       29.62   \n",
       "7              0     157.0         79       26.69  ...         94        8.76   \n",
       "\n",
       "   Night Mins  Night Calls  Night Charge  Intl Mins  Intl Calls  Intl Charge  \\\n",
       "0       244.7           91         11.01       10.0           3         2.70   \n",
       "1       254.4          103         11.45       13.7           3         3.70   \n",
       "2       162.6          104          7.32       12.2           5         3.29   \n",
       "3       196.9           89          8.86        6.6           7         1.78   \n",
       "4       186.9          121          8.41       10.1           3         2.73   \n",
       "5       203.9          118          9.18        6.3           6         1.70   \n",
       "6       212.6          118          9.57        7.5           7         2.03   \n",
       "7       211.8           96          9.53        7.1           6         1.92   \n",
       "\n",
       "   CustServ Calls  Churn?  \n",
       "0               1  False.  \n",
       "1               1  False.  \n",
       "2               0  False.  \n",
       "3               2  False.  \n",
       "4               3  False.  \n",
       "5               0  False.  \n",
       "6               3  False.  \n",
       "7               0  False.  \n",
       "\n",
       "[8 rows x 21 columns]"
      ],
      "text/html": "<div>\n<style scoped>\n    .dataframe tbody tr th:only-of-type {\n        vertical-align: middle;\n    }\n\n    .dataframe tbody tr th {\n        vertical-align: top;\n    }\n\n    .dataframe thead th {\n        text-align: right;\n    }\n</style>\n<table border=\"1\" class=\"dataframe\">\n  <thead>\n    <tr style=\"text-align: right;\">\n      <th></th>\n      <th>State</th>\n      <th>Account Length</th>\n      <th>Area Code</th>\n      <th>Phone</th>\n      <th>Int'l Plan</th>\n      <th>VMail Plan</th>\n      <th>VMail Message</th>\n      <th>Day Mins</th>\n      <th>Day Calls</th>\n      <th>Day Charge</th>\n      <th>...</th>\n      <th>Eve Calls</th>\n      <th>Eve Charge</th>\n      <th>Night Mins</th>\n      <th>Night Calls</th>\n      <th>Night Charge</th>\n      <th>Intl Mins</th>\n      <th>Intl Calls</th>\n      <th>Intl Charge</th>\n      <th>CustServ Calls</th>\n      <th>Churn?</th>\n    </tr>\n  </thead>\n  <tbody>\n    <tr>\n      <th>0</th>\n      <td>KS</td>\n      <td>128</td>\n      <td>415</td>\n      <td>382-4657</td>\n      <td>no</td>\n      <td>yes</td>\n      <td>25</td>\n      <td>265.1</td>\n      <td>110</td>\n      <td>45.07</td>\n      <td>...</td>\n      <td>99</td>\n      <td>16.78</td>\n      <td>244.7</td>\n      <td>91</td>\n      <td>11.01</td>\n      <td>10.0</td>\n      <td>3</td>\n      <td>2.70</td>\n      <td>1</td>\n      <td>False.</td>\n    </tr>\n    <tr>\n      <th>1</th>\n      <td>OH</td>\n      <td>107</td>\n      <td>415</td>\n      <td>371-7191</td>\n      <td>no</td>\n      <td>yes</td>\n      <td>26</td>\n      <td>161.6</td>\n      <td>123</td>\n      <td>27.47</td>\n      <td>...</td>\n      <td>103</td>\n      <td>16.62</td>\n      <td>254.4</td>\n      <td>103</td>\n      <td>11.45</td>\n      <td>13.7</td>\n      <td>3</td>\n      <td>3.70</td>\n      <td>1</td>\n      <td>False.</td>\n    </tr>\n    <tr>\n      <th>2</th>\n      <td>NJ</td>\n      <td>137</td>\n      <td>415</td>\n      <td>358-1921</td>\n      <td>no</td>\n      <td>no</td>\n      <td>0</td>\n      <td>243.4</td>\n      <td>114</td>\n      <td>41.38</td>\n      <td>...</td>\n      <td>110</td>\n      <td>10.30</td>\n      <td>162.6</td>\n      <td>104</td>\n      <td>7.32</td>\n      <td>12.2</td>\n      <td>5</td>\n      <td>3.29</td>\n      <td>0</td>\n      <td>False.</td>\n    </tr>\n    <tr>\n      <th>3</th>\n      <td>OH</td>\n      <td>84</td>\n      <td>408</td>\n      <td>375-9999</td>\n      <td>yes</td>\n      <td>no</td>\n      <td>0</td>\n      <td>299.4</td>\n      <td>71</td>\n      <td>50.90</td>\n      <td>...</td>\n      <td>88</td>\n      <td>5.26</td>\n      <td>196.9</td>\n      <td>89</td>\n      <td>8.86</td>\n      <td>6.6</td>\n      <td>7</td>\n      <td>1.78</td>\n      <td>2</td>\n      <td>False.</td>\n    </tr>\n    <tr>\n      <th>4</th>\n      <td>OK</td>\n      <td>75</td>\n      <td>415</td>\n      <td>330-6626</td>\n      <td>yes</td>\n      <td>no</td>\n      <td>0</td>\n      <td>166.7</td>\n      <td>113</td>\n      <td>28.34</td>\n      <td>...</td>\n      <td>122</td>\n      <td>12.61</td>\n      <td>186.9</td>\n      <td>121</td>\n      <td>8.41</td>\n      <td>10.1</td>\n      <td>3</td>\n      <td>2.73</td>\n      <td>3</td>\n      <td>False.</td>\n    </tr>\n    <tr>\n      <th>5</th>\n      <td>AL</td>\n      <td>118</td>\n      <td>510</td>\n      <td>391-8027</td>\n      <td>yes</td>\n      <td>no</td>\n      <td>0</td>\n      <td>223.4</td>\n      <td>98</td>\n      <td>37.98</td>\n      <td>...</td>\n      <td>101</td>\n      <td>18.75</td>\n      <td>203.9</td>\n      <td>118</td>\n      <td>9.18</td>\n      <td>6.3</td>\n      <td>6</td>\n      <td>1.70</td>\n      <td>0</td>\n      <td>False.</td>\n    </tr>\n    <tr>\n      <th>6</th>\n      <td>MA</td>\n      <td>121</td>\n      <td>510</td>\n      <td>355-9993</td>\n      <td>no</td>\n      <td>yes</td>\n      <td>24</td>\n      <td>218.2</td>\n      <td>88</td>\n      <td>37.09</td>\n      <td>...</td>\n      <td>108</td>\n      <td>29.62</td>\n      <td>212.6</td>\n      <td>118</td>\n      <td>9.57</td>\n      <td>7.5</td>\n      <td>7</td>\n      <td>2.03</td>\n      <td>3</td>\n      <td>False.</td>\n    </tr>\n    <tr>\n      <th>7</th>\n      <td>MO</td>\n      <td>147</td>\n      <td>415</td>\n      <td>329-9001</td>\n      <td>yes</td>\n      <td>no</td>\n      <td>0</td>\n      <td>157.0</td>\n      <td>79</td>\n      <td>26.69</td>\n      <td>...</td>\n      <td>94</td>\n      <td>8.76</td>\n      <td>211.8</td>\n      <td>96</td>\n      <td>9.53</td>\n      <td>7.1</td>\n      <td>6</td>\n      <td>1.92</td>\n      <td>0</td>\n      <td>False.</td>\n    </tr>\n  </tbody>\n</table>\n<p>8 rows × 21 columns</p>\n</div>"
     },
     "metadata": {},
     "execution_count": 57
    }
   ],
   "source": [
    "data[0:8] # Manera de extraer datos por filas desde inicial hasta final-1"
   ]
  },
  {
   "cell_type": "code",
   "execution_count": 58,
   "metadata": {},
   "outputs": [
    {
     "output_type": "execute_result",
     "data": {
      "text/plain": [
       "  State  Account Length  Area Code     Phone Int'l Plan VMail Plan  \\\n",
       "0    KS             128        415  382-4657         no        yes   \n",
       "1    OH             107        415  371-7191         no        yes   \n",
       "2    NJ             137        415  358-1921         no         no   \n",
       "3    OH              84        408  375-9999        yes         no   \n",
       "4    OK              75        415  330-6626        yes         no   \n",
       "\n",
       "   VMail Message  Day Mins  Day Calls  Day Charge  ...  Eve Calls  Eve Charge  \\\n",
       "0             25     265.1        110       45.07  ...         99       16.78   \n",
       "1             26     161.6        123       27.47  ...        103       16.62   \n",
       "2              0     243.4        114       41.38  ...        110       10.30   \n",
       "3              0     299.4         71       50.90  ...         88        5.26   \n",
       "4              0     166.7        113       28.34  ...        122       12.61   \n",
       "\n",
       "   Night Mins  Night Calls  Night Charge  Intl Mins  Intl Calls  Intl Charge  \\\n",
       "0       244.7           91         11.01       10.0           3         2.70   \n",
       "1       254.4          103         11.45       13.7           3         3.70   \n",
       "2       162.6          104          7.32       12.2           5         3.29   \n",
       "3       196.9           89          8.86        6.6           7         1.78   \n",
       "4       186.9          121          8.41       10.1           3         2.73   \n",
       "\n",
       "   CustServ Calls  Churn?  \n",
       "0               1  False.  \n",
       "1               1  False.  \n",
       "2               0  False.  \n",
       "3               2  False.  \n",
       "4               3  False.  \n",
       "\n",
       "[5 rows x 21 columns]"
      ],
      "text/html": "<div>\n<style scoped>\n    .dataframe tbody tr th:only-of-type {\n        vertical-align: middle;\n    }\n\n    .dataframe tbody tr th {\n        vertical-align: top;\n    }\n\n    .dataframe thead th {\n        text-align: right;\n    }\n</style>\n<table border=\"1\" class=\"dataframe\">\n  <thead>\n    <tr style=\"text-align: right;\">\n      <th></th>\n      <th>State</th>\n      <th>Account Length</th>\n      <th>Area Code</th>\n      <th>Phone</th>\n      <th>Int'l Plan</th>\n      <th>VMail Plan</th>\n      <th>VMail Message</th>\n      <th>Day Mins</th>\n      <th>Day Calls</th>\n      <th>Day Charge</th>\n      <th>...</th>\n      <th>Eve Calls</th>\n      <th>Eve Charge</th>\n      <th>Night Mins</th>\n      <th>Night Calls</th>\n      <th>Night Charge</th>\n      <th>Intl Mins</th>\n      <th>Intl Calls</th>\n      <th>Intl Charge</th>\n      <th>CustServ Calls</th>\n      <th>Churn?</th>\n    </tr>\n  </thead>\n  <tbody>\n    <tr>\n      <th>0</th>\n      <td>KS</td>\n      <td>128</td>\n      <td>415</td>\n      <td>382-4657</td>\n      <td>no</td>\n      <td>yes</td>\n      <td>25</td>\n      <td>265.1</td>\n      <td>110</td>\n      <td>45.07</td>\n      <td>...</td>\n      <td>99</td>\n      <td>16.78</td>\n      <td>244.7</td>\n      <td>91</td>\n      <td>11.01</td>\n      <td>10.0</td>\n      <td>3</td>\n      <td>2.70</td>\n      <td>1</td>\n      <td>False.</td>\n    </tr>\n    <tr>\n      <th>1</th>\n      <td>OH</td>\n      <td>107</td>\n      <td>415</td>\n      <td>371-7191</td>\n      <td>no</td>\n      <td>yes</td>\n      <td>26</td>\n      <td>161.6</td>\n      <td>123</td>\n      <td>27.47</td>\n      <td>...</td>\n      <td>103</td>\n      <td>16.62</td>\n      <td>254.4</td>\n      <td>103</td>\n      <td>11.45</td>\n      <td>13.7</td>\n      <td>3</td>\n      <td>3.70</td>\n      <td>1</td>\n      <td>False.</td>\n    </tr>\n    <tr>\n      <th>2</th>\n      <td>NJ</td>\n      <td>137</td>\n      <td>415</td>\n      <td>358-1921</td>\n      <td>no</td>\n      <td>no</td>\n      <td>0</td>\n      <td>243.4</td>\n      <td>114</td>\n      <td>41.38</td>\n      <td>...</td>\n      <td>110</td>\n      <td>10.30</td>\n      <td>162.6</td>\n      <td>104</td>\n      <td>7.32</td>\n      <td>12.2</td>\n      <td>5</td>\n      <td>3.29</td>\n      <td>0</td>\n      <td>False.</td>\n    </tr>\n    <tr>\n      <th>3</th>\n      <td>OH</td>\n      <td>84</td>\n      <td>408</td>\n      <td>375-9999</td>\n      <td>yes</td>\n      <td>no</td>\n      <td>0</td>\n      <td>299.4</td>\n      <td>71</td>\n      <td>50.90</td>\n      <td>...</td>\n      <td>88</td>\n      <td>5.26</td>\n      <td>196.9</td>\n      <td>89</td>\n      <td>8.86</td>\n      <td>6.6</td>\n      <td>7</td>\n      <td>1.78</td>\n      <td>2</td>\n      <td>False.</td>\n    </tr>\n    <tr>\n      <th>4</th>\n      <td>OK</td>\n      <td>75</td>\n      <td>415</td>\n      <td>330-6626</td>\n      <td>yes</td>\n      <td>no</td>\n      <td>0</td>\n      <td>166.7</td>\n      <td>113</td>\n      <td>28.34</td>\n      <td>...</td>\n      <td>122</td>\n      <td>12.61</td>\n      <td>186.9</td>\n      <td>121</td>\n      <td>8.41</td>\n      <td>10.1</td>\n      <td>3</td>\n      <td>2.73</td>\n      <td>3</td>\n      <td>False.</td>\n    </tr>\n  </tbody>\n</table>\n<p>5 rows × 21 columns</p>\n</div>"
     },
     "metadata": {},
     "execution_count": 58
    }
   ],
   "source": [
    "data[:5]"
   ]
  },
  {
   "cell_type": "code",
   "execution_count": 59,
   "metadata": {},
   "outputs": [
    {
     "output_type": "execute_result",
     "data": {
      "text/plain": [
       "     State  Account Length  Area Code     Phone Int'l Plan VMail Plan  \\\n",
       "3320    GA             122        510  411-5677        yes         no   \n",
       "3321    VT              60        415  400-2738         no         no   \n",
       "3322    MD              62        408  409-1856         no         no   \n",
       "3323    IN             117        415  362-5899         no         no   \n",
       "3324    WV             159        415  377-1164         no         no   \n",
       "3325    OH              78        408  368-8555         no         no   \n",
       "3326    OH              96        415  347-6812         no         no   \n",
       "3327    SC              79        415  348-3830         no         no   \n",
       "3328    AZ             192        415  414-4276         no        yes   \n",
       "3329    WV              68        415  370-3271         no         no   \n",
       "3330    RI              28        510  328-8230         no         no   \n",
       "3331    CT             184        510  364-6381        yes         no   \n",
       "3332    TN              74        415  400-4344         no        yes   \n",
       "\n",
       "      VMail Message  Day Mins  Day Calls  Day Charge  ...  Eve Calls  \\\n",
       "3320              0     140.0        101       23.80  ...         77   \n",
       "3321              0     193.9        118       32.96  ...        110   \n",
       "3322              0     321.1        105       54.59  ...        122   \n",
       "3323              0     118.4        126       20.13  ...         97   \n",
       "3324              0     169.8        114       28.87  ...        105   \n",
       "3325              0     193.4         99       32.88  ...         88   \n",
       "3326              0     106.6        128       18.12  ...         87   \n",
       "3327              0     134.7         98       22.90  ...         68   \n",
       "3328             36     156.2         77       26.55  ...        126   \n",
       "3329              0     231.1         57       39.29  ...         55   \n",
       "3330              0     180.8        109       30.74  ...         58   \n",
       "3331              0     213.8        105       36.35  ...         84   \n",
       "3332             25     234.4        113       39.85  ...         82   \n",
       "\n",
       "      Eve Charge  Night Mins  Night Calls  Night Charge  Intl Mins  \\\n",
       "3320       16.69       120.1          133          5.40        9.7   \n",
       "3321        7.23       210.1          134          9.45       13.2   \n",
       "3322       22.57       180.5           72          8.12       11.5   \n",
       "3323       21.19       227.0           56         10.22       13.6   \n",
       "3324       16.80       193.7           82          8.72       11.6   \n",
       "3325        9.94       243.3          109         10.95        9.3   \n",
       "3326       24.21       178.9           92          8.05       14.9   \n",
       "3327       16.12       221.4          128          9.96       11.8   \n",
       "3328       18.32       279.1           83         12.56        9.9   \n",
       "3329       13.04       191.3          123          8.61        9.6   \n",
       "3330       24.55       191.9           91          8.64       14.1   \n",
       "3331       13.57       139.2          137          6.26        5.0   \n",
       "3332       22.60       241.4           77         10.86       13.7   \n",
       "\n",
       "      Intl Calls  Intl Charge  CustServ Calls  Churn?  \n",
       "3320           4         2.62               4   True.  \n",
       "3321           8         3.56               3  False.  \n",
       "3322           2         3.11               4   True.  \n",
       "3323           3         3.67               5   True.  \n",
       "3324           4         3.13               1  False.  \n",
       "3325           4         2.51               2  False.  \n",
       "3326           7         4.02               1  False.  \n",
       "3327           5         3.19               2  False.  \n",
       "3328           6         2.67               2  False.  \n",
       "3329           4         2.59               3  False.  \n",
       "3330           6         3.81               2  False.  \n",
       "3331          10         1.35               2  False.  \n",
       "3332           4         3.70               0  False.  \n",
       "\n",
       "[13 rows x 21 columns]"
      ],
      "text/html": "<div>\n<style scoped>\n    .dataframe tbody tr th:only-of-type {\n        vertical-align: middle;\n    }\n\n    .dataframe tbody tr th {\n        vertical-align: top;\n    }\n\n    .dataframe thead th {\n        text-align: right;\n    }\n</style>\n<table border=\"1\" class=\"dataframe\">\n  <thead>\n    <tr style=\"text-align: right;\">\n      <th></th>\n      <th>State</th>\n      <th>Account Length</th>\n      <th>Area Code</th>\n      <th>Phone</th>\n      <th>Int'l Plan</th>\n      <th>VMail Plan</th>\n      <th>VMail Message</th>\n      <th>Day Mins</th>\n      <th>Day Calls</th>\n      <th>Day Charge</th>\n      <th>...</th>\n      <th>Eve Calls</th>\n      <th>Eve Charge</th>\n      <th>Night Mins</th>\n      <th>Night Calls</th>\n      <th>Night Charge</th>\n      <th>Intl Mins</th>\n      <th>Intl Calls</th>\n      <th>Intl Charge</th>\n      <th>CustServ Calls</th>\n      <th>Churn?</th>\n    </tr>\n  </thead>\n  <tbody>\n    <tr>\n      <th>3320</th>\n      <td>GA</td>\n      <td>122</td>\n      <td>510</td>\n      <td>411-5677</td>\n      <td>yes</td>\n      <td>no</td>\n      <td>0</td>\n      <td>140.0</td>\n      <td>101</td>\n      <td>23.80</td>\n      <td>...</td>\n      <td>77</td>\n      <td>16.69</td>\n      <td>120.1</td>\n      <td>133</td>\n      <td>5.40</td>\n      <td>9.7</td>\n      <td>4</td>\n      <td>2.62</td>\n      <td>4</td>\n      <td>True.</td>\n    </tr>\n    <tr>\n      <th>3321</th>\n      <td>VT</td>\n      <td>60</td>\n      <td>415</td>\n      <td>400-2738</td>\n      <td>no</td>\n      <td>no</td>\n      <td>0</td>\n      <td>193.9</td>\n      <td>118</td>\n      <td>32.96</td>\n      <td>...</td>\n      <td>110</td>\n      <td>7.23</td>\n      <td>210.1</td>\n      <td>134</td>\n      <td>9.45</td>\n      <td>13.2</td>\n      <td>8</td>\n      <td>3.56</td>\n      <td>3</td>\n      <td>False.</td>\n    </tr>\n    <tr>\n      <th>3322</th>\n      <td>MD</td>\n      <td>62</td>\n      <td>408</td>\n      <td>409-1856</td>\n      <td>no</td>\n      <td>no</td>\n      <td>0</td>\n      <td>321.1</td>\n      <td>105</td>\n      <td>54.59</td>\n      <td>...</td>\n      <td>122</td>\n      <td>22.57</td>\n      <td>180.5</td>\n      <td>72</td>\n      <td>8.12</td>\n      <td>11.5</td>\n      <td>2</td>\n      <td>3.11</td>\n      <td>4</td>\n      <td>True.</td>\n    </tr>\n    <tr>\n      <th>3323</th>\n      <td>IN</td>\n      <td>117</td>\n      <td>415</td>\n      <td>362-5899</td>\n      <td>no</td>\n      <td>no</td>\n      <td>0</td>\n      <td>118.4</td>\n      <td>126</td>\n      <td>20.13</td>\n      <td>...</td>\n      <td>97</td>\n      <td>21.19</td>\n      <td>227.0</td>\n      <td>56</td>\n      <td>10.22</td>\n      <td>13.6</td>\n      <td>3</td>\n      <td>3.67</td>\n      <td>5</td>\n      <td>True.</td>\n    </tr>\n    <tr>\n      <th>3324</th>\n      <td>WV</td>\n      <td>159</td>\n      <td>415</td>\n      <td>377-1164</td>\n      <td>no</td>\n      <td>no</td>\n      <td>0</td>\n      <td>169.8</td>\n      <td>114</td>\n      <td>28.87</td>\n      <td>...</td>\n      <td>105</td>\n      <td>16.80</td>\n      <td>193.7</td>\n      <td>82</td>\n      <td>8.72</td>\n      <td>11.6</td>\n      <td>4</td>\n      <td>3.13</td>\n      <td>1</td>\n      <td>False.</td>\n    </tr>\n    <tr>\n      <th>3325</th>\n      <td>OH</td>\n      <td>78</td>\n      <td>408</td>\n      <td>368-8555</td>\n      <td>no</td>\n      <td>no</td>\n      <td>0</td>\n      <td>193.4</td>\n      <td>99</td>\n      <td>32.88</td>\n      <td>...</td>\n      <td>88</td>\n      <td>9.94</td>\n      <td>243.3</td>\n      <td>109</td>\n      <td>10.95</td>\n      <td>9.3</td>\n      <td>4</td>\n      <td>2.51</td>\n      <td>2</td>\n      <td>False.</td>\n    </tr>\n    <tr>\n      <th>3326</th>\n      <td>OH</td>\n      <td>96</td>\n      <td>415</td>\n      <td>347-6812</td>\n      <td>no</td>\n      <td>no</td>\n      <td>0</td>\n      <td>106.6</td>\n      <td>128</td>\n      <td>18.12</td>\n      <td>...</td>\n      <td>87</td>\n      <td>24.21</td>\n      <td>178.9</td>\n      <td>92</td>\n      <td>8.05</td>\n      <td>14.9</td>\n      <td>7</td>\n      <td>4.02</td>\n      <td>1</td>\n      <td>False.</td>\n    </tr>\n    <tr>\n      <th>3327</th>\n      <td>SC</td>\n      <td>79</td>\n      <td>415</td>\n      <td>348-3830</td>\n      <td>no</td>\n      <td>no</td>\n      <td>0</td>\n      <td>134.7</td>\n      <td>98</td>\n      <td>22.90</td>\n      <td>...</td>\n      <td>68</td>\n      <td>16.12</td>\n      <td>221.4</td>\n      <td>128</td>\n      <td>9.96</td>\n      <td>11.8</td>\n      <td>5</td>\n      <td>3.19</td>\n      <td>2</td>\n      <td>False.</td>\n    </tr>\n    <tr>\n      <th>3328</th>\n      <td>AZ</td>\n      <td>192</td>\n      <td>415</td>\n      <td>414-4276</td>\n      <td>no</td>\n      <td>yes</td>\n      <td>36</td>\n      <td>156.2</td>\n      <td>77</td>\n      <td>26.55</td>\n      <td>...</td>\n      <td>126</td>\n      <td>18.32</td>\n      <td>279.1</td>\n      <td>83</td>\n      <td>12.56</td>\n      <td>9.9</td>\n      <td>6</td>\n      <td>2.67</td>\n      <td>2</td>\n      <td>False.</td>\n    </tr>\n    <tr>\n      <th>3329</th>\n      <td>WV</td>\n      <td>68</td>\n      <td>415</td>\n      <td>370-3271</td>\n      <td>no</td>\n      <td>no</td>\n      <td>0</td>\n      <td>231.1</td>\n      <td>57</td>\n      <td>39.29</td>\n      <td>...</td>\n      <td>55</td>\n      <td>13.04</td>\n      <td>191.3</td>\n      <td>123</td>\n      <td>8.61</td>\n      <td>9.6</td>\n      <td>4</td>\n      <td>2.59</td>\n      <td>3</td>\n      <td>False.</td>\n    </tr>\n    <tr>\n      <th>3330</th>\n      <td>RI</td>\n      <td>28</td>\n      <td>510</td>\n      <td>328-8230</td>\n      <td>no</td>\n      <td>no</td>\n      <td>0</td>\n      <td>180.8</td>\n      <td>109</td>\n      <td>30.74</td>\n      <td>...</td>\n      <td>58</td>\n      <td>24.55</td>\n      <td>191.9</td>\n      <td>91</td>\n      <td>8.64</td>\n      <td>14.1</td>\n      <td>6</td>\n      <td>3.81</td>\n      <td>2</td>\n      <td>False.</td>\n    </tr>\n    <tr>\n      <th>3331</th>\n      <td>CT</td>\n      <td>184</td>\n      <td>510</td>\n      <td>364-6381</td>\n      <td>yes</td>\n      <td>no</td>\n      <td>0</td>\n      <td>213.8</td>\n      <td>105</td>\n      <td>36.35</td>\n      <td>...</td>\n      <td>84</td>\n      <td>13.57</td>\n      <td>139.2</td>\n      <td>137</td>\n      <td>6.26</td>\n      <td>5.0</td>\n      <td>10</td>\n      <td>1.35</td>\n      <td>2</td>\n      <td>False.</td>\n    </tr>\n    <tr>\n      <th>3332</th>\n      <td>TN</td>\n      <td>74</td>\n      <td>415</td>\n      <td>400-4344</td>\n      <td>no</td>\n      <td>yes</td>\n      <td>25</td>\n      <td>234.4</td>\n      <td>113</td>\n      <td>39.85</td>\n      <td>...</td>\n      <td>82</td>\n      <td>22.60</td>\n      <td>241.4</td>\n      <td>77</td>\n      <td>10.86</td>\n      <td>13.7</td>\n      <td>4</td>\n      <td>3.70</td>\n      <td>0</td>\n      <td>False.</td>\n    </tr>\n  </tbody>\n</table>\n<p>13 rows × 21 columns</p>\n</div>"
     },
     "metadata": {},
     "execution_count": 59
    }
   ],
   "source": [
    "data[3320:]"
   ]
  },
  {
   "cell_type": "code",
   "execution_count": 60,
   "metadata": {},
   "outputs": [
    {
     "output_type": "execute_result",
     "data": {
      "text/plain": [
       "    State  Account Length  Area Code     Phone Int'l Plan VMail Plan  \\\n",
       "15     NY             161        415  351-7269         no         no   \n",
       "76     DC              82        415  374-5353         no         no   \n",
       "156    OH              83        415  370-9116         no         no   \n",
       "197    TX             208        510  378-3625         no         no   \n",
       "230    MD              93        408  360-3324        yes         no   \n",
       "\n",
       "     VMail Message  Day Mins  Day Calls  Day Charge  ...  Eve Calls  \\\n",
       "15               0     332.9         67       56.59  ...         97   \n",
       "76               0     300.3        109       51.05  ...        100   \n",
       "156              0     337.4        120       57.36  ...        116   \n",
       "197              0     326.5         67       55.51  ...        113   \n",
       "230              0     312.0        109       53.04  ...        100   \n",
       "\n",
       "     Eve Charge  Night Mins  Night Calls  Night Charge  Intl Mins  Intl Calls  \\\n",
       "15        27.01       160.6          128          7.23        5.4           9   \n",
       "76        15.39       270.1           73         12.15       11.7           4   \n",
       "156       19.33       153.9          114          6.93       15.8           7   \n",
       "197       14.99       181.7          102          8.18       10.7           6   \n",
       "230       11.00       217.6           74          9.79       10.5           2   \n",
       "\n",
       "     Intl Charge  CustServ Calls  Churn?  \n",
       "15          1.46               4   True.  \n",
       "76          3.16               0   True.  \n",
       "156         4.27               0   True.  \n",
       "197         2.89               2   True.  \n",
       "230         2.84               0   True.  \n",
       "\n",
       "[5 rows x 21 columns]"
      ],
      "text/html": "<div>\n<style scoped>\n    .dataframe tbody tr th:only-of-type {\n        vertical-align: middle;\n    }\n\n    .dataframe tbody tr th {\n        vertical-align: top;\n    }\n\n    .dataframe thead th {\n        text-align: right;\n    }\n</style>\n<table border=\"1\" class=\"dataframe\">\n  <thead>\n    <tr style=\"text-align: right;\">\n      <th></th>\n      <th>State</th>\n      <th>Account Length</th>\n      <th>Area Code</th>\n      <th>Phone</th>\n      <th>Int'l Plan</th>\n      <th>VMail Plan</th>\n      <th>VMail Message</th>\n      <th>Day Mins</th>\n      <th>Day Calls</th>\n      <th>Day Charge</th>\n      <th>...</th>\n      <th>Eve Calls</th>\n      <th>Eve Charge</th>\n      <th>Night Mins</th>\n      <th>Night Calls</th>\n      <th>Night Charge</th>\n      <th>Intl Mins</th>\n      <th>Intl Calls</th>\n      <th>Intl Charge</th>\n      <th>CustServ Calls</th>\n      <th>Churn?</th>\n    </tr>\n  </thead>\n  <tbody>\n    <tr>\n      <th>15</th>\n      <td>NY</td>\n      <td>161</td>\n      <td>415</td>\n      <td>351-7269</td>\n      <td>no</td>\n      <td>no</td>\n      <td>0</td>\n      <td>332.9</td>\n      <td>67</td>\n      <td>56.59</td>\n      <td>...</td>\n      <td>97</td>\n      <td>27.01</td>\n      <td>160.6</td>\n      <td>128</td>\n      <td>7.23</td>\n      <td>5.4</td>\n      <td>9</td>\n      <td>1.46</td>\n      <td>4</td>\n      <td>True.</td>\n    </tr>\n    <tr>\n      <th>76</th>\n      <td>DC</td>\n      <td>82</td>\n      <td>415</td>\n      <td>374-5353</td>\n      <td>no</td>\n      <td>no</td>\n      <td>0</td>\n      <td>300.3</td>\n      <td>109</td>\n      <td>51.05</td>\n      <td>...</td>\n      <td>100</td>\n      <td>15.39</td>\n      <td>270.1</td>\n      <td>73</td>\n      <td>12.15</td>\n      <td>11.7</td>\n      <td>4</td>\n      <td>3.16</td>\n      <td>0</td>\n      <td>True.</td>\n    </tr>\n    <tr>\n      <th>156</th>\n      <td>OH</td>\n      <td>83</td>\n      <td>415</td>\n      <td>370-9116</td>\n      <td>no</td>\n      <td>no</td>\n      <td>0</td>\n      <td>337.4</td>\n      <td>120</td>\n      <td>57.36</td>\n      <td>...</td>\n      <td>116</td>\n      <td>19.33</td>\n      <td>153.9</td>\n      <td>114</td>\n      <td>6.93</td>\n      <td>15.8</td>\n      <td>7</td>\n      <td>4.27</td>\n      <td>0</td>\n      <td>True.</td>\n    </tr>\n    <tr>\n      <th>197</th>\n      <td>TX</td>\n      <td>208</td>\n      <td>510</td>\n      <td>378-3625</td>\n      <td>no</td>\n      <td>no</td>\n      <td>0</td>\n      <td>326.5</td>\n      <td>67</td>\n      <td>55.51</td>\n      <td>...</td>\n      <td>113</td>\n      <td>14.99</td>\n      <td>181.7</td>\n      <td>102</td>\n      <td>8.18</td>\n      <td>10.7</td>\n      <td>6</td>\n      <td>2.89</td>\n      <td>2</td>\n      <td>True.</td>\n    </tr>\n    <tr>\n      <th>230</th>\n      <td>MD</td>\n      <td>93</td>\n      <td>408</td>\n      <td>360-3324</td>\n      <td>yes</td>\n      <td>no</td>\n      <td>0</td>\n      <td>312.0</td>\n      <td>109</td>\n      <td>53.04</td>\n      <td>...</td>\n      <td>100</td>\n      <td>11.00</td>\n      <td>217.6</td>\n      <td>74</td>\n      <td>9.79</td>\n      <td>10.5</td>\n      <td>2</td>\n      <td>2.84</td>\n      <td>0</td>\n      <td>True.</td>\n    </tr>\n  </tbody>\n</table>\n<p>5 rows × 21 columns</p>\n</div>"
     },
     "metadata": {},
     "execution_count": 60
    }
   ],
   "source": [
    "# Usuario con total mins > 300\n",
    "data1 = data[data[\"Day Mins\"]>300]  # Manera de extraer datos por columnas y condiciones\n",
    "data1.head()\n"
   ]
  },
  {
   "cell_type": "code",
   "execution_count": 61,
   "metadata": {},
   "outputs": [
    {
     "output_type": "execute_result",
     "data": {
      "text/plain": [
       "(43, 21)"
      ]
     },
     "metadata": {},
     "execution_count": 61
    }
   ],
   "source": [
    "data1.shape"
   ]
  },
  {
   "cell_type": "code",
   "execution_count": 62,
   "metadata": {},
   "outputs": [
    {
     "output_type": "execute_result",
     "data": {
      "text/plain": [
       "    State  Account Length  Area Code     Phone Int'l Plan VMail Plan  \\\n",
       "15     NY             161        415  351-7269         no         no   \n",
       "77     NY             144        408  360-1171         no         no   \n",
       "136    NY              75        415  374-8525         no        yes   \n",
       "182    NY              67        408  405-2888         no        yes   \n",
       "186    NY             106        408  422-1471         no         no   \n",
       "\n",
       "     VMail Message  Day Mins  Day Calls  Day Charge  ...  Eve Calls  \\\n",
       "15               0     332.9         67       56.59  ...         97   \n",
       "77               0      61.6        117       10.47  ...         85   \n",
       "136             21     175.8         97       29.89  ...        106   \n",
       "182             36     115.6        111       19.65  ...         94   \n",
       "186              0     158.7         74       26.98  ...        139   \n",
       "\n",
       "     Eve Charge  Night Mins  Night Calls  Night Charge  Intl Mins  Intl Calls  \\\n",
       "15        27.01       160.6          128          7.23        5.4           9   \n",
       "77         6.55       173.0           99          7.79        8.2           7   \n",
       "136       18.49       237.5          134         10.69        5.3           4   \n",
       "182       20.20       169.9          103          7.65        9.9          12   \n",
       "186        5.47       198.5          103          8.93       10.2           4   \n",
       "\n",
       "     Intl Charge  CustServ Calls  Churn?  \n",
       "15          1.46               4   True.  \n",
       "77          2.21               4   True.  \n",
       "136         1.43               5  False.  \n",
       "182         2.67               2  False.  \n",
       "186         2.75               1  False.  \n",
       "\n",
       "[5 rows x 21 columns]"
      ],
      "text/html": "<div>\n<style scoped>\n    .dataframe tbody tr th:only-of-type {\n        vertical-align: middle;\n    }\n\n    .dataframe tbody tr th {\n        vertical-align: top;\n    }\n\n    .dataframe thead th {\n        text-align: right;\n    }\n</style>\n<table border=\"1\" class=\"dataframe\">\n  <thead>\n    <tr style=\"text-align: right;\">\n      <th></th>\n      <th>State</th>\n      <th>Account Length</th>\n      <th>Area Code</th>\n      <th>Phone</th>\n      <th>Int'l Plan</th>\n      <th>VMail Plan</th>\n      <th>VMail Message</th>\n      <th>Day Mins</th>\n      <th>Day Calls</th>\n      <th>Day Charge</th>\n      <th>...</th>\n      <th>Eve Calls</th>\n      <th>Eve Charge</th>\n      <th>Night Mins</th>\n      <th>Night Calls</th>\n      <th>Night Charge</th>\n      <th>Intl Mins</th>\n      <th>Intl Calls</th>\n      <th>Intl Charge</th>\n      <th>CustServ Calls</th>\n      <th>Churn?</th>\n    </tr>\n  </thead>\n  <tbody>\n    <tr>\n      <th>15</th>\n      <td>NY</td>\n      <td>161</td>\n      <td>415</td>\n      <td>351-7269</td>\n      <td>no</td>\n      <td>no</td>\n      <td>0</td>\n      <td>332.9</td>\n      <td>67</td>\n      <td>56.59</td>\n      <td>...</td>\n      <td>97</td>\n      <td>27.01</td>\n      <td>160.6</td>\n      <td>128</td>\n      <td>7.23</td>\n      <td>5.4</td>\n      <td>9</td>\n      <td>1.46</td>\n      <td>4</td>\n      <td>True.</td>\n    </tr>\n    <tr>\n      <th>77</th>\n      <td>NY</td>\n      <td>144</td>\n      <td>408</td>\n      <td>360-1171</td>\n      <td>no</td>\n      <td>no</td>\n      <td>0</td>\n      <td>61.6</td>\n      <td>117</td>\n      <td>10.47</td>\n      <td>...</td>\n      <td>85</td>\n      <td>6.55</td>\n      <td>173.0</td>\n      <td>99</td>\n      <td>7.79</td>\n      <td>8.2</td>\n      <td>7</td>\n      <td>2.21</td>\n      <td>4</td>\n      <td>True.</td>\n    </tr>\n    <tr>\n      <th>136</th>\n      <td>NY</td>\n      <td>75</td>\n      <td>415</td>\n      <td>374-8525</td>\n      <td>no</td>\n      <td>yes</td>\n      <td>21</td>\n      <td>175.8</td>\n      <td>97</td>\n      <td>29.89</td>\n      <td>...</td>\n      <td>106</td>\n      <td>18.49</td>\n      <td>237.5</td>\n      <td>134</td>\n      <td>10.69</td>\n      <td>5.3</td>\n      <td>4</td>\n      <td>1.43</td>\n      <td>5</td>\n      <td>False.</td>\n    </tr>\n    <tr>\n      <th>182</th>\n      <td>NY</td>\n      <td>67</td>\n      <td>408</td>\n      <td>405-2888</td>\n      <td>no</td>\n      <td>yes</td>\n      <td>36</td>\n      <td>115.6</td>\n      <td>111</td>\n      <td>19.65</td>\n      <td>...</td>\n      <td>94</td>\n      <td>20.20</td>\n      <td>169.9</td>\n      <td>103</td>\n      <td>7.65</td>\n      <td>9.9</td>\n      <td>12</td>\n      <td>2.67</td>\n      <td>2</td>\n      <td>False.</td>\n    </tr>\n    <tr>\n      <th>186</th>\n      <td>NY</td>\n      <td>106</td>\n      <td>408</td>\n      <td>422-1471</td>\n      <td>no</td>\n      <td>no</td>\n      <td>0</td>\n      <td>158.7</td>\n      <td>74</td>\n      <td>26.98</td>\n      <td>...</td>\n      <td>139</td>\n      <td>5.47</td>\n      <td>198.5</td>\n      <td>103</td>\n      <td>8.93</td>\n      <td>10.2</td>\n      <td>4</td>\n      <td>2.75</td>\n      <td>1</td>\n      <td>False.</td>\n    </tr>\n  </tbody>\n</table>\n<p>5 rows × 21 columns</p>\n</div>"
     },
     "metadata": {},
     "execution_count": 62
    }
   ],
   "source": [
    "# Usuario de New York (State = 'NY')\n",
    "data2 = data[data['State'] == 'NY'] \n",
    "data2.head()"
   ]
  },
  {
   "cell_type": "code",
   "execution_count": 63,
   "metadata": {},
   "outputs": [
    {
     "output_type": "execute_result",
     "data": {
      "text/plain": [
       "(83, 21)"
      ]
     },
     "metadata": {},
     "execution_count": 63
    }
   ],
   "source": [
    "data2.shape"
   ]
  },
  {
   "cell_type": "code",
   "execution_count": 64,
   "metadata": {},
   "outputs": [
    {
     "output_type": "execute_result",
     "data": {
      "text/plain": [
       "    State  Account Length  Area Code     Phone Int'l Plan VMail Plan  \\\n",
       "15     NY             161        415  351-7269         no         no   \n",
       "985    NY              64        415  345-9140        yes         no   \n",
       "\n",
       "     VMail Message  Day Mins  Day Calls  Day Charge  ...  Eve Calls  \\\n",
       "15               0     332.9         67       56.59  ...         97   \n",
       "985              0     346.8         55       58.96  ...         79   \n",
       "\n",
       "     Eve Charge  Night Mins  Night Calls  Night Charge  Intl Mins  Intl Calls  \\\n",
       "15        27.01       160.6          128          7.23        5.4           9   \n",
       "985       21.21       275.4          102         12.39       13.3           9   \n",
       "\n",
       "     Intl Charge  CustServ Calls  Churn?  \n",
       "15          1.46               4   True.  \n",
       "985         3.59               1   True.  \n",
       "\n",
       "[2 rows x 21 columns]"
      ],
      "text/html": "<div>\n<style scoped>\n    .dataframe tbody tr th:only-of-type {\n        vertical-align: middle;\n    }\n\n    .dataframe tbody tr th {\n        vertical-align: top;\n    }\n\n    .dataframe thead th {\n        text-align: right;\n    }\n</style>\n<table border=\"1\" class=\"dataframe\">\n  <thead>\n    <tr style=\"text-align: right;\">\n      <th></th>\n      <th>State</th>\n      <th>Account Length</th>\n      <th>Area Code</th>\n      <th>Phone</th>\n      <th>Int'l Plan</th>\n      <th>VMail Plan</th>\n      <th>VMail Message</th>\n      <th>Day Mins</th>\n      <th>Day Calls</th>\n      <th>Day Charge</th>\n      <th>...</th>\n      <th>Eve Calls</th>\n      <th>Eve Charge</th>\n      <th>Night Mins</th>\n      <th>Night Calls</th>\n      <th>Night Charge</th>\n      <th>Intl Mins</th>\n      <th>Intl Calls</th>\n      <th>Intl Charge</th>\n      <th>CustServ Calls</th>\n      <th>Churn?</th>\n    </tr>\n  </thead>\n  <tbody>\n    <tr>\n      <th>15</th>\n      <td>NY</td>\n      <td>161</td>\n      <td>415</td>\n      <td>351-7269</td>\n      <td>no</td>\n      <td>no</td>\n      <td>0</td>\n      <td>332.9</td>\n      <td>67</td>\n      <td>56.59</td>\n      <td>...</td>\n      <td>97</td>\n      <td>27.01</td>\n      <td>160.6</td>\n      <td>128</td>\n      <td>7.23</td>\n      <td>5.4</td>\n      <td>9</td>\n      <td>1.46</td>\n      <td>4</td>\n      <td>True.</td>\n    </tr>\n    <tr>\n      <th>985</th>\n      <td>NY</td>\n      <td>64</td>\n      <td>415</td>\n      <td>345-9140</td>\n      <td>yes</td>\n      <td>no</td>\n      <td>0</td>\n      <td>346.8</td>\n      <td>55</td>\n      <td>58.96</td>\n      <td>...</td>\n      <td>79</td>\n      <td>21.21</td>\n      <td>275.4</td>\n      <td>102</td>\n      <td>12.39</td>\n      <td>13.3</td>\n      <td>9</td>\n      <td>3.59</td>\n      <td>1</td>\n      <td>True.</td>\n    </tr>\n  </tbody>\n</table>\n<p>2 rows × 21 columns</p>\n</div>"
     },
     "metadata": {},
     "execution_count": 64
    }
   ],
   "source": [
    "# AND &\n",
    "data3 = data[(data[\"Day Mins\"]>300) & (data[\"State\"] == 'NY')] \n",
    "data3.head()\n"
   ]
  },
  {
   "cell_type": "code",
   "execution_count": 65,
   "metadata": {},
   "outputs": [
    {
     "output_type": "execute_result",
     "data": {
      "text/plain": [
       "(2, 21)"
      ]
     },
     "metadata": {},
     "execution_count": 65
    }
   ],
   "source": [
    "data3.shape"
   ]
  },
  {
   "cell_type": "code",
   "execution_count": 66,
   "metadata": {},
   "outputs": [
    {
     "output_type": "execute_result",
     "data": {
      "text/plain": [
       "    State  Account Length  Area Code     Phone Int'l Plan VMail Plan  \\\n",
       "15     NY             161        415  351-7269         no         no   \n",
       "76     DC              82        415  374-5353         no         no   \n",
       "77     NY             144        408  360-1171         no         no   \n",
       "136    NY              75        415  374-8525         no        yes   \n",
       "156    OH              83        415  370-9116         no         no   \n",
       "\n",
       "     VMail Message  Day Mins  Day Calls  Day Charge  ...  Eve Calls  \\\n",
       "15               0     332.9         67       56.59  ...         97   \n",
       "76               0     300.3        109       51.05  ...        100   \n",
       "77               0      61.6        117       10.47  ...         85   \n",
       "136             21     175.8         97       29.89  ...        106   \n",
       "156              0     337.4        120       57.36  ...        116   \n",
       "\n",
       "     Eve Charge  Night Mins  Night Calls  Night Charge  Intl Mins  Intl Calls  \\\n",
       "15        27.01       160.6          128          7.23        5.4           9   \n",
       "76        15.39       270.1           73         12.15       11.7           4   \n",
       "77         6.55       173.0           99          7.79        8.2           7   \n",
       "136       18.49       237.5          134         10.69        5.3           4   \n",
       "156       19.33       153.9          114          6.93       15.8           7   \n",
       "\n",
       "     Intl Charge  CustServ Calls  Churn?  \n",
       "15          1.46               4   True.  \n",
       "76          3.16               0   True.  \n",
       "77          2.21               4   True.  \n",
       "136         1.43               5  False.  \n",
       "156         4.27               0   True.  \n",
       "\n",
       "[5 rows x 21 columns]"
      ],
      "text/html": "<div>\n<style scoped>\n    .dataframe tbody tr th:only-of-type {\n        vertical-align: middle;\n    }\n\n    .dataframe tbody tr th {\n        vertical-align: top;\n    }\n\n    .dataframe thead th {\n        text-align: right;\n    }\n</style>\n<table border=\"1\" class=\"dataframe\">\n  <thead>\n    <tr style=\"text-align: right;\">\n      <th></th>\n      <th>State</th>\n      <th>Account Length</th>\n      <th>Area Code</th>\n      <th>Phone</th>\n      <th>Int'l Plan</th>\n      <th>VMail Plan</th>\n      <th>VMail Message</th>\n      <th>Day Mins</th>\n      <th>Day Calls</th>\n      <th>Day Charge</th>\n      <th>...</th>\n      <th>Eve Calls</th>\n      <th>Eve Charge</th>\n      <th>Night Mins</th>\n      <th>Night Calls</th>\n      <th>Night Charge</th>\n      <th>Intl Mins</th>\n      <th>Intl Calls</th>\n      <th>Intl Charge</th>\n      <th>CustServ Calls</th>\n      <th>Churn?</th>\n    </tr>\n  </thead>\n  <tbody>\n    <tr>\n      <th>15</th>\n      <td>NY</td>\n      <td>161</td>\n      <td>415</td>\n      <td>351-7269</td>\n      <td>no</td>\n      <td>no</td>\n      <td>0</td>\n      <td>332.9</td>\n      <td>67</td>\n      <td>56.59</td>\n      <td>...</td>\n      <td>97</td>\n      <td>27.01</td>\n      <td>160.6</td>\n      <td>128</td>\n      <td>7.23</td>\n      <td>5.4</td>\n      <td>9</td>\n      <td>1.46</td>\n      <td>4</td>\n      <td>True.</td>\n    </tr>\n    <tr>\n      <th>76</th>\n      <td>DC</td>\n      <td>82</td>\n      <td>415</td>\n      <td>374-5353</td>\n      <td>no</td>\n      <td>no</td>\n      <td>0</td>\n      <td>300.3</td>\n      <td>109</td>\n      <td>51.05</td>\n      <td>...</td>\n      <td>100</td>\n      <td>15.39</td>\n      <td>270.1</td>\n      <td>73</td>\n      <td>12.15</td>\n      <td>11.7</td>\n      <td>4</td>\n      <td>3.16</td>\n      <td>0</td>\n      <td>True.</td>\n    </tr>\n    <tr>\n      <th>77</th>\n      <td>NY</td>\n      <td>144</td>\n      <td>408</td>\n      <td>360-1171</td>\n      <td>no</td>\n      <td>no</td>\n      <td>0</td>\n      <td>61.6</td>\n      <td>117</td>\n      <td>10.47</td>\n      <td>...</td>\n      <td>85</td>\n      <td>6.55</td>\n      <td>173.0</td>\n      <td>99</td>\n      <td>7.79</td>\n      <td>8.2</td>\n      <td>7</td>\n      <td>2.21</td>\n      <td>4</td>\n      <td>True.</td>\n    </tr>\n    <tr>\n      <th>136</th>\n      <td>NY</td>\n      <td>75</td>\n      <td>415</td>\n      <td>374-8525</td>\n      <td>no</td>\n      <td>yes</td>\n      <td>21</td>\n      <td>175.8</td>\n      <td>97</td>\n      <td>29.89</td>\n      <td>...</td>\n      <td>106</td>\n      <td>18.49</td>\n      <td>237.5</td>\n      <td>134</td>\n      <td>10.69</td>\n      <td>5.3</td>\n      <td>4</td>\n      <td>1.43</td>\n      <td>5</td>\n      <td>False.</td>\n    </tr>\n    <tr>\n      <th>156</th>\n      <td>OH</td>\n      <td>83</td>\n      <td>415</td>\n      <td>370-9116</td>\n      <td>no</td>\n      <td>no</td>\n      <td>0</td>\n      <td>337.4</td>\n      <td>120</td>\n      <td>57.36</td>\n      <td>...</td>\n      <td>116</td>\n      <td>19.33</td>\n      <td>153.9</td>\n      <td>114</td>\n      <td>6.93</td>\n      <td>15.8</td>\n      <td>7</td>\n      <td>4.27</td>\n      <td>0</td>\n      <td>True.</td>\n    </tr>\n  </tbody>\n</table>\n<p>5 rows × 21 columns</p>\n</div>"
     },
     "metadata": {},
     "execution_count": 66
    }
   ],
   "source": [
    "# OR |\n",
    "data4 = data[(data[\"Day Mins\"]>300) | (data[\"State\"] == 'NY')] \n",
    "data4.head()"
   ]
  },
  {
   "cell_type": "code",
   "execution_count": 67,
   "metadata": {},
   "outputs": [
    {
     "output_type": "execute_result",
     "data": {
      "text/plain": [
       "(124, 21)"
      ]
     },
     "metadata": {},
     "execution_count": 67
    }
   ],
   "source": [
    "data4.shape"
   ]
  },
  {
   "cell_type": "code",
   "execution_count": 68,
   "metadata": {},
   "outputs": [
    {
     "output_type": "execute_result",
     "data": {
      "text/plain": [
       "  State  Account Length  Area Code     Phone Int'l Plan VMail Plan  \\\n",
       "3    OH              84        408  375-9999        yes         no   \n",
       "4    OK              75        415  330-6626        yes         no   \n",
       "5    AL             118        510  391-8027        yes         no   \n",
       "6    MA             121        510  355-9993         no        yes   \n",
       "7    MO             147        415  329-9001        yes         no   \n",
       "\n",
       "   VMail Message  Day Mins  Day Calls  Day Charge  ...  Eve Calls  Eve Charge  \\\n",
       "3              0     299.4         71       50.90  ...         88        5.26   \n",
       "4              0     166.7        113       28.34  ...        122       12.61   \n",
       "5              0     223.4         98       37.98  ...        101       18.75   \n",
       "6             24     218.2         88       37.09  ...        108       29.62   \n",
       "7              0     157.0         79       26.69  ...         94        8.76   \n",
       "\n",
       "   Night Mins  Night Calls  Night Charge  Intl Mins  Intl Calls  Intl Charge  \\\n",
       "3       196.9           89          8.86        6.6           7         1.78   \n",
       "4       186.9          121          8.41       10.1           3         2.73   \n",
       "5       203.9          118          9.18        6.3           6         1.70   \n",
       "6       212.6          118          9.57        7.5           7         2.03   \n",
       "7       211.8           96          9.53        7.1           6         1.92   \n",
       "\n",
       "   CustServ Calls  Churn?  \n",
       "3               2  False.  \n",
       "4               3  False.  \n",
       "5               0  False.  \n",
       "6               3  False.  \n",
       "7               0  False.  \n",
       "\n",
       "[5 rows x 21 columns]"
      ],
      "text/html": "<div>\n<style scoped>\n    .dataframe tbody tr th:only-of-type {\n        vertical-align: middle;\n    }\n\n    .dataframe tbody tr th {\n        vertical-align: top;\n    }\n\n    .dataframe thead th {\n        text-align: right;\n    }\n</style>\n<table border=\"1\" class=\"dataframe\">\n  <thead>\n    <tr style=\"text-align: right;\">\n      <th></th>\n      <th>State</th>\n      <th>Account Length</th>\n      <th>Area Code</th>\n      <th>Phone</th>\n      <th>Int'l Plan</th>\n      <th>VMail Plan</th>\n      <th>VMail Message</th>\n      <th>Day Mins</th>\n      <th>Day Calls</th>\n      <th>Day Charge</th>\n      <th>...</th>\n      <th>Eve Calls</th>\n      <th>Eve Charge</th>\n      <th>Night Mins</th>\n      <th>Night Calls</th>\n      <th>Night Charge</th>\n      <th>Intl Mins</th>\n      <th>Intl Calls</th>\n      <th>Intl Charge</th>\n      <th>CustServ Calls</th>\n      <th>Churn?</th>\n    </tr>\n  </thead>\n  <tbody>\n    <tr>\n      <th>3</th>\n      <td>OH</td>\n      <td>84</td>\n      <td>408</td>\n      <td>375-9999</td>\n      <td>yes</td>\n      <td>no</td>\n      <td>0</td>\n      <td>299.4</td>\n      <td>71</td>\n      <td>50.90</td>\n      <td>...</td>\n      <td>88</td>\n      <td>5.26</td>\n      <td>196.9</td>\n      <td>89</td>\n      <td>8.86</td>\n      <td>6.6</td>\n      <td>7</td>\n      <td>1.78</td>\n      <td>2</td>\n      <td>False.</td>\n    </tr>\n    <tr>\n      <th>4</th>\n      <td>OK</td>\n      <td>75</td>\n      <td>415</td>\n      <td>330-6626</td>\n      <td>yes</td>\n      <td>no</td>\n      <td>0</td>\n      <td>166.7</td>\n      <td>113</td>\n      <td>28.34</td>\n      <td>...</td>\n      <td>122</td>\n      <td>12.61</td>\n      <td>186.9</td>\n      <td>121</td>\n      <td>8.41</td>\n      <td>10.1</td>\n      <td>3</td>\n      <td>2.73</td>\n      <td>3</td>\n      <td>False.</td>\n    </tr>\n    <tr>\n      <th>5</th>\n      <td>AL</td>\n      <td>118</td>\n      <td>510</td>\n      <td>391-8027</td>\n      <td>yes</td>\n      <td>no</td>\n      <td>0</td>\n      <td>223.4</td>\n      <td>98</td>\n      <td>37.98</td>\n      <td>...</td>\n      <td>101</td>\n      <td>18.75</td>\n      <td>203.9</td>\n      <td>118</td>\n      <td>9.18</td>\n      <td>6.3</td>\n      <td>6</td>\n      <td>1.70</td>\n      <td>0</td>\n      <td>False.</td>\n    </tr>\n    <tr>\n      <th>6</th>\n      <td>MA</td>\n      <td>121</td>\n      <td>510</td>\n      <td>355-9993</td>\n      <td>no</td>\n      <td>yes</td>\n      <td>24</td>\n      <td>218.2</td>\n      <td>88</td>\n      <td>37.09</td>\n      <td>...</td>\n      <td>108</td>\n      <td>29.62</td>\n      <td>212.6</td>\n      <td>118</td>\n      <td>9.57</td>\n      <td>7.5</td>\n      <td>7</td>\n      <td>2.03</td>\n      <td>3</td>\n      <td>False.</td>\n    </tr>\n    <tr>\n      <th>7</th>\n      <td>MO</td>\n      <td>147</td>\n      <td>415</td>\n      <td>329-9001</td>\n      <td>yes</td>\n      <td>no</td>\n      <td>0</td>\n      <td>157.0</td>\n      <td>79</td>\n      <td>26.69</td>\n      <td>...</td>\n      <td>94</td>\n      <td>8.76</td>\n      <td>211.8</td>\n      <td>96</td>\n      <td>9.53</td>\n      <td>7.1</td>\n      <td>6</td>\n      <td>1.92</td>\n      <td>0</td>\n      <td>False.</td>\n    </tr>\n  </tbody>\n</table>\n<p>5 rows × 21 columns</p>\n</div>"
     },
     "metadata": {},
     "execution_count": 68
    }
   ],
   "source": [
    "data5 = data[data[\"Day Calls\"] < data[\"Night Calls\"]] \n",
    "data5.head()"
   ]
  },
  {
   "cell_type": "code",
   "execution_count": 69,
   "metadata": {},
   "outputs": [
    {
     "output_type": "execute_result",
     "data": {
      "text/plain": [
       "(1626, 21)"
      ]
     },
     "metadata": {},
     "execution_count": 69
    }
   ],
   "source": [
    "data5.shape"
   ]
  },
  {
   "cell_type": "code",
   "execution_count": 70,
   "metadata": {},
   "outputs": [
    {
     "output_type": "execute_result",
     "data": {
      "text/plain": [
       "  State  Account Length  Area Code     Phone Int'l Plan VMail Plan  \\\n",
       "1    OH             107        415  371-7191         no        yes   \n",
       "4    OK              75        415  330-6626        yes         no   \n",
       "7    MO             147        415  329-9001        yes         no   \n",
       "8    LA             117        408  335-4719         no         no   \n",
       "9    WV             141        415  330-8173        yes        yes   \n",
       "\n",
       "   VMail Message  Day Mins  Day Calls  Day Charge  ...  Eve Calls  Eve Charge  \\\n",
       "1             26     161.6        123       27.47  ...        103       16.62   \n",
       "4              0     166.7        113       28.34  ...        122       12.61   \n",
       "7              0     157.0         79       26.69  ...         94        8.76   \n",
       "8              0     184.5         97       31.37  ...         80       29.89   \n",
       "9             37     258.6         84       43.96  ...        111       18.87   \n",
       "\n",
       "   Night Mins  Night Calls  Night Charge  Intl Mins  Intl Calls  Intl Charge  \\\n",
       "1       254.4          103         11.45       13.7           3         3.70   \n",
       "4       186.9          121          8.41       10.1           3         2.73   \n",
       "7       211.8           96          9.53        7.1           6         1.92   \n",
       "8       215.8           90          9.71        8.7           4         2.35   \n",
       "9       326.4           97         14.69       11.2           5         3.02   \n",
       "\n",
       "   CustServ Calls  Churn?  \n",
       "1               1  False.  \n",
       "4               3  False.  \n",
       "7               0  False.  \n",
       "8               1  False.  \n",
       "9               0  False.  \n",
       "\n",
       "[5 rows x 21 columns]"
      ],
      "text/html": "<div>\n<style scoped>\n    .dataframe tbody tr th:only-of-type {\n        vertical-align: middle;\n    }\n\n    .dataframe tbody tr th {\n        vertical-align: top;\n    }\n\n    .dataframe thead th {\n        text-align: right;\n    }\n</style>\n<table border=\"1\" class=\"dataframe\">\n  <thead>\n    <tr style=\"text-align: right;\">\n      <th></th>\n      <th>State</th>\n      <th>Account Length</th>\n      <th>Area Code</th>\n      <th>Phone</th>\n      <th>Int'l Plan</th>\n      <th>VMail Plan</th>\n      <th>VMail Message</th>\n      <th>Day Mins</th>\n      <th>Day Calls</th>\n      <th>Day Charge</th>\n      <th>...</th>\n      <th>Eve Calls</th>\n      <th>Eve Charge</th>\n      <th>Night Mins</th>\n      <th>Night Calls</th>\n      <th>Night Charge</th>\n      <th>Intl Mins</th>\n      <th>Intl Calls</th>\n      <th>Intl Charge</th>\n      <th>CustServ Calls</th>\n      <th>Churn?</th>\n    </tr>\n  </thead>\n  <tbody>\n    <tr>\n      <th>1</th>\n      <td>OH</td>\n      <td>107</td>\n      <td>415</td>\n      <td>371-7191</td>\n      <td>no</td>\n      <td>yes</td>\n      <td>26</td>\n      <td>161.6</td>\n      <td>123</td>\n      <td>27.47</td>\n      <td>...</td>\n      <td>103</td>\n      <td>16.62</td>\n      <td>254.4</td>\n      <td>103</td>\n      <td>11.45</td>\n      <td>13.7</td>\n      <td>3</td>\n      <td>3.70</td>\n      <td>1</td>\n      <td>False.</td>\n    </tr>\n    <tr>\n      <th>4</th>\n      <td>OK</td>\n      <td>75</td>\n      <td>415</td>\n      <td>330-6626</td>\n      <td>yes</td>\n      <td>no</td>\n      <td>0</td>\n      <td>166.7</td>\n      <td>113</td>\n      <td>28.34</td>\n      <td>...</td>\n      <td>122</td>\n      <td>12.61</td>\n      <td>186.9</td>\n      <td>121</td>\n      <td>8.41</td>\n      <td>10.1</td>\n      <td>3</td>\n      <td>2.73</td>\n      <td>3</td>\n      <td>False.</td>\n    </tr>\n    <tr>\n      <th>7</th>\n      <td>MO</td>\n      <td>147</td>\n      <td>415</td>\n      <td>329-9001</td>\n      <td>yes</td>\n      <td>no</td>\n      <td>0</td>\n      <td>157.0</td>\n      <td>79</td>\n      <td>26.69</td>\n      <td>...</td>\n      <td>94</td>\n      <td>8.76</td>\n      <td>211.8</td>\n      <td>96</td>\n      <td>9.53</td>\n      <td>7.1</td>\n      <td>6</td>\n      <td>1.92</td>\n      <td>0</td>\n      <td>False.</td>\n    </tr>\n    <tr>\n      <th>8</th>\n      <td>LA</td>\n      <td>117</td>\n      <td>408</td>\n      <td>335-4719</td>\n      <td>no</td>\n      <td>no</td>\n      <td>0</td>\n      <td>184.5</td>\n      <td>97</td>\n      <td>31.37</td>\n      <td>...</td>\n      <td>80</td>\n      <td>29.89</td>\n      <td>215.8</td>\n      <td>90</td>\n      <td>9.71</td>\n      <td>8.7</td>\n      <td>4</td>\n      <td>2.35</td>\n      <td>1</td>\n      <td>False.</td>\n    </tr>\n    <tr>\n      <th>9</th>\n      <td>WV</td>\n      <td>141</td>\n      <td>415</td>\n      <td>330-8173</td>\n      <td>yes</td>\n      <td>yes</td>\n      <td>37</td>\n      <td>258.6</td>\n      <td>84</td>\n      <td>43.96</td>\n      <td>...</td>\n      <td>111</td>\n      <td>18.87</td>\n      <td>326.4</td>\n      <td>97</td>\n      <td>14.69</td>\n      <td>11.2</td>\n      <td>5</td>\n      <td>3.02</td>\n      <td>0</td>\n      <td>False.</td>\n    </tr>\n  </tbody>\n</table>\n<p>5 rows × 21 columns</p>\n</div>"
     },
     "metadata": {},
     "execution_count": 70
    }
   ],
   "source": [
    "data6 = data[data[\"Day Mins\"] < data[\"Night Mins\"]] \n",
    "data6.head()"
   ]
  },
  {
   "cell_type": "code",
   "execution_count": 71,
   "metadata": {},
   "outputs": [
    {
     "output_type": "execute_result",
     "data": {
      "text/plain": [
       "(2051, 21)"
      ]
     },
     "metadata": {},
     "execution_count": 71
    }
   ],
   "source": [
    "data6.shape"
   ]
  },
  {
   "cell_type": "code",
   "execution_count": 72,
   "metadata": {},
   "outputs": [
    {
     "output_type": "execute_result",
     "data": {
      "text/plain": [
       "(50, 3)"
      ]
     },
     "metadata": {},
     "execution_count": 72
    }
   ],
   "source": [
    "#Minutos de día de noche y longitud de la cuenta de los primeros 50 individuos\n",
    "subset_first_50 = data[[\"Day Mins\", \"Night Mins\", \"Account Length\"]][:50] #Manera de extraer datos por columnas y filas con condiciones\n",
    "subset_first_50.shape"
   ]
  },
  {
   "cell_type": "code",
   "execution_count": 73,
   "metadata": {},
   "outputs": [
    {
     "output_type": "execute_result",
     "data": {
      "text/plain": [
       "   Day Mins  Night Mins  Account Length\n",
       "0     265.1       244.7             128\n",
       "1     161.6       254.4             107\n",
       "2     243.4       162.6             137\n",
       "3     299.4       196.9              84\n",
       "4     166.7       186.9              75"
      ],
      "text/html": "<div>\n<style scoped>\n    .dataframe tbody tr th:only-of-type {\n        vertical-align: middle;\n    }\n\n    .dataframe tbody tr th {\n        vertical-align: top;\n    }\n\n    .dataframe thead th {\n        text-align: right;\n    }\n</style>\n<table border=\"1\" class=\"dataframe\">\n  <thead>\n    <tr style=\"text-align: right;\">\n      <th></th>\n      <th>Day Mins</th>\n      <th>Night Mins</th>\n      <th>Account Length</th>\n    </tr>\n  </thead>\n  <tbody>\n    <tr>\n      <th>0</th>\n      <td>265.1</td>\n      <td>244.7</td>\n      <td>128</td>\n    </tr>\n    <tr>\n      <th>1</th>\n      <td>161.6</td>\n      <td>254.4</td>\n      <td>107</td>\n    </tr>\n    <tr>\n      <th>2</th>\n      <td>243.4</td>\n      <td>162.6</td>\n      <td>137</td>\n    </tr>\n    <tr>\n      <th>3</th>\n      <td>299.4</td>\n      <td>196.9</td>\n      <td>84</td>\n    </tr>\n    <tr>\n      <th>4</th>\n      <td>166.7</td>\n      <td>186.9</td>\n      <td>75</td>\n    </tr>\n  </tbody>\n</table>\n</div>"
     },
     "metadata": {},
     "execution_count": 73
    }
   ],
   "source": [
    "subset_first_50.head()"
   ]
  },
  {
   "cell_type": "code",
   "execution_count": 74,
   "metadata": {},
   "outputs": [
    {
     "output_type": "execute_result",
     "data": {
      "text/plain": [
       "      Phone Int'l Plan VMail Plan\n",
       "1  371-7191         no        yes\n",
       "2  358-1921         no         no\n",
       "3  375-9999        yes         no\n",
       "4  330-6626        yes         no"
      ],
      "text/html": "<div>\n<style scoped>\n    .dataframe tbody tr th:only-of-type {\n        vertical-align: middle;\n    }\n\n    .dataframe tbody tr th {\n        vertical-align: top;\n    }\n\n    .dataframe thead th {\n        text-align: right;\n    }\n</style>\n<table border=\"1\" class=\"dataframe\">\n  <thead>\n    <tr style=\"text-align: right;\">\n      <th></th>\n      <th>Phone</th>\n      <th>Int'l Plan</th>\n      <th>VMail Plan</th>\n    </tr>\n  </thead>\n  <tbody>\n    <tr>\n      <th>1</th>\n      <td>371-7191</td>\n      <td>no</td>\n      <td>yes</td>\n    </tr>\n    <tr>\n      <th>2</th>\n      <td>358-1921</td>\n      <td>no</td>\n      <td>no</td>\n    </tr>\n    <tr>\n      <th>3</th>\n      <td>375-9999</td>\n      <td>yes</td>\n      <td>no</td>\n    </tr>\n    <tr>\n      <th>4</th>\n      <td>330-6626</td>\n      <td>yes</td>\n      <td>no</td>\n    </tr>\n  </tbody>\n</table>\n</div>"
     },
     "metadata": {},
     "execution_count": 74
    }
   ],
   "source": [
    "data.iloc[1:5, 3:6] #Manera de extraer datos por filas y columnas con condiciones por posición de índice"
   ]
  },
  {
   "cell_type": "code",
   "execution_count": 75,
   "metadata": {},
   "outputs": [
    {
     "output_type": "execute_result",
     "data": {
      "text/plain": [
       "   Area Code VMail Plan  Day Mins\n",
       "2        415         no     243.4\n",
       "3        408         no     299.4\n",
       "4        415         no     166.7"
      ],
      "text/html": "<div>\n<style scoped>\n    .dataframe tbody tr th:only-of-type {\n        vertical-align: middle;\n    }\n\n    .dataframe tbody tr th {\n        vertical-align: top;\n    }\n\n    .dataframe thead th {\n        text-align: right;\n    }\n</style>\n<table border=\"1\" class=\"dataframe\">\n  <thead>\n    <tr style=\"text-align: right;\">\n      <th></th>\n      <th>Area Code</th>\n      <th>VMail Plan</th>\n      <th>Day Mins</th>\n    </tr>\n  </thead>\n  <tbody>\n    <tr>\n      <th>2</th>\n      <td>415</td>\n      <td>no</td>\n      <td>243.4</td>\n    </tr>\n    <tr>\n      <th>3</th>\n      <td>408</td>\n      <td>no</td>\n      <td>299.4</td>\n    </tr>\n    <tr>\n      <th>4</th>\n      <td>415</td>\n      <td>no</td>\n      <td>166.7</td>\n    </tr>\n  </tbody>\n</table>\n</div>"
     },
     "metadata": {},
     "execution_count": 75
    }
   ],
   "source": [
    "data.iloc[2:5, [2,5,7]]"
   ]
  },
  {
   "cell_type": "code",
   "execution_count": 76,
   "metadata": {},
   "outputs": [
    {
     "output_type": "execute_result",
     "data": {
      "text/plain": [
       "   Area Code VMail Plan  Day Mins\n",
       "1        415        yes     161.6\n",
       "3        408         no     299.4\n",
       "5        510         no     223.4\n",
       "7        415         no     157.0"
      ],
      "text/html": "<div>\n<style scoped>\n    .dataframe tbody tr th:only-of-type {\n        vertical-align: middle;\n    }\n\n    .dataframe tbody tr th {\n        vertical-align: top;\n    }\n\n    .dataframe thead th {\n        text-align: right;\n    }\n</style>\n<table border=\"1\" class=\"dataframe\">\n  <thead>\n    <tr style=\"text-align: right;\">\n      <th></th>\n      <th>Area Code</th>\n      <th>VMail Plan</th>\n      <th>Day Mins</th>\n    </tr>\n  </thead>\n  <tbody>\n    <tr>\n      <th>1</th>\n      <td>415</td>\n      <td>yes</td>\n      <td>161.6</td>\n    </tr>\n    <tr>\n      <th>3</th>\n      <td>408</td>\n      <td>no</td>\n      <td>299.4</td>\n    </tr>\n    <tr>\n      <th>5</th>\n      <td>510</td>\n      <td>no</td>\n      <td>223.4</td>\n    </tr>\n    <tr>\n      <th>7</th>\n      <td>415</td>\n      <td>no</td>\n      <td>157.0</td>\n    </tr>\n  </tbody>\n</table>\n</div>"
     },
     "metadata": {},
     "execution_count": 76
    }
   ],
   "source": [
    "data.iloc[[1,3,5,7], [2,5,7]]"
   ]
  },
  {
   "cell_type": "code",
   "execution_count": 77,
   "metadata": {},
   "outputs": [
    {
     "output_type": "execute_result",
     "data": {
      "text/plain": [
       "    Area Code VMail Plan  Day Mins\n",
       "1         415        yes     161.6\n",
       "3         408         no     299.4\n",
       "32        408         no     212.0\n",
       "40        408         no     126.3"
      ],
      "text/html": "<div>\n<style scoped>\n    .dataframe tbody tr th:only-of-type {\n        vertical-align: middle;\n    }\n\n    .dataframe tbody tr th {\n        vertical-align: top;\n    }\n\n    .dataframe thead th {\n        text-align: right;\n    }\n</style>\n<table border=\"1\" class=\"dataframe\">\n  <thead>\n    <tr style=\"text-align: right;\">\n      <th></th>\n      <th>Area Code</th>\n      <th>VMail Plan</th>\n      <th>Day Mins</th>\n    </tr>\n  </thead>\n  <tbody>\n    <tr>\n      <th>1</th>\n      <td>415</td>\n      <td>yes</td>\n      <td>161.6</td>\n    </tr>\n    <tr>\n      <th>3</th>\n      <td>408</td>\n      <td>no</td>\n      <td>299.4</td>\n    </tr>\n    <tr>\n      <th>32</th>\n      <td>408</td>\n      <td>no</td>\n      <td>212.0</td>\n    </tr>\n    <tr>\n      <th>40</th>\n      <td>408</td>\n      <td>no</td>\n      <td>126.3</td>\n    </tr>\n  </tbody>\n</table>\n</div>"
     },
     "metadata": {},
     "execution_count": 77
    }
   ],
   "source": [
    "data.loc[[1,3,32,40], ['Area Code', 'VMail Plan', 'Day Mins']] #Manera de extraer datos por filas y columnas con condiciones por posición de índice y etiqueta"
   ]
  },
  {
   "cell_type": "code",
   "execution_count": 78,
   "metadata": {},
   "outputs": [],
   "source": [
    "data[\"Total Mins\"] = data[\"Day Mins\"] + data[\"Night Mins\"] + data[\"Eve Mins\"]"
   ]
  },
  {
   "cell_type": "code",
   "execution_count": 79,
   "metadata": {},
   "outputs": [
    {
     "output_type": "execute_result",
     "data": {
      "text/plain": [
       "0    707.2\n",
       "1    611.5\n",
       "2    527.2\n",
       "3    558.2\n",
       "4    501.9\n",
       "Name: Total Mins, dtype: float64"
      ]
     },
     "metadata": {},
     "execution_count": 79
    }
   ],
   "source": [
    "data[\"Total Mins\"].head()"
   ]
  },
  {
   "cell_type": "code",
   "execution_count": 80,
   "metadata": {},
   "outputs": [],
   "source": [
    "data[\"Total Calls\"] = data[\"Day Calls\"] + data[\"Night Calls\"] + data[\"Eve Calls\"]"
   ]
  },
  {
   "cell_type": "code",
   "execution_count": 81,
   "metadata": {},
   "outputs": [
    {
     "output_type": "execute_result",
     "data": {
      "text/plain": [
       "0    300\n",
       "1    329\n",
       "2    328\n",
       "3    248\n",
       "4    356\n",
       "Name: Total Calls, dtype: int64"
      ]
     },
     "metadata": {},
     "execution_count": 81
    }
   ],
   "source": [
    "data[\"Total Calls\"].head()"
   ]
  },
  {
   "cell_type": "code",
   "execution_count": 82,
   "metadata": {},
   "outputs": [
    {
     "output_type": "execute_result",
     "data": {
      "text/plain": [
       "  State  Account Length  Area Code     Phone Int'l Plan VMail Plan  \\\n",
       "0    KS             128        415  382-4657         no        yes   \n",
       "1    OH             107        415  371-7191         no        yes   \n",
       "2    NJ             137        415  358-1921         no         no   \n",
       "3    OH              84        408  375-9999        yes         no   \n",
       "4    OK              75        415  330-6626        yes         no   \n",
       "\n",
       "   VMail Message  Day Mins  Day Calls  Day Charge  ...  Night Mins  \\\n",
       "0             25     265.1        110       45.07  ...       244.7   \n",
       "1             26     161.6        123       27.47  ...       254.4   \n",
       "2              0     243.4        114       41.38  ...       162.6   \n",
       "3              0     299.4         71       50.90  ...       196.9   \n",
       "4              0     166.7        113       28.34  ...       186.9   \n",
       "\n",
       "   Night Calls  Night Charge  Intl Mins  Intl Calls  Intl Charge  \\\n",
       "0           91         11.01       10.0           3         2.70   \n",
       "1          103         11.45       13.7           3         3.70   \n",
       "2          104          7.32       12.2           5         3.29   \n",
       "3           89          8.86        6.6           7         1.78   \n",
       "4          121          8.41       10.1           3         2.73   \n",
       "\n",
       "   CustServ Calls  Churn?  Total Mins  Total Calls  \n",
       "0               1  False.       707.2          300  \n",
       "1               1  False.       611.5          329  \n",
       "2               0  False.       527.2          328  \n",
       "3               2  False.       558.2          248  \n",
       "4               3  False.       501.9          356  \n",
       "\n",
       "[5 rows x 23 columns]"
      ],
      "text/html": "<div>\n<style scoped>\n    .dataframe tbody tr th:only-of-type {\n        vertical-align: middle;\n    }\n\n    .dataframe tbody tr th {\n        vertical-align: top;\n    }\n\n    .dataframe thead th {\n        text-align: right;\n    }\n</style>\n<table border=\"1\" class=\"dataframe\">\n  <thead>\n    <tr style=\"text-align: right;\">\n      <th></th>\n      <th>State</th>\n      <th>Account Length</th>\n      <th>Area Code</th>\n      <th>Phone</th>\n      <th>Int'l Plan</th>\n      <th>VMail Plan</th>\n      <th>VMail Message</th>\n      <th>Day Mins</th>\n      <th>Day Calls</th>\n      <th>Day Charge</th>\n      <th>...</th>\n      <th>Night Mins</th>\n      <th>Night Calls</th>\n      <th>Night Charge</th>\n      <th>Intl Mins</th>\n      <th>Intl Calls</th>\n      <th>Intl Charge</th>\n      <th>CustServ Calls</th>\n      <th>Churn?</th>\n      <th>Total Mins</th>\n      <th>Total Calls</th>\n    </tr>\n  </thead>\n  <tbody>\n    <tr>\n      <th>0</th>\n      <td>KS</td>\n      <td>128</td>\n      <td>415</td>\n      <td>382-4657</td>\n      <td>no</td>\n      <td>yes</td>\n      <td>25</td>\n      <td>265.1</td>\n      <td>110</td>\n      <td>45.07</td>\n      <td>...</td>\n      <td>244.7</td>\n      <td>91</td>\n      <td>11.01</td>\n      <td>10.0</td>\n      <td>3</td>\n      <td>2.70</td>\n      <td>1</td>\n      <td>False.</td>\n      <td>707.2</td>\n      <td>300</td>\n    </tr>\n    <tr>\n      <th>1</th>\n      <td>OH</td>\n      <td>107</td>\n      <td>415</td>\n      <td>371-7191</td>\n      <td>no</td>\n      <td>yes</td>\n      <td>26</td>\n      <td>161.6</td>\n      <td>123</td>\n      <td>27.47</td>\n      <td>...</td>\n      <td>254.4</td>\n      <td>103</td>\n      <td>11.45</td>\n      <td>13.7</td>\n      <td>3</td>\n      <td>3.70</td>\n      <td>1</td>\n      <td>False.</td>\n      <td>611.5</td>\n      <td>329</td>\n    </tr>\n    <tr>\n      <th>2</th>\n      <td>NJ</td>\n      <td>137</td>\n      <td>415</td>\n      <td>358-1921</td>\n      <td>no</td>\n      <td>no</td>\n      <td>0</td>\n      <td>243.4</td>\n      <td>114</td>\n      <td>41.38</td>\n      <td>...</td>\n      <td>162.6</td>\n      <td>104</td>\n      <td>7.32</td>\n      <td>12.2</td>\n      <td>5</td>\n      <td>3.29</td>\n      <td>0</td>\n      <td>False.</td>\n      <td>527.2</td>\n      <td>328</td>\n    </tr>\n    <tr>\n      <th>3</th>\n      <td>OH</td>\n      <td>84</td>\n      <td>408</td>\n      <td>375-9999</td>\n      <td>yes</td>\n      <td>no</td>\n      <td>0</td>\n      <td>299.4</td>\n      <td>71</td>\n      <td>50.90</td>\n      <td>...</td>\n      <td>196.9</td>\n      <td>89</td>\n      <td>8.86</td>\n      <td>6.6</td>\n      <td>7</td>\n      <td>1.78</td>\n      <td>2</td>\n      <td>False.</td>\n      <td>558.2</td>\n      <td>248</td>\n    </tr>\n    <tr>\n      <th>4</th>\n      <td>OK</td>\n      <td>75</td>\n      <td>415</td>\n      <td>330-6626</td>\n      <td>yes</td>\n      <td>no</td>\n      <td>0</td>\n      <td>166.7</td>\n      <td>113</td>\n      <td>28.34</td>\n      <td>...</td>\n      <td>186.9</td>\n      <td>121</td>\n      <td>8.41</td>\n      <td>10.1</td>\n      <td>3</td>\n      <td>2.73</td>\n      <td>3</td>\n      <td>False.</td>\n      <td>501.9</td>\n      <td>356</td>\n    </tr>\n  </tbody>\n</table>\n<p>5 rows × 23 columns</p>\n</div>"
     },
     "metadata": {},
     "execution_count": 82
    }
   ],
   "source": [
    "data.head()"
   ]
  },
  {
   "source": [
    "## Generación aleaotria de números"
   ],
   "cell_type": "markdown",
   "metadata": {}
  },
  {
   "cell_type": "code",
   "execution_count": 94,
   "metadata": {},
   "outputs": [
    {
     "output_type": "execute_result",
     "data": {
      "text/plain": [
       "3"
      ]
     },
     "metadata": {},
     "execution_count": 94
    }
   ],
   "source": [
    "np.random.randint(1,100) # Manera de generar un número aleatorio entre 1 y 100"
   ]
  },
  {
   "cell_type": "code",
   "execution_count": 105,
   "metadata": {},
   "outputs": [
    {
     "output_type": "execute_result",
     "data": {
      "text/plain": [
       "0.10092854442813415"
      ]
     },
     "metadata": {},
     "execution_count": 105
    }
   ],
   "source": [
    "np.random.random() # Manera de generar un número aleatorio es entre 0 y 1 (con decimales)"
   ]
  },
  {
   "cell_type": "code",
   "execution_count": 106,
   "metadata": {},
   "outputs": [],
   "source": [
    "#Función que genera un lista de n números aleatorios enteros dentro del intervalo [a,b]\n",
    "def lista_random(n,a,b):\n",
    "    x = []\n",
    "    for i in range(n):\n",
    "        x.append(np.random.randint(a,b))\n",
    "    return x"
   ]
  },
  {
   "cell_type": "code",
   "execution_count": 112,
   "metadata": {},
   "outputs": [
    {
     "output_type": "execute_result",
     "data": {
      "text/plain": [
       "25"
      ]
     },
     "metadata": {},
     "execution_count": 112
    }
   ],
   "source": [
    "lista = lista_random(25,1,50)\n",
    "len(lista)"
   ]
  },
  {
   "cell_type": "code",
   "execution_count": 123,
   "metadata": {},
   "outputs": [
    {
     "output_type": "execute_result",
     "data": {
      "text/plain": [
       "28"
      ]
     },
     "metadata": {},
     "execution_count": 123
    }
   ],
   "source": [
    "rm.randrange(0,100,7) # Manera de generar un número aleatorio es entre 0 y 100, que sea múltiplo de 7"
   ]
  },
  {
   "cell_type": "code",
   "execution_count": 125,
   "metadata": {},
   "outputs": [
    {
     "output_type": "stream",
     "name": "stdout",
     "text": [
      "42\n70\n91\n0\n21\n"
     ]
    }
   ],
   "source": [
    "for i in range(5):\n",
    "    print(rm.randrange(0,100,7))"
   ]
  },
  {
   "source": [
    "## Shuffling"
   ],
   "cell_type": "markdown",
   "metadata": {}
  },
  {
   "cell_type": "code",
   "execution_count": 130,
   "metadata": {},
   "outputs": [],
   "source": [
    "a = np.arange(100) # Manera de crear un array en forma de lista."
   ]
  },
  {
   "cell_type": "code",
   "execution_count": 133,
   "metadata": {},
   "outputs": [
    {
     "output_type": "execute_result",
     "data": {
      "text/plain": [
       "array([30, 25, 14, 45, 48, 53,  2, 76, 37, 93,  0,  5,  3, 59, 64, 90, 67,\n",
       "       58, 27, 86, 52, 83, 32, 68, 28, 39, 88, 23, 34,  1, 96, 35, 66, 57,\n",
       "       44, 85, 26, 73, 10, 63, 15, 18, 71, 98, 77, 19, 24, 33, 84, 46, 43,\n",
       "       49, 50, 17,  7, 65, 75, 36, 81,  6, 16, 31, 89, 61, 60, 97, 47, 74,\n",
       "       20, 94, 80, 29,  9, 87, 82, 13, 42, 12, 40,  8, 91, 56, 70, 38, 79,\n",
       "       92, 78, 41,  4, 22, 21, 69, 54, 95, 51, 55, 72, 62, 11, 99])"
      ]
     },
     "metadata": {},
     "execution_count": 133
    }
   ],
   "source": [
    "np.random.shuffle(a) # Manera de barajear un array en forma de lista.\n",
    "a"
   ]
  },
  {
   "source": [
    "## Choice"
   ],
   "cell_type": "markdown",
   "metadata": {}
  },
  {
   "cell_type": "code",
   "execution_count": 143,
   "metadata": {},
   "outputs": [],
   "source": [
    "column_list = data.columns.values"
   ]
  },
  {
   "cell_type": "code",
   "execution_count": 152,
   "metadata": {},
   "outputs": [
    {
     "output_type": "execute_result",
     "data": {
      "text/plain": [
       "'Total Mins'"
      ]
     },
     "metadata": {},
     "execution_count": 152
    }
   ],
   "source": [
    "np.random.choice(column_list)  # Manera de escoger un elemento de una lista."
   ]
  },
  {
   "source": [
    "## Seed"
   ],
   "cell_type": "markdown",
   "metadata": {}
  },
  {
   "cell_type": "code",
   "execution_count": 157,
   "metadata": {},
   "outputs": [
    {
     "output_type": "stream",
     "name": "stdout",
     "text": [
      "0.8823493117539459\n0.10432773786047767\n0.9070093335163405\n0.3063988986063515\n0.446408872427422\n"
     ]
    }
   ],
   "source": [
    " np.random.seed(2018)\n",
    " for i in range(5):\n",
    "     print(np.random.random())"
   ]
  },
  {
   "cell_type": "code",
   "execution_count": null,
   "metadata": {},
   "outputs": [],
   "source": []
  }
 ]
}